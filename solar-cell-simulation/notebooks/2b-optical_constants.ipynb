{
 "cells": [
  {
   "cell_type": "markdown",
   "metadata": {
    "collapsed": true,
    "pycharm": {
     "name": "#%% md\n"
    }
   },
   "source": [
    "# Example 2b: Optical constant models\n",
    "\n",
    "We may want to model the optical constants of a material using analytic expressions, rather than just take data from a\n",
    "table; this can be useful when e.g. fitting ellipsometry data for a material with unknown optical constants, or if you\n",
    "do not have refractive index data for a material but have some information about where critical points in the band\n",
    "structure occur. In this example we will consider a simple model for a dielectric material, and a more complex model for\n",
    "GaAs, a semiconductor."
   ]
  },
  {
   "cell_type": "code",
   "execution_count": 3,
   "outputs": [],
   "source": [
    "import matplotlib.pyplot as plt\n",
    "import numpy as np\n",
    "\n",
    "from solcore.absorption_calculator import search_db\n",
    "from solcore.absorption_calculator.cppm import Custom_CPPB\n",
    "from solcore.absorption_calculator.dielectric_constant_models import Oscillator\n",
    "from solcore.absorption_calculator.dielectric_constant_models import DielectricConstantModel, Cauchy\n",
    "from solcore.structure import Structure\n",
    "from solcore import material\n",
    "\n",
    "wl = np.linspace(300, 950, 200)*1e-9"
   ],
   "metadata": {
    "collapsed": false,
    "pycharm": {
     "name": "#%%\n"
    }
   }
  },
  {
   "cell_type": "markdown",
   "source": [
    "We search the database for BK7 (borosilicate crown glass) and select the second entry, \"Ohara\" (index 1).\n",
    "We then select the first item in that list, which is the pageid of the entry - this is what we need to tell Solcore\n",
    "what item to access in the database."
   ],
   "metadata": {
    "collapsed": false,
    "pycharm": {
     "name": "#%% md\n"
    }
   }
  },
  {
   "cell_type": "code",
   "execution_count": 4,
   "outputs": [
    {
     "name": "stdout",
     "output_type": "stream",
     "text": [
      "Database file found at /Users/phoebe/.solcore/nk/nk.db\n",
      "18 results found.\n",
      "pageid\tshelf\tbook\tpage\tfilepath\thasrefractive\thasextinction\trangeMin\trangeMax\tpoints\n",
      "963\tglass\tBK7\tSCHOTT\tglass/schott/N-BK7.yml\t1\t1\t0.3\t2.5\t25\n",
      "964\tglass\tBK7\tOHARA\tglass/ohara/S-BSL7.yml\t1\t1\t0.29\t2.4\t31\n",
      "965\tglass\tBK7\tHIKARI\tglass/hikari/J-BK7A.yml\t1\t1\t0.365015\t2.05809\t33\n",
      "966\tglass\tBK7\tCDGM\tglass/cdgm/H-K9L.yml\t1\t1\t0.365\t1.711\t34\n",
      "967\tglass\tBK7\tHOYA\tglass/hoya/BSC7.yml\t1\t1\t0.36501\t1.01398\t38\n",
      "968\tglass\tBK7\tSUMITA\tglass/sumita/K-BK7.yml\t1\t1\t0.36\t1.55\t25\n",
      "969\tglass\tBK7\tLZOS\tglass/lzos/K8.yml\t1\t0\t0.365\t2.3254\t31\n",
      "1090\tglass\tSCHOTT-BK\tBK7G18\tglass/schott/BK7G18.yml\t1\t1\t0.38\t2.5\t18\n",
      "1091\tglass\tSCHOTT-BK\tN-BK7\tglass/schott/N-BK7.yml\t1\t1\t0.3\t2.5\t25\n",
      "1092\tglass\tSCHOTT-BK\tN-BK7HT\tglass/schott/N-BK7HT.yml\t1\t1\t0.3\t2.5\t25\n",
      "1093\tglass\tSCHOTT-BK\tN-BK7HTi\tglass/schott/N-BK7HTi.yml\t1\t1\t0.3\t2.5\t25\n",
      "1095\tglass\tSCHOTT-BK\tP-BK7\tglass/schott/P-BK7.yml\t1\t1\t0.31\t2.5\t24\n",
      "1683\tglass\tHIKARI-BK\tE-BK7\tglass/hikari/E-BK7.yml\t1\t1\t0.4\t0.7\t32\n",
      "1684\tglass\tHIKARI-BK\tJ-BK7\tglass/hikari/J-BK7.yml\t1\t1\t0.365015\t2.05809\t33\n",
      "1685\tglass\tHIKARI-BK\tJ-BK7A\tglass/hikari/J-BK7A.yml\t1\t1\t0.365015\t2.05809\t33\n",
      "2452\tglass\tSUMITA-BK\tK-BK7\tglass/sumita/K-BK7.yml\t1\t1\t0.36\t1.55\t25\n",
      "2819\tother\tBK7_matching_liquid\tCargille\tindex-matching liquids/cargille/BK7_matching_liquid.yml\t1\t0\t0.31\t1.55\t200\n",
      "2904\t3d\tglass\tBK7\tglass/schott/N-BK7.yml\t1\t1\t0.3\t2.5\t25\n"
     ]
    }
   ],
   "source": [
    "pageid = search_db(\"BK7\")[1][0]\n",
    "BK7 = material(str(pageid), nk_db=True)()"
   ],
   "metadata": {
    "collapsed": false,
    "pycharm": {
     "name": "#%%\n"
    }
   }
  },
  {
   "cell_type": "markdown",
   "source": [
    "Next, we define a Cauchy oscillator model. We put this into the DielectricConstantModel class; in theory, we could add\n",
    "as many oscillators as we want here.\n",
    "\n",
    "The parameters for the Cauchy model for BK7 are from Wikipedia: https://en.wikipedia.org/wiki/Cauchy%27s_equation"
   ],
   "metadata": {
    "collapsed": false,
    "pycharm": {
     "name": "#%% md\n"
    }
   }
  },
  {
   "cell_type": "code",
   "execution_count": 5,
   "outputs": [],
   "source": [
    "cauchy = Cauchy(An=1.5046, Bn=0.00420, Cn=0, Ak=0, Bk=0, Ck=0)\n",
    "model = DielectricConstantModel(e_inf=0, oscillators=[cauchy])"
   ],
   "metadata": {
    "collapsed": false,
    "pycharm": {
     "name": "#%%\n"
    }
   }
  },
  {
   "cell_type": "markdown",
   "source": [
    "Calculate the dielectric function which result from the Cauchy model, then get the $n$ and $\\kappa$ data from the database BK7 material for the complex refractive index:"
   ],
   "metadata": {
    "collapsed": false,
    "pycharm": {
     "name": "#%% md\n"
    }
   }
  },
  {
   "cell_type": "code",
   "execution_count": 6,
   "outputs": [
    {
     "name": "stdout",
     "output_type": "stream",
     "text": [
      "Database file found at /Users/phoebe/.solcore/nk/nk.db\n",
      "Material glass/ohara/S-BSL7.yml loaded.\n",
      "Database file found at /Users/phoebe/.solcore/nk/nk.db\n",
      "Material glass/ohara/S-BSL7.yml loaded.\n"
     ]
    }
   ],
   "source": [
    "eps = model.dielectric_constants(wl*1e9)\n",
    "nk = BK7.n(wl) + 1j*BK7.k(wl)"
   ],
   "metadata": {
    "collapsed": false,
    "pycharm": {
     "name": "#%%\n"
    }
   }
  },
  {
   "cell_type": "markdown",
   "source": [
    "Calculate the dielectric function by squaring the refractive index:"
   ],
   "metadata": {
    "collapsed": false,
    "pycharm": {
     "name": "#%% md\n"
    }
   }
  },
  {
   "cell_type": "code",
   "execution_count": 7,
   "outputs": [],
   "source": [
    "eps_db = nk**2"
   ],
   "metadata": {
    "collapsed": false,
    "pycharm": {
     "name": "#%%\n"
    }
   }
  },
  {
   "cell_type": "markdown",
   "source": [
    "**PLOT 1**: Plot the database values of e_1 (real part of the dielectric function) against the Cauchy model values:"
   ],
   "metadata": {
    "collapsed": false,
    "pycharm": {
     "name": "#%% md\n"
    }
   }
  },
  {
   "cell_type": "code",
   "execution_count": 8,
   "outputs": [
    {
     "data": {
      "text/plain": "<Figure size 432x288 with 1 Axes>",
      "image/png": "[encoded data removed]"
     },
     "metadata": {
      "needs_background": "light"
     },
     "output_type": "display_data"
    }
   ],
   "source": [
    "plt.figure()\n",
    "plt.plot(wl*1e9, np.real(eps), label='Cauchy model')\n",
    "plt.plot(wl*1e9, np.real(eps_db), '--', label='Database values')\n",
    "plt.legend()\n",
    "plt.ylabel(r'$\\epsilon_1$')\n",
    "plt.xlabel('Wavelength (nm)')\n",
    "plt.title(\"(1) Dielectric function for BK7 glass\")\n",
    "plt.show()"
   ],
   "metadata": {
    "collapsed": false,
    "pycharm": {
     "name": "#%%\n"
    }
   }
  },
  {
   "cell_type": "markdown",
   "source": [
    "Here, we have just looked at the real part of the dielectric function, but you can include absorption (non-zero\n",
    "e_2) in the dielectric constant models too.\n",
    "\n",
    "Now let's look at a more complicated CPPB (Critical Point Parabolic Band) model for GaAs. First, read in experimental data for GaAs dielectric function (from Palik)..."
   ],
   "metadata": {
    "collapsed": false,
    "pycharm": {
     "name": "#%% md\n"
    }
   }
  },
  {
   "cell_type": "code",
   "execution_count": 9,
   "outputs": [],
   "source": [
    "Palik_Eps1 = np.loadtxt(\"data/Palik_GaAs_Eps1.csv\", delimiter=',', unpack=False)\n",
    "Palik_Eps2 = np.loadtxt(\"data/Palik_GaAs_Eps2.csv\", delimiter=',', unpack=False)"
   ],
   "metadata": {
    "collapsed": false,
    "pycharm": {
     "name": "#%%\n"
    }
   }
  },
  {
   "cell_type": "markdown",
   "source": [
    "Generate a list of energies over which to calculate the model dielectric function and create the CPPB_model Class object:"
   ],
   "metadata": {
    "collapsed": false,
    "pycharm": {
     "name": "#%% md\n"
    }
   }
  },
  {
   "cell_type": "code",
   "execution_count": 10,
   "outputs": [],
   "source": [
    "E = np.linspace(0.2, 5, 1000)\n",
    "CPPB_Model = Custom_CPPB()"
   ],
   "metadata": {
    "collapsed": false,
    "pycharm": {
     "name": "#%%\n"
    }
   }
  },
  {
   "cell_type": "markdown",
   "source": [
    "The Material_Params method loads in the desired material parameters as a dictionary (for some common materials):"
   ],
   "metadata": {
    "collapsed": false,
    "pycharm": {
     "name": "#%% md\n"
    }
   }
  },
  {
   "cell_type": "code",
   "execution_count": 11,
   "outputs": [],
   "source": [
    "MatParams = CPPB_Model.Material_Params(\"GaAs\")"
   ],
   "metadata": {
    "collapsed": false,
    "pycharm": {
     "name": "#%%\n"
    }
   }
  },
  {
   "cell_type": "markdown",
   "source": [
    "Parameters can be customised by assigning to the correct dictionary key:"
   ],
   "metadata": {
    "collapsed": false,
    "pycharm": {
     "name": "#%% md\n"
    }
   }
  },
  {
   "cell_type": "code",
   "execution_count": 12,
   "outputs": [],
   "source": [
    "MatParams[\"B1\"] = 5.8\n",
    "MatParams[\"B1s\"] = 1.0\n",
    "MatParams[\"Gamma_Eg_ID\"] = 0.3\n",
    "MatParams[\"Alpha_Eg_ID\"] = 0.0\n",
    "MatParams[\"E1\"] = 2.8\n",
    "MatParams[\"E1_d1\"] = 2.9\n",
    "MatParams[\"Gamma_E1\"] = 0.1\n",
    "MatParams[\"E2\"] = 4.72\n",
    "MatParams[\"C\"] = 3.0\n",
    "MatParams[\"Alpha_E2\"] = 0.04\n",
    "MatParams[\"Gamma_E2\"] = 0.19"
   ],
   "metadata": {
    "collapsed": false,
    "pycharm": {
     "name": "#%%\n"
    }
   }
  },
  {
   "cell_type": "markdown",
   "source": [
    "Must define a structure object containing the required oscillator functions. The oscillator type and material parameters are both passed to individual 'Oscillators' in the structure:"
   ],
   "metadata": {
    "collapsed": false,
    "pycharm": {
     "name": "#%% md\n"
    }
   }
  },
  {
   "cell_type": "code",
   "execution_count": 13,
   "outputs": [],
   "source": [
    "Adachi_GaAs = Structure([\n",
    "    Oscillator(oscillator_type=\"E0andE0_d0\", material_parameters=MatParams),\n",
    "    Oscillator(oscillator_type=\"E1andE1_d1\", material_parameters=MatParams),\n",
    "    Oscillator(oscillator_type=\"E_ID\", material_parameters=MatParams),\n",
    "    Oscillator(oscillator_type=\"E2\", material_parameters=MatParams)\n",
    "])\n",
    "\n",
    "Output = CPPB_Model.eps_calc(Adachi_GaAs, E)"
   ],
   "metadata": {
    "collapsed": false,
    "pycharm": {
     "name": "#%%\n"
    }
   }
  },
  {
   "cell_type": "markdown",
   "source": [
    "**PLOT 2**: real and imaginary part of the dielectric constant, showing the individual contributions of the critical points."
   ],
   "metadata": {
    "collapsed": false,
    "pycharm": {
     "name": "#%% md\n"
    }
   }
  },
  {
   "cell_type": "code",
   "execution_count": 14,
   "outputs": [
    {
     "data": {
      "text/plain": "<Figure size 648x324 with 2 Axes>",
      "image/png": "[encoded data removed]"
     },
     "metadata": {
      "needs_background": "light"
     },
     "output_type": "display_data"
    }
   ],
   "source": [
    "fig, (ax1, ax2) = plt.subplots(nrows=1, ncols=2, figsize=(9, 4.5))\n",
    "\n",
    "# Subplot I :: Real part of the dielectric function.\n",
    "ax1.set_xlim(0, 5.3)\n",
    "ax1.set_ylim(-14, 27)\n",
    "\n",
    "ax1.plot(Palik_Eps1[:, 0], Palik_Eps1[:, 1], label=\"Exp. Data (Palik)\",\n",
    "         marker='o', ls='none', markerfacecolor='none', markeredgecolor=\"red\")\n",
    "\n",
    "ax1.plot(E, Output[\"eps\"].real, color=\"navy\", label=\"Total\")\n",
    "ax1.plot(E, Output[\"components\"][0].real, color=\"orangered\", ls='--', label=\"$E_0$ and $E_0+\\Delta_0$\")\n",
    "ax1.plot(E, Output[\"components\"][1].real, color=\"dodgerblue\", ls='--', label=\"$E_1$ and $E_1+\\Delta_1$\")\n",
    "ax1.plot(E, Output[\"components\"][2].real, color=\"limegreen\", ls='--', label=\"$E_{ID}$ (Indirect)\")\n",
    "ax1.plot(E, Output[\"components\"][3].real, color=\"gold\", ls='--', label=\"$E_2$\")\n",
    "\n",
    "ax1.set_xlabel(\"Energy (eV)\")\n",
    "ax1.set_ylabel(\"$\\epsilon_1 (\\omega)$\")\n",
    "ax1.set_title(\"(2) CPPB model for GaAs compared with experimental data\")\n",
    "ax1.text(0.05, 0.05, '(a)', transform=ax1.transAxes, fontsize=12)\n",
    "\n",
    "# Subplot II :: Imaginary part of the dielectric function.\n",
    "\n",
    "ax2.plot(Palik_Eps2[:, 0], Palik_Eps2[:, 1], label=\"Exp. Data (Palik)\",\n",
    "         marker='o', ls='none', markerfacecolor='none', markeredgecolor=\"red\")\n",
    "\n",
    "ax2.plot(E, Output[\"eps\"].imag, color=\"Navy\", label=\"Total\")\n",
    "ax2.plot(E, Output[\"components\"][0].imag, color=\"orangered\", ls='--', label=\"$E_0$ and $E_0+\\Delta_0$\")\n",
    "ax2.plot(E, Output[\"components\"][1].imag, color=\"dodgerblue\", ls='--', label=\"$E_1$ and $E_1+\\Delta_1$\")\n",
    "ax2.plot(E, Output[\"components\"][2].imag, color=\"limegreen\", ls='--', label=\"$E_{ID}$ (Indirect)\")\n",
    "ax2.plot(E, Output[\"components\"][3].imag, color=\"gold\", ls='--', label=\"$E_2$\")\n",
    "ax2.set_xlim(0, 5.3)\n",
    "ax2.set_ylim(0, 27)\n",
    "\n",
    "ax2.set_xlabel(\"Energy (eV)\")\n",
    "ax2.set_ylabel(\"$\\epsilon_2 (\\omega)$\")\n",
    "ax2.text(0.05, 0.05, '(b)', transform=ax2.transAxes, fontsize=12)\n",
    "ax2.legend(loc=\"upper left\", frameon=False)\n",
    "plt.tight_layout()\n",
    "plt.show()"
   ],
   "metadata": {
    "collapsed": false,
    "pycharm": {
     "name": "#%%\n"
    }
   }
  }
 ],
 "metadata": {
  "kernelspec": {
   "display_name": "Python 3",
   "language": "python",
   "name": "python3"
  },
  "language_info": {
   "codemirror_mode": {
    "name": "ipython",
    "version": 2
   },
   "file_extension": ".py",
   "mimetype": "text/x-python",
   "name": "python",
   "nbconvert_exporter": "python",
   "pygments_lexer": "ipython2",
   "version": "2.7.6"
  }
 },
 "nbformat": 4,
 "nbformat_minor": 0
}