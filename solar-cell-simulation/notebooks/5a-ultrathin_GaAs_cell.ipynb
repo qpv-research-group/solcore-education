{
 "cells": [
  {
   "cell_type": "markdown",
   "metadata": {
    "collapsed": true,
    "pycharm": {
     "name": "#%% md\n"
    }
   },
   "source": [
    "# Example 5a: Ultra-thin GaAs cell with diffraction grating\n",
    "\n",
    "In previous examples, we have considered a few different methods used to improve absorption in solar cells:\n",
    "anti-reflection coatings, to decrease front-surface reflection, metallic rear mirrors to reduce transmission and increase\n",
    "the path length of light in the cell, and textured surfaces (with pyramids) which are used on Si cells to reduce\n",
    "reflection and increase the path length of light in the cell. Another method which can be used for light-trapping is the\n",
    "inclusion of periodic structures such as diffraction gratings or photonic crystals; here, we will consider an ultra-thin\n",
    "(80 nm) GaAs cell with a diffraction grating.\n",
    "\n",
    "This example is based on the simulations done for [this paper](https://doi.org/10.1002/pip.3463).\n",
    "\n",
    "*Note:* This example requires that you have a [working S4 installation](https://rayflare.readthedocs.io/en/latest/Installation/installation.html)."
   ]
  },
  {
   "cell_type": "code",
   "execution_count": 1,
   "outputs": [],
   "source": [
    "import numpy as np\n",
    "import matplotlib.pyplot as plt\n",
    "import seaborn as sns\n",
    "import os\n",
    "\n",
    "from solcore import si, material\n",
    "from solcore.structure import Layer\n",
    "from solcore.light_source import LightSource\n",
    "from solcore.solar_cell import SolarCell\n",
    "from solcore.constants import q\n",
    "from solcore.absorption_calculator import search_db\n",
    "\n",
    "from rayflare.rigorous_coupled_wave_analysis.rcwa import rcwa_structure\n",
    "from rayflare.transfer_matrix_method.tmm import tmm_structure\n",
    "from rayflare.options import default_options"
   ],
   "metadata": {
    "collapsed": false,
    "pycharm": {
     "name": "#%%\n"
    }
   }
  },
  {
   "cell_type": "markdown",
   "source": [
    "## Setting up\n",
    "\n",
    "First, defining all the materials. We are just going to do an optical simulation, so don't have to worry about doping levels\n",
    "and other parameters which would affect the electrical performance of the cell."
   ],
   "metadata": {
    "collapsed": false,
    "pycharm": {
     "name": "#%% md\n"
    }
   }
  },
  {
   "cell_type": "code",
   "execution_count": 2,
   "outputs": [],
   "source": [
    "InAlP = material('AlInP')(Al=0.5)  # In0.5Al0.5P\n",
    "GaAs = material('GaAs')()\n",
    "InGaP = material('GaInP')(In=0.5)  # Ga0.5In0.5P\n",
    "SiN = material('Si3N4')()     # for the ARC\n",
    "Al2O3 = material('Al2O3P')()  # for the ARC\n",
    "\n",
    "Air = material('Air')()"
   ],
   "metadata": {
    "collapsed": false,
    "pycharm": {
     "name": "#%%\n"
    }
   }
  },
  {
   "cell_type": "markdown",
   "source": [
    "The optical constants used for the silver are [very important](https://doi.org/10.1016/j.solmat.2018.11.008), so we search for a known reliable dataset (from [this paper](https://doi.org/10.1038/srep30605))."
   ],
   "metadata": {
    "collapsed": false,
    "pycharm": {
     "name": "#%% md\n"
    }
   }
  },
  {
   "cell_type": "code",
   "execution_count": 3,
   "outputs": [
    {
     "name": "stdout",
     "output_type": "stream",
     "text": [
      "Database file found at /Users/phoebe/.solcore/nk/nk.db\n",
      "1 results found.\n",
      "pageid\tshelf\tbook\tpage\tfilepath\thasrefractive\thasextinction\trangeMin\trangeMax\tpoints\n",
      "2\tmain\tAg\tJiang\tmain/Ag/Jiang.yml\t1\t1\t0.3\t2.0\t1701\n"
     ]
    }
   ],
   "source": [
    "Ag_pageid = search_db(os.path.join(\"Ag\", \"Jiang\"))[0][0]\n",
    "Ag = material(str(Ag_pageid), nk_db=True)()"
   ],
   "metadata": {
    "collapsed": false,
    "pycharm": {
     "name": "#%%\n"
    }
   }
  },
  {
   "cell_type": "markdown",
   "source": [
    "AM0 spectrum (photon flux) for calculating currents. For space applications (i.e. above the atmosphere) we are often interested in AM0. We use Solcore's LightSource class, then\n",
    "extract the AM0 photon flux at the wavelengths we are going to use in the simulations."
   ],
   "metadata": {
    "collapsed": false,
    "pycharm": {
     "name": "#%% md\n"
    }
   }
  },
  {
   "cell_type": "code",
   "execution_count": 4,
   "outputs": [],
   "source": [
    "wavelengths = np.linspace(303, 1000, 200) * 1e-9\n",
    "\n",
    "AM0_ls = LightSource(source_type='standard', version='AM0', x=wavelengths, output_units=\"photon_flux_per_m\")\n",
    "AM0 = AM0_ls.spectrum(x=wavelengths)[1] # Photon flux; used to calculate photogenerated current later on"
   ],
   "metadata": {
    "collapsed": false,
    "pycharm": {
     "name": "#%%\n"
    }
   }
  },
  {
   "cell_type": "markdown",
   "source": [
    "Setting options. We choose `s` polarization because, for normal incidence, there will not be a difference in the results for [$s$ and $p$ polarization](https://www.edmundoptics.com.au/knowledge-center/application-notes/optics/introduction-to-polarization/) (and thus for unpolarized light, `u`, which would be calculated as the average of the results for $s$ and $p$ polarization. We could set the polarization to `u` for equivalent results (at normal incidence only), but this would take longer because then RayFlare has to run two calculations and then average them.\n",
    "\n",
    "The other key option is the number of Fourier orders retained: rigorous coupled-wave analysis (RCWA) is a Fourier-space method, and we have to specify how many Fourier orders should be retained in the calculation. As we increase the number of orders, the calculation should become more accurate and eventually converge, but the computation time increases (it scales with the cube of the number of orders)."
   ],
   "metadata": {
    "collapsed": false,
    "pycharm": {
     "name": "#%% md\n"
    }
   }
  },
  {
   "cell_type": "code",
   "execution_count": 5,
   "outputs": [],
   "source": [
    "options = default_options()\n",
    "options.pol = 's'\n",
    "options.wavelengths = wavelengths\n",
    "options.orders = 100 # Reduce the number of orders to speed up the calculation."
   ],
   "metadata": {
    "collapsed": false,
    "pycharm": {
     "name": "#%%\n"
    }
   }
  },
  {
   "cell_type": "markdown",
   "source": [
    "## On-substrate device\n",
    "\n",
    "This device is still on the GaAs substrate (it is also inverted compared to the other devices, since it represents the device before patterning and lift-off). We create the simulation object using `tmm_structure` class, and then use the `.calculate` function defined for the class to calculate the reflection, absorption per layer, and transmission."
   ],
   "metadata": {
    "collapsed": false,
    "pycharm": {
     "name": "#%% md\n"
    }
   }
  },
  {
   "cell_type": "code",
   "execution_count": 6,
   "outputs": [
    {
     "name": "stdout",
     "output_type": "stream",
     "text": [
      "Calculating on-substrate device...\n"
     ]
    }
   ],
   "source": [
    "print(\"Calculating on-substrate device...\")\n",
    "\n",
    "struct = SolarCell([Layer(si('20nm'), InAlP), Layer(si('85nm'), GaAs),\n",
    "                   Layer(si('20nm'), InGaP)])\n",
    "\n",
    "# make TMM structure for planar device\n",
    "TMM_setup = tmm_structure(struct, incidence=Air, transmission=GaAs)\n",
    "\n",
    "# calculate\n",
    "RAT_TMM_onsubs = TMM_setup.calculate(options)\n",
    "\n",
    "Abs_onsubs = RAT_TMM_onsubs['A_per_layer'][:,1]  # absorption in GaAs\n",
    "# indexing of A_per_layer is [wavelengths, layers]\n",
    "\n",
    "R_onsubs = RAT_TMM_onsubs['R']\n",
    "T_onsubs = RAT_TMM_onsubs['T']"
   ],
   "metadata": {
    "collapsed": false,
    "pycharm": {
     "name": "#%%\n"
    }
   }
  },
  {
   "cell_type": "markdown",
   "source": [
    "## Planar silver mirror device\n",
    "\n",
    "This device is now flipped (in fabrication terms, the back mirror was applied and then the device lifted off). It has a silver back mirror, which should increase reflection and the rear surface so that less light is lost to the substrate."
   ],
   "metadata": {
    "collapsed": false,
    "pycharm": {
     "name": "#%% md\n"
    }
   }
  },
  {
   "cell_type": "code",
   "execution_count": 7,
   "outputs": [
    {
     "name": "stdout",
     "output_type": "stream",
     "text": [
      "Calculating planar Ag mirror device...\n",
      "Database file found at /Users/phoebe/.solcore/nk/nk.db\n",
      "Material main/Ag/Jiang.yml loaded.\n",
      "Database file found at /Users/phoebe/.solcore/nk/nk.db\n",
      "Material main/Ag/Jiang.yml loaded.\n"
     ]
    }
   ],
   "source": [
    "print(\"Calculating planar Ag mirror device...\")\n",
    "\n",
    "solar_cell_TMM = SolarCell([Layer(material=InGaP, width=si('20nm')),\n",
    "                        Layer(material=GaAs, width=si('85nm')),\n",
    "                        Layer(material=InAlP, width=si('20nm'))],\n",
    "                           substrate=Ag)\n",
    "\n",
    "TMM_setup = tmm_structure(solar_cell_TMM, incidence=Air, transmission=Ag)\n",
    "\n",
    "RAT_TMM = TMM_setup.calculate(options)\n",
    "\n",
    "Abs_TMM = RAT_TMM['A_per_layer'][:, 1]\n",
    "Abs_TMM_InAlPonly = RAT_TMM['A_per_layer'][:, 2]\n",
    "Abs_TMM_InGaPonly = RAT_TMM['A_per_layer'][:, 0]\n",
    "R_TMM = RAT_TMM['R']\n",
    "T_TMM = RAT_TMM['T']"
   ],
   "metadata": {
    "collapsed": false,
    "pycharm": {
     "name": "#%%\n"
    }
   }
  },
  {
   "cell_type": "markdown",
   "source": [
    "## Nanophotonic grating device\n",
    "\n",
    "Finally, this device has a grating made of silver and SiN, followed by a planar silver back mirror; this leads to diffraction, increasing the path length of light in the cell, while keeping reflection high. Here we use the `rcwa_structure` class, which is used in the same way as `tmm_structure` above and `rt_structure` in [Example 4a](4a-textured_Si_cell.ipynb). Because we are now dealing with a structure which is periodic in the $x$ and $y$ directions (unlike the TMM structures, which are uniform in the plane), we have to specify the size of the unit cell (this does not have to be square; here we have a triangular unit cell to give a grating with a hexagonal layout of circles). Otherwise, the grating layer is specified as normal but with a `geometry` argument which lists the shapes in the grating and the material they are made of.\n",
    "\n",
    "There are many additional options which can be specified for S4 (which is used to actually run the RCWA calculations); more detail can be found in its documentation [here](https://web.stanford.edu/group/fan/S4/python_api.html)."
   ],
   "metadata": {
    "collapsed": false,
    "pycharm": {
     "name": "#%% md\n"
    }
   }
  },
  {
   "cell_type": "code",
   "execution_count": 8,
   "outputs": [
    {
     "name": "stdout",
     "output_type": "stream",
     "text": [
      "Calculating nanophotonic grating device...\n"
     ]
    }
   ],
   "source": [
    "print(\"Calculating nanophotonic grating device...\")\n",
    "\n",
    "x = 600\n",
    "\n",
    "# lattice vectors for the grating. Units are in nm!\n",
    "size = ((x, 0), (x / 2, np.sin(np.pi / 3) * x))\n",
    "\n",
    "ropt = dict(LatticeTruncation='Circular',\n",
    "            DiscretizedEpsilon=False,\n",
    "            DiscretizationResolution=8,\n",
    "            PolarizationDecomposition=False,\n",
    "            PolarizationBasis='Default',\n",
    "            #LanczosSmoothing=dict(Power=2, Width=1),\n",
    "            LanczosSmoothing=False,\n",
    "            SubpixelSmoothing=False,\n",
    "            ConserveMemory=False,\n",
    "            WeismannFormulation=False,\n",
    "            Verbosity=0)\n",
    "\n",
    "options.S4_options = ropt\n",
    "\n",
    "# grating layers\n",
    "grating = [Layer(width=si(100, 'nm'), material=SiN, geometry=[{'type': 'circle', 'mat': Ag, 'center': (0, 0),\n",
    "                                                 'radius': x/3, 'angle': 0}])] # actual grating part of grating\n",
    "\n",
    "\n",
    "# DTL device without anti-reflection coating\n",
    "solar_cell = SolarCell([Layer(material=InGaP, width=si('20nm')),\n",
    "                        Layer(material=GaAs, width=si('85nm')),\n",
    "                        Layer(material=InAlP, width=si('20nm'))] + grating,\n",
    "                       substrate=Ag)\n",
    "\n",
    "# make RCWA structure\n",
    "S4_setup = rcwa_structure(solar_cell, size, options, Air, Ag)\n",
    "\n",
    "# calculate\n",
    "\n",
    "RAT = S4_setup.calculate(options)\n",
    "\n",
    "Abs_DTL = RAT['A_per_layer'][:,1] # absorption in GaAs\n",
    "\n",
    "R_DTL = RAT['R']\n",
    "T_DTL = RAT['T']"
   ],
   "metadata": {
    "collapsed": false,
    "pycharm": {
     "name": "#%%\n"
    }
   }
  },
  {
   "cell_type": "markdown",
   "source": [
    "## Nanophotonic grating device with ARC\n",
    "\n",
    "This device is exactly like the previous one, but with the additional of a simple single-layer anti-reflection coating."
   ],
   "metadata": {
    "collapsed": false,
    "pycharm": {
     "name": "#%% md\n"
    }
   }
  },
  {
   "cell_type": "code",
   "execution_count": 9,
   "outputs": [
    {
     "name": "stdout",
     "output_type": "stream",
     "text": [
      "Calculating nanophotonic grating device with ARC...\n"
     ]
    }
   ],
   "source": [
    "print(\"Calculating nanophotonic grating device with ARC...\")\n",
    "\n",
    "# DTL device with anti-reflection coating\n",
    "solar_cell = SolarCell([Layer(material=Al2O3, width=si('70nm')),\n",
    "                        Layer(material=InGaP, width=si('20nm')),\n",
    "                        Layer(material=GaAs, width=si('85nm')),\n",
    "                        Layer(material=InAlP, width=si('20nm'))] + grating,\n",
    "                       substrate=Ag)\n",
    "\n",
    "# make RCWA structure\n",
    "S4_setup = rcwa_structure(solar_cell, size, options, Air, Ag)\n",
    "\n",
    "# calculate\n",
    "RAT_ARC = S4_setup.calculate(options)\n",
    "\n",
    "Abs_DTL_ARC = RAT_ARC['A_per_layer'][:,2]     # absorption in GaAs + InGaP\n",
    "\n",
    "R_DTL_ARC = RAT_ARC['R']\n",
    "T_DTL_ARC = RAT_ARC['T']"
   ],
   "metadata": {
    "collapsed": false,
    "pycharm": {
     "name": "#%%\n"
    }
   }
  },
  {
   "cell_type": "markdown",
   "source": [
    "## Plotting results\n",
    "\n",
    "**PLOT 1**: Comparing the absorption in GaAs for the four different device architectures"
   ],
   "metadata": {
    "collapsed": false,
    "pycharm": {
     "name": "#%% md\n"
    }
   }
  },
  {
   "cell_type": "code",
   "execution_count": 10,
   "outputs": [
    {
     "data": {
      "text/plain": "<Figure size 460.8x345.6 with 1 Axes>",
      "image/png": "[encoded data removed]"
     },
     "metadata": {
      "needs_background": "light"
     },
     "output_type": "display_data"
    }
   ],
   "source": [
    "\n",
    "pal = sns.color_palette(\"husl\", 4)\n",
    "\n",
    "fig = plt.figure(figsize=(6.4, 4.8))\n",
    "\n",
    "plt.plot(wavelengths*1e9, 100*Abs_onsubs, color=pal[0], label=\"On substrate\")\n",
    "plt.plot(wavelengths*1e9, 100*Abs_TMM, color=pal[1], label=\"Planar mirror\")\n",
    "plt.plot(wavelengths*1e9, 100*Abs_DTL, color=pal[2], label=\"Nanophotonic grating (no ARC)\")\n",
    "plt.plot(wavelengths*1e9, 100*Abs_DTL_ARC, color=pal[3], label=\"Nanophotonic grating (with ARC)\")\n",
    "\n",
    "plt.xlim(300, 950)\n",
    "plt.ylim(0, 100)\n",
    "plt.xlabel('Wavelength (nm)')\n",
    "plt.ylabel('EQE (%)')\n",
    "plt.legend(loc='upper left')\n",
    "plt.show()"
   ],
   "metadata": {
    "collapsed": false,
    "pycharm": {
     "name": "#%%\n"
    }
   }
  },
  {
   "cell_type": "markdown",
   "source": [
    "We see that the addition of a planar silver mirror significantly boosts the absorption around 700 nm, essentially by creating a Fabry-Perot (thin film) cavity in the semiconductor layers through high reflection at the rear of the cell. The grating introduces multiple resonances relating to different diffraction orders and waveguide modes in the structure, which boosts the absorption especially close to the absorption edge in comparison to the planar devices.\n",
    "\n",
    "**PLOT 2**: Absorption per layer in the planar Ag device."
   ],
   "metadata": {
    "collapsed": false,
    "pycharm": {
     "name": "#%% md\n"
    }
   }
  },
  {
   "cell_type": "code",
   "execution_count": 11,
   "outputs": [
    {
     "data": {
      "text/plain": "<Figure size 460.8x345.6 with 1 Axes>",
      "image/png": "[encoded data removed]"
     },
     "metadata": {
      "needs_background": "light"
     },
     "output_type": "display_data"
    }
   ],
   "source": [
    "fig = plt.figure(figsize=(6.4, 4.8))\n",
    "plt.stackplot(wavelengths*1e9,\n",
    "              [100*Abs_TMM, 100*Abs_TMM_InGaPonly, 100*Abs_TMM_InAlPonly],\n",
    "              colors=pal,\n",
    "              labels=['Absorbed in GaAs', 'Absorbed in InGaP', 'Absorbed in InAlP'])\n",
    "plt.xlim(300, 950)\n",
    "plt.ylim(0, 90)\n",
    "plt.xlabel('Wavelength (nm)')\n",
    "plt.ylabel('EQE (%)')\n",
    "plt.legend(loc='upper right')\n",
    "plt.show()"
   ],
   "metadata": {
    "collapsed": false,
    "pycharm": {
     "name": "#%%\n"
    }
   }
  },
  {
   "cell_type": "markdown",
   "source": [
    "The plot above shows that at short wavelengths, even very thin layers (in this case, 20 nm of InGaP) can absorb a very significant fraction of the incident radiation. Depending on the device, the carriers generated here may or may not be extracted as current.\n",
    "\n",
    "## Calculating photogenerated current\n",
    "\n",
    "Finally, we use the photon flux in the AM0 spectrum to calculate the maximum possible achievable current for these devices."
   ],
   "metadata": {
    "collapsed": false,
    "pycharm": {
     "name": "#%% md\n"
    }
   }
  },
  {
   "cell_type": "code",
   "execution_count": 12,
   "outputs": [
    {
     "name": "stdout",
     "output_type": "stream",
     "text": [
      "On substrate device current: 9.5 mA/cm2 \n",
      "Planar Ag mirror device current: 13.8 mA/cm2 \n",
      "Nanophotonic grating (no ARC) device current: 18.0 mA/cm2 \n",
      "Nanophotonic grating (with ARC) device current: 23.0 mA/cm2 \n"
     ]
    }
   ],
   "source": [
    "onsubs = 0.1 * q * np.trapz(Abs_onsubs*AM0, wavelengths)\n",
    "Ag = 0.1 * q * np.trapz(Abs_TMM*AM0, wavelengths)\n",
    "DTL = 0.1 * q * np.trapz(Abs_DTL*AM0, wavelengths)\n",
    "DTL_ARC = 0.1 * q * np.trapz(Abs_DTL_ARC*AM0, wavelengths)\n",
    "\n",
    "\n",
    "print('On substrate device current: %.1f mA/cm2 ' % onsubs)\n",
    "print('Planar Ag mirror device current: %.1f mA/cm2 ' % Ag)\n",
    "print('Nanophotonic grating (no ARC) device current: %.1f mA/cm2 ' % DTL)\n",
    "print('Nanophotonic grating (with ARC) device current: %.1f mA/cm2 ' % DTL_ARC)"
   ],
   "metadata": {
    "collapsed": false,
    "pycharm": {
     "name": "#%%\n"
    }
   }
  },
  {
   "cell_type": "markdown",
   "source": [
    "As expected, simply adding a planar mirror boosts the current significantly. The addition of a nanophotonic grating gives a further boost (note that the grating we used here is optimized in terms of grating pitch (period) and dimension; not all gratings would give a boost in current, and some may even reduce performance due to e.g. parasitic absorption)."
   ],
   "metadata": {
    "collapsed": false,
    "pycharm": {
     "name": "#%% md\n"
    }
   }
  }
 ],
 "metadata": {
  "kernelspec": {
   "display_name": "Python 3",
   "language": "python",
   "name": "python3"
  },
  "language_info": {
   "codemirror_mode": {
    "name": "ipython",
    "version": 2
   },
   "file_extension": ".py",
   "mimetype": "text/x-python",
   "name": "python",
   "nbconvert_exporter": "python",
   "pygments_lexer": "ipython2",
   "version": "2.7.6"
  }
 },
 "nbformat": 4,
 "nbformat_minor": 0
}