{
 "cells": [
  {
   "cell_type": "markdown",
   "metadata": {
    "collapsed": false,
    "pycharm": {
     "name": "#%% md\n"
    }
   },
   "source": [
    "# Example 3a: Triple junction cell\n",
    "\n",
    "In the previous examples, we have considered only single-junction cells. However, a major part of Solcore's capability\n",
    "lies in modelling multi-junction solar cells. In this example, we will look at a triple junction InGaP/GaAs/Ge cell at\n",
    "1 Sun and under concentration."
   ]
  },
  {
   "cell_type": "code",
   "execution_count": 1,
   "metadata": {
    "pycharm": {
     "name": "#%%\n"
    }
   },
   "outputs": [],
   "source": [
    "import numpy as np\n",
    "import matplotlib.pyplot as plt\n",
    "\n",
    "from solcore import siUnits, material, si\n",
    "from solcore.solar_cell import SolarCell\n",
    "from solcore.structure import Junction, Layer\n",
    "from solcore.solar_cell_solver import solar_cell_solver\n",
    "from solcore.light_source import LightSource\n",
    "from solcore.absorption_calculator import search_db\n",
    "\n",
    "wl = np.linspace(300, 1850, 700) * 1e-9"
   ]
  },
  {
   "cell_type": "markdown",
   "metadata": {
    "pycharm": {
     "name": "#%% md\n"
    }
   },
   "source": [
    "We define our light source, the AM1.5G spectrum, which will be used for I-V calculations (not under concentration):"
   ]
  },
  {
   "cell_type": "code",
   "execution_count": 2,
   "metadata": {
    "pycharm": {
     "name": "#%%\n"
    }
   },
   "outputs": [],
   "source": [
    "light_source = LightSource(source_type='standard', x=wl, version='AM1.5g')"
   ]
  },
  {
   "cell_type": "markdown",
   "metadata": {
    "pycharm": {
     "name": "#%% md\n"
    }
   },
   "source": [
    "Now we need to build the solar cell layer by layer.\n",
    "\n",
    "*Note*: you need to have downloaded the refractiveindex.info database for these to work. See [Example 2a](2a-optical_constants.ipynb)."
   ]
  },
  {
   "cell_type": "code",
   "execution_count": 3,
   "metadata": {
    "pycharm": {
     "name": "#%%\n"
    }
   },
   "outputs": [
    {
     "name": "stdout",
     "output_type": "stream",
     "text": [
      "Database file found at /Users/phoebe/.solcore/nk/nk.db\n",
      "1 results found.\n",
      "pageid\tshelf\tbook\tpage\tfilepath\thasrefractive\thasextinction\trangeMin\trangeMax\tpoints\n",
      "234\tmain\tMgF2\tRodriguez-de_Marcos\tmain/MgF2/Rodriguez-de Marcos.yml\t1\t1\t0.0299919\t2.00146\t960\n",
      "Database file found at /Users/phoebe/.solcore/nk/nk.db\n",
      "1 results found.\n",
      "pageid\tshelf\tbook\tpage\tfilepath\thasrefractive\thasextinction\trangeMin\trangeMax\tpoints\n",
      "623\tmain\tZnS\tQuerry\tmain/ZnS/Querry.yml\t1\t1\t0.22\t166.6667\t312\n"
     ]
    }
   ],
   "source": [
    "MgF2_pageid = search_db(\"MgF2/Rodriguez-de Marcos\")[0][0]\n",
    "ZnS_pageid = search_db(\"ZnS/Querry\")[0][0]\n",
    "MgF2 = material(str(MgF2_pageid), nk_db=True)()\n",
    "ZnS = material(str(ZnS_pageid), nk_db=True)()"
   ]
  },
  {
   "cell_type": "markdown",
   "metadata": {
    "pycharm": {
     "name": "#%% md\n"
    }
   },
   "source": [
    "To minimize front surface reflection, we use a four-layer anti-reflection coating (ARC):"
   ]
  },
  {
   "cell_type": "code",
   "execution_count": 4,
   "metadata": {
    "pycharm": {
     "name": "#%%\n"
    }
   },
   "outputs": [],
   "source": [
    "ARC = [Layer(si(\"100nm\"), MgF2), Layer(si(\"15nm\"), ZnS), Layer(si(\"15nm\"), MgF2), Layer(si(\"50nm\"), ZnS)]"
   ]
  },
  {
   "cell_type": "markdown",
   "metadata": {
    "pycharm": {
     "name": "#%% md\n"
    }
   },
   "source": [
    "## Top cell: GaInP\n",
    "\n",
    "Now we build the top cell, which requires the n and p sides of GaInP and a window layer. We also add some extra parameters needed for the calculation which are not included in the materials database, such as the minority carriers diffusion lengths."
   ]
  },
  {
   "cell_type": "code",
   "execution_count": 5,
   "metadata": {
    "pycharm": {
     "name": "#%%\n"
    }
   },
   "outputs": [],
   "source": [
    "AlInP = material(\"AlInP\")\n",
    "InGaP = material(\"GaInP\")\n",
    "window_material = AlInP(Al=0.52)\n",
    "\n",
    "top_cell_n_material = InGaP(In=0.49, Nd=siUnits(2e18, \"cm-3\"), hole_diffusion_length=si(\"200nm\"))\n",
    "top_cell_p_material = InGaP(In=0.49, Na=siUnits(1e17, \"cm-3\"), electron_diffusion_length=si(\"1um\"))"
   ]
  },
  {
   "cell_type": "markdown",
   "metadata": {
    "pycharm": {
     "name": "#%% md\n"
    }
   },
   "source": [
    "## Middle cell: GaAs"
   ]
  },
  {
   "cell_type": "code",
   "execution_count": 6,
   "metadata": {
    "pycharm": {
     "name": "#%%\n"
    }
   },
   "outputs": [],
   "source": [
    "GaAs = material(\"GaAs\")\n",
    "\n",
    "mid_cell_n_material = GaAs(Nd=siUnits(3e18, \"cm-3\"), hole_diffusion_length=si(\"500nm\"))\n",
    "mid_cell_p_material = GaAs(Na=siUnits(1e17, \"cm-3\"), electron_diffusion_length=si(\"5um\"))"
   ]
  },
  {
   "cell_type": "markdown",
   "metadata": {
    "pycharm": {
     "name": "#%% md\n"
    }
   },
   "source": [
    "## Bottom cell: Ge"
   ]
  },
  {
   "cell_type": "code",
   "execution_count": 7,
   "metadata": {
    "pycharm": {
     "name": "#%%\n"
    }
   },
   "outputs": [],
   "source": [
    "Ge = material(\"Ge\")\n",
    "\n",
    "bot_cell_n_material = Ge(Nd=siUnits(2e18, \"cm-3\"), hole_diffusion_length=si(\"800nm\"), hole_mobility=0.01)\n",
    "bot_cell_p_material = Ge(Na=siUnits(1e17, \"cm-3\"), electron_diffusion_length=si(\"50um\"), electron_mobility=0.1)"
   ]
  },
  {
   "cell_type": "markdown",
   "metadata": {
    "pycharm": {
     "name": "#%% md\n"
    }
   },
   "source": [
    "## Putting the cell together\n",
    "And, finally, we put everything together, adding also the surface recombination velocities. We also add some shading due to the metallisation of the cell = 5%, and a finite series resistance."
   ]
  },
  {
   "cell_type": "code",
   "execution_count": 8,
   "metadata": {
    "pycharm": {
     "name": "#%%\n"
    }
   },
   "outputs": [],
   "source": [
    "solar_cell = SolarCell(\n",
    "    ARC +\n",
    "    [\n",
    "        Junction([Layer(si(\"20nm\"), material=window_material, role='window'),\n",
    "                  Layer(si(\"100nm\"), material=top_cell_n_material, role='emitter'),\n",
    "                  Layer(si(\"560nm\"), material=top_cell_p_material, role='base'),\n",
    "                  ], sn=1, sp=1, kind='DA'),\n",
    "        Junction([Layer(si(\"200nm\"), material=mid_cell_n_material, role='emitter'),\n",
    "                  Layer(si(\"3000nm\"), material=mid_cell_p_material, role='base'),\n",
    "                  ], sn=1, sp=1, kind='DA'),\n",
    "        Junction([Layer(si(\"400nm\"), material=bot_cell_n_material, role='emitter'),\n",
    "                  Layer(si(\"100um\"), material=bot_cell_p_material, role='base'),\n",
    "                  ], sn=1, sp=1, kind='DA'),\n",
    "    ], shading=0.05, R_series=2e-6)"
   ]
  },
  {
   "cell_type": "markdown",
   "metadata": {
    "pycharm": {
     "name": "#%% md\n"
    }
   },
   "source": [
    "## Setting the depth spacing\n",
    "\n",
    "The 'position' option determines at which z-points the absorption profile is calculated. You can specify this is multiple different ways:\n",
    "\n",
    "- a vector which specifies each position (in m) at which the depth should be calculated\n",
    "- a single number which specifies the spacing (in m) to generate the position vector, e.g. 1e-9 for 1 nm spacing\n",
    "- a list of numbers which specify the spacing (in m) to be used in each layer. This list can have EITHER the length of the number of individual layers + the number of junctions in the cell object, OR the length of the total number of individual layers including layers inside junctions.\n",
    "\n",
    "Here we use the final options, setting the spacing to use per junction/layer. We use 0.1 nm for all layers except the final layer, the Ge, where we use 10 nm."
   ]
  },
  {
   "cell_type": "code",
   "execution_count": 9,
   "metadata": {
    "pycharm": {
     "name": "#%%\n"
    }
   },
   "outputs": [],
   "source": [
    "position = len(solar_cell) * [0.1e-9]\n",
    "position[-1] = 10e-9\n",
    "# Indexing with -1 in a Python list/array gives you the last element"
   ]
  },
  {
   "cell_type": "markdown",
   "source": [
    "Calculate and plot the EQE.\n",
    "\n",
    "**PLOT 1**: EQE of a triple junction cell, comparing TMM and BL optical methods"
   ],
   "metadata": {
    "collapsed": false,
    "pycharm": {
     "name": "#%% md\n"
    }
   }
  },
  {
   "cell_type": "code",
   "execution_count": 10,
   "outputs": [
    {
     "name": "stdout",
     "output_type": "stream",
     "text": [
      "Solving optics of the solar cell...\n",
      "Treating layer(s) 10 incoherently\n",
      "Calculating RAT...\n",
      "Database file found at /Users/phoebe/.solcore/nk/nk.db\n",
      "Material main/MgF2/Rodriguez-de Marcos.yml loaded.\n",
      "Database file found at /Users/phoebe/.solcore/nk/nk.db\n",
      "Material main/MgF2/Rodriguez-de Marcos.yml loaded.\n",
      "Database file found at /Users/phoebe/.solcore/nk/nk.db\n",
      "Material main/ZnS/Querry.yml loaded.\n",
      "Database file found at /Users/phoebe/.solcore/nk/nk.db\n",
      "Material main/ZnS/Querry.yml loaded.\n",
      "Calculating absorption profile...\n",
      "Solving QE of the solar cell...\n"
     ]
    },
    {
     "name": "stderr",
     "output_type": "stream",
     "text": [
      "/Users/phoebe/Documents/develop/solcore5/solcore/analytic_solar_cells/depletion_approximation.py:617: RuntimeWarning: invalid value encountered in true_divide\n",
      "  iqe =  j_sc / current_absorbed\n"
     ]
    },
    {
     "name": "stdout",
     "output_type": "stream",
     "text": [
      "Solving optics of the solar cell...\n",
      "Solving QE of the solar cell...\n"
     ]
    },
    {
     "name": "stderr",
     "output_type": "stream",
     "text": [
      "/Users/phoebe/Documents/develop/solcore5/solcore/analytic_solar_cells/depletion_approximation.py:617: RuntimeWarning: invalid value encountered in true_divide\n",
      "  iqe =  j_sc / current_absorbed\n"
     ]
    },
    {
     "data": {
      "text/plain": "<Figure size 432x288 with 1 Axes>",
      "image/png": "[encoded data removed]"
     },
     "metadata": {
      "needs_background": "light"
     },
     "output_type": "display_data"
    }
   ],
   "source": [
    "plt.figure()\n",
    "\n",
    "solar_cell_solver(solar_cell, 'qe', user_options={'wavelength': wl, 'optics_method': \"TMM\",\n",
    "                                                  'position': position, 'recalculate_absorption': True})\n",
    "\n",
    "plt.plot(wl * 1e9, solar_cell[4].eqe(wl) * 100, 'b', label='GaInP (TMM)')\n",
    "plt.plot(wl * 1e9, solar_cell[5].eqe(wl) * 100, 'g', label='InGaAs (TMM)')\n",
    "plt.plot(wl * 1e9, solar_cell[6].eqe(wl) * 100, 'r', label='Ge (TMM)')\n",
    "plt.plot(wl * 1e9, 100 * (1 - solar_cell.reflected), 'k--', label='1-R (TMM)')\n",
    "\n",
    "solar_cell_solver(solar_cell, 'qe', user_options={'wavelength': wl, 'optics_method': \"BL\",\n",
    "                                                  'position': position, 'recalculate_absorption': True})\n",
    "\n",
    "plt.plot(wl * 1e9, solar_cell[4].eqe(wl) * 100, 'b--', alpha=0.5, label='GaInP (BL)')\n",
    "plt.plot(wl * 1e9, solar_cell[5].eqe(wl) * 100, 'g--', alpha=0.5, label='InGaAs (BL)')\n",
    "plt.plot(wl * 1e9, solar_cell[6].eqe(wl) * 100, 'r--', alpha=0.5, label='Ge (BL)')\n",
    "plt.legend()\n",
    "plt.ylim(0, 100)\n",
    "plt.ylabel('EQE (%)')\n",
    "plt.xlabel('Wavelength (nm)')\n",
    "plt.tight_layout()\n",
    "plt.title(\"(1) EQE and absorption for 3J cell using TMM and BL optical methods\")\n",
    "plt.show()"
   ],
   "metadata": {
    "collapsed": false,
    "pycharm": {
     "name": "#%%\n"
    }
   }
  },
  {
   "cell_type": "markdown",
   "source": [
    "We see that the BL absorption is higher everywhere, because it does not include any front-surface reflection.\n",
    "In the TMM calculation, we see interference fringes and some front-surface reflection (though due to the ARC, the\n",
    "reflection is quite low).\n",
    "\n",
    "Calculate and plot the light IV under the AM1.5G spectrum.\n",
    "\n",
    "**PLOT 2**: Light IV for triple-junction cell"
   ],
   "metadata": {
    "collapsed": false,
    "pycharm": {
     "name": "#%% md\n"
    }
   }
  },
  {
   "cell_type": "code",
   "execution_count": 11,
   "outputs": [
    {
     "name": "stdout",
     "output_type": "stream",
     "text": [
      "Solving optics of the solar cell...\n",
      "Already calculated reflection, transmission and absorption profile - not recalculating. Set recalculate_absorption to True in the options if you want absorption to be calculated again.\n",
      "Solving IV of the junctions...\n",
      "Solving IV of the tunnel junctions...\n",
      "Solving IV of the total solar cell...\n"
     ]
    },
    {
     "data": {
      "text/plain": "<Figure size 432x288 with 1 Axes>",
      "image/png": "[encoded data removed]"
     },
     "metadata": {
      "needs_background": "light"
     },
     "output_type": "display_data"
    }
   ],
   "source": [
    "V = np.linspace(0, 3, 300)\n",
    "solar_cell_solver(solar_cell, 'iv', user_options={'voltages': V, 'light_iv': True,\n",
    "                                                  'wavelength': wl, 'mpp': True,\n",
    "                                                  'light_source': light_source})\n",
    "\n",
    "plt.figure()\n",
    "plt.plot(V, solar_cell.iv['IV'][1], 'k', linewidth=3, label='Total')\n",
    "plt.plot(V, -solar_cell[4].iv(V), 'b', label='GaInP')\n",
    "plt.plot(V, -solar_cell[5].iv(V), 'g', label='InGaAs')\n",
    "plt.plot(V, -solar_cell[6].iv(V), 'r', label='Ge')\n",
    "plt.text(1.4, 220, 'Efficieny (%): ' + str(np.round(solar_cell.iv['Eta'] * 100, 1)))\n",
    "plt.text(1.4, 200, 'FF (%): ' + str(np.round(solar_cell.iv['FF'] * 100, 1)))\n",
    "plt.text(1.4, 180, r'V$_{oc}$ (V): ' + str(np.round(solar_cell.iv[\"Voc\"], 2)))\n",
    "plt.text(1.4, 160, r'I$_{sc}$ (A/m$^2$): ' + str(np.round(solar_cell.iv[\"Isc\"], 2)))\n",
    "\n",
    "plt.legend()\n",
    "plt.ylim(0, 250)\n",
    "plt.xlim(0, 3)\n",
    "plt.ylabel('Current (A/m$^2$)')\n",
    "plt.xlabel('Voltage (V)')\n",
    "plt.title(\"(2) IV characteristics of 3J cell\")\n",
    "\n",
    "plt.show()"
   ],
   "metadata": {
    "collapsed": false,
    "pycharm": {
     "name": "#%%\n"
    }
   }
  },
  {
   "cell_type": "markdown",
   "source": [
    "## Cell behaviour under concentration\n",
    "\n",
    "Multi-junction cells are often used in concetrator PV applications. Here, we look at the effect of increasing the\n",
    "concentration on the Voc, Jsc and the efficiency.\n",
    "\n",
    "Concentration between 1x and 3000x, linearly spaced on a log scale:"
   ],
   "metadata": {
    "collapsed": false,
    "pycharm": {
     "name": "#%% md\n"
    }
   }
  },
  {
   "cell_type": "code",
   "execution_count": 12,
   "outputs": [],
   "source": [
    "concentration = np.linspace(np.log(1), np.log(3000), 20)\n",
    "concentration = np.exp(concentration)"
   ],
   "metadata": {
    "collapsed": false,
    "pycharm": {
     "name": "#%%\n"
    }
   }
  },
  {
   "cell_type": "markdown",
   "source": [
    "Create empty arrays to store the data (this is preferable to simply appending data in a loop since it pre-allocates the memory needed to store the arrays):"
   ],
   "metadata": {
    "collapsed": false,
    "pycharm": {
     "name": "#%% md\n"
    }
   }
  },
  {
   "cell_type": "code",
   "execution_count": 13,
   "outputs": [],
   "source": [
    "Effs = np.empty_like(concentration)\n",
    "Vocs = np.empty_like(concentration)\n",
    "Iscs = np.empty_like(concentration)\n",
    "\n",
    "V = np.linspace(0, 3.5, 300)"
   ],
   "metadata": {
    "collapsed": false,
    "pycharm": {
     "name": "#%%\n"
    }
   }
  },
  {
   "cell_type": "markdown",
   "source": [
    "Loop through the concentrations. We use only the direct spectrum (AM1.5D) since diffuse light will not be concentrated:"
   ],
   "metadata": {
    "collapsed": false,
    "pycharm": {
     "name": "#%% md\n"
    }
   }
  },
  {
   "cell_type": "code",
   "execution_count": 14,
   "outputs": [
    {
     "name": "stdout",
     "output_type": "stream",
     "text": [
      "Solving optics of the solar cell...\n",
      "Already calculated reflection, transmission and absorption profile - not recalculating. Set recalculate_absorption to True in the options if you want absorption to be calculated again.\n",
      "Solving IV of the junctions...\n",
      "Solving IV of the tunnel junctions...\n",
      "Solving IV of the total solar cell...\n",
      "Solving optics of the solar cell...\n",
      "Already calculated reflection, transmission and absorption profile - not recalculating. Set recalculate_absorption to True in the options if you want absorption to be calculated again.\n",
      "Solving IV of the junctions...\n",
      "Solving IV of the tunnel junctions...\n",
      "Solving IV of the total solar cell...\n",
      "Solving optics of the solar cell...\n",
      "Already calculated reflection, transmission and absorption profile - not recalculating. Set recalculate_absorption to True in the options if you want absorption to be calculated again.\n",
      "Solving IV of the junctions...\n",
      "Solving IV of the tunnel junctions...\n",
      "Solving IV of the total solar cell...\n",
      "Solving optics of the solar cell...\n",
      "Already calculated reflection, transmission and absorption profile - not recalculating. Set recalculate_absorption to True in the options if you want absorption to be calculated again.\n",
      "Solving IV of the junctions...\n",
      "Solving IV of the tunnel junctions...\n",
      "Solving IV of the total solar cell...\n",
      "Solving optics of the solar cell...\n",
      "Already calculated reflection, transmission and absorption profile - not recalculating. Set recalculate_absorption to True in the options if you want absorption to be calculated again.\n",
      "Solving IV of the junctions...\n",
      "Solving IV of the tunnel junctions...\n",
      "Solving IV of the total solar cell...\n",
      "Solving optics of the solar cell...\n",
      "Already calculated reflection, transmission and absorption profile - not recalculating. Set recalculate_absorption to True in the options if you want absorption to be calculated again.\n",
      "Solving IV of the junctions...\n",
      "Solving IV of the tunnel junctions...\n",
      "Solving IV of the total solar cell...\n",
      "Solving optics of the solar cell...\n",
      "Already calculated reflection, transmission and absorption profile - not recalculating. Set recalculate_absorption to True in the options if you want absorption to be calculated again.\n",
      "Solving IV of the junctions...\n",
      "Solving IV of the tunnel junctions...\n",
      "Solving IV of the total solar cell...\n",
      "Solving optics of the solar cell...\n",
      "Already calculated reflection, transmission and absorption profile - not recalculating. Set recalculate_absorption to True in the options if you want absorption to be calculated again.\n",
      "Solving IV of the junctions...\n",
      "Solving IV of the tunnel junctions...\n",
      "Solving IV of the total solar cell...\n",
      "Solving optics of the solar cell...\n",
      "Already calculated reflection, transmission and absorption profile - not recalculating. Set recalculate_absorption to True in the options if you want absorption to be calculated again.\n",
      "Solving IV of the junctions...\n",
      "Solving IV of the tunnel junctions...\n",
      "Solving IV of the total solar cell...\n",
      "Solving optics of the solar cell...\n",
      "Already calculated reflection, transmission and absorption profile - not recalculating. Set recalculate_absorption to True in the options if you want absorption to be calculated again.\n",
      "Solving IV of the junctions...\n",
      "Solving IV of the tunnel junctions...\n",
      "Solving IV of the total solar cell...\n",
      "Solving optics of the solar cell...\n",
      "Already calculated reflection, transmission and absorption profile - not recalculating. Set recalculate_absorption to True in the options if you want absorption to be calculated again.\n",
      "Solving IV of the junctions...\n",
      "Solving IV of the tunnel junctions...\n",
      "Solving IV of the total solar cell...\n",
      "Solving optics of the solar cell...\n",
      "Already calculated reflection, transmission and absorption profile - not recalculating. Set recalculate_absorption to True in the options if you want absorption to be calculated again.\n",
      "Solving IV of the junctions...\n",
      "Solving IV of the tunnel junctions...\n",
      "Solving IV of the total solar cell...\n",
      "Solving optics of the solar cell...\n",
      "Already calculated reflection, transmission and absorption profile - not recalculating. Set recalculate_absorption to True in the options if you want absorption to be calculated again.\n",
      "Solving IV of the junctions...\n",
      "Solving IV of the tunnel junctions...\n",
      "Solving IV of the total solar cell...\n",
      "Solving optics of the solar cell...\n",
      "Already calculated reflection, transmission and absorption profile - not recalculating. Set recalculate_absorption to True in the options if you want absorption to be calculated again.\n",
      "Solving IV of the junctions...\n",
      "Solving IV of the tunnel junctions...\n",
      "Solving IV of the total solar cell...\n",
      "Solving optics of the solar cell...\n",
      "Already calculated reflection, transmission and absorption profile - not recalculating. Set recalculate_absorption to True in the options if you want absorption to be calculated again.\n",
      "Solving IV of the junctions...\n",
      "Solving IV of the tunnel junctions...\n",
      "Solving IV of the total solar cell...\n",
      "Solving optics of the solar cell...\n",
      "Already calculated reflection, transmission and absorption profile - not recalculating. Set recalculate_absorption to True in the options if you want absorption to be calculated again.\n",
      "Solving IV of the junctions...\n",
      "Solving IV of the tunnel junctions...\n",
      "Solving IV of the total solar cell...\n",
      "Solving optics of the solar cell...\n",
      "Already calculated reflection, transmission and absorption profile - not recalculating. Set recalculate_absorption to True in the options if you want absorption to be calculated again.\n",
      "Solving IV of the junctions...\n",
      "Solving IV of the tunnel junctions...\n",
      "Solving IV of the total solar cell...\n",
      "Solving optics of the solar cell...\n",
      "Already calculated reflection, transmission and absorption profile - not recalculating. Set recalculate_absorption to True in the options if you want absorption to be calculated again.\n",
      "Solving IV of the junctions...\n",
      "Solving IV of the tunnel junctions...\n",
      "Solving IV of the total solar cell...\n",
      "Solving optics of the solar cell...\n",
      "Already calculated reflection, transmission and absorption profile - not recalculating. Set recalculate_absorption to True in the options if you want absorption to be calculated again.\n",
      "Solving IV of the junctions...\n",
      "Solving IV of the tunnel junctions...\n",
      "Solving IV of the total solar cell...\n",
      "Solving optics of the solar cell...\n",
      "Already calculated reflection, transmission and absorption profile - not recalculating. Set recalculate_absorption to True in the options if you want absorption to be calculated again.\n",
      "Solving IV of the junctions...\n",
      "Solving IV of the tunnel junctions...\n",
      "Solving IV of the total solar cell...\n"
     ]
    }
   ],
   "source": [
    "for i1, conc in enumerate(concentration):\n",
    "\n",
    "    # We make a light source with the concentration being considered. We also use AM1.5D (direct only) rather than AM1.5G\n",
    "    # (direct + diffuse):\n",
    "    light_conc = LightSource(source_type='standard', x=wl, version='AM1.5d', concentration=conc)\n",
    "\n",
    "    solar_cell_solver(solar_cell, 'iv', user_options={'voltages': V, 'light_iv': True,\n",
    "                                                      'wavelength': wl, 'mpp': True,\n",
    "                                                      'light_source': light_conc})\n",
    "\n",
    "    # Save the calculated values in the arrays:\n",
    "    Effs[i1] = solar_cell.iv[\"Eta\"] * 100\n",
    "    Vocs[i1] = solar_cell.iv[\"Voc\"]\n",
    "    Iscs[i1] = solar_cell.iv[\"Isc\"]\n"
   ],
   "metadata": {
    "collapsed": false,
    "pycharm": {
     "name": "#%%\n"
    }
   }
  },
  {
   "cell_type": "markdown",
   "source": [
    "**PLOT 3**: Efficiency, open-circuit voltage and short-circuit current at different concentrations for the 3J cell"
   ],
   "metadata": {
    "collapsed": false,
    "pycharm": {
     "name": "#%% md\n"
    }
   }
  },
  {
   "cell_type": "code",
   "execution_count": 15,
   "outputs": [
    {
     "data": {
      "text/plain": "<Figure size 720x216 with 3 Axes>",
      "image/png": "[encoded data removed]"
     },
     "metadata": {
      "needs_background": "light"
     },
     "output_type": "display_data"
    }
   ],
   "source": [
    "plt.figure(figsize=(10, 3))\n",
    "plt.subplot(131)\n",
    "plt.semilogx(concentration, Effs, '-o')\n",
    "plt.ylabel('Efficiency (%)')\n",
    "plt.xlabel('Concentration')\n",
    "plt.title(\"(3) Efficiency, V$_{oc}$ and J$_{sc}$ vs. concentration for 3J cell\")\n",
    "\n",
    "plt.subplot(132)\n",
    "plt.semilogx(concentration, Vocs, '-o')\n",
    "plt.ylabel(r'V$_{OC}$ (V)')\n",
    "plt.xlabel('Concentration')\n",
    "\n",
    "plt.subplot(133)\n",
    "plt.plot(concentration, Iscs / 10000, '-o')\n",
    "plt.ylabel(r'J$_{SC}$ (A/cm$^2$)')\n",
    "plt.xlabel('Concentration')\n",
    "plt.tight_layout()\n",
    "plt.show()"
   ],
   "metadata": {
    "collapsed": false,
    "pycharm": {
     "name": "#%%\n"
    }
   }
  }
 ],
 "metadata": {
  "kernelspec": {
   "display_name": "Python 3",
   "language": "python",
   "name": "python3"
  },
  "language_info": {
   "codemirror_mode": {
    "name": "ipython",
    "version": 3
   },
   "file_extension": ".py",
   "mimetype": "text/x-python",
   "name": "python",
   "nbconvert_exporter": "python",
   "pygments_lexer": "ipython3",
   "version": "3.9.12"
  }
 },
 "nbformat": 4,
 "nbformat_minor": 0
}