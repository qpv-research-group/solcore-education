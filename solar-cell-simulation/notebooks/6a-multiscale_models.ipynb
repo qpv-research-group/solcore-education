{
 "cells": [
  {
   "cell_type": "markdown",
   "metadata": {
    "collapsed": true,
    "pycharm": {
     "name": "#%% md\n"
    }
   },
   "source": [
    "# Example 6a: Silicon HIT cell\n",
    "\n",
    "In [Example 4a](4a-textured_Si_cell.ipynb), we looked at a solar cell made of a single layer of Si with pyramidal texturing. In reality, a\n",
    "solar cell will have a more complicated structure with thin layers deposited on the front side to act as e.g. selective\n",
    "transport layers for carriers. This adds a layer of complication to the ray-tracing process, because we can no longer\n",
    "rely on the Fresnel equations to calculate the angle and wavelength-dependent reflection and transmission probabilities;\n",
    "we might get absorption in the surface layers, and we need to take into account interference in the surface layers.\n",
    "To do this, we can combine ray-tracing and the transfer-matrix method; we can calculate the reflection, absorption and\n",
    "transmission probabilities using TMM, and use those probabilities in our ray-tracing calculations. In RayFlare, this\n",
    "functionality is implemented as part of the angular redistribution matrix functionality.\n",
    "\n",
    "This example is (loosely) based on the simulations done for [this paper](https://doi.org/10.1016/j.solmat.2019.110051) which looks at the absorptivity/emissivity of silicon\n",
    "heterojunction (HJT or HIT) cells, although here we will only look at the usual wavelengths for the photovoltaic operation of silicon solar cells rather than the infrared."
   ]
  },
  {
   "cell_type": "code",
   "execution_count": 16,
   "metadata": {
    "pycharm": {
     "name": "#%%\n"
    }
   },
   "outputs": [],
   "source": [
    "from solcore import material, si\n",
    "from solcore.light_source import LightSource\n",
    "from solcore.constants import q\n",
    "from solcore.solar_cell import SolarCell, Layer, Junction\n",
    "from solcore.solar_cell_solver import default_options as defaults_solcore, solar_cell_solver\n",
    "\n",
    "from rayflare.textures import regular_pyramids\n",
    "from rayflare.structure import Interface, BulkLayer, Structure\n",
    "from rayflare.matrix_formalism import calculate_RAT, process_structure\n",
    "from rayflare.options import default_options\n",
    "from rayflare.utilities import make_absorption_function\n",
    "\n",
    "import numpy as np\n",
    "import os\n",
    "import matplotlib.pyplot as plt\n",
    "import seaborn as sns\n",
    "from scipy.ndimage.filters import gaussian_filter1d\n",
    "\n",
    "from cycler import cycler"
   ]
  },
  {
   "cell_type": "markdown",
   "metadata": {
    "collapsed": false,
    "pycharm": {
     "name": "#%% md\n"
    }
   },
   "source": [
    "## Setting up\n",
    "\n",
    "We add some new materials to Solcore's database from data files - you only need to add these once, after that you can comment these lines out."
   ]
  },
  {
   "cell_type": "code",
   "execution_count": 1,
   "metadata": {
    "pycharm": {
     "name": "#%%\n"
    }
   },
   "outputs": [
    {
     "ename": "SyntaxError",
     "evalue": "invalid syntax (2638323969.py, line 3)",
     "output_type": "error",
     "traceback": [
      "\u001B[0;36m  Input \u001B[0;32mIn [1]\u001B[0;36m\u001B[0m\n\u001B[0;31m    create_new_material('aSi_i', os.path.join(\"data\", model_i_a_silicon_n.txt', 'data/model_i_a_silicon_k.txt')\u001B[0m\n\u001B[0m                                                                             ^\u001B[0m\n\u001B[0;31mSyntaxError\u001B[0m\u001B[0;31m:\u001B[0m invalid syntax\n"
     ]
    }
   ],
   "source": [
    "from solcore.material_system import create_new_material\n",
    "\n",
    "create_new_material('aSi_i', os.path.join(\"data\", \"model_i_a_silicon_n.txt\"),\n",
    "                    os.path.join(\"data\", \"model_i_a_silicon_k.txt\"))\n",
    "create_new_material('ITO_measured', os.path.join(\"data\", \"front_ITO_n.txt\"),\n",
    "                    os.path.join(\"data\", \"front_ITO_k.txt\"))"
   ]
  },
  {
   "cell_type": "markdown",
   "metadata": {
    "collapsed": false,
    "pycharm": {
     "name": "#%% md\n"
    }
   },
   "source": [
    "Setting user options. Several of these (wavelength, number of rays, `nx`, `ny`) have been encountered in previous examples. However, because we are using the angular redistribution matrix method for the first time, there are some new ones. Please see RayFlare's [documentation](https://rayflare.readthedocs.io/en/latest/Options/user_options.html) for more detailed information.\n",
    "\n",
    "- `project_name`: When we run the simulation, we will generate large matrices which will eventually be multiplied together. These have to be stored somewhere. This is the name of the folder where they will be stored.\n",
    "- `n_theta_bins`: The number of polar angle bins to divide the hemisphere into when calculating the redistribution matrices.\n",
    "- `I_thresh`: Threshold intensity at which to stop matrix multiplication (i.e. when almost all the light has been reflected, transmitted or absorbed)\n",
    "- `bulk_profile`: True or False; whether to calculate the absorption profile in the bulk material (Si in this case)."
   ]
  },
  {
   "cell_type": "code",
   "execution_count": 18,
   "metadata": {
    "pycharm": {
     "name": "#%%\n"
    }
   },
   "outputs": [],
   "source": [
    "wavelengths = np.linspace(300, 1200, 80)*1e-9\n",
    "\n",
    "options = default_options()\n",
    "options.wavelengths = wavelengths\n",
    "options.project_name = 'HIT_example'\n",
    "options.n_rays = 10000 # Reduce this (or the number of wavelengths) to speed up the example! Note that this is the TOTAL number of rays (all angle bins) per wavelength\n",
    "options.n_theta_bins = 20\n",
    "options.nx = 5\n",
    "options.ny = 5\n",
    "options.I_thresh = 0.005\n",
    "options.bulk_profile = True"
   ]
  },
  {
   "cell_type": "markdown",
   "metadata": {
    "collapsed": false,
    "pycharm": {
     "name": "#%% md\n"
    }
   },
   "source": [
    "We now define the materials and layer structures for the front and rear surfaces. In this case, the front and rear layers are the materials which will be deposited on top of the pyramids (amorphous silicon and ITO); the crystalline silicon itself will be the bulk material which connects the two interfaces."
   ]
  },
  {
   "cell_type": "code",
   "execution_count": 19,
   "metadata": {
    "pycharm": {
     "name": "#%%\n"
    }
   },
   "outputs": [],
   "source": [
    "Si = material('Si')()\n",
    "Air = material('Air')()\n",
    "ITO = material('ITO_measured')()\n",
    "\n",
    "Ag = material('Ag')()\n",
    "aSi = material('aSi_i')()\n",
    "\n",
    "front_materials = [Layer(80e-9, ITO), Layer(13e-9, aSi)]\n",
    "back_materials = [Layer(13e-9, aSi), Layer(240e-9, ITO)]"
   ]
  },
  {
   "cell_type": "markdown",
   "metadata": {
    "collapsed": false,
    "pycharm": {
     "name": "#%% md\n"
    }
   },
   "source": [
    "Now we define the front and rear surfaces using the `Interface` class. Whether pyramids are upright or inverted is relative to front incidence, so if the same etch is applied to both sides of a slab of silicon, one surface will have 'upright' pyramids and the other side will have 'not upright' (inverted) pyramids in the model. The arguments required for `Interface` depend on the optical method which is being used; in this case, we must provide the surface texture, layer stack, and whether the layers are to be treated coherently (i.e. affected by thin-film interference). We also have to give the surfaces a name; as with the project name, this is to store the matrices which will be calculated."
   ]
  },
  {
   "cell_type": "code",
   "execution_count": 20,
   "metadata": {
    "pycharm": {
     "name": "#%%\n"
    }
   },
   "outputs": [],
   "source": [
    "surf = regular_pyramids(elevation_angle=55, upright=True) # elevation angle is relative to horizontal plane\n",
    "surf_back = regular_pyramids(elevation_angle=55, upright=False)\n",
    "\n",
    "front_surf = Interface('RT_TMM', texture=surf, layers=front_materials, name='HIT_front', coherent=True)\n",
    "back_surf = Interface('RT_TMM', texture=surf_back, layers=back_materials, name='HIT_back', coherent=True)\n",
    "\n",
    "bulk_Si = BulkLayer(170e-6, Si, name='Si_bulk') # bulk thickness in m"
   ]
  },
  {
   "cell_type": "markdown",
   "metadata": {
    "collapsed": false,
    "pycharm": {
     "name": "#%% md\n"
    }
   },
   "source": [
    "Finally, we build the whole structure inside RayFlare's `Structure` class, also specifying the incidence medium (above the cell) and the transmission medium (below the cell)."
   ]
  },
  {
   "cell_type": "code",
   "execution_count": 21,
   "metadata": {
    "pycharm": {
     "name": "#%%\n"
    }
   },
   "outputs": [],
   "source": [
    "SC = Structure([front_surf, bulk_Si, back_surf], incidence=Air, transmission=Ag)"
   ]
  },
  {
   "cell_type": "markdown",
   "metadata": {
    "collapsed": false,
    "pycharm": {
     "name": "#%% md\n"
    }
   },
   "source": [
    "## Generating results\n",
    "\n",
    "Now we are ready to start running calculations. This happens in two phases:\n",
    "\n",
    "1. Call `process_structure` to check each surface in the structure, and generate angular redistribution matrices (if it does not find existing ones)\n",
    "2. Call `calculate_rat` to run the matrix multiplication and generate reflection, transmission and absorption results"
   ]
  },
  {
   "cell_type": "code",
   "execution_count": 22,
   "metadata": {
    "pycharm": {
     "name": "#%%\n"
    }
   },
   "outputs": [
    {
     "name": "stdout",
     "output_type": "stream",
     "text": [
      "Making lookuptable for element 0 in structure\n",
      "Making lookuptable for element 2 in structure\n",
      "Ray tracing with TMM lookup table for element 0 in structure\n",
      "Calculating matrix only for incidence theta/phi\n",
      "Ray tracing with TMM lookup table for element 2 in structure\n",
      "After iteration 1 : maximum power fraction remaining = 0.5629448135186488\n",
      "After iteration 2 : maximum power fraction remaining = 0.3425270607560974\n",
      "After iteration 3 : maximum power fraction remaining = 0.20990358983841642\n",
      "After iteration 4 : maximum power fraction remaining = 0.12862942930538473\n",
      "After iteration 5 : maximum power fraction remaining = 0.0788271578176077\n",
      "After iteration 6 : maximum power fraction remaining = 0.04832164906096151\n",
      "After iteration 7 : maximum power fraction remaining = 0.029625034965812196\n",
      "After iteration 8 : maximum power fraction remaining = 0.018162348111822744\n",
      "After iteration 9 : maximum power fraction remaining = 0.011134523091393584\n",
      "After iteration 10 : maximum power fraction remaining = 0.006826006659534447\n",
      "After iteration 11 : maximum power fraction remaining = 0.004184675817775243\n"
     ]
    }
   ],
   "source": [
    "process_structure(SC, options, save_location=\"current\")\n",
    "# save_location = current means that the folder with the redistribution matrix will be created in the current working directory. By default, it is saved in a folder called\n",
    "# RayFlare_results in your home directory (~).\n",
    "results = calculate_RAT(SC, options, save_location=\"current\")"
   ]
  },
  {
   "cell_type": "markdown",
   "metadata": {
    "collapsed": false,
    "pycharm": {
     "name": "#%% md\n"
    }
   },
   "source": [
    "The structure of the results returned by calculate_RAT is quite complicated; it is explained on [this page](https://rayflare.readthedocs.io/en/latest/Matrix/matrix_method.html)."
   ]
  },
  {
   "cell_type": "code",
   "execution_count": 23,
   "metadata": {
    "pycharm": {
     "name": "#%%\n"
    }
   },
   "outputs": [],
   "source": [
    "RAT = results[0]\n",
    "results_per_pass = results[1]\n",
    "\n",
    "R_per_pass = np.sum(results_per_pass['r'][0], axis=2)\n",
    "R_0 = R_per_pass[0]\n",
    "R_escape = np.sum(R_per_pass[1:, :], axis=0)\n",
    "\n",
    "# results_per_pass: sum over passes to get overall absorption in each layer.\n",
    "results_per_layer_front = np.sum(results_per_pass['a'][0], axis=0)\n",
    "\n",
    "results_per_layer_back = np.sum(results_per_pass['a'][1], axis=0)"
   ]
  },
  {
   "cell_type": "markdown",
   "metadata": {
    "collapsed": false,
    "pycharm": {
     "name": "#%% md\n"
    }
   },
   "source": [
    "To get the maximum current we could achieve based on these optical results, we calculate the photogenerated current using the AM1.5G spectrum."
   ]
  },
  {
   "cell_type": "code",
   "execution_count": 24,
   "metadata": {
    "pycharm": {
     "name": "#%%\n"
    }
   },
   "outputs": [
    {
     "name": "stdout",
     "output_type": "stream",
     "text": [
      "Photogenerated current in Si = 37.5 mA/cm2\n"
     ]
    }
   ],
   "source": [
    "spectr_flux = LightSource(source_type='standard', version='AM1.5g', x=wavelengths,\n",
    "                           output_units='photon_flux_per_m', concentration=1).spectrum(wavelengths)[1]\n",
    "\n",
    "Jph_Si = q * np.trapz(RAT['A_bulk'][0] * spectr_flux, wavelengths)/10 # mA/cm2\n",
    "\n",
    "print(\"Photogenerated current in Si = %.1f mA/cm2\" % Jph_Si)"
   ]
  },
  {
   "cell_type": "markdown",
   "metadata": {
    "collapsed": false,
    "pycharm": {
     "name": "#%% md\n"
    }
   },
   "source": [
    "## Plotting\n",
    "\n",
    "Now, we plot where all incident light goes: reflection, absorption in each layer, and transmission into the substrate in the simulation. Note that we set the substrate as Ag for the simulation; although in the actual device the Ag is not infinitely thick, in practice it is thick enough that all light which enters the Ag will be absorbed there so we can treat is as the final material.\n",
    "\n",
    "**PLOT 1**: Reflection and absorption in the Si HIT cell"
   ]
  },
  {
   "cell_type": "code",
   "execution_count": 25,
   "metadata": {
    "pycharm": {
     "name": "#%%\n"
    }
   },
   "outputs": [
    {
     "data": {
      "text/plain": "<Figure size 432x288 with 1 Axes>",
      "image/png": "[encoded data removed]"
     },
     "metadata": {
      "needs_background": "light"
     },
     "output_type": "display_data"
    }
   ],
   "source": [
    "# Stack results for plotting\n",
    "allres = np.hstack((RAT['T'].T, results_per_layer_back,\n",
    "                    RAT['A_bulk'].T, results_per_layer_front)).T\n",
    "\n",
    "# Create colors for plotting\n",
    "pal = sns.cubehelix_palette(allres.shape[0] + 1, start=.5, rot=-.9)\n",
    "pal.reverse()\n",
    "\n",
    "# Update default colours used by matplotlib\n",
    "cols = cycler('color', pal)\n",
    "params = {'axes.prop_cycle': cols}\n",
    "plt.rcParams.update(params)\n",
    "\n",
    "# plot total R, A, T\n",
    "fig = plt.figure(figsize=(6,4))\n",
    "ax = plt.subplot(111)\n",
    "ax.plot(options['wavelengths']*1e9, R_escape + R_0, '-k', label=r'$R_{total}$')\n",
    "ax.plot(options['wavelengths']*1e9, R_0, '--k', label=r'$R_0$')\n",
    "ax.stackplot(options['wavelengths']*1e9, allres,\n",
    "             labels=['Ag (transmitted)', 'Back ITO', 'a-Si (back)', 'Bulk Si',\n",
    "                     'a-Si (front)', 'Front ITO'\n",
    "                     ])\n",
    "ax.set_xlabel(r'Wavelength ($\\mu$m)')\n",
    "ax.set_ylabel('Absorption/Emissivity')\n",
    "ax.set_xlim(min(options['wavelengths']*1e9), max(options['wavelengths']*1e9))\n",
    "ax.set_ylim(0, 1)\n",
    "plt.legend(loc='center left', bbox_to_anchor=(1, 0.5))\n",
    "plt.tight_layout()\n",
    "plt.show()"
   ]
  },
  {
   "cell_type": "markdown",
   "metadata": {
    "collapsed": false,
    "pycharm": {
     "name": "#%% md\n"
    }
   },
   "source": [
    "We see that over this wavelength range, most of the absorption happens in the bulk Si, as expected. However, at short wavelengths we see significant absorption in the front surface layers, and at long wavelengths we see absorption in the back layers and Ag. We have plotted both the total reflection $R_{total}$ and $R_0$, which is the light which is lost due to initial reflection at the front surface. Up to around 1000 nm, these lines coincide (total reflection is entirely due to initial front surface reflection). At longer wavelengths, we see that $R_0$ is lower than $R_{total}$, as now a significant fraction of the total reflection is from light which enters the cell, makes at least one full forward and backward pass, and then leaves the cell through the front surface. This becomes significant close to the bandgap as the Si becomes transparent.\n",
    "\n",
    "In the plot above we see stochastic noise due to the ray-tracing simulation; we could increase the number of rays to reduce this, which also increases the computation time. Below, we re-plot the same data with some smoothing.\n",
    "\n",
    "**PLOT 2**: Reflection and absorption in the Si HIT cell, with smoothed data"
   ]
  },
  {
   "cell_type": "code",
   "execution_count": 26,
   "metadata": {
    "pycharm": {
     "name": "#%%\n"
    }
   },
   "outputs": [
    {
     "data": {
      "text/plain": "<Figure size 432x288 with 1 Axes>",
      "image/png": "[encoded data removed]"
     },
     "metadata": {
      "needs_background": "light"
     },
     "output_type": "display_data"
    }
   ],
   "source": [
    "ysmoothed = gaussian_filter1d(np.vstack((allres, RAT[\"R\"])), sigma=2, axis=1)\n",
    "\n",
    "# plot total R, A, T - smoothed\n",
    "fig = plt.figure(figsize=(6,4))\n",
    "ax = plt.subplot(111)\n",
    "ax.stackplot(options['wavelengths']*1e9, ysmoothed,\n",
    "             labels=['Ag (transmitted)', 'Back ITO', 'a-Si (back)', 'Bulk Si',\n",
    "                     'a-Si (front)', 'Front ITO', 'R'\n",
    "                     ])\n",
    "ax.set_xlabel(r'Wavelength ($\\mu$m)')\n",
    "ax.set_ylabel('Absorption/Emissivity')\n",
    "ax.set_xlim(min(options['wavelengths']*1e9), max(options['wavelengths']*1e9))\n",
    "ax.set_ylim(0, 1)\n",
    "plt.legend(loc='center left', bbox_to_anchor=(1, 0.5))\n",
    "plt.tight_layout()\n",
    "plt.show()"
   ]
  },
  {
   "cell_type": "markdown",
   "metadata": {
    "collapsed": false,
    "pycharm": {
     "name": "#%% md\n"
    }
   },
   "source": [
    "## Device simulations\n",
    "\n",
    "As we did in [Example 4a](4a-textured_Si_cell.ipynb), we can now feed the results from RayFlare's optical calculation into Solcore to run electrical simulations. We generate the absorption profile function, then specify materials and layers for the solar cell structure."
   ]
  },
  {
   "cell_type": "code",
   "execution_count": 27,
   "metadata": {
    "pycharm": {
     "name": "#%%\n"
    }
   },
   "outputs": [],
   "source": [
    "profile_Si = results[3][0]\n",
    "external_R = RAT['R'][0, :]\n",
    "\n",
    "positions, absorb_fn = make_absorption_function([None, profile_Si, None], SC, options, matrix_method=True)\n",
    "\n",
    "Si_SC = material(\"Si\")\n",
    "GaAs_SC = material(\"GaAs\")\n",
    "T = 300\n",
    "\n",
    "p_material_Si = Si_SC(T=T, Na=si(1e21, \"cm-3\"), electron_diffusion_length=si(\"10um\"), hole_mobility=50e-4)\n",
    "n_material_Si = Si_SC(T=T, Nd=si(1e16, \"cm-3\"), hole_diffusion_length=si(\"290um\"), electron_mobility=400e-4)"
   ]
  },
  {
   "cell_type": "markdown",
   "metadata": {
    "collapsed": false,
    "pycharm": {
     "name": "#%% md\n"
    }
   },
   "source": [
    "As we noted in [Example 4a](4a-textured_Si_cell.ipynb), we need to specify the user options for Solcore separately (though they should of course be consistent with the options we gave RayFlare above, where relevant!). We set options, create the solar cell structure, and run QE and IV calculations:"
   ]
  },
  {
   "cell_type": "code",
   "execution_count": 28,
   "metadata": {
    "pycharm": {
     "name": "#%%\n"
    }
   },
   "outputs": [
    {
     "name": "stdout",
     "output_type": "stream",
     "text": [
      "Solving optics of the solar cell...\n",
      "Solving QE of the solar cell...\n",
      "Solving optics of the solar cell...\n",
      "Already calculated reflection, transmission and absorption profile - not recalculating. Set recalculate_absorption to True in the options if you want absorption to be calculated again.\n",
      "Solving IV of the junctions...\n",
      "Solving IV of the tunnel junctions...\n",
      "Solving IV of the total solar cell...\n"
     ]
    }
   ],
   "source": [
    "#| output: false\n",
    "\n",
    "options_sc = defaults_solcore\n",
    "options_sc.optics_method = \"external\"\n",
    "options_sc.position = positions\n",
    "options_sc.light_iv = True\n",
    "options_sc.wavelength = wavelengths\n",
    "options_sc.mpp = True\n",
    "options_sc.theta = options.theta_in*180/np.pi\n",
    "V = np.linspace(0, 2.5, 250)\n",
    "options_sc.voltages = V\n",
    "\n",
    "solar_cell = SolarCell([Layer(80e-9, ITO),\n",
    "                   Layer(13e-9, aSi),\n",
    "                   Junction([Layer(500e-9, p_material_Si, role=\"emitter\"),\n",
    "                             Layer(bulk_Si.width-500e-9, n_material_Si, role=\"base\")], kind=\"DA\"),\n",
    "                   Layer(13e-9, aSi),\n",
    "                   Layer(240e-9, ITO)],\n",
    "                  external_reflected = external_R,\n",
    "                                       external_absorbed = absorb_fn)\n",
    "\n",
    "\n",
    "\n",
    "solar_cell_solver(solar_cell, 'qe', options_sc)\n",
    "solar_cell_solver(solar_cell, 'iv', options_sc)"
   ]
  },
  {
   "cell_type": "markdown",
   "metadata": {
    "collapsed": false,
    "pycharm": {
     "name": "#%% md\n"
    }
   },
   "source": [
    "Now we can plot the results. To check things are consistent, we will plot the total absorption in Si calculated above with RayFlare, and `solar_cell.absorbed`, which is the result Solcore gives for total absorption. We also plot the EQE, which should be the same as or lower than the absorption.\n",
    "\n",
    "**PLOT 3**: Absorption in the Si and EQE."
   ]
  },
  {
   "cell_type": "code",
   "execution_count": 29,
   "metadata": {
    "pycharm": {
     "name": "#%%\n"
    }
   },
   "outputs": [
    {
     "data": {
      "text/plain": "<Figure size 432x288 with 1 Axes>",
      "image/png": "[encoded data removed]"
     },
     "metadata": {
      "needs_background": "light"
     },
     "output_type": "display_data"
    }
   ],
   "source": [
    "plt.figure()\n",
    "plt.plot(options['wavelengths']*1e9, RAT[\"A_bulk\"][0], 'r-')\n",
    "plt.plot(wavelengths*1e9, solar_cell.absorbed, 'k--', label='Absorbed (integrated)')\n",
    "plt.plot(wavelengths*1e9, solar_cell[2].eqe(wavelengths), 'b-', label='Si EQE')\n",
    "plt.ylim(0,1)\n",
    "plt.legend()\n",
    "plt.xlabel('Wavelength (nm)')\n",
    "plt.ylabel('R/A')\n",
    "plt.show()"
   ]
  },
  {
   "cell_type": "markdown",
   "metadata": {
    "collapsed": false,
    "pycharm": {
     "name": "#%% md\n"
    }
   },
   "source": [
    "**PLOT 4**: Current-voltage behaviour of the Si cell under illumination"
   ]
  },
  {
   "cell_type": "code",
   "execution_count": 30,
   "metadata": {
    "pycharm": {
     "name": "#%%\n"
    }
   },
   "outputs": [
    {
     "data": {
      "text/plain": "<Figure size 432x288 with 1 Axes>",
      "image/png": "[encoded data removed]"
     },
     "metadata": {
      "needs_background": "light"
     },
     "output_type": "display_data"
    }
   ],
   "source": [
    "plt.figure()\n",
    "plt.plot(V, solar_cell.iv['IV'][1], '-k')\n",
    "plt.ylim(-20, 380)\n",
    "plt.xlim(0, 0.85)\n",
    "plt.ylabel('Current (A/m$^2$)')\n",
    "plt.xlabel('Voltage (V)')\n",
    "plt.show()"
   ]
  },
  {
   "cell_type": "markdown",
   "metadata": {
    "collapsed": false,
    "pycharm": {
     "name": "#%% md\n"
    }
   },
   "source": []
  }
 ],
 "metadata": {
  "kernelspec": {
   "display_name": "Python 3",
   "language": "python",
   "name": "python3"
  },
  "language_info": {
   "codemirror_mode": {
    "name": "ipython",
    "version": 2
   },
   "file_extension": ".py",
   "mimetype": "text/x-python",
   "name": "python",
   "nbconvert_exporter": "python",
   "pygments_lexer": "ipython2",
   "version": "2.7.6"
  }
 },
 "nbformat": 4,
 "nbformat_minor": 0
}