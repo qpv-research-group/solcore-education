{
 "cells": [
  {
   "cell_type": "markdown",
   "metadata": {
    "collapsed": true,
    "pycharm": {
     "name": "#%% md\n"
    }
   },
   "source": [
    "# Example 6b: Angular redistribution matrix method\n",
    "\n",
    "In [Example 6a](6a-multiscale_models.ipynb), we looked at a silicon heterojunction cell using integrated ray-tracing and TMM to calculate the optical behaviour of each surface, and using the angular redistribution matrix method (ARMM) to combine the surfaces and calculate overall reflection, transmission, absorption per layer and absorption profiles. However, ARMM is not limited to treating surfaces with ray-tracing; it is also possible to use the TMM by itself (for planar layers), RCWA (for gratings/periodic structutes)\n",
    "or ideal analytic cases (perfect mirrors and Lambertian reflectors are currently implemented) to generate the angular redistribution matrices. In this example we will replicate simulation results shown in the paper on [OPTOS](https://doi.org/10.1364/OE.23.0A1720), looking at the effect of planar surfaces, regular pyramids, and a diffraction grating on absorption in a silicon wafer."
   ]
  },
  {
   "cell_type": "code",
   "execution_count": 275,
   "outputs": [],
   "source": [
    "import numpy as np\n",
    "import os\n",
    "\n",
    "from solcore.structure import Layer\n",
    "from solcore import material, si\n",
    "\n",
    "from rayflare.structure import Interface, BulkLayer, Structure\n",
    "from rayflare.matrix_formalism import process_structure, calculate_RAT, get_savepath\n",
    "from rayflare.transfer_matrix_method import tmm_structure\n",
    "from rayflare.angles import theta_summary, make_angle_vector\n",
    "from rayflare.textures import regular_pyramids\n",
    "from rayflare.options import default_options\n",
    "\n",
    "import matplotlib.pyplot as plt\n",
    "from sparse import load_npz\n",
    "import seaborn as sns\n",
    "import matplotlib as mpl"
   ],
   "metadata": {
    "collapsed": false,
    "pycharm": {
     "name": "#%%\n"
    }
   }
  },
  {
   "cell_type": "markdown",
   "source": [
    "## Setting up\n",
    "\n",
    "We have encountered most of these options in the previous examples. Previously, we have mostly simulated optical behaviour for light at normal incidence but in this case, to match the results from the OPTOS paper, we will look at an incidence angle of 8$^\\circ$. Other relevant options are `c_azimuth`, which controls how fine the spacing of the angular bins in the azimuthal directions is, and `pol`, the polarization of the incident light."
   ],
   "metadata": {
    "collapsed": false,
    "pycharm": {
     "name": "#%% md\n"
    }
   }
  },
  {
   "cell_type": "code",
   "execution_count": 276,
   "outputs": [],
   "source": [
    "angle_degrees_in = 8\n",
    "\n",
    "wavelengths = np.linspace(900, 1180, 30)*1e-9\n",
    "\n",
    "Si = material('Si')()\n",
    "Air = material('Air')()\n",
    "\n",
    "options = default_options()\n",
    "options.wavelengths = wavelengths\n",
    "options.theta_in = angle_degrees_in*np.pi/180\n",
    "options.n_theta_bins = 50\n",
    "options.c_azimuth = 0.25\n",
    "options.n_rays = 200000 # increase to reduce noise, decrease for faster execution\n",
    "options.project_name = 'compare_surfaces'\n",
    "options.phi_symmetry = np.pi/2\n",
    "options.I_thresh = 0.005\n",
    "options.nx = 5\n",
    "options.ny = 5\n",
    "options.bulk_profile = False"
   ],
   "metadata": {
    "collapsed": false,
    "pycharm": {
     "name": "#%%\n"
    }
   }
  },
  {
   "cell_type": "markdown",
   "source": [
    "## Structures and Interfaces\n",
    "\n",
    "We will consider three structures:\n",
    "\n",
    "1. Planar front, crossed grating (Si/air) at rear\n",
    "2. Regular pyramids on the front, planar rear\n",
    "3. Regular pyramids on the front, crossed grating at rear.\n",
    "\n",
    "This means we have four different surfaces to consider across all structures:\n",
    "a. Planar front\n",
    "b. Pyramidal front\n",
    "c. Planar rear\n",
    "d. Grating rear\n",
    "\n",
    "For structure 1 (a + d), we define the grating (surface d) in the same we would if using `rcwa_structure` ([Example 5a](5a-ultrathin_GaAs_cell.ipynb)). The grating period in this case is 1000 nm with a feature height of 120 nm."
   ],
   "metadata": {
    "collapsed": false,
    "pycharm": {
     "name": "#%% md\n"
    }
   }
  },
  {
   "cell_type": "code",
   "execution_count": 277,
   "outputs": [],
   "source": [
    "x = 1000\n",
    "\n",
    "d_vectors = ((x, 0),(0,x))\n",
    "area_fill_factor = 0.36\n",
    "hw = np.sqrt(area_fill_factor)*500\n",
    "\n",
    "front_materials = []\n",
    "back_materials = [Layer(si('120nm'), Si, geometry=[{'type': 'rectangle', 'mat': Air, 'center': (x/2, x/2),\n",
    "                                                     'halfwidths': (hw, hw), 'angle': 45}])]"
   ],
   "metadata": {
    "collapsed": false,
    "pycharm": {
     "name": "#%%\n"
    }
   }
  },
  {
   "cell_type": "markdown",
   "source": [
    "Create the texture for the pyramidal front surface (b):"
   ],
   "metadata": {
    "collapsed": false,
    "pycharm": {
     "name": "#%% md\n"
    }
   }
  },
  {
   "cell_type": "code",
   "execution_count": 278,
   "outputs": [],
   "source": [
    "surf = regular_pyramids(elevation_angle=55, upright=False)"
   ],
   "metadata": {
    "collapsed": false,
    "pycharm": {
     "name": "#%%\n"
    }
   }
  },
  {
   "cell_type": "markdown",
   "source": [
    "Now we define the four `Interface`s we need for the three `Structure`s; using the numbering above, that is:\n",
    "\n",
    "- Structure 1 = a + d\n",
    "- Structure 2 = b + c\n",
    "- Structure 3 = b + d\n",
    "\n",
    "For each Interface, we have to specify the method we want to use, a name, the surface layers (or lack therof). For the RT (ray-tracing) surfaces, we need to specify the `texture` and for the RCWA surfaces we need to specify the unit cell lattice vectors `d_vectors` and the number of `rcwa_orders` to use. We also define the bulk, 200 $\\mu$m of Si."
   ],
   "metadata": {
    "collapsed": false,
    "pycharm": {
     "name": "#%% md\n"
    }
   }
  },
  {
   "cell_type": "code",
   "execution_count": 279,
   "outputs": [],
   "source": [
    "front_surf_pyramids = Interface('RT_Fresnel', texture=surf, layers=[],\n",
    "                                name = 'inv_pyramids_front_' + str(options['n_rays']))\n",
    "front_surf_planar = Interface('TMM', layers=[], name='planar_front')\n",
    "back_surf_grating = Interface('RCWA', layers=back_materials, name='crossed_grating_back',\n",
    "                              d_vectors=d_vectors, rcwa_orders=15) # increase orders for betting convergence (calculation takes longer!)\n",
    "back_surf_planar = Interface('TMM', layers=[], name = 'planar_back')\n",
    "\n",
    "bulk_Si = BulkLayer(200e-6, Si, name = 'Si_bulk') # bulk thickness in m"
   ],
   "metadata": {
    "collapsed": false,
    "pycharm": {
     "name": "#%%\n"
    }
   }
  },
  {
   "cell_type": "markdown",
   "source": [
    "Now we define the three structures listed above. For reference, we also define a fully planar structure (a + c)."
   ],
   "metadata": {
    "collapsed": false,
    "pycharm": {
     "name": "#%% md\n"
    }
   }
  },
  {
   "cell_type": "code",
   "execution_count": 280,
   "outputs": [],
   "source": [
    "SC_fig6 = Structure([front_surf_planar, bulk_Si, back_surf_grating], incidence=Air, transmission=Air)\n",
    "SC_fig7 = Structure([front_surf_pyramids, bulk_Si, back_surf_planar], incidence=Air, transmission=Air)\n",
    "SC_fig8 = Structure([front_surf_pyramids, bulk_Si, back_surf_grating], incidence=Air, transmission=Air)\n",
    "planar = Structure([front_surf_planar, bulk_Si, back_surf_planar], incidence=Air, transmission=Air)"
   ],
   "metadata": {
    "collapsed": false,
    "pycharm": {
     "name": "#%%\n"
    }
   }
  },
  {
   "cell_type": "markdown",
   "source": [
    "Now, as in [Example 6a](6a-multiscale_models.ipynb), we process the structures (to generate the matrices) and then use `calculate_rat` to obtain the final results. Note that it is not necessary to call `process_structure` for the planar structure, because the redistribution matrices for both of its interfaces will have already been calculated when considering structures 1 and 2."
   ],
   "metadata": {
    "collapsed": false,
    "pycharm": {
     "name": "#%% md\n"
    }
   }
  },
  {
   "cell_type": "code",
   "execution_count": 281,
   "outputs": [
    {
     "name": "stdout",
     "output_type": "stream",
     "text": [
      "Making matrix for planar surface using TMM for element 0 in structure\n",
      "Existing angular redistribution matrices found\n",
      "Existing angular redistribution matrices found\n",
      "RCWA calculation for element 2 in structure\n",
      "Existing angular redistribution matrices found\n",
      "Ray tracing with Fresnel equations for element 0 in structure\n",
      "Existing angular redistribution matrices found\n",
      "Existing angular redistribution matrices found\n",
      "Making matrix for planar surface using TMM for element 2 in structure\n",
      "Existing angular redistribution matrices found\n",
      "Ray tracing with Fresnel equations for element 0 in structure\n",
      "Existing angular redistribution matrices found\n",
      "Existing angular redistribution matrices found\n",
      "RCWA calculation for element 2 in structure\n",
      "Existing angular redistribution matrices found\n",
      "b\n",
      "After iteration 1 : maximum power fraction remaining = 0.3047168563382379\n",
      "After iteration 2 : maximum power fraction remaining = 0.265018080742631\n",
      "After iteration 3 : maximum power fraction remaining = 0.23964061503063333\n",
      "After iteration 4 : maximum power fraction remaining = 0.21778799376070784\n",
      "After iteration 5 : maximum power fraction remaining = 0.198548852164535\n",
      "After iteration 6 : maximum power fraction remaining = 0.1815655368417997\n",
      "After iteration 7 : maximum power fraction remaining = 0.16656587233769252\n",
      "After iteration 8 : maximum power fraction remaining = 0.15330390058740168\n",
      "After iteration 9 : maximum power fraction remaining = 0.14155289025810197\n",
      "After iteration 10 : maximum power fraction remaining = 0.13111102255914306\n",
      "After iteration 11 : maximum power fraction remaining = 0.12180305253177098\n",
      "After iteration 12 : maximum power fraction remaining = 0.11347865388608847\n",
      "After iteration 13 : maximum power fraction remaining = 0.10600949089123371\n",
      "After iteration 14 : maximum power fraction remaining = 0.09928609265899983\n",
      "After iteration 15 : maximum power fraction remaining = 0.0932149513027591\n",
      "After iteration 16 : maximum power fraction remaining = 0.08771598403580888\n",
      "After iteration 17 : maximum power fraction remaining = 0.08272038279110597\n",
      "After iteration 18 : maximum power fraction remaining = 0.07816882404307882\n",
      "After iteration 19 : maximum power fraction remaining = 0.07400999098480515\n",
      "After iteration 20 : maximum power fraction remaining = 0.07019935587309503\n",
      "After iteration 21 : maximum power fraction remaining = 0.06669817426226252\n",
      "After iteration 22 : maximum power fraction remaining = 0.06347265006116595\n",
      "After iteration 23 : maximum power fraction remaining = 0.06049323807219871\n",
      "After iteration 24 : maximum power fraction remaining = 0.057734057597812485\n",
      "After iteration 25 : maximum power fraction remaining = 0.055172396401811444\n",
      "After iteration 26 : maximum power fraction remaining = 0.0527882887971715\n",
      "After iteration 27 : maximum power fraction remaining = 0.050564155078870056\n",
      "After iteration 28 : maximum power fraction remaining = 0.04848449214544239\n",
      "After iteration 29 : maximum power fraction remaining = 0.046535607152947925\n",
      "After iteration 30 : maximum power fraction remaining = 0.044705387578381446\n",
      "After iteration 31 : maximum power fraction remaining = 0.04298310225725388\n",
      "After iteration 32 : maximum power fraction remaining = 0.041359228891421816\n",
      "After iteration 33 : maximum power fraction remaining = 0.03982530426319613\n",
      "After iteration 34 : maximum power fraction remaining = 0.038373793987228656\n",
      "After iteration 35 : maximum power fraction remaining = 0.03699797911662861\n",
      "After iteration 36 : maximum power fraction remaining = 0.035691857318947626\n",
      "After iteration 37 : maximum power fraction remaining = 0.034450056669334615\n",
      "After iteration 38 : maximum power fraction remaining = 0.03326776038591245\n",
      "After iteration 39 : maximum power fraction remaining = 0.03214064106658907\n",
      "After iteration 40 : maximum power fraction remaining = 0.031064803185027565\n",
      "After iteration 41 : maximum power fraction remaining = 0.03003673277256741\n",
      "After iteration 42 : maximum power fraction remaining = 0.029053253357432952\n",
      "After iteration 43 : maximum power fraction remaining = 0.028111487356534046\n",
      "After iteration 44 : maximum power fraction remaining = 0.02720882222176768\n",
      "After iteration 45 : maximum power fraction remaining = 0.02634288073460328\n",
      "After iteration 46 : maximum power fraction remaining = 0.02551149492206052\n",
      "After iteration 47 : maximum power fraction remaining = 0.02471268313578715\n",
      "After iteration 48 : maximum power fraction remaining = 0.023944629895346067\n",
      "After iteration 49 : maximum power fraction remaining = 0.023205668148316597\n",
      "After iteration 50 : maximum power fraction remaining = 0.02249426364450063\n",
      "After iteration 51 : maximum power fraction remaining = 0.02180900116033372\n",
      "After iteration 52 : maximum power fraction remaining = 0.02114857234333154\n",
      "After iteration 53 : maximum power fraction remaining = 0.02051176497573739\n",
      "After iteration 54 : maximum power fraction remaining = 0.019897453482063756\n",
      "After iteration 55 : maximum power fraction remaining = 0.019304590527446118\n",
      "After iteration 56 : maximum power fraction remaining = 0.018732199573085563\n",
      "After iteration 57 : maximum power fraction remaining = 0.018179368271926344\n",
      "After iteration 58 : maximum power fraction remaining = 0.017645242602419342\n",
      "After iteration 59 : maximum power fraction remaining = 0.017129021651045698\n",
      "After iteration 60 : maximum power fraction remaining = 0.01662995296546084\n",
      "After iteration 61 : maximum power fraction remaining = 0.016147328409879366\n",
      "After iteration 62 : maximum power fraction remaining = 0.015680480462840325\n",
      "After iteration 63 : maximum power fraction remaining = 0.015228778904930355\n",
      "After iteration 64 : maximum power fraction remaining = 0.014791627850537224\n",
      "After iteration 65 : maximum power fraction remaining = 0.014368463083380386\n",
      "After iteration 66 : maximum power fraction remaining = 0.013958749660522695\n",
      "After iteration 67 : maximum power fraction remaining = 0.013561979753900338\n",
      "After iteration 68 : maximum power fraction remaining = 0.013177670702195861\n",
      "After iteration 69 : maximum power fraction remaining = 0.01280536324919165\n",
      "After iteration 70 : maximum power fraction remaining = 0.012444619947638411\n",
      "After iteration 71 : maximum power fraction remaining = 0.012095023710208232\n",
      "After iteration 72 : maximum power fraction remaining = 0.011756176491320467\n",
      "After iteration 73 : maximum power fraction remaining = 0.011427698085571035\n",
      "After iteration 74 : maximum power fraction remaining = 0.01110922503019684\n",
      "After iteration 75 : maximum power fraction remaining = 0.010800409600497192\n",
      "After iteration 76 : maximum power fraction remaining = 0.010500918888440219\n",
      "After iteration 77 : maximum power fraction remaining = 0.010210433955827176\n",
      "After iteration 78 : maximum power fraction remaining = 0.009928649054391885\n",
      "After iteration 79 : maximum power fraction remaining = 0.00965527090609361\n",
      "After iteration 80 : maximum power fraction remaining = 0.009390018037635306\n",
      "After iteration 81 : maximum power fraction remaining = 0.009132620163918439\n",
      "After iteration 82 : maximum power fraction remaining = 0.00888281761574256\n",
      "After iteration 83 : maximum power fraction remaining = 0.008640360807582733\n",
      "After iteration 84 : maximum power fraction remaining = 0.008405009741739428\n",
      "After iteration 85 : maximum power fraction remaining = 0.00817653354556214\n",
      "After iteration 86 : maximum power fraction remaining = 0.007954710038805756\n",
      "After iteration 87 : maximum power fraction remaining = 0.007739325328494321\n",
      "After iteration 88 : maximum power fraction remaining = 0.007530173428945172\n",
      "After iteration 89 : maximum power fraction remaining = 0.007327055904852031\n",
      "After iteration 90 : maximum power fraction remaining = 0.0071297815355427655\n",
      "After iteration 91 : maximum power fraction remaining = 0.006938165998719461\n",
      "After iteration 92 : maximum power fraction remaining = 0.006752031572158309\n",
      "After iteration 93 : maximum power fraction remaining = 0.006571206851997352\n",
      "After iteration 94 : maximum power fraction remaining = 0.006395526486373582\n",
      "After iteration 95 : maximum power fraction remaining = 0.006224830923289436\n",
      "After iteration 96 : maximum power fraction remaining = 0.006058966171694016\n",
      "After iteration 97 : maximum power fraction remaining = 0.0058977835748581595\n",
      "After iteration 98 : maximum power fraction remaining = 0.005741139595205943\n",
      "After iteration 99 : maximum power fraction remaining = 0.005588895609839776\n",
      "After iteration 100 : maximum power fraction remaining = 0.005440917716062769\n",
      "After iteration 101 : maximum power fraction remaining = 0.005297076546261659\n",
      "After iteration 102 : maximum power fraction remaining = 0.005157247091566886\n",
      "After iteration 103 : maximum power fraction remaining = 0.005021308533754363\n",
      "After iteration 104 : maximum power fraction remaining = 0.004889144084896459\n",
      "b\n",
      "After iteration 1 : maximum power fraction remaining = 0.4653555100408251\n",
      "After iteration 2 : maximum power fraction remaining = 0.28311543308328024\n",
      "After iteration 3 : maximum power fraction remaining = 0.21026450098837857\n",
      "After iteration 4 : maximum power fraction remaining = 0.15488423179706856\n",
      "After iteration 5 : maximum power fraction remaining = 0.12126427605751229\n",
      "After iteration 6 : maximum power fraction remaining = 0.09392142213697653\n",
      "After iteration 7 : maximum power fraction remaining = 0.0745795609875082\n",
      "After iteration 8 : maximum power fraction remaining = 0.0586674420389581\n",
      "After iteration 9 : maximum power fraction remaining = 0.04672149591205936\n",
      "After iteration 10 : maximum power fraction remaining = 0.037077458056870426\n",
      "After iteration 11 : maximum power fraction remaining = 0.029636664582622176\n",
      "After iteration 12 : maximum power fraction remaining = 0.023686861098266593\n",
      "After iteration 13 : maximum power fraction remaining = 0.019018463112303513\n",
      "After iteration 14 : maximum power fraction remaining = 0.01529115540494689\n",
      "After iteration 15 : maximum power fraction remaining = 0.012331142386273865\n",
      "After iteration 16 : maximum power fraction remaining = 0.009961615893856576\n",
      "After iteration 17 : maximum power fraction remaining = 0.00806287574064635\n",
      "After iteration 18 : maximum power fraction remaining = 0.006536941917250411\n",
      "After iteration 19 : maximum power fraction remaining = 0.005306060439049713\n",
      "After iteration 20 : maximum power fraction remaining = 0.004313072497769427\n",
      "b\n",
      "After iteration 1 : maximum power fraction remaining = 0.584168475630372\n",
      "After iteration 2 : maximum power fraction remaining = 0.3864281359062887\n",
      "After iteration 3 : maximum power fraction remaining = 0.2596983659570329\n",
      "After iteration 4 : maximum power fraction remaining = 0.17729345179909706\n",
      "After iteration 5 : maximum power fraction remaining = 0.12315855594911698\n",
      "After iteration 6 : maximum power fraction remaining = 0.08559918068227151\n",
      "After iteration 7 : maximum power fraction remaining = 0.059518882210550836\n",
      "After iteration 8 : maximum power fraction remaining = 0.04138321970411358\n",
      "After iteration 9 : maximum power fraction remaining = 0.028774464755090566\n",
      "After iteration 10 : maximum power fraction remaining = 0.020006544514447812\n",
      "After iteration 11 : maximum power fraction remaining = 0.013910128408544007\n",
      "After iteration 12 : maximum power fraction remaining = 0.009671212571295537\n",
      "After iteration 13 : maximum power fraction remaining = 0.006723972264247291\n",
      "After iteration 14 : maximum power fraction remaining = 0.00467483746510448\n",
      "b\n",
      "After iteration 1 : maximum power fraction remaining = 0.06655618931166996\n",
      "After iteration 2 : maximum power fraction remaining = 0.006431712754718688\n",
      "After iteration 3 : maximum power fraction remaining = 0.0006215339157339311\n"
     ]
    }
   ],
   "source": [
    "#| output: false\n",
    "\n",
    "# Process structures (step 1)\n",
    "\n",
    "process_structure(SC_fig6, options, save_location=\"current\")\n",
    "process_structure(SC_fig7, options, save_location=\"current\")\n",
    "process_structure(SC_fig8, options, save_location=\"current\")\n",
    "\n",
    "# Calculate RAT (step 2)\n",
    "\n",
    "results_fig6= calculate_RAT(SC_fig6, options, save_location=\"current\")\n",
    "results_fig7 = calculate_RAT(SC_fig7, options, save_location=\"current\")\n",
    "results_fig8 = calculate_RAT(SC_fig8, options, save_location=\"current\")\n",
    "results_planar = calculate_RAT(planar, options, save_location=\"current\")\n",
    "\n",
    "# Get RAT results\n",
    "RAT_fig6 = results_fig6[0]\n",
    "RAT_fig7 = results_fig7[0]\n",
    "RAT_fig8 = results_fig8[0]\n",
    "\n",
    "RAT_planar = results_planar[0]"
   ],
   "metadata": {
    "collapsed": false,
    "pycharm": {
     "name": "#%%\n"
    }
   }
  },
  {
   "cell_type": "markdown",
   "source": [
    "Of course, it is not necessary to use the ARMM to calculate the optics of a simple planar slab of Si; we could have done this simply with an (incoherent) TMM calculation. We will do this to compare the results:"
   ],
   "metadata": {
    "collapsed": false,
    "pycharm": {
     "name": "#%% md\n"
    }
   }
  },
  {
   "cell_type": "code",
   "execution_count": 282,
   "outputs": [],
   "source": [
    "struc = tmm_structure([Layer(si('200um'), Si)], Air, Air)\n",
    "options.coherent = False\n",
    "options.coherency_list = ['i']\n",
    "RAT = tmm_structure.calculate(struc, options)"
   ],
   "metadata": {
    "collapsed": false,
    "pycharm": {
     "name": "#%%\n"
    }
   }
  },
  {
   "cell_type": "markdown",
   "source": [
    "## Results\n",
    "\n",
    "**PLOT 1**: Absorption in Si for the four different structures."
   ],
   "metadata": {
    "collapsed": false,
    "pycharm": {
     "name": "#%% md\n"
    }
   }
  },
  {
   "cell_type": "code",
   "execution_count": 283,
   "outputs": [
    {
     "data": {
      "text/plain": "<Figure size 432x288 with 1 Axes>",
      "image/png": "[encoded data removed]"
     },
     "metadata": {
      "needs_background": "light"
     },
     "output_type": "display_data"
    }
   ],
   "source": [
    "palhf = sns.color_palette(\"hls\", 4)\n",
    "\n",
    "fig = plt.figure()\n",
    "plt.plot(wavelengths*1e9, RAT_fig6['A_bulk'][0], '-o', color=palhf[0], label='Rear grating', fillstyle='none')\n",
    "plt.plot(wavelengths*1e9, RAT_fig7['A_bulk'][0], '-o', color=palhf[1],  label= 'Front pyramids', fillstyle='none')\n",
    "plt.plot(wavelengths*1e9, RAT_fig8['A_bulk'][0], '-o', color=palhf[2],  label= 'Grating + pyramids', fillstyle='none')\n",
    "plt.plot(wavelengths*1e9, RAT['A_per_layer'][:,0], '-k', label='Planar')\n",
    "plt.plot(wavelengths*1e9, RAT_planar['A_bulk'][0], '--r')\n",
    "plt.legend(loc='lower left')\n",
    "plt.xlabel('Wavelength (nm)')\n",
    "plt.ylabel('Absorption in Si')\n",
    "plt.xlim([900, 1200])\n",
    "plt.ylim([0, 1])\n",
    "plt.show()"
   ],
   "metadata": {
    "collapsed": false,
    "pycharm": {
     "name": "#%%\n"
    }
   }
  },
  {
   "cell_type": "markdown",
   "source": [
    "We can see that both the rear grating and front surface pyramid texture increase absorption in the Si. The rear grating does not affect the front surface reflection, while the pyramid texture does, which increases absorption over the whole wavelength range. The two methods for calculating absorption in the planar structure are in agreement as expected.\n",
    "\n",
    "## Visualizing the redistribution matrices\n",
    "\n",
    "RayFlare has built-in functions to make it easier to load and plot the redistribution matrices you have generated. First, based on the options we set, we generate the `angle_vector` which lists the $\\theta$ (polar angle) and $\\phi$ (azimuthal angle) values in each bin of the angular redistribution matrices."
   ],
   "metadata": {
    "collapsed": false,
    "pycharm": {
     "name": "#%% md\n"
    }
   }
  },
  {
   "cell_type": "code",
   "execution_count": 284,
   "outputs": [],
   "source": [
    "theta_intv, phi_intv, angle_vector = make_angle_vector(options['n_theta_bins'], options['phi_symmetry'],\n",
    "                                       options['c_azimuth'])\n",
    "\n",
    "palhf = sns.cubehelix_palette(256, start=.5, rot=-.9)\n",
    "palhf.reverse()\n",
    "seamap = mpl.colors.ListedColormap(palhf)"
   ],
   "metadata": {
    "collapsed": false,
    "pycharm": {
     "name": "#%%\n"
    }
   }
  },
  {
   "cell_type": "markdown",
   "source": [
    "Now we find the `path` where the matrices are stored. We calculated the redistribution matrices at different wavelengths, but we are just going to plot them at a single wavelength, so we find which index in the matrix that wavelength corresponds to."
   ],
   "metadata": {
    "collapsed": false,
    "pycharm": {
     "name": "#%% md\n"
    }
   }
  },
  {
   "cell_type": "code",
   "execution_count": 285,
   "outputs": [],
   "source": [
    "path = get_savepath('current', options.project_name)\n",
    "\n",
    "wl_to_plot = 1100e-9\n",
    "\n",
    "wl_index = np.argmin(np.abs(wavelengths-wl_to_plot))"
   ],
   "metadata": {
    "collapsed": false,
    "pycharm": {
     "name": "#%%\n"
    }
   }
  },
  {
   "cell_type": "markdown",
   "source": [
    "The redistribution matrices are stored in a sparse matrix format (this is much more efficient, since usually many matrix entries will be zero. A sparse matrix format lists only the non-zero entries). Using the  `path` we found above and the name of the surface, we load the sparse matrix, select only the wavelength we are interested in, and convert it to a normal NumPy array (a \"dense\" matrix):"
   ],
   "metadata": {
    "collapsed": false,
    "pycharm": {
     "name": "#%% md\n"
    }
   }
  },
  {
   "cell_type": "code",
   "execution_count": 286,
   "outputs": [],
   "source": [
    "sprs = load_npz(os.path.join(path, SC_fig8[2].name + 'frontRT.npz'))\n",
    "# Load the redistribution matrices for the bottom surface in SC_fig8 (this is the grating)\n",
    "\n",
    "full = sprs[wl_index].todense()\n",
    "# Convert from sparse format to normal numpy array"
   ],
   "metadata": {
    "collapsed": false,
    "pycharm": {
     "name": "#%%\n"
    }
   }
  },
  {
   "cell_type": "markdown",
   "source": [
    "The indexing of the sparse array is (wavelength, angular bin out, angular bin in). To make the information easier to interpret, RayFlare has the `theta_summary` function which will sum over all the azimuthal bins at a certain $\\theta$, and returns the results in [xarray format](https://docs.xarray.dev). We then select only the first half of the matrix; the data for reflection and transmission are stored in the same array (0 to $2 \\pi$ radians), but we pick out only the reflection part."
   ],
   "metadata": {
    "collapsed": false,
    "pycharm": {
     "name": "#%% md\n"
    }
   }
  },
  {
   "cell_type": "code",
   "execution_count": 287,
   "outputs": [],
   "source": [
    "summat = theta_summary(full, angle_vector, options['n_theta_bins'], front_or_rear='front')\n",
    "# Front or rear refers to front or rear incidence on the surface, rather than the front or rear surface of the\n",
    "# whole structure\n",
    "\n",
    "summat_g = summat[:options['n_theta_bins'], :]\n",
    "# We select the FIRST half of the matrix: this is redistribution into the upper half plane, so because we are\n",
    "# looking at incident light coming from this half-plane, this corresponds to reflection"
   ],
   "metadata": {
    "collapsed": false,
    "pycharm": {
     "name": "#%%\n"
    }
   }
  },
  {
   "cell_type": "markdown",
   "source": [
    "We can use xarray's functionality to transform the coordinates from $\\theta$ to $\\sin\\theta$, and then rename the coordinates (this will automatically label the plots below)."
   ],
   "metadata": {
    "collapsed": false,
    "pycharm": {
     "name": "#%% md\n"
    }
   }
  },
  {
   "cell_type": "code",
   "execution_count": 288,
   "outputs": [],
   "source": [
    "summat_g = summat_g.assign_coords({r'$\\theta_{in}$': np.sin(summat_g.coords[r'$\\theta_{in}$']).data,\n",
    "                                    r'$\\theta_{out}$': np.sin(summat_g.coords[r'$\\theta_{out}$']).data})\n",
    "\n",
    "summat_g = summat_g.rename({r'$\\theta_{in}$': r'$\\sin(\\theta_{in})$', r'$\\theta_{out}$': r'$\\sin(\\theta_{out})$'})"
   ],
   "metadata": {
    "collapsed": false,
    "pycharm": {
     "name": "#%%\n"
    }
   }
  },
  {
   "cell_type": "markdown",
   "source": [
    "Now repeat this for another surface (the pyramidal surface):"
   ],
   "metadata": {
    "collapsed": false
   }
  },
  {
   "cell_type": "code",
   "execution_count": 289,
   "outputs": [],
   "source": [
    "sprs = load_npz(os.path.join(path, SC_fig8[0].name + 'rearRT.npz'))\n",
    "# Load the redistribution matrices for the top surface in SC_fig8 (this is the pyramids)\n",
    "\n",
    "full = sprs[wl_index].todense()\n",
    "\n",
    "summat = theta_summary(full, angle_vector, options['n_theta_bins'], front_or_rear='rear')\n",
    "# Front or rear refers to front or rear incidence on the surface, rather than the front or rear surface of the\n",
    "# whole structure\n",
    "\n",
    "summat_r = summat[options['n_theta_bins']:, :]\n",
    "# We select the SECOND half of the matrix: this is redistribution into the lower half plane, so because we are\n",
    "# looking at incident light coming from this half-plane, this corresponds to reflection\n",
    "\n",
    "summat_r = summat_r.assign_coords({r'$\\theta_{in}$': np.sin(summat_r.coords[r'$\\theta_{in}$']).data,\n",
    "                                    r'$\\theta_{out}$': np.sin(summat_r.coords[r'$\\theta_{out}$']).data})\n",
    "\n",
    "summat_r = summat_r.rename({r'$\\theta_{in}$': r'$\\sin(\\theta_{in})$', r'$\\theta_{out}$': r'$\\sin(\\theta_{out})$'})"
   ],
   "metadata": {
    "collapsed": false,
    "pycharm": {
     "name": "#%%\n"
    }
   }
  },
  {
   "cell_type": "markdown",
   "source": [
    "Plot the redistribution matrices:\n",
    "\n",
    "**PLOT 2**: Redistribution matrices for reflection into Silicon from the diffraction grating (left) and pyramid surface (right)."
   ],
   "metadata": {
    "collapsed": false,
    "pycharm": {
     "name": "#%% md\n"
    }
   }
  },
  {
   "cell_type": "code",
   "execution_count": 290,
   "outputs": [
    {
     "data": {
      "text/plain": "<Figure size 720x288 with 4 Axes>",
      "image/png": "[encoded data removed]"
     },
     "metadata": {
      "needs_background": "light"
     },
     "output_type": "display_data"
    }
   ],
   "source": [
    "fig = plt.figure(figsize=(10,4))\n",
    "ax = plt.subplot(121)\n",
    "ax = summat_g.plot.imshow(ax=ax, cmap=seamap, vmax=0.3)\n",
    "ax = plt.subplot(122)\n",
    "ax = summat_r.plot.imshow(ax=ax, cmap=seamap)\n",
    "plt.show()"
   ],
   "metadata": {
    "collapsed": false,
    "pycharm": {
     "name": "#%%\n"
    }
   }
  },
  {
   "cell_type": "markdown",
   "source": [
    "The left plot shows redistribution of light upon reflection from the rear grating. The right plot shows redistribution of light which hits the pyramidal front surface *from the inside* and is reflected back into the cell. We could plot equivalent matrices for e.g. transmission through the rear grating or light escaping when incident on the pyramid surface from the inside of the structure."
   ],
   "metadata": {
    "collapsed": false,
    "pycharm": {
     "name": "#%% md\n"
    }
   }
  }
 ],
 "metadata": {
  "kernelspec": {
   "display_name": "Python 3",
   "language": "python",
   "name": "python3"
  },
  "language_info": {
   "codemirror_mode": {
    "name": "ipython",
    "version": 2
   },
   "file_extension": ".py",
   "mimetype": "text/x-python",
   "name": "python",
   "nbconvert_exporter": "python",
   "pygments_lexer": "ipython2",
   "version": "2.7.6"
  }
 },
 "nbformat": 4,
 "nbformat_minor": 0
}