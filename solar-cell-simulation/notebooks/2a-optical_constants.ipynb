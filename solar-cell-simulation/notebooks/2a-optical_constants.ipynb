{
 "cells": [
  {
   "cell_type": "markdown",
   "metadata": {
    "collapsed": true,
    "pycharm": {
     "name": "#%% md\n"
    }
   },
   "source": [
    "# Example 2a: Optical constant sources\n",
    "\n",
    "In the first set of scripts focusing on the Si cell, we used different optical models to calculate total absorption\n",
    "and absorption profiles. These absorption profiles are used by the electrical models (if using the DA or PDD model).\n",
    "However, we didn't discuss what actually goes into these optical models, which are the optical constants (either the\n",
    "complex refractive index, $n + i \\kappa$ ($\\kappa$ is the extinction coefficient), or equivalently the dielectric function\n",
    "$\\epsilon_1 + i \\epsilon_2$). In these two examples we will discuss what these values are, how to get them, and how to model\n",
    "them."
   ]
  },
  {
   "cell_type": "code",
   "execution_count": 50,
   "outputs": [],
   "source": [
    "from solcore.absorption_calculator.nk_db import download_db, search_db, create_nk_txt\n",
    "from solcore.absorption_calculator import calculate_rat, OptiStack\n",
    "from solcore.material_system import create_new_material\n",
    "from solcore import material\n",
    "from solcore import si\n",
    "from solcore.structure import Layer\n",
    "\n",
    "import numpy as np\n",
    "import matplotlib.pyplot as plt\n",
    "from os import remove\n",
    "\n",
    "import seaborn as sns"
   ],
   "metadata": {
    "collapsed": false,
    "pycharm": {
     "name": "#%%\n"
    }
   }
  },
  {
   "cell_type": "markdown",
   "source": [
    "## Adding custom materials\n",
    "\n",
    "If we want to use a material which is not in Solcore's database, or perhaps we want to use measured data rather than\n",
    "data from a literature source, we can add a material to the database. We need to have n and k data, and (optionally)\n",
    "a parameter file in the correct format - see examples of parameter files in e.g. material_data/Adachi/binaries.txt inside\n",
    "Solcore's source files. These parameter files contain things like the bandgap, lattice constant, effective carrier masses,\n",
    "etc.\n",
    "\n",
    "Here, we create a new material, silicon-germanium-tin, from input files. Here, the parameters in SiGeSn_params.txt have\n",
    "been copied directly from Ge. The last argument, with the parameters file, is optional; if you exclude it the material\n",
    "will be added with just the n and k values and no further information specified (useful if you just want to do optical\n",
    "calculations)."
   ],
   "metadata": {
    "collapsed": false,
    "pycharm": {
     "name": "#%% md\n"
    }
   }
  },
  {
   "cell_type": "code",
   "execution_count": 51,
   "outputs": [],
   "source": [
    "create_new_material('SiGeSn', 'data/SiGeSn_n.txt', 'data/SiGeSn_k.txt', 'data/SiGeSn_params.txt')"
   ],
   "metadata": {
    "collapsed": false,
    "pycharm": {
     "name": "#%%\n"
    }
   }
  },
  {
   "cell_type": "markdown",
   "source": [
    "When adding custom materials - or getting the refractive index database - the information will be stored by default in\n",
    "your home directory. You can change thethe SOLCORE_USER_DATA environmental variable in the config file to your prefered\n",
    "location or, by default, it will be in your home directory, in a (hidden) directory called .solcore.\n",
    "\n",
    "We can now create an instance of it like any Solcore material:"
   ],
   "metadata": {
    "collapsed": false,
    "pycharm": {
     "name": "#%% md\n"
    }
   }
  },
  {
   "cell_type": "code",
   "execution_count": 52,
   "outputs": [],
   "source": [
    "wl = si(np.arange(300, 1700, 5), 'nm')\n",
    "\n",
    "SiGeSn = material('SiGeSn')()\n",
    "Ge = material('Ge')()"
   ],
   "metadata": {
    "collapsed": false,
    "pycharm": {
     "name": "#%%\n"
    }
   }
  },
  {
   "cell_type": "markdown",
   "source": [
    "**PLOT 1**: Comparing the optical constants of SiGeSn and Ge."
   ],
   "metadata": {
    "collapsed": false,
    "pycharm": {
     "name": "#%% md\n"
    }
   }
  },
  {
   "cell_type": "code",
   "execution_count": 53,
   "outputs": [
    {
     "data": {
      "text/plain": "<Figure size 432x288 with 1 Axes>",
      "image/png": "[encoded data removed]"
     },
     "metadata": {
      "needs_background": "light"
     },
     "output_type": "display_data"
    }
   ],
   "source": [
    "plt.figure()\n",
    "plt.plot(wl*1e9, SiGeSn.n(wl), 'r-', label='SiGeSn n')\n",
    "plt.plot(wl*1e9, SiGeSn.k(wl), 'k-', label=r'SiGeSn $\\kappa$')\n",
    "\n",
    "plt.plot(wl*1e9, Ge.n(wl), 'r--', label='Ge n')\n",
    "plt.plot(wl*1e9, Ge.k(wl), 'k--', label=r'Ge $\\kappa$')\n",
    "\n",
    "plt.xlabel('Wavelength (nm)')\n",
    "plt.ylabel(r'SiGeSn n / $\\kappa$')\n",
    "plt.legend()\n",
    "plt.title(\"(1) Optical constants of Ge and SiGeSn\")\n",
    "plt.show()\n"
   ],
   "metadata": {
    "collapsed": false,
    "pycharm": {
     "name": "#%%\n"
    }
   }
  },
  {
   "cell_type": "markdown",
   "source": [
    "## Using the refractiveindex.info database\n",
    "\n",
    "Solcore can also directly interface with the database from [www.refractiveindex.info](https://www.refractiveindex.info), which contains around 3000\n",
    "sets of $n$/$\\kappa$ data for a large number of different materials. Before the first use, it is necessary to download the database.\n",
    "This only needs to be done once, so you can comment this line out after it's done:\n"
   ],
   "metadata": {
    "collapsed": false,
    "pycharm": {
     "name": "#%% md\n"
    }
   }
  },
  {
   "cell_type": "code",
   "execution_count": 54,
   "outputs": [
    {
     "name": "stdout",
     "output_type": "stream",
     "text": [
      "Database file found at /Users/phoebe/.solcore/nk/nk.db\n",
      "Making request to https://refractiveindex.info/download/database/rii-database-2021-07-18.zip\n",
      "Downloaded and extracting...\n",
      "Wrote /var/folders/60/mjbn28rj1ql_r4w004g_ryt00000gq/T/tmpn030pe9k/database from https://refractiveindex.info/download/database/rii-database-2021-07-18.zip\n"
     ]
    },
    {
     "name": "stderr",
     "output_type": "stream",
     "text": [
      "/Users/phoebe/Documents/develop/solcore5/solcore/material_data/refractiveindex_info_DB/dbmaterial.py:278: RuntimeWarning: invalid value encountered in sqrt\n",
      "  n = numpy.sqrt(nsq)\n",
      "/Users/phoebe/Documents/develop/solcore5/solcore/material_data/refractiveindex_info_DB/dbmaterial.py:299: RuntimeWarning: invalid value encountered in sqrt\n",
      "  n = numpy.sqrt(n)\n"
     ]
    },
    {
     "name": "stdout",
     "output_type": "stream",
     "text": [
      "LOG: 2746,other,PtAl2,Chen : Bad Material YAML File.\n",
      "***Wrote SQLite DB on  /Users/phoebe/.solcore/nk/nk.db\n"
     ]
    }
   ],
   "source": [
    "download_db()"
   ],
   "metadata": {
    "collapsed": false,
    "pycharm": {
     "name": "#%%\n"
    }
   }
  },
  {
   "cell_type": "markdown",
   "source": [
    "Now we can search the database to select an appropriate entry. Search by element/chemical formula, or by the name of\n",
    "the author who published the data.\n",
    "In this case, we look for silver."
   ],
   "metadata": {
    "collapsed": false,
    "pycharm": {
     "name": "#%% md\n"
    }
   }
  },
  {
   "cell_type": "code",
   "execution_count": null,
   "outputs": [],
   "source": [
    "search_db('Ag', exact=True)"
   ],
   "metadata": {
    "collapsed": false,
    "pycharm": {
     "name": "#%%\n",
     "is_executing": true
    }
   }
  },
  {
   "cell_type": "markdown",
   "source": [
    "This prints out, line by line, matching entries. This shows us entries with\n",
    "\"pageid\"s 0 to 16 correspond to silver.\n",
    "\n",
    "Let's compare the optical behaviour of some of those sources:\n",
    "\n",
    "- pageid = 0, Johnson\n",
    "- pageid = 2, Jiang\n",
    "- pageid = 4, McPeak\n",
    "- pageid = 10, Hagemann\n",
    "- pageid = 14, Rakic (BB)\n",
    "\n",
    "(The pageid values listed here are for the 2021-07-18 version of the refractiveindex.info database; this can change with different versions of the database)\n",
    "\n",
    "Now, we create instances of materials with the optical constants from the database. The name (when using Solcore's\n",
    "built-in materials, this would just be the name of the material or alloy, like 'GaAs') is the pageid, AS A STRING, while\n",
    "the flag nk_db must be set to True to tell Solcore to look in the previously downloaded database from refractiveindex.info"
   ],
   "metadata": {
    "collapsed": false,
    "pycharm": {
     "name": "#%% md\n"
    }
   }
  },
  {
   "cell_type": "code",
   "execution_count": 56,
   "outputs": [],
   "source": [
    "Ag_Joh = material(name='0', nk_db=True)()\n",
    "Ag_Jia = material(name='2', nk_db=True)()\n",
    "Ag_McP = material(name='4', nk_db=True)()\n",
    "Ag_Hag = material(name='10', nk_db=True)()\n",
    "Ag_Rak = material(name='14', nk_db=True)()\n",
    "Ag_Sol = material(name='Ag')() # Solcore built-in (from SOPRA)"
   ],
   "metadata": {
    "collapsed": false,
    "pycharm": {
     "name": "#%%\n"
    }
   }
  },
  {
   "cell_type": "markdown",
   "source": [
    "Now we plot the $n$ and $\\kappa$ data. Note that not all the data covers the full wavelength range, so the $n$/$\\kappa$ value gets extrapolated from the last point in the dataset to cover any missing values.\n",
    "\n",
    "**PLOT 2**: $n$ and $\\kappa$ values for Ag from different literature sources"
   ],
   "metadata": {
    "collapsed": false,
    "pycharm": {
     "name": "#%% md\n"
    }
   }
  },
  {
   "cell_type": "code",
   "execution_count": null,
   "outputs": [],
   "source": [
    "names = ['Johnson', 'Jiang', 'McPeak', 'Hagemann', 'Rakic', 'Solcore built-in']\n",
    "\n",
    "wl = si(np.arange(250, 900, 5), 'nm')\n",
    "\n",
    "plt.figure(figsize=(8,4))\n",
    "\n",
    "plt.subplot(121)\n",
    "# We can plot all the n values in one line:\n",
    "plt.plot(wl*1e9, np.array([Ag_Joh.n(wl), Ag_Jia.n(wl), Ag_McP.n(wl),\n",
    "                           Ag_Hag.n(wl), Ag_Rak.n(wl), Ag_Sol.n(wl)]).T)\n",
    "plt.legend(labels=names)\n",
    "plt.xlabel(\"Wavelength (nm)\")\n",
    "plt.title(\"(2) $n$ and $\\kappa$ values for Ag from different literature sources\")\n",
    "plt.ylabel(\"n\")\n",
    "\n",
    "plt.subplot(122)\n",
    "plt.plot(wl*1e9, np.array([Ag_Joh.k(wl), Ag_Jia.k(wl), Ag_McP.k(wl),\n",
    "                           Ag_Hag.k(wl), Ag_Rak.k(wl), Ag_Sol.k(wl)]).T)\n",
    "plt.legend(labels=names)\n",
    "plt.xlabel(\"Wavelength (nm)\")\n",
    "plt.ylabel(\"$\\kappa$\")\n",
    "plt.show()"
   ],
   "metadata": {
    "collapsed": false,
    "pycharm": {
     "name": "#%%\n",
     "is_executing": true
    }
   }
  },
  {
   "cell_type": "markdown",
   "source": [
    "Compare performance as a back mirror on a GaAs 'cell'; we make a solar cell-like structure with a very thin GaAs absorber (50 nm) and a silver back mirror.\n",
    "\n",
    "**PLOT 3**: compare absorption in GaAs and Ag for a solar cell-like structure, using Ag data from different sources\n",
    "\n",
    "Solid line: absorption in GaAs\n",
    "Dashed line: absorption in Ag"
   ],
   "metadata": {
    "collapsed": false,
    "pycharm": {
     "name": "#%% md\n"
    }
   }
  },
  {
   "cell_type": "code",
   "execution_count": 58,
   "outputs": [
    {
     "data": {
      "text/plain": "<Figure size 432x288 with 1 Axes>",
      "image/png": "[encoded data removed]"
     },
     "metadata": {
      "needs_background": "light"
     },
     "output_type": "display_data"
    }
   ],
   "source": [
    "GaAs = material('GaAs')()\n",
    "\n",
    "colors = sns.color_palette('husl', n_colors=len(names))\n",
    "\n",
    "plt.figure()\n",
    "for c, Ag_mat in enumerate([Ag_Joh, Ag_Jia, Ag_McP, Ag_Hag, Ag_Rak, Ag_Sol]):\n",
    "    my_solar_cell = OptiStack([Layer(width=si('50nm'), material = GaAs)], substrate=Ag_mat)\n",
    "    RAT = calculate_rat(my_solar_cell, wl*1e9, no_back_reflection=False)\n",
    "    GaAs_abs = RAT[\"A_per_layer\"][1]\n",
    "    Ag_abs = RAT[\"T\"]\n",
    "    plt.plot(wl*1e9, GaAs_abs, color=colors[c], linestyle='-', label=names[c])\n",
    "    plt.plot(wl*1e9, Ag_abs, color=colors[c], linestyle='--')\n",
    "\n",
    "plt.legend()\n",
    "plt.xlabel(\"Wavelength (nm)\")\n",
    "plt.ylabel(\"Absorbed\")\n",
    "plt.title(\"(3) Absorption in GaAs depending on silver optical constants\")\n",
    "plt.show()"
   ],
   "metadata": {
    "collapsed": false,
    "pycharm": {
     "name": "#%%\n"
    }
   }
  },
  {
   "cell_type": "markdown",
   "source": [
    "## Adding refractiveindex.info materials to Solcore's database\n",
    "\n",
    "Finally, we can combine the two methods above and add a material from the refractiveindex.info database to Solcore's database.\n",
    "\n",
    "The search_db function will print the search results, but it also creates a list of lists with details of all the search results. `results[0]` contains the first entry; `results[0][0]` is the 'pageid' of the first search result.\n",
    "\n",
    "The function create_nk_txt creates files containing the optical constant data in the format required by Solcore. These are saved in the current working directory."
   ],
   "metadata": {
    "collapsed": false,
    "pycharm": {
     "name": "#%% md\n"
    }
   }
  },
  {
   "cell_type": "code",
   "execution_count": 59,
   "outputs": [
    {
     "name": "stdout",
     "output_type": "stream",
     "text": [
      "Database file found at /Users/phoebe/.solcore/nk/nk.db\n",
      "1 results found.\n",
      "pageid\tshelf\tbook\tpage\tfilepath\thasrefractive\thasextinction\trangeMin\trangeMax\tpoints\n",
      "2897\t3d\tcrystals\tdiamond\tmain/C/Phillip.yml\t1\t1\t0.035424054\t10.0\t176\n",
      "Database file found at /Users/phoebe/.solcore/nk/nk.db\n",
      "Material main/C/Phillip.yml loaded.\n",
      "Wrote C_Diamond_n.txt\n",
      "Wrote C_Diamond_k.txt\n"
     ]
    }
   ],
   "source": [
    "results = search_db('Diamond')\n",
    "\n",
    "create_nk_txt(pageid=results[0][0], file='C_Diamond')"
   ],
   "metadata": {
    "collapsed": false,
    "pycharm": {
     "name": "#%%\n"
    }
   }
  },
  {
   "cell_type": "markdown",
   "source": [
    "We now use these files to create a new material in the Solcore database:"
   ],
   "metadata": {
    "collapsed": false,
    "pycharm": {
     "name": "#%% md\n"
    }
   }
  },
  {
   "cell_type": "code",
   "execution_count": 60,
   "outputs": [
    {
     "name": "stdout",
     "output_type": "stream",
     "text": [
      "Material created with optical constants n and k only.\n"
     ]
    }
   ],
   "source": [
    "create_new_material(mat_name='Diamond', n_source='C_Diamond_n.txt', k_source='C_Diamond_k.txt')"
   ],
   "metadata": {
    "collapsed": false,
    "pycharm": {
     "name": "#%%\n"
    }
   }
  },
  {
   "cell_type": "markdown",
   "source": [
    "We can now delete the files with the Diamond data, since they have been copied into the user-defined materials directory:"
   ],
   "metadata": {
    "collapsed": false,
    "pycharm": {
     "name": "#%% md\n"
    }
   }
  },
  {
   "cell_type": "code",
   "execution_count": 61,
   "outputs": [],
   "source": [
    "remove(\"C_diamond_n.txt\")\n",
    "remove(\"C_diamond_k.txt\")"
   ],
   "metadata": {
    "collapsed": false,
    "pycharm": {
     "name": "#%%\n"
    }
   }
  },
  {
   "cell_type": "markdown",
   "source": [
    "Now we can use this material as we would any material from Solcore's database:\n",
    "\n",
    "**PLOT 4**: Optical constants of diamond"
   ],
   "metadata": {
    "collapsed": false,
    "pycharm": {
     "name": "#%% md\n"
    }
   }
  },
  {
   "cell_type": "code",
   "execution_count": 62,
   "outputs": [
    {
     "data": {
      "text/plain": "<Figure size 432x288 with 1 Axes>",
      "image/png": "[encoded data removed]"
     },
     "metadata": {
      "needs_background": "light"
     },
     "output_type": "display_data"
    }
   ],
   "source": [
    "Diamond = material('Diamond')()\n",
    "\n",
    "plt.figure()\n",
    "plt.plot(si(np.arange(100, 800, 5), 'nm') * 1e9, Diamond.n(si(np.arange(100, 800, 5), 'nm')))\n",
    "plt.plot(si(np.arange(100, 800, 5), 'nm') * 1e9, Diamond.k(si(np.arange(100, 800, 5), 'nm')))\n",
    "plt.title(\"(4) Optical constants for diamond\")\n",
    "plt.show()"
   ],
   "metadata": {
    "collapsed": false,
    "pycharm": {
     "name": "#%%\n"
    }
   }
  },
  {
   "cell_type": "markdown",
   "source": [
    "## Conclusions\n",
    "\n",
    "So, we have at least 4 different ways of getting optical constants:\n",
    "\n",
    "1. From Solcore's database\n",
    "2. By adding our own material data to Solcore's database\n",
    "3. By using the refractiveindex.info database directly\n",
    "4. Similarly, we can add materials from the refractiveindex.info database to Solcore's database\n",
    "\n",
    "If we add materials to the database, we can also choose to add non-optical parameters."
   ],
   "metadata": {
    "collapsed": false,
    "pycharm": {
     "name": "#%% md\n"
    }
   }
  }
 ],
 "metadata": {
  "kernelspec": {
   "display_name": "Python 3",
   "language": "python",
   "name": "python3"
  },
  "language_info": {
   "codemirror_mode": {
    "name": "ipython",
    "version": 2
   },
   "file_extension": ".py",
   "mimetype": "text/x-python",
   "name": "python",
   "nbconvert_exporter": "python",
   "pygments_lexer": "ipython2",
   "version": "2.7.6"
  }
 },
 "nbformat": 4,
 "nbformat_minor": 0
}