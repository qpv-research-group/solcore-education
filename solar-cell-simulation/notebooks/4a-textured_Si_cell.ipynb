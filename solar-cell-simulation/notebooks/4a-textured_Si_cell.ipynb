{
 "cells": [
  {
   "cell_type": "markdown",
   "source": [
    "# Example 4a: Textured Si cell\n",
    "\n",
    "In this example, we will introduce RayFlare, which is a package which is closely interlinked with Solcore and extends its optical capabilities. One of the features it has is a ray-tracer, which is useful when modelling e.g. Si solar cells with textured surfaces. We will compare the result with PVLighthouse's [wafer ray tracer](https://www2.pvlighthouse.com.au/calculators/wafer%20ray%20tracer/wafer%20ray%20tracer.html).\n",
    "\n",
    "For more information on how ray-tracing works, see [RayFlare's documentation](https://rayflare.readthedocs.io/en/latest/Theory/theory.html)."
   ],
   "metadata": {
    "collapsed": false,
    "pycharm": {
     "name": "#%% md\n"
    }
   }
  },
  {
   "cell_type": "code",
   "execution_count": null,
   "outputs": [],
   "source": [
    "import numpy as np\n",
    "import os\n",
    "\n",
    "import matplotlib.pyplot as plt\n",
    "import seaborn as sns\n",
    "\n",
    "from rayflare.ray_tracing import rt_structure\n",
    "from rayflare.textures import regular_pyramids, planar_surface\n",
    "from rayflare.options import default_options\n",
    "from rayflare.utilities import make_absorption_function\n",
    "\n",
    "from solcore.absorption_calculator import search_db\n",
    "from solcore import material, si\n",
    "from solcore.solar_cell import SolarCell, Layer, Junction\n",
    "from solcore.solar_cell_solver import solar_cell_solver\n",
    "from solcore.solar_cell_solver import default_options as defaults_solcore\n",
    "\n",
    "file_path = os.path.dirname(os.path.abspath(__file__)) # get path of this file\n",
    "\n",
    "# setting up some colours for plotting\n",
    "pal = sns.color_palette(\"husl\", 4)"
   ],
   "metadata": {
    "collapsed": false,
    "pycharm": {
     "name": "#%%\n"
    }
   }
  },
  {
   "cell_type": "markdown",
   "source": [
    "## Setting up\n",
    "\n",
    "First, setting up Solcore materials. We use a specific set of Si optical constants from [this paper](https://doi.org/10.1016/j.solmat.2008.06.009).\n",
    "These are included in the refractiveindex.info database, so we take them from there. This is the same data we used for the [PVLighthouse](https://www2.pvlighthouse.com.au/calculators/wafer%20ray%20tracer/wafer%20ray%20tracer.html) calculation which we are going to compare to."
   ],
   "metadata": {
    "collapsed": false,
    "pycharm": {
     "name": "#%% md\n"
    }
   }
  },
  {
   "cell_type": "code",
   "execution_count": null,
   "outputs": [],
   "source": [
    "Air = material('Air')()\n",
    "Si_Green = search_db(\"Si/Green-2008\")[0][0]\n",
    "Si_RT = material(str(Si_Green), nk_db=True)()"
   ],
   "metadata": {
    "collapsed": false,
    "pycharm": {
     "name": "#%%\n"
    }
   }
  },
  {
   "cell_type": "markdown",
   "source": [
    "The `calc` variable is a switch: if True, run the calculation; if False, load the result of the previous calculation. Will need to run at least once to\n",
    "generate the results!\n",
    "\n",
    "We use this 'switch' to avoid re-running the whole ray-tracing calculation (which can be time-consuming) each time we\n",
    "want to look at the results."
   ],
   "metadata": {
    "collapsed": false,
    "pycharm": {
     "name": "#%% md\n"
    }
   }
  },
  {
   "cell_type": "code",
   "execution_count": null,
   "outputs": [],
   "source": [
    "calc = True"
   ],
   "metadata": {
    "collapsed": false,
    "pycharm": {
     "name": "#%%\n"
    }
   }
  },
  {
   "cell_type": "markdown",
   "source": [
    "Setting options:"
   ],
   "metadata": {
    "collapsed": false,
    "pycharm": {
     "name": "#%% md\n"
    }
   }
  },
  {
   "cell_type": "code",
   "execution_count": null,
   "outputs": [],
   "source": [
    "wl = np.linspace(300, 1201, 50) * 1e-9\n",
    "options = default_options()\n",
    "options.wavelengths = wl"
   ],
   "metadata": {
    "collapsed": false,
    "pycharm": {
     "name": "#%%\n"
    }
   }
  },
  {
   "cell_type": "markdown",
   "source": [
    "`nx` and `ny` are the number of point to scan across in the x & y directions in the unit cell. Decrease this to speed up the calculation (but increase noise in results). We also\n",
    "set the total number of rays traced, and depth spacing for the absorption profile calculation."
   ],
   "metadata": {
    "collapsed": false,
    "pycharm": {
     "name": "#%% md\n"
    }
   }
  },
  {
   "cell_type": "code",
   "execution_count": null,
   "outputs": [],
   "source": [
    "nxy = 25\n",
    "options.nx = nxy\n",
    "options.ny = nxy\n",
    "options.n_rays = 4 * nxy ** 2 # Number of rays to be traced at each wavelength:\n",
    "options.depth_spacing = si('50nm') # depth spacing for the absorption profile\n",
    "options.parallel = True  # this is the default - if you do not want the code to run in parallel, change to False\n"
   ],
   "metadata": {
    "collapsed": false,
    "pycharm": {
     "name": "#%%\n"
    }
   }
  },
  {
   "cell_type": "markdown",
   "source": [
    "Load the result of the PVLighthouse calculation for comparison:"
   ],
   "metadata": {
    "collapsed": false,
    "pycharm": {
     "name": "#%% md\n"
    }
   }
  },
  {
   "cell_type": "code",
   "execution_count": null,
   "outputs": [],
   "source": [
    "PVlighthouse = np.loadtxt(file_path + '/data/RAT_data_300um_2um_55.csv', delimiter=',', skiprows=1)"
   ],
   "metadata": {
    "collapsed": false,
    "pycharm": {
     "name": "#%%\n"
    }
   }
  },
  {
   "cell_type": "markdown",
   "source": [
    "Define surface for the ray-tracing: a planar surface, and a surface with regular pyramids."
   ],
   "metadata": {
    "collapsed": false,
    "pycharm": {
     "name": "#%% md\n"
    }
   }
  },
  {
   "cell_type": "code",
   "execution_count": null,
   "outputs": [],
   "source": [
    "flat_surf = planar_surface(size=2) # pyramid size in microns\n",
    "triangle_surf = regular_pyramids(55, upright=False, size=2)"
   ],
   "metadata": {
    "collapsed": false,
    "pycharm": {
     "name": "#%%\n"
    }
   }
  },
  {
   "cell_type": "markdown",
   "source": [
    "Set up the ray-tracing structure: this is a list of textures of length n, and then a list of materials of length n-1. So far a single layer, we define a front surface and a back surface (n = 2), and specify the material in between those two surfaces (n-1 = 1). We also specify the width of each material, and the incidence medium (above the first interface) and the transmission medium (below the last interface."
   ],
   "metadata": {
    "collapsed": false,
    "pycharm": {
     "name": "#%% md\n"
    }
   }
  },
  {
   "cell_type": "code",
   "execution_count": null,
   "outputs": [],
   "source": [
    "rtstr = rt_structure(textures=[triangle_surf, flat_surf],\n",
    "                    materials = [Si_RT],\n",
    "                    widths=[si('300um')], incidence=Air, transmission=Air)"
   ],
   "metadata": {
    "collapsed": false,
    "pycharm": {
     "name": "#%%\n"
    }
   }
  },
  {
   "cell_type": "markdown",
   "source": [
    "## Running ray-tracing calculation\n",
    "\n",
    "Run the calculation, if `calc` was set to True, otherwise load the results. We save the reflection, transmission, and total absorption in an array called `result_RAT` and the absorption profile as `profile_rt`."
   ],
   "metadata": {
    "collapsed": false,
    "pycharm": {
     "name": "#%% md\n"
    }
   }
  },
  {
   "cell_type": "code",
   "execution_count": null,
   "outputs": [],
   "source": [
    "if calc:\n",
    "    # This executes if calc = True (set at the top of the script): actually run the ray-tracing:\n",
    "    result = rtstr.calculate_profile(options)\n",
    "\n",
    "    # Put the results (Reflection, front surface reflection, transmission, absorption in the Si) in an array:\n",
    "    result_RAT = np.vstack((options['wavelengths']*1e9,\n",
    "                        result['R'], result['R0'], result['T'], result['A_per_layer'][:,0])).T\n",
    "\n",
    "    # absorption profile:\n",
    "    profile_rt = result['profile']\n",
    "\n",
    "    # save the results:\n",
    "    np.savetxt(file_path + '/results/rayflare_fullrt_300um_2umpyramids_300_1200nm.txt', result_RAT)\n",
    "    np.savetxt(file_path + '/results/rayflare_fullrt_300um_2umpyramids_300_1200nm_profile.txt', result['profile'])\n",
    "\n",
    "else:\n",
    "    # If calc = False, load results from previous run.\n",
    "    result_RAT = np.loadtxt(file_path + '/results/rayflare_fullrt_300um_2umpyramids_300_1200nm.txt')\n",
    "    profile_rt = np.loadtxt(file_path + '/results/rayflare_fullrt_300um_2umpyramids_300_1200nm_profile.txt')"
   ],
   "metadata": {
    "collapsed": false,
    "pycharm": {
     "name": "#%%\n"
    }
   }
  },
  {
   "cell_type": "markdown",
   "source": [
    "**PLOT 1**: results of ray-tracing from RayFlare and PVLighthouse, showing the reflection, absorption and transmission."
   ],
   "metadata": {
    "collapsed": false,
    "pycharm": {
     "name": "#%% md\n"
    }
   }
  },
  {
   "cell_type": "code",
   "execution_count": null,
   "outputs": [],
   "source": [
    "plt.figure()\n",
    "plt.plot(result_RAT[:,0], result_RAT[:,1], '-o', color=pal[0], label=r'R$_{total}$', fillstyle='none')\n",
    "plt.plot(result_RAT[:,0], result_RAT[:,2], '-o', color=pal[1], label=r'R$_0$', fillstyle='none')\n",
    "plt.plot(result_RAT[:,0], result_RAT[:,3], '-o', color=pal[2], label=r'T', fillstyle='none')\n",
    "plt.plot(result_RAT[:,0], result_RAT[:,4], '-o', color=pal[3], label=r'A', fillstyle='none')\n",
    "plt.plot(PVlighthouse[:, 0], PVlighthouse[:, 2], '--', color=pal[0])\n",
    "plt.plot(PVlighthouse[:, 0], PVlighthouse[:, 9], '--', color=pal[2])\n",
    "plt.plot(PVlighthouse[:, 0], PVlighthouse[:, 3], '--', color=pal[1])\n",
    "plt.plot(PVlighthouse[:, 0], PVlighthouse[:, 5], '--', color=pal[3])\n",
    "plt.plot(-1, -1, '-ok', label='RayFlare')\n",
    "plt.plot(-1, -1, '--k', label='PVLighthouse')\n",
    "plt.xlabel('Wavelength (nm)')\n",
    "plt.ylabel('R / A / T')\n",
    "plt.ylim(0, 1)\n",
    "plt.xlim(300, 1200)\n",
    "plt.legend()\n",
    "plt.title(\"(1) R/A/T for pyramid-textured Si, calculated with RayFlare and PVLighthouse\")\n",
    "plt.show()"
   ],
   "metadata": {
    "collapsed": false,
    "pycharm": {
     "name": "#%%\n"
    }
   }
  },
  {
   "cell_type": "markdown",
   "source": [
    "## Using optical results in Solcore\n",
    "\n",
    "So far, we have done a purely optical calculation; however, if we want to use this information to do an EQE or IV calculation, we can, by using the ability of Solcore to accept external optics data (we used this in [Example 1a](1a-simple_cell.ipynb) already). To use Solcore's device simulation capabilities (QE/IV), we need to create a function which gives the depth-dependent absorption profile. The argument of the function is the position (in m) in the cell, which can be an array, and the function returns an array with the absorption at these depths at every wavelength with dimensions (n_wavelengths, n_positions).\n",
    "\n",
    "RayFlare has the make_absorption_function to automatically make this function, as required by Solcore, from RayFlare's output data. `diff_absorb_fn` here is the function we need to pass to Solcore (so it is not an array of values!). We need to provide the profile data, the structure that was being simulated, user options and specify whether we used the angular redistribution matrix method (which in this case we did not, so we set `matrix_method=False`; see [Example 6a]](6a-multiscale_models.ipynb) for a similar example which does use this method)."
   ],
   "metadata": {
    "collapsed": false,
    "pycharm": {
     "name": "#%% md\n"
    }
   }
  },
  {
   "cell_type": "code",
   "execution_count": null,
   "outputs": [],
   "source": [
    "position, diff_absorb_fn = make_absorption_function(profile_rt, rtstr, options, matrix_method=False)"
   ],
   "metadata": {
    "collapsed": false,
    "pycharm": {
     "name": "#%%\n"
    }
   }
  },
  {
   "cell_type": "markdown",
   "source": [
    "Now we feed this into Solcore; we will define a solar cell model using the depletion approximation (see [Example 1c](1c-simple_cell.ipynb)).\n",
    "\n",
    "We need a p-n junction; we make sure the total width of the p-n junction is equal to the width of the Si used above\n",
    "in the ray-tracing calculation (`rtrst.widths[0]`).\n"
   ],
   "metadata": {
    "collapsed": false,
    "pycharm": {
     "name": "#%% md\n"
    }
   }
  },
  {
   "cell_type": "code",
   "source": [
    "Si_base = material(\"Si\")\n",
    "\n",
    "n_material_Si_width = si(\"500nm\")\n",
    "p_material_Si_width = rtstr.widths[0] - n_material_Si_width\n",
    "\n",
    "n_material_Si = Si_base(Nd=si(1e21, \"cm-3\"), hole_diffusion_length=si(\"10um\"),\n",
    "                electron_mobility=50e-4, relative_permittivity=11.68)\n",
    "p_material_Si = Si_base(Na=si(1e16, \"cm-3\"), electron_diffusion_length=si(\"290um\"),\n",
    "                hole_mobility=400e-4, relative_permittivity=11.68)"
   ],
   "metadata": {
    "collapsed": false,
    "pycharm": {
     "name": "#%%\n"
    }
   },
   "execution_count": null,
   "outputs": []
  },
  {
   "cell_type": "markdown",
   "source": [
    "Options for Solcore (note that these are separate from the RayFlare options we set above!):"
   ],
   "metadata": {
    "collapsed": false,
    "pycharm": {
     "name": "#%% md\n"
    }
   }
  },
  {
   "cell_type": "code",
   "execution_count": null,
   "outputs": [],
   "source": [
    "options_sc = defaults_solcore\n",
    "options_sc.optics_method = \"external\"\n",
    "options_sc.position = np.arange(0, rtstr.width, options.depth_spacing)\n",
    "options_sc.light_iv = True\n",
    "options_sc.wavelength = wl\n",
    "options_sc.theta = options.theta_in*180/np.pi\n",
    "V = np.linspace(0, 1, 200)\n",
    "options_sc.voltages = V"
   ],
   "metadata": {
    "collapsed": false,
    "pycharm": {
     "name": "#%%\n"
    }
   }
  },
  {
   "cell_type": "markdown",
   "source": [
    "Make the solar cell, passing the absorption function we made above, and the reflection (an array with the R value at each wavelength), and calculate the QE and I-V characteristics."
   ],
   "metadata": {
    "collapsed": false,
    "pycharm": {
     "name": "#%% md\n"
    }
   }
  },
  {
   "cell_type": "code",
   "execution_count": null,
   "outputs": [],
   "source": [
    "solar_cell = SolarCell(\n",
    "    [\n",
    "        Junction([Layer(width=n_material_Si_width, material=n_material_Si, role='emitter'),\n",
    "                  Layer(width=p_material_Si_width, material=p_material_Si, role='base')],\n",
    "                 sn=1, sp=1, kind='DA')\n",
    "    ],\n",
    "    external_reflected=result_RAT[:,1],\n",
    "    external_absorbed=diff_absorb_fn)\n",
    "\n",
    "solar_cell_solver(solar_cell, 'qe', options_sc)\n",
    "solar_cell_solver(solar_cell, 'iv', options_sc)"
   ],
   "metadata": {
    "collapsed": false,
    "pycharm": {
     "name": "#%%\n"
    }
   }
  },
  {
   "cell_type": "markdown",
   "source": [
    "**PLOT 2**: EQE and absorption of Si cell with optics calculated through ray-tracing"
   ],
   "metadata": {
    "collapsed": false,
    "pycharm": {
     "name": "#%% md\n"
    }
   }
  },
  {
   "cell_type": "code",
   "execution_count": null,
   "outputs": [],
   "source": [
    "plt.figure()\n",
    "plt.plot(wl*1e9, solar_cell.absorbed, 'k-', label='Absorbed (integrated)')\n",
    "plt.plot(wl*1e9, solar_cell[0].eqe(wl), 'r-', label='EQE')\n",
    "plt.plot(wl*1e9, result_RAT[:,4], 'r--', label='Absorbed - RT')\n",
    "plt.ylim(0,1)\n",
    "plt.legend()\n",
    "plt.xlabel('Wavelength (nm)')\n",
    "plt.ylabel('R/A')\n",
    "plt.title(\"(2) EQE/absorption from electrical model\")\n",
    "plt.show()"
   ],
   "metadata": {
    "collapsed": false,
    "pycharm": {
     "name": "#%%\n"
    }
   }
  },
  {
   "cell_type": "markdown",
   "source": [
    "**PLOT 3**: Light IV of Si cell with optics calculated through ray-tracing"
   ],
   "metadata": {
    "collapsed": false,
    "pycharm": {
     "name": "#%% md\n"
    }
   }
  },
  {
   "cell_type": "code",
   "execution_count": null,
   "outputs": [],
   "source": [
    "plt.figure()\n",
    "plt.plot(V, -solar_cell[0].iv(V), 'r')\n",
    "plt.ylim(-20, 400)\n",
    "plt.xlim(0, 0.8)\n",
    "plt.legend()\n",
    "plt.ylabel('Current (A/m$^2$)')\n",
    "plt.xlabel('Voltage (V)') #The expected values of Isc and Voc are 372 A/m^2 and 0.63 V respectively\n",
    "plt.title(\"(3) IV characteristics\")\n",
    "plt.show()"
   ],
   "metadata": {
    "collapsed": false,
    "pycharm": {
     "name": "#%%\n"
    }
   }
  }
 ],
 "metadata": {
  "kernelspec": {
   "display_name": "Python 3",
   "language": "python",
   "name": "python3"
  },
  "language_info": {
   "codemirror_mode": {
    "name": "ipython",
    "version": 2
   },
   "file_extension": ".py",
   "mimetype": "text/x-python",
   "name": "python",
   "nbconvert_exporter": "python",
   "pygments_lexer": "ipython2",
   "version": "2.7.6"
  }
 },
 "nbformat": 4,
 "nbformat_minor": 0
}