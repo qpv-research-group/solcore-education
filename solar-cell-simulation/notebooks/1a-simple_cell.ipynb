{
 "cells": [
  {
   "cell_type": "markdown",
   "id": "8747e70c",
   "metadata": {
    "pycharm": {
     "name": "#%% md\n"
    }
   },
   "source": [
    "# Example 1a: Simple Si solar cell\n",
    "\n",
    "In this first set of examples, we will look at simple planar solar cells (Si and GaAs).\n",
    "\n",
    "In this script, we will look at the difference between Beer-Lambert absorption calculations, using the Fresnel equations for front-surface reflection, and using the transfer-matrix model.\n",
    "\n",
    "First, lets import some very commonly-used Python packages:"
   ]
  },
  {
   "cell_type": "code",
   "execution_count": 1,
   "id": "8e91d13f",
   "metadata": {
    "pycharm": {
     "name": "#%%\n"
    },
    "ExecuteTime": {
     "end_time": "2023-08-31T10:19:34.995333Z",
     "start_time": "2023-08-31T10:19:33.946133Z"
    }
   },
   "outputs": [],
   "source": [
    "import numpy as np\n",
    "import matplotlib.pyplot as plt"
   ]
  },
  {
   "cell_type": "markdown",
   "id": "2f3dabb6",
   "metadata": {
    "pycharm": {
     "name": "#%% md\n"
    }
   },
   "source": [
    "Numpy is a Python library which adds supports for multi-dimensional data arrays and matrices, so it is very useful for\n",
    "storing and handling data. You will probably use it in every Solcore script you write. Here, it is imported under the\n",
    "alias 'np', which you will see used below. matplotlib is used for making plots, and is imported under the alias 'plt'.\n",
    "Both the 'np' and 'plt' aliases are extremely commonly used in Python programming.\n",
    "\n",
    "Now, let's import some things from Solcore (which will be explained as we use them):"
   ]
  },
  {
   "cell_type": "code",
   "execution_count": null,
   "id": "4608be74",
   "metadata": {
    "pycharm": {
     "name": "#%%\n"
    },
    "ExecuteTime": {
     "end_time": "2023-08-31T10:19:35.276126Z",
     "start_time": "2023-08-31T10:19:35.268745Z"
    }
   },
   "outputs": [],
   "source": [
    "from solcore import material, si\n",
    "from solcore.solar_cell import SolarCell, Layer, Junction\n",
    "from solcore.solar_cell_solver import solar_cell_solver\n",
    "from solcore.interpolate import interp1d"
   ]
  },
  {
   "cell_type": "markdown",
   "id": "9322ab52",
   "metadata": {
    "pycharm": {
     "name": "#%% md\n"
    }
   },
   "source": [
    "## Defining materials\n",
    "\n",
    "To define our solar cell, we first want to define some materials. Then we want to organise those materials into Layers,\n",
    "organise those layers into a Junction, and then finally define a SolarCell with that Junction.\n",
    "\n",
    "First, let's define a Si material. Silicon, along with many other semiconductors, dielectrics, and metals common in\n",
    "solar cells, is included in Solcore's database:"
   ]
  },
  {
   "cell_type": "code",
   "execution_count": null,
   "id": "52318c87",
   "metadata": {
    "pycharm": {
     "name": "#%%\n"
    },
    "ExecuteTime": {
     "start_time": "2023-08-31T10:19:35.270786Z"
    }
   },
   "outputs": [],
   "source": [
    "Si = material(\"Si\")\n",
    "GaAs = material(\"GaAs\")"
   ]
  },
  {
   "cell_type": "markdown",
   "id": "7f75b1ed",
   "metadata": {
    "pycharm": {
     "name": "#%% md\n"
    }
   },
   "source": [
    "This creates an instance of the Si and GaAs materials. However, to use this in a solar cell we need to do specify some more\n",
    "information, such as the doping level. The 'si' function comes in handy here to convert all quantities to based units\n",
    "e.g. m, m^(-3)..."
   ]
  },
  {
   "cell_type": "code",
   "execution_count": null,
   "id": "efe8d72d",
   "metadata": {
    "pycharm": {
     "name": "#%%\n"
    },
    "ExecuteTime": {
     "start_time": "2023-08-31T10:19:35.272736Z"
    }
   },
   "outputs": [],
   "source": [
    "Si_n = Si(Nd=si(\"1e21cm-3\"), hole_diffusion_length=si(\"10um\"), relative_permittivity=11.7)\n",
    "Si_p = Si(Na=si(\"1e16cm-3\"), electron_diffusion_length=si(\"400um\"), relative_permittivity=11.7)"
   ]
  },
  {
   "cell_type": "markdown",
   "id": "d71d6f6e",
   "metadata": {
    "pycharm": {
     "name": "#%% md\n"
    }
   },
   "source": [
    "## Defining layers\n",
    "\n",
    "Now we define the emitter and base layers we will have in the solar cell; we specify their thickness, the material they\n",
    "are made of and the role they play within the cell (emitter or base)"
   ]
  },
  {
   "cell_type": "code",
   "execution_count": null,
   "id": "94fccae1",
   "metadata": {
    "pycharm": {
     "name": "#%%\n"
    },
    "ExecuteTime": {
     "start_time": "2023-08-31T10:19:35.273937Z"
    }
   },
   "outputs": [],
   "source": [
    "emitter_layer = Layer(width=si(\"600nm\"), material=Si_n, role='emitter')\n",
    "base_layer = Layer(width=si(\"200um\"), material=Si_p, role='base')\n"
   ]
  },
  {
   "cell_type": "markdown",
   "id": "8f590752",
   "metadata": {
    "pycharm": {
     "name": "#%% md\n"
    }
   },
   "source": [
    "create the p-n junction using the layers defined above. We set kind=\"DA\" to tell Solcore to use the Depletion Approximation\n",
    "in the calculation (we will discuss the different electrical solver options more later on):"
   ]
  },
  {
   "cell_type": "code",
   "execution_count": null,
   "id": "60b675c1",
   "metadata": {
    "pycharm": {
     "name": "#%%\n"
    },
    "ExecuteTime": {
     "start_time": "2023-08-31T10:19:35.275983Z"
    }
   },
   "outputs": [],
   "source": [
    "Si_junction = Junction([emitter_layer, base_layer], kind=\"DA\")"
   ]
  },
  {
   "cell_type": "markdown",
   "id": "cc786bbb",
   "metadata": {
    "pycharm": {
     "name": "#%% md\n"
    }
   },
   "source": [
    "## Setting user options\n",
    "\n",
    "Wavelengths we want to use in the calculations; wavelengths between 300 and 1200 nm, at 200 evenly spaced intervals:"
   ]
  },
  {
   "cell_type": "code",
   "execution_count": null,
   "id": "3ea1742d",
   "metadata": {
    "pycharm": {
     "name": "#%%\n"
    },
    "ExecuteTime": {
     "end_time": "2023-08-31T10:19:35.279828Z",
     "start_time": "2023-08-31T10:19:35.278286Z"
    }
   },
   "outputs": [],
   "source": [
    "wavelengths = si(np.linspace(300, 1200, 200), \"nm\")"
   ]
  },
  {
   "cell_type": "markdown",
   "id": "6ca0c2df",
   "metadata": {
    "pycharm": {
     "name": "#%% md\n"
    }
   },
   "source": [
    "Note that here and above in defining the layers and materials we have used the \"si()\" function: you can use this to automatically\n",
    "convert quantities in other units to base SI units (e.g. nanometres to metres).\n",
    "\n",
    "Now we specify some options for running the calculation. Initially we want to use the Beer-Lambert absorption law to\n",
    "calculate the optics of the cell (\"BL\"). We set the wavelengths we want to use, and we set \"recalculate_absorption\" to\n",
    "True so that further down in the script when we try different optics methods, Solcore knows we want to re-calculate the\n",
    "optics of the cell. We specify the options in a Python format called a dictionary:"
   ]
  },
  {
   "cell_type": "code",
   "execution_count": null,
   "id": "0450c0de",
   "metadata": {
    "pycharm": {
     "name": "#%%\n"
    },
    "ExecuteTime": {
     "start_time": "2023-08-31T10:19:35.280700Z"
    }
   },
   "outputs": [],
   "source": [
    "options = {\n",
    "    \"recalculate_absorption\": True,\n",
    "    \"optics_method\": \"BL\",\n",
    "    \"wavelength\": wavelengths\n",
    "           }"
   ]
  },
  {
   "cell_type": "markdown",
   "id": "47c6dada",
   "metadata": {
    "pycharm": {
     "name": "#%% md\n"
    }
   },
   "source": [
    "## Running cell simulations\n",
    "\n",
    "Define the solar cell; in this case it is very simple and we just have a single junction:"
   ]
  },
  {
   "cell_type": "code",
   "execution_count": null,
   "id": "80a1d431",
   "metadata": {
    "pycharm": {
     "name": "#%%\n"
    },
    "ExecuteTime": {
     "end_time": "2023-08-31T10:19:35.284526Z",
     "start_time": "2023-08-31T10:19:35.283163Z"
    }
   },
   "outputs": [],
   "source": [
    "solar_cell = SolarCell([Si_junction])"
   ]
  },
  {
   "cell_type": "markdown",
   "id": "4636a69a",
   "metadata": {
    "pycharm": {
     "name": "#%% md\n"
    }
   },
   "source": [
    "Now use solar_cell_solver to calculate the QE of the cell; we can ask solar_cell_solver to calculate 'qe', 'optics' or 'iv'.\n"
   ]
  },
  {
   "cell_type": "code",
   "execution_count": null,
   "id": "fe875b5d",
   "metadata": {
    "pycharm": {
     "name": "#%%\n"
    },
    "ExecuteTime": {
     "start_time": "2023-08-31T10:19:35.284993Z"
    }
   },
   "outputs": [],
   "source": [
    "solar_cell_solver(solar_cell, 'qe', options)"
   ]
  },
  {
   "cell_type": "markdown",
   "id": "b22c9a93",
   "metadata": {
    "pycharm": {
     "name": "#%% md\n"
    }
   },
   "source": [
    "**PLOT 1**: plotting the QE in the Si junction, as well as the fraction of light absorbed in the junction and reflected:"
   ]
  },
  {
   "cell_type": "code",
   "execution_count": null,
   "id": "d69ec4af",
   "metadata": {
    "pycharm": {
     "name": "#%%\n"
    },
    "ExecuteTime": {
     "start_time": "2023-08-31T10:19:35.287856Z"
    }
   },
   "outputs": [],
   "source": [
    "plt.figure()\n",
    "plt.plot(wavelengths*1e9, 100*solar_cell[0].eqe(wavelengths), 'k-', label=\"EQE\")\n",
    "plt.plot(wavelengths*1e9, 100*solar_cell[0].layer_absorption, label='Absorptance (A)')\n",
    "plt.plot(wavelengths*1e9, 100*solar_cell.reflected, label='Reflectance (R)')\n",
    "plt.legend()\n",
    "plt.xlabel(\"Wavelength (nm)\")\n",
    "plt.ylabel(\"QE/Absorptance (%)\")\n",
    "plt.title(\"(1) QE of Si cell - Beer-Lambert absorption\")\n",
    "plt.show()"
   ]
  },
  {
   "cell_type": "markdown",
   "id": "4e0be864",
   "metadata": {
    "pycharm": {
     "name": "#%% md\n"
    }
   },
   "source": [
    "## Adding front-surface reflection: Fresnel\n",
    "\n",
    "Now, to make this calculation a bit more realistic, there are a few things we could do. We could load some measured front\n",
    "surface reflectance from a file, or we could calculate the reflectance. To calculate the reflectance,\n",
    "there are many approaches we could take; we are going to explore two of them here.\n",
    "\n",
    "If we assume the silicon is infinitely thick (or at least much thicker than the wavelengths we care about) then the\n",
    "reflectance will approach the reflectivity of a simple air/Si interface. We can calculate what this is using the [Fresnel equation for reflectivity]( https://en.wikipedia.org/wiki/Fresnel_equations)."
   ]
  },
  {
   "cell_type": "code",
   "execution_count": null,
   "id": "88518d95",
   "metadata": {
    "pycharm": {
     "name": "#%%\n"
    },
    "ExecuteTime": {
     "end_time": "2023-08-31T10:19:35.311798Z",
     "start_time": "2023-08-31T10:19:35.291156Z"
    }
   },
   "outputs": [],
   "source": [
    "def calculate_R_Fresnel(incidence_n, transmission_n, wl):\n",
    "    # return a function that gives the value of R (at normal incidence) at the input wavelengths\n",
    "\n",
    "    Rs = np.abs((incidence_n - transmission_n)/(incidence_n + transmission_n))**2\n",
    "\n",
    "    return interp1d(wl, Rs)"
   ]
  },
  {
   "cell_type": "markdown",
   "id": "9256a66b",
   "metadata": {
    "pycharm": {
     "name": "#%% md\n"
    }
   },
   "source": [
    "complex reflective index at our wavelengths for the transmission medium (Si). The incidence_n = 1 (air)."
   ]
  },
  {
   "cell_type": "code",
   "execution_count": null,
   "id": "4b1a2447",
   "metadata": {
    "pycharm": {
     "name": "#%%\n"
    },
    "ExecuteTime": {
     "start_time": "2023-08-31T10:19:35.293451Z"
    }
   },
   "outputs": [],
   "source": [
    "trns_n = Si_n.n(wavelengths) + 1j*Si_n.k(wavelengths)\n",
    "reflectivity_fn = calculate_R_Fresnel(1, trns_n, wavelengths)"
   ]
  },
  {
   "cell_type": "markdown",
   "id": "2de080f6",
   "metadata": {
    "pycharm": {
     "name": "#%% md\n"
    }
   },
   "source": [
    "we define the solar cell again, with the same layers but now supplying the function for the externally-calculated\n",
    "reflectivity, and calculate the optics (reflection, absorption, transmission):"
   ]
  },
  {
   "cell_type": "code",
   "execution_count": null,
   "id": "5201266e",
   "metadata": {
    "pycharm": {
     "name": "#%%\n"
    },
    "ExecuteTime": {
     "start_time": "2023-08-31T10:19:35.296474Z"
    }
   },
   "outputs": [],
   "source": [
    "solar_cell_fresnel = SolarCell([Si_junction], reflectivity=reflectivity_fn)\n",
    "\n",
    "solar_cell_solver(solar_cell_fresnel, 'optics', options)"
   ]
  },
  {
   "cell_type": "markdown",
   "id": "4264af5b",
   "metadata": {
    "pycharm": {
     "name": "#%% md\n"
    }
   },
   "source": [
    "## Adding front surface reflection: TMM\n",
    "\n",
    "Finally, we do the same again but now instead of supplying the external reflectivity we ask set the optics_method to\n",
    "\"TMM\" (Transfer Matrix Method), to correctly calculate reflection at the front surface:"
   ]
  },
  {
   "cell_type": "code",
   "execution_count": null,
   "id": "a5bcaec8",
   "metadata": {
    "pycharm": {
     "name": "#%%\n"
    },
    "ExecuteTime": {
     "start_time": "2023-08-31T10:19:35.298495Z"
    }
   },
   "outputs": [],
   "source": [
    "Si_junction = Junction([emitter_layer, base_layer], kind=\"DA\")\n",
    "\n",
    "solar_cell_TMM = SolarCell([Si_junction])"
   ]
  },
  {
   "cell_type": "markdown",
   "id": "6d65e5e7",
   "metadata": {
    "pycharm": {
     "name": "#%% md\n"
    }
   },
   "source": [
    "Set some more options:"
   ]
  },
  {
   "cell_type": "code",
   "execution_count": null,
   "id": "b8cb3930",
   "metadata": {
    "pycharm": {
     "name": "#%%\n"
    },
    "ExecuteTime": {
     "start_time": "2023-08-31T10:19:35.300025Z"
    }
   },
   "outputs": [],
   "source": [
    "options[\"optics_method\"] = \"TMM\"\n",
    "voltages = np.linspace(0, 1.1, 100)\n",
    "options[\"light_iv\"] = True\n",
    "options[\"mpp\"] = True\n",
    "options[\"voltages\"] = voltages"
   ]
  },
  {
   "cell_type": "markdown",
   "id": "f3bde34e",
   "metadata": {
    "pycharm": {
     "name": "#%% md\n"
    }
   },
   "source": [
    "we calculate the QE and the IV (we set the light_iv option to True; if we don't do this, Solcore just calculates the\n",
    "dark IV). We also ask Solcore to find the maximum power point (mpp) so we can get the efficiency."
   ]
  },
  {
   "cell_type": "code",
   "execution_count": null,
   "id": "9c1db39d",
   "metadata": {
    "pycharm": {
     "name": "#%%\n"
    },
    "ExecuteTime": {
     "start_time": "2023-08-31T10:19:35.301111Z"
    }
   },
   "outputs": [],
   "source": [
    "solar_cell_solver(solar_cell_TMM, 'iv', options)\n",
    "solar_cell_solver(solar_cell_TMM, 'qe', options)"
   ]
  },
  {
   "cell_type": "markdown",
   "id": "c2f7e89d",
   "metadata": {
    "pycharm": {
     "name": "#%% md\n"
    }
   },
   "source": [
    "**PLOT 2**: here we plot the reflection, transmission, and absorption calculated with the Fresnel equation defined above,\n",
    "and with the TMM solver in Solcore, showing that for this simple situation (no anti-reflection coating, thick Si junction)\n",
    "they are exactly equivalent."
   ]
  },
  {
   "cell_type": "code",
   "execution_count": null,
   "id": "fc4613a9",
   "metadata": {
    "pycharm": {
     "name": "#%%\n"
    },
    "ExecuteTime": {
     "start_time": "2023-08-31T10:19:35.302264Z"
    }
   },
   "outputs": [],
   "source": [
    "plt.figure()\n",
    "plt.plot(wavelengths*1e9, 100*solar_cell_TMM.reflected, color='firebrick', label = \"R (TMM)\")\n",
    "plt.plot(wavelengths*1e9, 100*solar_cell_fresnel.reflected, '--', color='orangered', label = \"R (Fresnel)\")\n",
    "plt.plot(wavelengths*1e9, 100*solar_cell_TMM.absorbed, color='dimgrey', label = \"A (TMM)\")\n",
    "plt.plot(wavelengths*1e9, 100*solar_cell_fresnel.absorbed, '--', color='lightgrey', label = \"A (Fresnel)\")\n",
    "plt.plot(wavelengths*1e9, 100*solar_cell_TMM.transmitted, color='blue', label = \"T (TMM)\")\n",
    "plt.plot(wavelengths*1e9, 100*solar_cell_fresnel.transmitted, '--', color='dodgerblue', label = \"T (Fresnel)\")\n",
    "plt.ylim(0, 100)\n",
    "plt.legend()\n",
    "plt.title(\"(2) Optics of Si cell - Fresnel/TMM\")\n",
    "plt.show()"
   ]
  },
  {
   "cell_type": "markdown",
   "id": "6dd0b814",
   "metadata": {
    "pycharm": {
     "name": "#%% md\n"
    }
   },
   "source": [
    "**PLOT 3**: As above for the TMM calculation, plotting the EQE as well, which will be slightly lower than the absorption\n",
    "because not all the carriers are collected. Comparing to plot (1), we can see we now have lower absorption due to\n",
    "the inclusion of front surface reflection."
   ]
  },
  {
   "cell_type": "code",
   "execution_count": null,
   "id": "262bcf18",
   "metadata": {
    "pycharm": {
     "name": "#%%\n"
    },
    "ExecuteTime": {
     "start_time": "2023-08-31T10:19:35.303222Z"
    }
   },
   "outputs": [],
   "source": [
    "plt.figure()\n",
    "plt.plot(wavelengths*1e9, 100*solar_cell_TMM[0].eqe(wavelengths), 'k-', label=\"EQE\")\n",
    "plt.plot(wavelengths*1e9, 100*solar_cell_TMM[0].layer_absorption, label='A')\n",
    "plt.plot(wavelengths*1e9, 100*solar_cell_TMM.reflected, label=\"R\")\n",
    "plt.plot(wavelengths*1e9, 100*solar_cell_TMM.transmitted, label=\"T\")\n",
    "plt.title(\"(3) QE of Si cell (no ARC) - TMM\")\n",
    "plt.legend()\n",
    "plt.xlabel(\"Wavelength (nm)\")\n",
    "plt.ylabel(\"QE/Absorptance (%)\")\n",
    "plt.ylim(0, 100)\n",
    "plt.show()"
   ]
  },
  {
   "cell_type": "markdown",
   "id": "863ae7c5",
   "metadata": {
    "pycharm": {
     "name": "#%% md\n"
    }
   },
   "source": [
    "## Adding an ARC\n",
    "\n",
    "Now we will try adding a simple anti-reflection coating (ARC), a single layer of silicon nitride (Si3N4):"
   ]
  },
  {
   "cell_type": "code",
   "execution_count": null,
   "id": "e1307e1b",
   "metadata": {
    "pycharm": {
     "name": "#%%\n"
    },
    "ExecuteTime": {
     "start_time": "2023-08-31T10:19:35.304599Z"
    }
   },
   "outputs": [],
   "source": [
    "SiN = material(\"Si3N4\")()\n",
    "\n",
    "Si_junction = Junction([emitter_layer, base_layer], kind=\"DA\")\n",
    "\n",
    "solar_cell_TMM_ARC = SolarCell([Layer(width=si(75, \"nm\"), material=SiN), Si_junction])\n",
    "\n",
    "solar_cell_solver(solar_cell_TMM_ARC, 'qe', options)\n",
    "solar_cell_solver(solar_cell_TMM_ARC, 'iv', options)"
   ]
  },
  {
   "cell_type": "markdown",
   "id": "c2430251",
   "metadata": {
    "pycharm": {
     "name": "#%% md\n"
    }
   },
   "source": [
    "**PLOT 4**: Absorption, EQE, reflection and transmission for the cell with a simple one-layer ARC. We see the reflection\n",
    "is significantly reduced from the previous plot leading to higher absorption/EQE."
   ]
  },
  {
   "cell_type": "code",
   "execution_count": null,
   "id": "b0031804",
   "metadata": {
    "pycharm": {
     "name": "#%%\n"
    },
    "ExecuteTime": {
     "start_time": "2023-08-31T10:19:35.306537Z"
    }
   },
   "outputs": [],
   "source": [
    "plt.figure()\n",
    "plt.plot(wavelengths*1e9, 100*solar_cell_TMM_ARC[1].eqe(wavelengths), 'k-', label=\"EQE\")\n",
    "plt.plot(wavelengths*1e9, 100*solar_cell_TMM_ARC[1].layer_absorption, label='A')\n",
    "plt.plot(wavelengths*1e9, 100*solar_cell_TMM_ARC.reflected, label=\"R\")\n",
    "plt.plot(wavelengths*1e9, 100*solar_cell_TMM_ARC.transmitted, label=\"T\")\n",
    "plt.legend()\n",
    "plt.title(\"(4) QE of Si cell (ARC) - TMM\")\n",
    "plt.xlabel(\"Wavelength (nm)\")\n",
    "plt.ylabel(\"QE/Absorptance (%)\")\n",
    "plt.ylim(0, 100)\n",
    "plt.show()"
   ]
  },
  {
   "cell_type": "markdown",
   "id": "509a0f2a",
   "metadata": {
    "pycharm": {
     "name": "#%% md\n"
    }
   },
   "source": [
    "**PLOT 5**: Compare the IV curves of the cells with and without an ARC. The efficiency is also shown on the\n",
    "plot. Note that because we didn't specify a light source, Solcore will assume we want to use AM1.5G; in later\n",
    "examples we will set the light source used for IV simulations explicitly.\n"
   ]
  },
  {
   "cell_type": "code",
   "execution_count": null,
   "id": "0aab5be1",
   "metadata": {
    "pycharm": {
     "name": "#%%\n"
    },
    "ExecuteTime": {
     "start_time": "2023-08-31T10:19:35.307601Z"
    }
   },
   "outputs": [],
   "source": [
    "plt.figure()\n",
    "plt.plot(voltages, -solar_cell_TMM[0].iv(voltages)/10, label=\"No ARC\")\n",
    "plt.plot(voltages, -solar_cell_TMM_ARC[1].iv(voltages)/10, label=\"75 nm SiN\")\n",
    "plt.text(0.5, solar_cell_TMM.iv[\"Isc\"]/10, str(round(solar_cell_TMM.iv[\"Eta\"]*100, 1)) + ' %')\n",
    "plt.text(0.5, solar_cell_TMM_ARC.iv[\"Isc\"]/10, str(round(solar_cell_TMM_ARC.iv[\"Eta\"]*100, 1)) + ' %')\n",
    "plt.ylim(0, 38)\n",
    "plt.xlim(0, 0.8)\n",
    "plt.legend()\n",
    "plt.xlabel(\"V (V)\")\n",
    "plt.ylabel(r\"J (mA/cm$^2$)\")\n",
    "plt.title(\"(5) IV curve of Si cell with and without ARC\")\n",
    "plt.show()"
   ]
  },
  {
   "cell_type": "markdown",
   "id": "98aaf47e",
   "metadata": {
    "pycharm": {
     "name": "#%% md\n"
    }
   },
   "source": [
    "## Conclusions\n",
    "\n",
    "We see that the cell with an ARC has a significantly higher Jsc, and a slightly higher Voc,\n",
    "than the bare Si cell. In reality, most Si cells have a textured surface rather than a planar\n",
    "surface with an ARC; this will be discussed later in the course.\n",
    "\n",
    "Overall, some things we can take away from the examples in this script:\n",
    "- The Beer-Lambert law is a very simple way to calculate absorption in a cell, but won't take into\n",
    "  account important effects such as front-surface reflection or the effects of anti-reflection coatings\n",
    "- Using the transfer-matrix method (TMM) we can account for front surface reflection and interference\n",
    "  effects which make e.g. ARCs effective. In the simple situation of a thick cell without any front surface\n",
    "  layers, it is equivalent to simply calculation the reflection with the Fresnel equations and assuming\n",
    "  Beer-Lambert absorption in the cell.\n",
    "- Adding a simple, one-layer ARC can significantly reduce front-surface reflection for a single-junction\n",
    "  cell, leading to improved short-circuit current."
   ]
  }
 ],
 "metadata": {
  "kernelspec": {
   "display_name": "Python 3 (ipykernel)",
   "language": "python",
   "name": "python3"
  },
  "language_info": {
   "codemirror_mode": {
    "name": "ipython",
    "version": 3
   },
   "file_extension": ".py",
   "mimetype": "text/x-python",
   "name": "python",
   "nbconvert_exporter": "python",
   "pygments_lexer": "ipython3",
   "version": "3.9.12"
  }
 },
 "nbformat": 4,
 "nbformat_minor": 5
}
