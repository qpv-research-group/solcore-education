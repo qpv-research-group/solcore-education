{
 "cells": [
  {
   "cell_type": "markdown",
   "source": [
    "# Section 9b: Planar III-V epoxy-bonded to textured Si\n",
    "\n",
    "The structure in this example is based on that of\n",
    "[the previous example (9a)](9a-GaInP_GaAs_Si_grating.ipynb), but\n",
    "with the planar bottom Si cell replaced by a Si cell with a pyramidal texture, bonded\n",
    " to the III-V top cells with a low-index epoxy/glass layer.\n",
    "\n",
    "We could use the angular redistribution matrix method as in the previous example -\n",
    "however, because in this example we only need to use TMM and ray-tracing (RT), we can\n",
    " use the ray-tracing method with integrated RT directly (this is generally faster,\n",
    " because we do not need to calculate the behaviour of the surfaces for every angle of\n",
    "  incidence).\n",
    "\n",
    "## Setting up\n",
    "\n",
    "We load relevant packages and define materials, the same as in the previous example."
   ],
   "metadata": {
    "collapsed": false
   }
  },
  {
   "cell_type": "code",
   "execution_count": 28,
   "outputs": [
    {
     "name": "stdout",
     "output_type": "stream",
     "text": [
      "Database file found at /Users/phoebe/.solcore/nk/nk.db\n",
      "1 results found.\n",
      "pageid\tshelf\tbook\tpage\tfilepath\thasrefractive\thasextinction\trangeMin\trangeMax\tpoints\n",
      "234\tmain\tMgF2\tRodriguez-de_Marcos\tmain/MgF2/Rodriguez-de Marcos.yml\t1\t1\t0.0299919\t2.00146\t960\n",
      "Database file found at /Users/phoebe/.solcore/nk/nk.db\n",
      "1 results found.\n",
      "pageid\tshelf\tbook\tpage\tfilepath\thasrefractive\thasextinction\trangeMin\trangeMax\tpoints\n",
      "475\tmain\tTa2O5\tRodriguez-de_Marcos\tmain/Ta2O5/Rodriguez-de Marcos.yml\t1\t1\t0.0294938\t1.51429\t212\n",
      "Database file found at /Users/phoebe/.solcore/nk/nk.db\n",
      "2 results found.\n",
      "pageid\tshelf\tbook\tpage\tfilepath\thasrefractive\thasextinction\trangeMin\trangeMax\tpoints\n",
      "2835\tother\tnegative_tone_photoresists\tMicrochem_SU8_2000\tother/resists/Microchem SU-8 2000.yml\t1\t0\t0.32\t0.8\t200\n",
      "2836\tother\tnegative_tone_photoresists\tMicrochem_SU8_3000\tother/resists/Microchem SU-8 3000.yml\t1\t0\t0.32\t1.7\t200\n",
      "Database file found at /Users/phoebe/.solcore/nk/nk.db\n",
      "1 results found.\n",
      "pageid\tshelf\tbook\tpage\tfilepath\thasrefractive\thasextinction\trangeMin\trangeMax\tpoints\n",
      "2\tmain\tAg\tJiang\tmain/Ag/Jiang.yml\t1\t1\t0.3\t2.0\t1701\n"
     ]
    }
   ],
   "source": [
    "#| output: false\n",
    "\n",
    "from solcore import material, si\n",
    "from solcore.absorption_calculator import search_db, download_db\n",
    "import os\n",
    "from solcore.structure import Layer\n",
    "from solcore.light_source import LightSource\n",
    "from rayflare.ray_tracing import rt_structure\n",
    "from rayflare.transfer_matrix_method import tmm_structure\n",
    "from rayflare.textures import planar_surface, regular_pyramids\n",
    "from rayflare.options import default_options\n",
    "from solcore.constants import q\n",
    "import numpy as np\n",
    "import matplotlib.pyplot as plt\n",
    "\n",
    "# download_db()\n",
    "\n",
    "MgF2_pageid = search_db(os.path.join(\"MgF2\", \"Rodriguez-de Marcos\"))[0][0];\n",
    "Ta2O5_pageid = search_db(os.path.join(\"Ta2O5\", \"Rodriguez-de Marcos\"))[0][0];\n",
    "SU8_pageid = search_db(\"SU8\")[0][0];\n",
    "Ag_pageid = search_db(os.path.join(\"Ag\", \"Jiang\"))[0][0];\n",
    "\n",
    "epoxy = material(\"BK7\")()\n",
    "\n",
    "MgF2 = material(str(MgF2_pageid), nk_db=True)();\n",
    "Ta2O5 = material(str(Ta2O5_pageid), nk_db=True)();\n",
    "SU8 = material(str(SU8_pageid), nk_db=True)();\n",
    "Ag = material(str(Ag_pageid), nk_db=True)();\n",
    "\n",
    "window = material(\"AlInP\")(Al=0.52)\n",
    "GaInP = material(\"GaInP\")\n",
    "AlGaAs = material(\"AlGaAs\")\n",
    "\n",
    "Air = material(\"Air\")()\n",
    "\n",
    "GaAs = material(\"GaAs\")\n",
    "\n",
    "Si = material(\"Si\")\n",
    "\n",
    "Al2O3 = material(\"Al2O3P\")()\n",
    "Al = material(\"Al\")()"
   ],
   "metadata": {
    "collapsed": false
   }
  },
  {
   "cell_type": "markdown",
   "source": [
    "We define the layers we will need, as before. We specify the thickness of the silicon\n",
    " (280 $\\mu$m)\n",
    " and epoxy (1 mm) at the top:"
   ],
   "metadata": {
    "collapsed": false
   }
  },
  {
   "cell_type": "code",
   "execution_count": 29,
   "outputs": [],
   "source": [
    "d_Si = 280e-6 # thickness of Si wafer\n",
    "d_epoxy = 1e-3 # thickness of epoxy\n",
    "\n",
    "ARC = [\n",
    "    Layer(110e-9, MgF2),\n",
    "    Layer(65e-9, Ta2O5),\n",
    "]\n",
    "\n",
    "GaInP_junction = [\n",
    "    Layer(17e-9, window),\n",
    "    Layer(400e-9, GaInP(In=0.50)),\n",
    "    Layer(100e-9, AlGaAs(Al=0.8))]\n",
    "\n",
    "# 100 nm TJ\n",
    "tunnel_1 = [\n",
    "    Layer(80e-9, AlGaAs(Al=0.8)),\n",
    "    Layer(20e-9, GaInP(In=0.5)),\n",
    "]\n",
    "\n",
    "GaAs_junction = [\n",
    "    Layer(17e-9, GaInP(In=0.5), role=\"window\"),\n",
    "    Layer(1050e-9, GaAs()),\n",
    "    Layer(70e-9, AlGaAs(Al=0.8), role=\"bsf\")]\n",
    "\n",
    "spacer_ARC = [\n",
    "    Layer(80e-9, Ta2O5),\n",
    "]"
   ],
   "metadata": {
    "collapsed": false
   }
  },
  {
   "cell_type": "markdown",
   "source": [
    "## Defining the cell layers\n",
    "\n",
    "There are three interfaces in the cell which will define the structure to simulate:\n",
    "\n",
    "1. the III-V/epoxy interface, where the epoxy itself will be treated as a bulk layer in\n",
    "   the simulation\n",
    "2. the epoxy/Si interface, where the Si has a pyramidal texture (the Si itself is\n",
    "   another bulk layer in the simulation).\n",
    "3. the rear surface of the cell, where the Si again has a pyramidal texture (and we\n",
    "   assume there is a silver back mirror behind the cell)\n",
    "\n",
    "These 3 interfaces are defined here, using the pre-defined textures for a planar\n",
    "surface or regular pyramids:"
   ],
   "metadata": {
    "collapsed": false
   }
  },
  {
   "cell_type": "code",
   "execution_count": 30,
   "outputs": [],
   "source": [
    "front_layers = ARC + GaInP_junction + tunnel_1 + GaAs_junction + spacer_ARC\n",
    "\n",
    "front_surf = planar_surface(\n",
    "    interface_layers = front_layers\n",
    ")\n",
    "\n",
    "Si_front = regular_pyramids(\n",
    "    elevation_angle=50,\n",
    "    upright=True,\n",
    ")\n",
    "\n",
    "Si_back = regular_pyramids(\n",
    "    elevation_angle=50,\n",
    "    upright=False,\n",
    ")"
   ],
   "metadata": {
    "collapsed": false
   }
  },
  {
   "cell_type": "markdown",
   "source": [
    "Now we set relevant options for the solver. We set the number of rays to trace at\n",
    "each wavelength (more rays will make the result less noisy, but increase computation\n",
    "time) and whether to calculate the absorption profile in the bulk layers (no, in this\n",
    "case). The `randomize_surface` options determines whether the ray keeps track of its\n",
    "positions in the unit cell while travelling between surfaces; we set this to `False` to\n",
    " mimic random pyramids."
   ],
   "metadata": {
    "collapsed": false
   }
  },
  {
   "cell_type": "code",
   "execution_count": 31,
   "outputs": [],
   "source": [
    "options = default_options()\n",
    "\n",
    "wl = np.arange(300, 1201, 10) * 1e-9\n",
    "AM15G = LightSource(source_type=\"standard\", version=\"AM1.5g\", x=wl,\n",
    "                    output_units=\"photon_flux_per_m\")\n",
    "\n",
    "options.wavelengths = wl\n",
    "options.project_name = \"III_V_Si_cell\"\n",
    "\n",
    "# options for ray-tracing\n",
    "options.randomize_surface = True\n",
    "options.n_rays = 1000\n",
    "options.bulk_profile = False"
   ],
   "metadata": {
    "collapsed": false
   }
  },
  {
   "cell_type": "markdown",
   "source": [
    "## Defining the structures\n",
    "\n",
    "Finally, we define the ray-tracing structure we will use, using the interfaces, bulk\n",
    "materials, and options set above. Because we want to calculate the\n",
    "reflection/absorption/transmission probabilities at the front surface using TMM, we\n",
    "set the `use_TMM` argument to True. We also define a completely planar cell with the\n",
    "same layer thicknesses etc. to compare and evaluate the effect of the textures Si\n",
    "surfaces."
   ],
   "metadata": {
    "collapsed": false
   }
  },
  {
   "cell_type": "code",
   "execution_count": 32,
   "outputs": [
    {
     "name": "stdout",
     "output_type": "stream",
     "text": [
      "Pre-computing TMM lookup table(s)\n",
      "Database file found at /Users/phoebe/.solcore/nk/nk.db\n",
      "Material main/MgF2/Rodriguez-de Marcos.yml loaded.\n",
      "Database file found at /Users/phoebe/.solcore/nk/nk.db\n",
      "Material main/MgF2/Rodriguez-de Marcos.yml loaded.\n",
      "Database file found at /Users/phoebe/.solcore/nk/nk.db\n",
      "Material main/Ta2O5/Rodriguez-de Marcos.yml loaded.\n",
      "Database file found at /Users/phoebe/.solcore/nk/nk.db\n",
      "Material main/Ta2O5/Rodriguez-de Marcos.yml loaded.\n"
     ]
    }
   ],
   "source": [
    "solar_cell = rt_structure(\n",
    "    textures=[front_surf, Si_front, Si_back],\n",
    "    materials=[epoxy, Si()],\n",
    "    widths=[d_epoxy, d_Si],\n",
    "    incidence=Air,\n",
    "    transmission=Ag,\n",
    "    options=options,\n",
    "    use_TMM=True,\n",
    "    save_location=\"current\", # lookup table save location\n",
    "    overwrite=True, # whether to overwrite any previously existing results, if found\n",
    ")\n",
    "\n",
    "# options for TMM\n",
    "options.coherent = False\n",
    "options.coherency_list = len(front_layers)*['c'] + ['i']*2\n",
    "\n",
    "solar_cell_planar = tmm_structure(\n",
    "    layer_stack = front_layers + [Layer(d_epoxy, epoxy), Layer(d_Si, Si())],\n",
    "    incidence=Air,\n",
    "    transmission=Ag,\n",
    ")"
   ],
   "metadata": {
    "collapsed": false
   }
  },
  {
   "cell_type": "markdown",
   "source": [
    "## Calculations\n",
    "\n",
    "Calculate the R/A/T for the planar reference cell:"
   ],
   "metadata": {
    "collapsed": false
   }
  },
  {
   "cell_type": "code",
   "execution_count": 33,
   "outputs": [
    {
     "name": "stdout",
     "output_type": "stream",
     "text": [
      "Database file found at /Users/phoebe/.solcore/nk/nk.db\n",
      "Material main/Ag/Jiang.yml loaded.\n",
      "Database file found at /Users/phoebe/.solcore/nk/nk.db\n",
      "Material main/Ag/Jiang.yml loaded.\n"
     ]
    }
   ],
   "source": [
    "#| output: false\n",
    "\n",
    "tmm_result = solar_cell_planar.calculate(options=options)\n",
    "\n",
    "GaInP_A_tmm = tmm_result['A_per_layer'][:,3]\n",
    "GaAs_A_tmm = tmm_result['A_per_layer'][:,8]\n",
    "Si_A_tmm = tmm_result['A_per_layer'][:,len(front_layers)+1]\n",
    "\n",
    "Jmax_GaInP_tmm = q*np.trapz(GaInP_A_tmm*AM15G.spectrum()[1], x=wl)/10\n",
    "Jmax_GaAs_tmm = q*np.trapz(GaAs_A_tmm*AM15G.spectrum()[1], x=wl)/10\n",
    "Jmax_Si_tmm = q*np.trapz(Si_A_tmm*AM15G.spectrum()[1], x=wl)/10"
   ],
   "metadata": {
    "collapsed": false
   }
  },
  {
   "cell_type": "markdown",
   "source": [
    "Calculate the R/A/T for the textured cell:"
   ],
   "metadata": {
    "collapsed": false
   }
  },
  {
   "cell_type": "code",
   "execution_count": 34,
   "outputs": [],
   "source": [
    "#| output: false\n",
    "\n",
    "rt_result = solar_cell.calculate(options=options)\n",
    "\n",
    "GaInP_absorption_ARC = rt_result['A_per_interface'][0][:,3]\n",
    "GaAs_absorption_ARC = rt_result['A_per_interface'][0][:,8]\n",
    "Si_absorption_ARC = rt_result['A_per_layer'][:,1]\n",
    "\n",
    "Jmax_GaInP = q*np.trapz(GaInP_absorption_ARC*AM15G.spectrum()[1], x=wl)/10\n",
    "Jmax_GaAs = q*np.trapz(GaAs_absorption_ARC*AM15G.spectrum()[1], x=wl)/10\n",
    "Jmax_Si = q*np.trapz(Si_absorption_ARC*AM15G.spectrum()[1], x=wl)/10"
   ],
   "metadata": {
    "collapsed": false
   }
  },
  {
   "cell_type": "markdown",
   "source": [
    "## Plotting the results\n",
    "\n",
    "Finally, we plot the results; the solid lines show the results for the textured Si\n",
    "cell (calculated using ray-tracing), the dashed lines for the planar cell (calculated\n",
    " using TMM). The maximum possible currents are shown in the plot, with the value in\n",
    " brackets for Si being for the planar cell."
   ],
   "metadata": {
    "collapsed": false
   }
  },
  {
   "cell_type": "code",
   "execution_count": 35,
   "outputs": [
    {
     "data": {
      "text/plain": "<Figure size 600x300 with 1 Axes>",
      "image/png": "[encoded data removed]"
     },
     "metadata": {},
     "output_type": "display_data"
    }
   ],
   "source": [
    "plt.figure(figsize=(6,3))\n",
    "plt.plot(wl * 1e9, GaInP_absorption_ARC, \"-k\", label=\"GaInP\")\n",
    "plt.plot(wl * 1e9, GaAs_absorption_ARC, \"-b\", label=\"GaAs\")\n",
    "plt.plot(wl * 1e9, Si_absorption_ARC, \"-r\", label=\"Si\")\n",
    "plt.plot(wl * 1e9, GaInP_A_tmm, \"--k\")\n",
    "plt.plot(wl * 1e9, GaAs_A_tmm, \"--b\")\n",
    "plt.plot(wl * 1e9, Si_A_tmm, \"--r\")\n",
    "plt.plot(wl * 1e9, rt_result['R'], '-', color='grey', label=\"Reflected\")\n",
    "plt.plot(wl * 1e9, tmm_result['R'], '--', color='grey')\n",
    "\n",
    "plt.text(420, 0.55, r\"{:.1f} mA/cm$^2$\".format(Jmax_GaInP))\n",
    "plt.text(670, 0.55, r\"{:.1f} mA/cm$^2$\".format(Jmax_GaAs))\n",
    "plt.text(870, 0.55, r\"{:.1f} mA/cm$^2$\".format(Jmax_Si))\n",
    "plt.text(870, 0.45, r\"({:.1f} mA/cm$^2)$\".format(Jmax_Si_tmm))\n",
    "\n",
    "plt.legend(bbox_to_anchor=(1.05, 1), loc=2, borderaxespad=0.)\n",
    "plt.tight_layout()\n",
    "plt.show()"
   ],
   "metadata": {
    "collapsed": false
   }
  },
  {
   "cell_type": "markdown",
   "source": [
    "## Questions/challenges\n",
    "\n",
    "- Does it make sense to do a ray-tracing calculation for short wavelengths? For this\n",
    "  structure, can you speed up the calculation and avoid the random noise at short\n",
    "  wavelengths?\n",
    "- How much current is lost to parasitic absorption in e.g. tunnel junctions, window\n",
    "  layers etc.?\n",
    "- How can we reduce reflection at the epoxy interfaces?\n",
    "- If the epoxy/glass layer is much thicker than the relevant incident wavelengths,\n",
    "  and not absorbing, does the exact thickness matter in the simulation?\n",
    "- What happens if only the rear surface is textured? Would a structure without the\n",
    "  front texture have other advantages?\n",
    "- Why does the Si have lower absorption/limiting current in this structure compared to\n",
    "  the [previous example](9a-GaInP_GaAs_Si_grating.ipynb)?"
   ],
   "metadata": {
    "collapsed": false
   }
  }
 ],
 "metadata": {
  "kernelspec": {
   "display_name": "Python 3",
   "language": "python",
   "name": "python3"
  },
  "language_info": {
   "codemirror_mode": {
    "name": "ipython",
    "version": 2
   },
   "file_extension": ".py",
   "mimetype": "text/x-python",
   "name": "python",
   "nbconvert_exporter": "python",
   "pygments_lexer": "ipython2",
   "version": "2.7.6"
  }
 },
 "nbformat": 4,
 "nbformat_minor": 0
}
