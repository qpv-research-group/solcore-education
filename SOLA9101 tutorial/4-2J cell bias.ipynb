{
 "cells": [
  {
   "cell_type": "markdown",
   "source": [
    "# Calculating sub-cell voltages as a function of bias\n",
    "\n",
    "Here we implement a simple model for a double junction solar cell.  For simplicity we use an equivalent circuit model for each sub-cell, whereby we supply Jsc, diode saturation currents J01 and J02 as well as shunt and series resistances.  In this example, for simplicity, we set J02 to be negligibly small, the shunt resistance to be large and series resistance to be small."
   ],
   "metadata": {
    "collapsed": false
   }
  },
  {
   "cell_type": "code",
   "execution_count": null,
   "outputs": [],
   "source": [
    "import numpy as np\n",
    "import matplotlib.pyplot as plt\n",
    "from solcore.solar_cell import SolarCell\n",
    "from solcore.solar_cell_solver import solar_cell_solver\n",
    "from solcore.structure import Junction\n",
    "\n",
    "# Configure the Eg1 junction.\n",
    "eg1_junction = Junction(kind='2D', T=300, A=1, n1=1, n2=2, R_series=0.000, R_shunt=1e14, j01=6E-25, j02=1E-18, jsc=0)\n",
    "\n",
    "# Configure the Eg2 junction.\n",
    "eg2_junction = Junction(kind='2D', T=300, A=1, n1=1, n2=2, R_series=0.000, R_shunt=1e14, j01=6E-18, j02=1E-18, jsc=25)\n",
    "\n",
    "# Assemble the solar cell from the Eg1 and Eg2 junctions.\n",
    "my_solar_cell = SolarCell([eg1_junction, eg2_junction], T=300, R_series=0.0, area=1)\n",
    "\n",
    "# Define the voltage range over which to perform the calculation\n",
    "V = np.linspace(-3, 3, 500)\n",
    "\n",
    "# Perform the calculation\n",
    "solar_cell_solver(my_solar_cell, 'iv',\n",
    "                  user_options={'T_ambient': 300,  'voltages': V, 'light_iv': True,\n",
    "                                        'internal_voltages': np.linspace(-3, 3, 1100)})\n",
    "#Plot the IV curves\n",
    "plt.figure(1)\n",
    "plt.plot(V, my_solar_cell.iv['IV'][1]/10, 'k', linewidth=3, label='2J cell',linestyle='dotted')\n",
    "plt.plot(V, -my_solar_cell[0].iv(V)/10, 'b', label='Eg1 sub-cell')\n",
    "plt.plot(V, -my_solar_cell[1].iv(V)/10, 'r', label='Eg2 sub-cell')\n",
    "plt.axvline(x=0,color='gray',linestyle='dotted')\n",
    "plt.legend()\n",
    "plt.ylim(0, 3)\n",
    "plt.xlim(0, 2.5)\n",
    "plt.ylabel('Current (arb.units)')\n",
    "plt.xlabel('Voltage (V)')\n",
    "plt.show()\n",
    "\n",
    "#Plot the sub-cell voltages as a function of MJ cell voltage\n",
    "plt.figure(2)\n",
    "plt.plot(V, my_solar_cell.iv[\"junction IV\"][0][0], 'b', label='V1 Eg1 sub-cell')\n",
    "plt.plot(V, my_solar_cell.iv[\"junction IV\"][1][0], 'g', label='V2 Eg2 sub-cell')\n",
    "plt.legend()\n",
    "plt.axhline(y=0,color='gray',linestyle='dotted')\n",
    "plt.xlim(0, 2.5)\n",
    "plt.xlabel('$V_{MJ}$ (V)')\n",
    "plt.ylabel('Sub-cell voltage (V)')\n",
    "plt.show()\n"
   ],
   "metadata": {
    "collapsed": false
   }
  }
 ],
 "metadata": {
  "kernelspec": {
   "display_name": "Python 3",
   "language": "python",
   "name": "python3"
  },
  "language_info": {
   "codemirror_mode": {
    "name": "ipython",
    "version": 2
   },
   "file_extension": ".py",
   "mimetype": "text/x-python",
   "name": "python",
   "nbconvert_exporter": "python",
   "pygments_lexer": "ipython2",
   "version": "2.7.6"
  }
 },
 "nbformat": 4,
 "nbformat_minor": 0
}
