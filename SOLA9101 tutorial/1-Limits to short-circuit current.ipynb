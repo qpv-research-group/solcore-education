{
 "cells": [
  {
   "cell_type": "markdown",
   "source": [
    "# SOLA9101 Workshop Tutorial : Modelling Solar Cells\n",
    "Friday 17th March 2023.   Ned Ekins-Daukes & Phoebe Pearce\n",
    "\n",
    "In this tutorial you will learn how to use the opensource [SolCore](www.solcore.solar) and [RayFlare](https://rayflare.readthedocs.io/en/latest/) code to reproduce some of the results presented in our lectures.  You do not need any prior programming experience. The aim of the tutorial is to show you how these models can be configured and give you a starting point should you need to model solar cells in the future.\n",
    "\n",
    "### Before we start:\n",
    "\n",
    "- Execute each block of code by pressing the Shift + Return\n",
    "- Lines preceded with a # are comments and included to help you understand the code.\n",
    "- Python is fussy about indents so if you change the code, keep the code indented as shown."
   ],
   "metadata": {
    "collapsed": false
   }
  },
  {
   "cell_type": "markdown",
   "source": [
    "## Shockley Queisser Efficiency limit\n",
    "We will develop a model for an ideal solar cell, working step by step through the problem:\n",
    "\n",
    "## 1 - Limits to the short-circuit current\n",
    "\n",
    "In Martin Green's \"Red Book\", there is a very useful graph that shows the short-circuit current density for a solar cell as a function of band-gap energy.  We will reproduce that graph for AM1.5 here.\n"
   ],
   "metadata": {
    "collapsed": false
   }
  },
  {
   "cell_type": "markdown",
   "source": [
    "### Solar Spectrum\n",
    "\n",
    "The solar spectrum defines the ultimate current that a solar cell can produce.  First we will plot the AM1.5G solar spectrum $b(\\lambda)$ as a spectral irradiance, meaning that the y-axis has units of $W.m^{-2}.nm^{-1}$"
   ],
   "metadata": {
    "collapsed": false
   }
  },
  {
   "cell_type": "code",
   "execution_count": null,
   "outputs": [],
   "source": [
    "import numpy as np\n",
    "import matplotlib.pyplot as plt\n",
    "from solcore.light_source import LightSource\n",
    "\n",
    "# Setup the AM1.5G solar spectrum\n",
    "wl = np.linspace(300, 4000, 4000) * 1e-9    #wl contains the x-ordinate in wavelength\n",
    "am15g = LightSource(source_type='standard', x=wl*1e9, version='AM1.5g')\n",
    "\n",
    "plt.figure(1)\n",
    "plt.plot(*am15g.spectrum(wl*1e9), label='AM1.5G')\n",
    "plt.xlim(300, 3000)\n",
    "plt.xlabel('Wavelength (nm)')\n",
    "plt.ylabel('Power density (Wm$^{-2}$nm$^{-1}$)')\n",
    "plt.legend()"
   ],
   "metadata": {
    "collapsed": false
   }
  },
  {
   "cell_type": "markdown",
   "source": [
    "Let us now integrate the solar spectrum to provide the total irradiance in units of \\[$W.m^{-2}$\\].  The code below performs the following operation $\\int^{\\infty}_{0} b(\\lambda) d\\lambda$"
   ],
   "metadata": {
    "collapsed": false
   }
  },
  {
   "cell_type": "code",
   "execution_count": null,
   "outputs": [],
   "source": [
    "# Since .spectrum function returns a tuple (x,y) but np.trapz requires data in format (y,x) these are extracted into separate 1D np arrays.\n",
    "yval = am15g.spectrum()[1]\n",
    "xval = am15g.spectrum()[0]\n",
    "integrated_value = np.trapz(yval,xval)  # Perform integration using trapezium rule\n",
    "b = integrated_value  # Save the integrated power density for the sun for later.\n",
    "print('b = ', integrated_value)"
   ],
   "metadata": {
    "collapsed": false
   }
  },
  {
   "cell_type": "markdown",
   "source": [
    "Let's take the opportunity to learn how to format numbers nicely in Python.  Here we use  the command \"%.0f\" % to display the value to zero decimal places."
   ],
   "metadata": {
    "collapsed": false
   }
  },
  {
   "cell_type": "code",
   "execution_count": null,
   "outputs": [],
   "source": [
    "print('b= ',\"%.0f\" % integrated_value)"
   ],
   "metadata": {
    "collapsed": false
   }
  },
  {
   "cell_type": "markdown",
   "source": [
    "### Spectral Photon Flux\n",
    "\n",
    "To calculate a short-circuit current it is convenient to change the units.  Two changes are necessary :\n",
    " 1. Since we specify band-gap energies in electron volts (eV) we need to transform the x-axis from nm to eV\n",
    "2. Photocurrent is proportional to the incident photon flux (number of photons per second) not the irradiance (watts) so we need to convert the y-axis from energy to photon number.\n",
    "\n",
    "Note: The conversion is performed internally within the software but be aware that because the transformation from wavelength is non-linear, changing the x-axis from nm to eV also changes the y-values of the data. This is known as a Jacobian transformation and discussed in more detail in an article [\"Getting the basics right: Jacobian Conversion of Wavelength and Energy Scales for Quantatitive Analysis of Emission Spectra\", Journal of Physical Chemistry, 4(19) 3316 (2013)](http://pubs.acs.org/doi/abs/10.1021/jz401508t)"
   ],
   "metadata": {
    "collapsed": false
   }
  },
  {
   "cell_type": "code",
   "execution_count": null,
   "outputs": [],
   "source": [
    "ev = np.linspace(0.02,4,4000)\n",
    "flux = LightSource(source_type='standard', version='AM1.5g', x=ev, output_units='photon_flux_per_ev')\n",
    "\n",
    "plt.figure(2)\n",
    "plt.plot(*flux.spectrum(), label='AM1.5G')\n",
    "plt.xlim(0.2, 4)\n",
    "plt.xlabel('Photon Energy (eV)')\n",
    "plt.ylabel('Photon flux N (ph.m$^{-2}$eV$^{-1}$)')\n",
    "plt.legend()"
   ],
   "metadata": {
    "collapsed": false
   }
  },
  {
   "cell_type": "markdown",
   "source": [
    "### Calculating the short-circuit current\n",
    "\n",
    "Integrating the photon flux can provide an upper limit to the short-circuit current [A.m-2]. We can integrate the spectrum over the entire spectral range using $J_{sc}=q\\int_{0}^{\\infty}N(E)dE$"
   ],
   "metadata": {
    "collapsed": false
   }
  },
  {
   "cell_type": "code",
   "execution_count": null,
   "outputs": [],
   "source": [
    "q = 1.60217662E-19\n",
    "yval = flux.spectrum()[1]\n",
    "xval = flux.spectrum()[0]\n",
    "yint = q*np.trapz(yval,xval)  # Perform integration using trapezium rule\n",
    "print(\"%.0f\" % yint)"
   ],
   "metadata": {
    "collapsed": false
   }
  },
  {
   "cell_type": "markdown",
   "source": [
    "A more useful calculation is to calculate the current that a solar cell would produce with a particular band-gap energy.  To do thie requires a bit more coding, since we now wish to integrate between limits:  $J_{sc}=q\\int_{Eg}^{\\infty}N(E)dE$\n",
    "\n",
    "Let's do this for a band-gap of 1.42eV:\n"
   ],
   "metadata": {
    "collapsed": false
   }
  },
  {
   "cell_type": "code",
   "execution_count": null,
   "outputs": [],
   "source": [
    "q = 1.60217662E-19\n",
    "eg = 1.42\n",
    "yval = flux.spectrum()[1]\n",
    "xval = flux.spectrum()[0]\n",
    "\n",
    "yval[xval < eg] = 0 # set photon flux to zero for photon energies below the band-gap\n",
    "\n",
    "yint = q*np.trapz(yval,xval)  # Perform integration using trapezium rule\n",
    "print(\"%.0f\" % yint)"
   ],
   "metadata": {
    "collapsed": false
   }
  },
  {
   "cell_type": "markdown",
   "source": [
    "Let's reproduce the Jsc vs Eg graph that is shown on p87 of Martin Green's Solar Cells book:"
   ],
   "metadata": {
    "collapsed": false
   }
  },
  {
   "cell_type": "code",
   "execution_count": null,
   "outputs": [],
   "source": [
    "q=1.60217662E-19\n",
    "\n",
    "def getJsc(eg):\n",
    "    yval = flux.spectrum()[1]  # Start with the solar spectrum in yval & xval\n",
    "    xval = flux.spectrum()[0]\n",
    "    yval[xval < eg] = 0 # set photon flux to zero for photon energies below the band-gap\n",
    "    return q*np.trapz(yval,xval)  # return the integrated value\n",
    "\n",
    "eg = np.linspace(0.5,2.5,100)\n",
    "jsc = np.vectorize(getJsc)(eg)\n",
    "\n",
    "plt.figure(3)\n",
    "plt.plot(eg,jsc/10,label='AM1.5G')  # Divide by 10 to convert from A.m^-2 to mA.cm^-2\n",
    "plt.xlim(0.2, 2.5)\n",
    "plt.xlabel('Band Gap energy (eV)')\n",
    "plt.ylabel('$J_{sc}$ ($A.m{-2}$)')\n",
    "plt.legend()"
   ],
   "metadata": {
    "collapsed": false
   }
  },
  {
   "cell_type": "markdown",
   "source": [
    "## Modelling the voltage of an ideal solar cell as a function of band-gap\n",
    "\n",
    "In the week 4 tutorial we used an approximation for the radiative limit to $J_0$ given by $J_0=q \\frac{2 \\pi k T}{c^2 h^3}\\left(E_g^2+2 E_g k T+2 k^2 T^2\\right) e^{\\frac{-E_g}{k T}}$"
   ],
   "metadata": {
    "collapsed": false
   }
  },
  {
   "cell_type": "markdown",
   "source": [
    "We can now plot a chart of $J_0$ as a function of band-gap energy using this expression:"
   ],
   "metadata": {
    "collapsed": false
   }
  },
  {
   "cell_type": "code",
   "execution_count": null,
   "outputs": [],
   "source": [
    "#Define some physical constants:\n",
    "q = 1.60217662E-19  # electronic charge [C]\n",
    "k = 1.38064852E-23/q   # Boltzmann constant [eV/K]\n",
    "h = 6.62607004E-34/q  # Planck constant expressed in [eV.s]\n",
    "c = 299792458  # Speed of light [m.s^-1]\n",
    "\n",
    "t = 300  # Perform the calculation for a solar cell at 300K.\n",
    "\n",
    "#Define a function to return J0 implementing the expression above\n",
    "def getJ0(eg):\n",
    "    return k*t*q*(2*np.pi/(c**2*h**3))*(eg**2+2*eg*k*t+2*k**2*t**2)*np.exp(-eg/(k*t))\n",
    "\n",
    "eg = np.linspace(0.5,2.5,100)\n",
    "j0 = np.vectorize(getJ0)(eg)\n",
    "\n",
    "plt.figure(3)\n",
    "plt.plot(eg,j0,label='J0')  # Divide by 10 to convert from A.m^-2 to mA.cm^-2\n",
    "plt.xlim(0.2, 2.5)\n",
    "plt.xlabel('Band Gap energy (eV)')\n",
    "plt.ylabel('$J_{sc}$ ($A.m{-2}$)')\n",
    "plt.yscale(\"log\")\n",
    "plt.legend()"
   ],
   "metadata": {
    "collapsed": false
   }
  },
  {
   "cell_type": "markdown",
   "source": [
    "Let's check the J0 answers for last week's tutorial question:  evaluate getJ0() for Eg=1.42 and Eg=1.88"
   ],
   "metadata": {
    "collapsed": false
   }
  },
  {
   "cell_type": "code",
   "execution_count": null,
   "outputs": [],
   "source": [
    "getJ0(1.42)"
   ],
   "metadata": {
    "collapsed": false
   }
  },
  {
   "cell_type": "code",
   "execution_count": null,
   "outputs": [],
   "source": [
    "getJ0(1.88)"
   ],
   "metadata": {
    "collapsed": false
   }
  },
  {
   "cell_type": "markdown",
   "source": [
    "## Calculating the IV curve\n",
    "\n",
    "We are now able to calculate the limiting efficiency for a solar cell using the simple Shockley diode expression $J(V)=J_{s c}-J_0\\left(e^{\\frac{q V}{k T}}-1\\right)$.  Let's plot the IV curve for a band-gap of 1.42eV"
   ],
   "metadata": {
    "collapsed": false
   }
  },
  {
   "cell_type": "code",
   "execution_count": null,
   "outputs": [],
   "source": [
    "def getJ(v,eg):\n",
    "    return getJsc(eg) - getJ0(eg)*(np.exp(v/(k*t)) - 1)\n",
    "\n",
    "eg = 1.42\n",
    "v = np.linspace(0,1.2,100)\n",
    "j = np.vectorize(getJ)(v,eg)\n",
    "\n",
    "plt.figure(3)\n",
    "plt.plot(v,j/10)  #convert to mA.cm^-2\n",
    "plt.xlim(0.2, 1.2)\n",
    "plt.ylim(0,35)\n",
    "plt.xlabel('Voltage (V)')\n",
    "plt.ylabel('Current ($mA.cm{-2}$)')"
   ],
   "metadata": {
    "collapsed": false
   }
  },
  {
   "cell_type": "markdown",
   "source": [
    "## Calculating the electrical power curve and finding the maximum power"
   ],
   "metadata": {
    "collapsed": false
   }
  },
  {
   "cell_type": "code",
   "execution_count": null,
   "outputs": [],
   "source": [
    "plt.figure(3)\n",
    "plt.plot(v,v*j)\n",
    "plt.xlim(0.2, 1.2)\n",
    "plt.ylim(0,350)\n",
    "plt.xlabel('Voltage (V)')\n",
    "plt.ylabel('Power ($W.m{-2}$)')"
   ],
   "metadata": {
    "collapsed": false
   }
  },
  {
   "cell_type": "markdown",
   "source": [
    "Define a function to find the maximum power point of the curve above:"
   ],
   "metadata": {
    "collapsed": false
   }
  },
  {
   "cell_type": "code",
   "execution_count": null,
   "outputs": [],
   "source": [
    "def getPmax(eg):\n",
    "    v = np.linspace(0,eg-0.1,500)\n",
    "    p = v*np.vectorize(getJ)(v,eg)\n",
    "    return (np.amax(p))  # The amax command returns the maximum value in the array p"
   ],
   "metadata": {
    "collapsed": false
   }
  },
  {
   "cell_type": "markdown",
   "source": [
    "test it out on the curve above"
   ],
   "metadata": {
    "collapsed": false
   }
  },
  {
   "cell_type": "code",
   "execution_count": null,
   "outputs": [],
   "source": [
    "getPmax(1.42)"
   ],
   "metadata": {
    "collapsed": false
   }
  },
  {
   "cell_type": "markdown",
   "source": [
    "## The Shockley-Queisser efficiency limit\n",
    "\n",
    "Finally we can calculate the Shockley-Queisser efficiency limit for AM1.5G"
   ],
   "metadata": {
    "collapsed": false
   }
  },
  {
   "cell_type": "code",
   "execution_count": null,
   "outputs": [],
   "source": [
    "eg = np.linspace(0.5,2.5,100)\n",
    "p = np.vectorize(getPmax)(eg)\n",
    "\n",
    "plt.figure(3)\n",
    "plt.plot(eg,p/b,label='AM1.5G')  # Remember b is the integrated power of the incident sunlight\n",
    "plt.xlim(0.2, 2.5)\n",
    "plt.xlabel('Band Gap energy (eV)')\n",
    "plt.ylabel('Efficiency (%)')\n",
    "plt.legend()"
   ],
   "metadata": {
    "collapsed": false
   }
  },
  {
   "cell_type": "markdown",
   "source": [
    "The SolCore code has all the functions we have written above built into it.  We worked through this example step by step, but we can calculate the same result using the code below:\n",
    "\n",
    "\n",
    "\n",
    "-add a DB IV plot for a SJ cell with eg 1.42\n",
    "-add a SQ plot for the same thing"
   ],
   "metadata": {
    "collapsed": false
   }
  },
  {
   "cell_type": "code",
   "execution_count": null,
   "outputs": [],
   "source": [
    "import numpy as np\n",
    "import matplotlib.pyplot as plt\n",
    "from solcore.light_source import LightSource\n",
    "from solcore.solar_cell import SolarCell\n",
    "from solcore.solar_cell_solver import solar_cell_solver\n",
    "from solcore.structure import Junction\n",
    "\n",
    "# Load the AM1.5G solar spectrum\n",
    "wl = np.linspace(300, 4000, 4000) * 1e-9    #wl contains the x-ordinate in wavelength\n",
    "am15g = LightSource(source_type='standard', x=wl, version='AM1.5g')\n",
    "\n",
    "eg=1.42\n",
    "V = np.linspace(0, 1.3, 500)\n",
    "db_junction = Junction(kind='DB', T=300, Eg=eg, A=1, R_shunt=np.inf, n=1)\n",
    "my_solar_cell = SolarCell([db_junction], T=300, R_series=0)\n",
    "\n",
    "solar_cell_solver(my_solar_cell, 'iv',\n",
    "                      user_options={'T_ambient': 300, 'db_mode': 'top_hat', 'voltages': V, 'light_iv': True,\n",
    "                                    'internal_voltages': np.linspace(0, 1.3, 400), 'wavelength': wl,\n",
    "                                    'mpp': True, 'light_source': am15g})\n",
    "\n",
    "plt.figure(1)\n",
    "plt.plot(V, my_solar_cell.iv.IV[1], 'k')\n",
    "plt.ylim(0, 350)\n",
    "plt.xlim(0, 1.2)\n",
    "plt.text(0.1,300,f'Jsc {my_solar_cell.iv.Isc:.2f}')\n",
    "plt.text(0.1,280,f'Voc {my_solar_cell.iv.Voc:.2f}')\n",
    "plt.text(0.1,260,f'Pmax {my_solar_cell.iv.Pmpp:.2f}')\n",
    "plt.legend()\n",
    "plt.xlabel('Voltage (V)')\n",
    "plt.ylabel('Current (A/m$^2$)')\n",
    "plt.show()"
   ],
   "metadata": {
    "collapsed": false
   }
  },
  {
   "cell_type": "markdown",
   "source": [
    "and the Shockley-Queisser efficiency limit using internal SolCore functions.  First let's perform the calculation:"
   ],
   "metadata": {
    "collapsed": false
   }
  },
  {
   "cell_type": "code",
   "execution_count": null,
   "outputs": [],
   "source": [
    "%%capture\n",
    "import numpy as np\n",
    "import matplotlib.pyplot as plt\n",
    "from solcore.light_source import LightSource\n",
    "from solcore.solar_cell import SolarCell\n",
    "from solcore.solar_cell_solver import solar_cell_solver\n",
    "from solcore.structure import Junction\n",
    "\n",
    "# Load the AM1.5G solar spectrum\n",
    "wl = np.linspace(300, 4000, 4000) * 1e-9    #wl contains the x-ordinate in wavelength\n",
    "am15g = LightSource(source_type='standard', x=wl, version='AM1.5g')\n",
    "\n",
    "def getPmax(eg):\n",
    "    V = np.linspace(0, eg-0.1, 500)\n",
    "    db_junction = Junction(kind='DB', T=300, Eg=eg, A=1, R_shunt=np.inf, n=1)\n",
    "    my_solar_cell = SolarCell([db_junction], T=300, R_series=0)\n",
    "\n",
    "    solar_cell_solver(my_solar_cell, 'iv',\n",
    "                      user_options={'T_ambient': 300, 'db_mode': 'top_hat', 'voltages': V, 'light_iv': True, 'wavelength': wl,\n",
    "                                    'mpp': True, 'light_source': am15g})\n",
    "    return(my_solar_cell.iv.Pmpp)\n",
    "\n",
    "eg=np.linspace(0.5,2.5,100)\n",
    "p=np.vectorize(getPmax)(eg)\n"
   ],
   "metadata": {
    "collapsed": false
   }
  },
  {
   "cell_type": "markdown",
   "source": [
    "Now let's plot the result"
   ],
   "metadata": {
    "collapsed": false
   }
  },
  {
   "cell_type": "code",
   "execution_count": null,
   "outputs": [],
   "source": [
    "\n",
    "plt.figure(3)\n",
    "plt.plot(eg,p/b,label='AM1.5G')  # Remember b is the integrated power of the incident sunlight\n",
    "plt.xlim(0.2, 2.5)\n",
    "plt.xlabel('Band Gap energy (eV)')\n",
    "plt.ylabel('Efficiency (%)')\n",
    "plt.legend()"
   ],
   "metadata": {
    "collapsed": false
   }
  }
 ],
 "metadata": {
  "kernelspec": {
   "display_name": "Python 3",
   "language": "python",
   "name": "python3"
  },
  "language_info": {
   "codemirror_mode": {
    "name": "ipython",
    "version": 2
   },
   "file_extension": ".py",
   "mimetype": "text/x-python",
   "name": "python",
   "nbconvert_exporter": "python",
   "pygments_lexer": "ipython2",
   "version": "2.7.6"
  }
 },
 "nbformat": 4,
 "nbformat_minor": 0
}
