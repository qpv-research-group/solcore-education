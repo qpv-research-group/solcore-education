{
 "cells": [
  {
   "cell_type": "markdown",
   "source": [
    "# Concentrator PV Solar Cell behaviour\n",
    "\n",
    "CPV solar cells operate under much higher solar illumination levels than conventional PV devices.  Both the current and voltages for a CPV cell rise with increasing solar concentration."
   ],
   "metadata": {
    "collapsed": false
   }
  },
  {
   "cell_type": "markdown",
   "source": [
    "The code below calculates the PV parameters, Isc, Voc, FF and Efficiency for a CPV solar cell over solar concentrations ranging from 1-1500 suns and plots the resulting Jsc, Voc, FF and Efficiency on both linear and log-x scales."
   ],
   "metadata": {
    "collapsed": false
   }
  },
  {
   "cell_type": "code",
   "execution_count": null,
   "outputs": [],
   "source": [
    "import numpy as np\n",
    "import matplotlib.pyplot as plt\n",
    "from solcore.solar_cell import SolarCell\n",
    "from solcore.light_source import LightSource\n",
    "from solcore.solar_cell_solver import solar_cell_solver\n",
    "from solcore.structure import Junction\n",
    "\n",
    "T = 298\n",
    "area=1\n",
    "concentrations = np.linspace(1,1500,200)\n",
    "\n",
    "results=[]\n",
    "for concx in concentrations:\n",
    "    # Define a UMM cell, InGaP and InGaAs Jsc are in units of A.m-2 and presently set to arbitary values.\n",
    "    ingap_junction = Junction(kind='2D', T=T, n1=1,n2=2, jref=300,Eg=1.81, j01=5e-27*1E4, j02=4E-14*1E4,  R_series=0,\n",
    "      R_shunt=3000000.0, jsc=150*concx)\n",
    "    ingaas_junction = Junction(kind='2D', T=T, n1=1,n2=2, jref=300, Eg=1.32, j01=6e-19*1E4,j02=3E-12*1E4, R_series=0, R_shunt=1500000.0,jsc=150*concx)\n",
    "    ge_junction = Junction(kind='2D', T=T, n1=1,n2=2, jref=300, Eg=0.66, j01=4.93e-6*1E4,j02=1.05e-5*1E4, R_series=0, R_shunt=115.0,jsc=189.6*concx)\n",
    "\n",
    "    #Assemble a solar cell from these juctions\n",
    "    my_solar_cell = SolarCell([ingap_junction, ingaas_junction, ge_junction], T=T, R_series=0.0, area=area)\n",
    "    wl = np.linspace(350, 2000, 301) * 1e-9\n",
    "    light_source = LightSource(source_type='standard', version='AM1.5g', x=wl, output_units='photon_flux_per_m',concentration=concx)\n",
    "\n",
    "    V = np.linspace(0, 4, 300)\n",
    "    solar_cell_solver(my_solar_cell, 'iv',\n",
    "           user_options={'T_ambient': T, 'db_mode': 'top_hat', 'voltages': V, 'light_iv': True,\n",
    "                                        'internal_voltages': np.linspace(-6, 5, 1100), 'wavelength': wl,\n",
    "                                        'mpp': True, 'light_source': light_source})\n",
    "\n",
    "    results.append([concx,my_solar_cell.iv[\"Isc\"],my_solar_cell.iv[\"Voc\"],my_solar_cell.iv[\"FF\"],my_solar_cell.iv[\"Eta\"]])\n",
    "\n",
    "\n",
    "data=np.array(results) # Convert the calculated data into a numpy array\n",
    "\n",
    "plt.figure(1)\n",
    "plt.plot (data[:,0], data[:,1]/1E4) # Plot the Isc line on a linear x axis\n",
    "plt.ylabel('Jsc / $A.m^{-2}$')\n",
    "plt.xlabel('Concentration')\n",
    "plt.show()\n",
    "\n",
    "\n",
    "plt.figure(2)\n",
    "plt.plot (data[:,0], data[:,2]) # Plot the Voc line on a linear x axis\n",
    "plt.ylabel('Voc')\n",
    "plt.xlabel('Concentration')\n",
    "plt.show()\n",
    "\n",
    "plt.figure(3)\n",
    "plt.plot (data[:,0], data[:,3]) # Plot the FF line on a linear x axis\n",
    "plt.ylabel('FF')\n",
    "plt.xlabel('Concentration')\n",
    "plt.show()\n",
    "\n",
    "plt.figure(4)\n",
    "plt.plot (data[:,0], data[:,4]) # Plot the Efficiency line on a linear x axis\n",
    "plt.ylabel('Eff')\n",
    "plt.xlabel('Concentration')\n",
    "plt.show()\n",
    "\n",
    "fig, axs = plt.subplots(4,sharex=True)\n",
    "fig.suptitle('Data plotted on a log-x scale')\n",
    "axs[0].semilogx(data[:,0], data[:,1]/1E4) # Plot the Isc line\n",
    "axs[0].set_ylabel('Jsc')\n",
    "axs[1].semilogx(data[:,0], data[:,2]) # Plot the Voc line\n",
    "axs[1].set_ylabel('Voc')\n",
    "axs[2].semilogx(data[:,0], data[:,3]) # Plot the FF line\n",
    "axs[2].set_ylabel('FF')\n",
    "axs[3].semilogx(data[:,0], data[:,4]) # Plot the Eff line\n",
    "axs[3].set_ylabel('Eff.')\n",
    "plt.xlabel('Concentration')"
   ],
   "metadata": {
    "collapsed": false
   }
  }
 ],
 "metadata": {
  "kernelspec": {
   "display_name": "Python 3",
   "language": "python",
   "name": "python3"
  },
  "language_info": {
   "codemirror_mode": {
    "name": "ipython",
    "version": 2
   },
   "file_extension": ".py",
   "mimetype": "text/x-python",
   "name": "python",
   "nbconvert_exporter": "python",
   "pygments_lexer": "ipython2",
   "version": "2.7.6"
  }
 },
 "nbformat": 4,
 "nbformat_minor": 0
}
