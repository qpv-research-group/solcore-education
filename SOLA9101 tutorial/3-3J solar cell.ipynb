{
 "cells": [
  {
   "cell_type": "markdown",
   "source": [
    "# Current Matching a Triple Junction Space Solar Cell\n",
    "\n",
    "Space solar cells are typically made from a triple junction stack of InGaP / GaAs / Ge.  Here we will calculate the EQE and light-IV for such a solar cell under the AM0 solar spectrum.   Since the triple junction solar cell has a wide absorption bandwidth, we now use a double layer anti-reflection coating composed of magnesium fluoride (MgF2) and zinc sulphide (ZnS)."
   ],
   "metadata": {
    "collapsed": false
   }
  },
  {
   "cell_type": "code",
   "execution_count": null,
   "metadata": {
    "collapsed": true
   },
   "outputs": [],
   "source": [
    "import numpy as np\n",
    "import matplotlib.pyplot as plt\n",
    "from solcore import siUnits, material, si\n",
    "from solcore.solar_cell import SolarCell\n",
    "from solcore.structure import Junction, Layer\n",
    "from solcore.solar_cell_solver import solar_cell_solver\n",
    "from solcore.light_source import LightSource\n",
    "\n",
    "# Gather together the materials we need : first the AR coating\n",
    "MgF2 = material(\"MgF2\")()\n",
    "ZnS = material(\"ZnScub\")()\n",
    "\n",
    "ARC_layers = [Layer(si(\"100nm\"), material=MgF2),\n",
    "              Layer(si(\"50nm\"), material=ZnS)]\n",
    "\n",
    "# TOP CELL - InGaP\n",
    "# Now we build the top cell, which requires the n and p sides of GaInP and a window layer.\n",
    "#  We also add some extra parameters needed for the calculation such as the minority carriers diffusion lengths\n",
    "AlInP = material(\"AlInP\")\n",
    "InGaP = material(\"GaInP\")\n",
    "window_material = AlInP(Al=0.52)\n",
    "top_cell_n_material = InGaP(In=0.49, Nd=siUnits(2e18, \"cm-3\"), hole_diffusion_length=si(\"200nm\"))\n",
    "top_cell_p_material = InGaP(In=0.49, Na=siUnits(1e17, \"cm-3\"), electron_diffusion_length=si(\"2um\"))\n",
    "\n",
    "# For convenience we will set the carrier transport properties to default values for all the materials in one place.\n",
    "# To do that we add the materials to a list called all_materials:\n",
    "\n",
    "all_materials = []\n",
    "all_materials.append(window_material)\n",
    "all_materials.append(top_cell_n_material)\n",
    "all_materials.append(top_cell_p_material)\n",
    "\n",
    "# MID CELL  - GaAs\n",
    "GaAs = material(\"GaAs\")\n",
    "\n",
    "mid_cell_n_material = GaAs(In=0.01, Nd=siUnits(3e18, \"cm-3\"), hole_diffusion_length=si(\"500nm\"))\n",
    "mid_cell_p_material = GaAs(In=0.01, Na=siUnits(1e17, \"cm-3\"), electron_diffusion_length=si(\"5um\"))\n",
    "\n",
    "all_materials.append(mid_cell_n_material)\n",
    "all_materials.append(mid_cell_p_material)\n",
    "\n",
    "# BOTTOM CELL - Ge\n",
    "Ge = material(\"Ge\")\n",
    "\n",
    "bot_cell_n_material = Ge(Nd=siUnits(2e18, \"cm-3\"), hole_diffusion_length=si(\"800nm\"))\n",
    "bot_cell_p_material = Ge(Na=siUnits(1e17, \"cm-3\"), electron_diffusion_length=si(\"50um\"))\n",
    "\n",
    "all_materials.append(bot_cell_n_material)\n",
    "all_materials.append(bot_cell_p_material)\n",
    "\n",
    "# We now set the electronic properties of these materials to some default values.\n",
    "# Although in practice there will be differences, for this example we set them to\n",
    "# reasonable generic values for simplicity.\n",
    "\n",
    "for mat in all_materials:\n",
    "    mat.hole_mobility = 5e-2\n",
    "    mat.electron_mobility = 3.4e-3\n",
    "    mat.hole_mobility = 3.4e-3\n",
    "    mat.electron_mobility = 5e-2\n",
    "    mat.relative_permittivity = 9\n",
    "\n",
    "    # Now that the layers are configured, we can now assemble the triple junction solar cell.  Note that we also specify a metal shading of 2% and a cell area of $1cm^{2}$.  SolCore calculates the EQE for all three junctions and light-IV showing the relative contribution of each sub-cell.\n",
    "\n",
    "    # Assemble all the component layers into a solar cell\n",
    "solar_cell = SolarCell(\n",
    "        ARC_layers +\n",
    "        [\n",
    "        Junction([Layer(si(\"25nm\"), material=window_material, role='window'),\n",
    "                  Layer(si(\"100nm\"), material=top_cell_n_material, role='emitter'),\n",
    "                  Layer(si(\"1500nm\"), material=top_cell_p_material, role='base'),\n",
    "                  ], sn=1, sp=1, kind='DA'),\n",
    "        Junction([Layer(si(\"200nm\"), material=mid_cell_n_material, role='emitter'),\n",
    "                  Layer(si(\"3000nm\"), material=mid_cell_p_material, role='base'),\n",
    "                  ], sn=1, sp=1, kind='DA'),\n",
    "        Junction([Layer(si(\"400nm\"), material=bot_cell_n_material, role='emitter'),\n",
    "                  Layer(si(\"100um\"), material=bot_cell_p_material, role='base'),\n",
    "                  ], sn=1, sp=1, kind='DA')\n",
    "            ],\n",
    "        shading=0.02, cell_area=1 * 1 / 1e4)\n",
    "\n",
    "wl = np.linspace(300, 1800, 700) * 1e-9\n",
    "solar_cell_solver(solar_cell, 'qe', user_options={'wavelength': wl, 'optics_method': 'TMM'})\n",
    "\n",
    "plt.figure(1)\n",
    "plt.plot(wl * 1e9, solar_cell[0 + len(ARC_layers)].eqe(wl) * 100, 'b', label='GaInP')\n",
    "plt.plot(wl * 1e9, solar_cell[1 + len(ARC_layers)].eqe(wl) * 100, 'g', label='GaAs')\n",
    "plt.plot(wl * 1e9, solar_cell[2 + len(ARC_layers)].eqe(wl) * 100, 'r', label='Ge')\n",
    "\n",
    "plt.legend()\n",
    "plt.ylim(0, 100)\n",
    "plt.ylabel('EQE (%)')\n",
    "plt.xlabel('Wavelength (nm)')\n",
    "\n",
    "#Set up the AM0 solar spectrum\n",
    "am0 = LightSource(source_type='standard',version='AM0',x=wl,output_units='photon_flux_per_m')\n",
    "\n",
    "V = np.linspace(0, 3, 300)\n",
    "solar_cell_solver(solar_cell, 'iv', user_options={'light_source': am0,'voltages': V, 'light_iv': True, 'wavelength': wl, 'optics_method': 'TMM','mpp':True})\n",
    "\n",
    "plt.figure(2)\n",
    "plt.plot(V, solar_cell.iv['IV'][1]/10, 'k', linewidth=3, label='3J cell')\n",
    "plt.plot(V, -solar_cell[0 + len(ARC_layers)].iv(V)/10, 'b', label='InGaP sub-cell')\n",
    "plt.plot(V, -solar_cell[1 + len(ARC_layers)].iv(V)/10, 'g', label='GaAs sub-cell')\n",
    "plt.plot(V, -solar_cell[2 + len(ARC_layers)].iv(V)/10, 'r', label='Ge sub-cell')\n",
    "plt.text(0.5,30,f'Jsc= {solar_cell.iv.Isc:.2f} $mA.cm^-2$')\n",
    "plt.text(0.5,28,f'Voc= {solar_cell.iv.Voc:.2f} V')\n",
    "plt.text(0.5,26,f'Eta= {solar_cell.iv.Eta*100:.2f} %')\n",
    "\n",
    "plt.legend()\n",
    "plt.ylim(0, 33)\n",
    "plt.xlim(0, 3)\n",
    "plt.ylabel('Current (mA/cm$^2$)')\n",
    "plt.xlabel('Voltage (V)')\n",
    "plt.show()"
   ]
  },
  {
   "cell_type": "markdown",
   "source": [],
   "metadata": {
    "collapsed": false
   }
  },
  {
   "cell_type": "markdown",
   "source": [
    "Note that the optical model used here is the Transfer Matrix Method (TMM) that accounts for the wave optical behaviour of light in the thin anti-reflection coating layers and throughout the entire cell.  Since some of the sub-cells are quite thin, similar to the wavelength of the incident light, Fabry-Perot oscillations are observed in the sub-cell EQE.  This corresponds to constructive and destructive interference of light within each sub-cell.  When fitting experimental data, these oscillations can be fitted to give a measure of the sub-cell thickness."
   ],
   "metadata": {
    "collapsed": false
   }
  },
  {
   "cell_type": "markdown",
   "source": [
    "### Exercise:\n",
    "\n",
    "Try adjusting the sub-cell thicknesses to current-match the solar cell under this AM0 illumination spectrum."
   ],
   "metadata": {
    "collapsed": false
   }
  },
  {
   "cell_type": "code",
   "execution_count": null,
   "outputs": [],
   "source": [],
   "metadata": {
    "collapsed": false
   }
  }
 ],
 "metadata": {
  "kernelspec": {
   "display_name": "Python 3",
   "language": "python",
   "name": "python3"
  },
  "language_info": {
   "codemirror_mode": {
    "name": "ipython",
    "version": 2
   },
   "file_extension": ".py",
   "mimetype": "text/x-python",
   "name": "python",
   "nbconvert_exporter": "python",
   "pygments_lexer": "ipython2",
   "version": "2.7.6"
  }
 },
 "nbformat": 4,
 "nbformat_minor": 0
}
