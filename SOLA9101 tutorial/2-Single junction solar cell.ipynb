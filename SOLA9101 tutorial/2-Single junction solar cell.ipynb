{
 "cells": [
  {
   "cell_type": "code",
   "execution_count": null,
   "metadata": {
    "collapsed": true
   },
   "outputs": [],
   "source": [
    "import numpy as np\n",
    "import matplotlib.pyplot as plt\n",
    "from solcore import siUnits, material, si\n",
    "from solcore.solar_cell import SolarCell\n",
    "from solcore.structure import Junction, Layer\n",
    "from solcore.solar_cell_solver import solar_cell_solver\n",
    "from solcore.light_source import LightSource\n",
    "\n",
    "# Define the materials we will use\n",
    "MgF2 = material(\"MgF2\")()\n",
    "ZnS = material(\"ZnScub\")()\n",
    "AlInP = material(\"AlInP\")\n",
    "window_material = AlInP(Al=0.52)\n",
    "GaAs = material(\"GaAs\")\n",
    "\n",
    "gaas_n_material = GaAs(Nd=siUnits(3e18, \"cm-3\"),\n",
    "                       hole_diffusion_length=si(\"500nm\"),\n",
    "                       hole_mobility=5e-2\n",
    "                       )\n",
    "gaas_p_material = GaAs(Na=siUnits(1e17, \"cm-3\"),\n",
    "                       electron_diffusion_length=si(\"5um\"),\n",
    "                       electron_mobility=5e-2\n",
    "                       )\n",
    "\n",
    "# due to the metallisation of the cell = 2%, and indicate it has an area of 1x1 mm2 (converted to m2)\n",
    "solar_cell = SolarCell(\n",
    "    [Layer(si(\"200nm\"), MgF2), Layer(si(\"200nm\"), ZnS),\n",
    "        Junction([Layer(si(\"55nm\"), material=window_material, role='window'),\n",
    "                    Layer(si(\"800nm\"), material=gaas_n_material, role='emitter'),\n",
    "                  Layer(si(\"3000nm\"), material=gaas_p_material, role='base'),\n",
    "                  ], sn=1, sp=1, kind='DA')\n",
    "    ], shading=0.02, cell_area=1 / 1e4)\n",
    "\n",
    "wl = np.linspace(300, 900, 400) * 1e-9\n",
    "solar_cell_solver(solar_cell, 'qe', user_options={'wavelength': wl,\n",
    "                                                  'optics_method': 'TMM'})\n",
    "plt.figure(1)\n",
    "plt.plot(wl * 1e9, solar_cell[2].eqe(wl) * 100, 'b', label='GaAs')\n",
    "plt.plot(wl * 1e9, solar_cell.reflected*100, label='Reflection')\n",
    "plt.legend()\n",
    "plt.ylim(0, 100)\n",
    "plt.ylabel('EQE (%)')\n",
    "plt.xlabel('Wavelength (nm)')\n",
    "\n",
    "am15spectrum = LightSource(source_type='standard',version='AM1.5g',x=wl,output_units='photon_flux_per_m')\n",
    "V = np.linspace(0, 1.2, 200)\n",
    "solar_cell_solver(solar_cell, 'iv', user_options={'voltages': V, 'light_iv': True, 'wavelength': wl,\n",
    "                                                  'optics_method': 'TMM','light_source':am15spectrum,\n",
    "                                                  'mpp':True})\n",
    "\n",
    "plt.figure(2)\n",
    "plt.plot(V, solar_cell.iv['IV'][1]/10, 'k', linewidth=3, label='GaAs')\n",
    "\n",
    "plt.legend()\n",
    "plt.ylim(0, 35)\n",
    "plt.xlim(0, 1.2)\n",
    "plt.ylabel('Current (mA/cm$^2$)')\n",
    "plt.xlabel('Voltage (V)')\n",
    "plt.text(0.1,20,f'Jsc {solar_cell.iv.Isc:.2f}')\n",
    "plt.text(0.1,18,f'Voc {solar_cell.iv.Voc:.2f}')\n",
    "plt.text(0.1,16,f'Eta {solar_cell.iv.Eta:.2f}')\n",
    "\n",
    "plt.show()"
   ]
  }
 ],
 "metadata": {
  "kernelspec": {
   "display_name": "Python 3",
   "language": "python",
   "name": "python3"
  },
  "language_info": {
   "codemirror_mode": {
    "name": "ipython",
    "version": 2
   },
   "file_extension": ".py",
   "mimetype": "text/x-python",
   "name": "python",
   "nbconvert_exporter": "python",
   "pygments_lexer": "ipython2",
   "version": "2.7.6"
  }
 },
 "nbformat": 4,
 "nbformat_minor": 0
}
