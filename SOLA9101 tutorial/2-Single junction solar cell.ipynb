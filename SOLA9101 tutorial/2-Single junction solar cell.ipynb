{
 "cells": [
  {
   "cell_type": "markdown",
   "source": [
    "# Single Junction Solar Cell\n",
    "\n",
    "In Lecture 3B we introduced the single junction GaAs solar cell.  Here you have the opportunity to calculate the properties of such a solar cell using the Solcore model."
   ],
   "metadata": {
    "collapsed": false,
    "pycharm": {
     "name": "#%% md\n"
    }
   }
  },
  {
   "cell_type": "markdown",
   "source": [
    "## Fitting the EQE of a GaAs solar cell\n",
    "\n",
    "First we need to setup the calculation, so we import the libraries we need and some semiconductor material properties.  Our solar cell has a single layer SiN anti-reflection coating, an $Al_{0.8}GaAs$ window layer and GaAs p/n absorber regions."
   ],
   "metadata": {
    "collapsed": false,
    "pycharm": {
     "name": "#%% md\n"
    }
   }
  },
  {
   "cell_type": "code",
   "execution_count": null,
   "outputs": [],
   "source": [
    "import numpy as np\n",
    "import matplotlib.pyplot as plt\n",
    "from solcore import siUnits, material, si\n",
    "from solcore.solar_cell import SolarCell\n",
    "from solcore.structure import Junction, Layer\n",
    "from solcore.solar_cell_solver import solar_cell_solver\n",
    "from solcore.light_source import LightSource\n",
    "from pathlib import Path\n",
    "\n",
    "def this_dir_file(f):\n",
    "    file_path = Path.cwd()\n",
    "    return file_path / \"data\" /  f\n",
    "\n",
    "qeData = np.loadtxt(this_dir_file(\"QT1405R.csv\"), unpack=True, delimiter=\",\")\n",
    "\n",
    "# Define the solar spectrum we wish to use for Light-IV calculations\n",
    "wl = np.linspace(300, 900, 400) * 1e-9  # Define the wavelength range of interest\n",
    "am15spectrum = LightSource(source_type='standard',version='AM1.5g',x=wl,output_units='photon_flux_per_m')\n",
    "\n",
    "# Define the materials we use for the calculation\n",
    "ARC = material(\"Si3N4\")()\n",
    "AlGaAs = material(\"AlGaAs\")\n",
    "window_material = AlGaAs(Al=0.80)\n",
    "GaAs = material(\"GaAs\")\n",
    "\n",
    "# Configure the GaAs materials, n & p type.\n",
    "gaas_n_material = GaAs(Nd=siUnits(3e18, \"cm-3\"),\n",
    "                       hole_diffusion_length=si(\"500nm\"),\n",
    "                       hole_mobility=5e-2\n",
    "                       )\n",
    "gaas_p_material = GaAs(Na=siUnits(1e17, \"cm-3\"),\n",
    "                       electron_diffusion_length=si(\"5um\"),\n",
    "                       electron_mobility=5e-2\n",
    "                       )"
   ],
   "metadata": {
    "collapsed": false,
    "pycharm": {
     "name": "#%%\n"
    }
   }
  },
  {
   "cell_type": "markdown",
   "source": [
    "We now want to build the solar cell from these layers.  We start with the MgF2/ZnS AR coating, then the window layer, then GaAs p-doped emitter and finally the GaAs n-doped base.  It is here, in the solar cell structure that we specify the layer thicknesses.\n",
    "\n",
    "The default thicknesses below are not optimum and do not fit the EQE data at all!  Try adjusting the thicknesses for the AR coating and the component layers to better fit the EQE data."
   ],
   "metadata": {
    "collapsed": false,
    "pycharm": {
     "name": "#%% md\n"
    }
   }
  },
  {
   "cell_type": "code",
   "execution_count": null,
   "metadata": {
    "collapsed": true,
    "pycharm": {
     "name": "#%%\n"
    }
   },
   "outputs": [],
   "source": [
    "# Configure the solar cell layer stack\n",
    "solar_cell = SolarCell(\n",
    "    [Layer(si(\"200nm\"), ARC),\n",
    "     Junction([Layer(si(\"55nm\"), material=window_material, role='window'),\n",
    "                    Layer(si(\"800nm\"), material=gaas_p_material, role='emitter'),\n",
    "                  Layer(si(\"3000nm\"), material=gaas_n_material, role='base'),\n",
    "                  ], sn=1, sp=1, kind='DA')\n",
    "     ], shading=0.02, cell_area=1 / 1e4)\n",
    "\n",
    "\n",
    "# Calculate the solar cell QE\n",
    "solar_cell_solver(solar_cell, 'qe', user_options={'wavelength': wl,'optics_method': 'TMM'})\n",
    "\n",
    "# Plot the QE - model and data\n",
    "plt.figure(1)\n",
    "plt.plot(wl * 1e9, solar_cell[1].eqe(wl) * 100, 'k', label='Model')\n",
    "plt.plot(qeData[0],qeData[1]*100,marker=\"o\",markeredgecolor=\"red\", label='Data')\n",
    "plt.plot(wl * 1e9, solar_cell.reflected*100, label='Reflection')\n",
    "plt.legend()\n",
    "plt.ylim(0, 100)\n",
    "plt.ylabel('EQE (%)')\n",
    "plt.xlabel('Wavelength (nm)')\n",
    "\n",
    "plt.show()\n",
    "\n",
    "# Plot the QE - contributions of the base, SCR (space charge region), and emitter\n",
    "plt.figure(1)\n",
    "plt.plot(wl * 1e9, solar_cell[1].eqe(wl) * 100, 'k', label='Model (total)')\n",
    "plt.plot(wl * 1e9, solar_cell[1].eqe_emitter(wl) * 100, '--g', label='Emitter')\n",
    "plt.plot(wl * 1e9, solar_cell[1].eqe_scr(wl) * 100, '--r', label='SCR')\n",
    "plt.plot(wl * 1e9, solar_cell[1].eqe_base(wl) * 100, '--b', label='Base')\n",
    "plt.legend()\n",
    "plt.ylim(0, 100)\n",
    "plt.ylabel('EQE (%)')\n",
    "plt.xlabel('Wavelength (nm)')\n",
    "\n",
    "plt.show()"
   ]
  },
  {
   "cell_type": "markdown",
   "source": [
    "## Is there a better design for this solar GaAs cell?\n",
    "\n",
    "Now that you have fitted the EQE, let's calculate the efficiency under AM1.5G.  Start with the same values you used above for the layer thicknesses.  Can you design a better GaAs solar cell ?!"
   ],
   "metadata": {
    "collapsed": false,
    "pycharm": {
     "name": "#%% md\n"
    }
   }
  },
  {
   "cell_type": "code",
   "execution_count": null,
   "outputs": [],
   "source": [
    "# Configure the solar cell layer stack\n",
    "solar_cell = SolarCell(\n",
    "    [Layer(si(\"200nm\"), ARC),\n",
    "     Junction([Layer(si(\"55nm\"), material=window_material, role='window'),\n",
    "                    Layer(si(\"800nm\"), material=gaas_p_material, role='emitter'),\n",
    "                  Layer(si(\"3000nm\"), material=gaas_n_material, role='base'),\n",
    "                  ], sn=1, sp=1, kind='DA')\n",
    "     ], shading=0.02, cell_area=1 / 1e4)\n",
    "\n",
    "\n",
    "# Calculate the solar cell QE\n",
    "solar_cell_solver(solar_cell, 'qe', user_options={'wavelength': wl,'optics_method': 'TMM'})\n",
    "\n",
    "# Plot the QE\n",
    "plt.figure(1)\n",
    "plt.plot(wl * 1e9, solar_cell[1].eqe(wl) * 100, 'b', label='GaAs')\n",
    "plt.plot(qeData[0],qeData[1]*100,marker=\"o\",markeredgecolor=\"red\")\n",
    "plt.plot(wl * 1e9, solar_cell.reflected*100, label='Reflection')\n",
    "plt.legend()\n",
    "plt.ylim(0, 100)\n",
    "plt.ylabel('EQE (%)')\n",
    "plt.xlabel('Wavelength (nm)')\n",
    "\n",
    "# Plot the Light-IV\n",
    "V = np.linspace(0, 1.2, 200)\n",
    "solar_cell_solver(solar_cell, 'iv', user_options={'voltages': V, 'light_iv': True, 'wavelength': wl,\n",
    "                                                  'optics_method': 'TMM','light_source':am15spectrum,\n",
    "                                                  'mpp':True})\n",
    "\n",
    "plt.figure(2)\n",
    "plt.plot(V, solar_cell.iv['IV'][1]/10, 'k', linewidth=3, label='GaAs')\n",
    "\n",
    "plt.legend()\n",
    "plt.ylim(0, 35)\n",
    "plt.xlim(0, 1.2)\n",
    "plt.ylabel('Current (mA/cm$^2$)')\n",
    "plt.xlabel('Voltage (V)')\n",
    "plt.text(0.1,20,f'Jsc {solar_cell.iv.Isc:.2f}')\n",
    "plt.text(0.1,18,f'Voc {solar_cell.iv.Voc:.2f}')\n",
    "plt.text(0.1,16,f'Eta {solar_cell.iv.Eta:.2f}')\n",
    "\n",
    "plt.show()"
   ],
   "metadata": {
    "collapsed": false,
    "pycharm": {
     "name": "#%%\n"
    }
   }
  },
  {
   "cell_type": "code",
   "execution_count": null,
   "outputs": [],
   "source": [],
   "metadata": {
    "collapsed": false,
    "pycharm": {
     "name": "#%%\n"
    }
   }
  }
 ],
 "metadata": {
  "kernelspec": {
   "display_name": "Python 3",
   "language": "python",
   "name": "python3"
  },
  "language_info": {
   "codemirror_mode": {
    "name": "ipython",
    "version": 2
   },
   "file_extension": ".py",
   "mimetype": "text/x-python",
   "name": "python",
   "nbconvert_exporter": "python",
   "pygments_lexer": "ipython2",
   "version": "2.7.6"
  }
 },
 "nbformat": 4,
 "nbformat_minor": 0
}