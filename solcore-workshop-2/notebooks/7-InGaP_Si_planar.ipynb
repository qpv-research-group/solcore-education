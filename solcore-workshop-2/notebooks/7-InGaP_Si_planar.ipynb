{
 "cells": [
  {
   "cell_type": "markdown",
   "metadata": {
    "collapsed": false
   },
   "source": [
    "# Section 7: Planar GaInP//Si tandem cell\n",
    "\n",
    "This example is partly based on the structure presented in\n",
    "[this paper](https://doi.org/10.1109/PVSC40753.2019.9198960), but with planar interfaces instead of a\n",
    "textured Si surface. This is a four-terminal GaInP/Si device which uses an epoxy and\n",
    "glass to bond the two cells together mechanically. First, we will do optical-only\n",
    "calculations to look at the effect of an intermediate anti-reflection coating (on\n",
    "top of the epoxy/glass) on the\n",
    "absorption in the bottom Si cell, and then we will use the results of the optical\n",
    "calculation to do a device simulation and calculate external quantum efficiency and\n",
    "current-voltage under AM1.5G.\n",
    "\n",
    "Note: the paper linked above has a GaInP/AlGaInP heterojunction as the top junction.\n",
    "Because we do not have AlGaInP built in to Solcore's database, this is replaced by a\n",
    "GaInP homojunction in this example."
   ]
  },
  {
   "cell_type": "code",
   "execution_count": 1,
   "metadata": {
    "collapsed": false
   },
   "outputs": [
    {
     "name": "stdout",
     "output_type": "stream",
     "text": [
      "WARNING: The RCWA solver will not be available because an S4 installation has not been found.\n"
     ]
    },
    {
     "name": "stderr",
     "output_type": "stream",
     "text": [
      "/Users/z3533914/.pyenv/versions/3.11.5/lib/python3.11/site-packages/solcore/registries.py:73: UserWarning: Optics solver 'RCWA' will not be available. An installation of S4 has not been found.\n",
      "  warn(\n"
     ]
    }
   ],
   "source": [
    "from solcore import material, si\n",
    "from solcore.absorption_calculator import search_db, download_db\n",
    "import os\n",
    "from solcore.structure import Layer, Junction\n",
    "from solcore.solar_cell_solver import solar_cell_solver, default_options\n",
    "from solcore.solar_cell import SolarCell\n",
    "from solcore.light_source import LightSource\n",
    "from solcore.constants import q\n",
    "import numpy as np\n",
    "import matplotlib.pyplot as plt"
   ]
  },
  {
   "cell_type": "markdown",
   "metadata": {
    "collapsed": false
   },
   "source": [
    "## Defining materials, layers and junctions\n",
    "\n",
    "The paper referenced above uses a double-layer anti-reflection coating (ARC) made of\n",
    "MgF$_2$ and ZnS. As in the previous example, we use the interface to the\n",
    "refractiveindex.info database to select optical constant data from specific sources,\n",
    "and define Solcore materials using this data. The III-V materials are taken from\n",
    "Solcore's own material database.\n",
    "\n",
    "Note that for the epoxy/glass layer, we use only a single material (BK7 glass). The\n",
    "epoxy and glass used in the paper have the same refractive index (n = 1.56), so we\n",
    "can use a single material with an appropriate refractive index to represent them."
   ]
  },
  {
   "cell_type": "code",
   "execution_count": 2,
   "metadata": {
    "collapsed": false
   },
   "outputs": [
    {
     "name": "stdout",
     "output_type": "stream",
     "text": [
      "Database file found at /Users/z3533914/.solcore/nk/nk.db\n",
      "Making request to https://refractiveindex.info/download/database/rii-database-2021-07-18.zip\n",
      "Downloaded and extracting...\n"
     ]
    }
   ],
   "source": [
    "download_db(confirm=False) # uncomment to download database"
   ]
  },
  {
   "cell_type": "code",
   "execution_count": null,
   "metadata": {
    "collapsed": false
   },
   "outputs": [],
   "source": [
    "#| output: false\n",
    "\n",
    "MgF2_pageid = search_db(os.path.join(\"MgF2\", \"Rodriguez-de Marcos\"))[0][0];\n",
    "ZnS_pageid = search_db(os.path.join(\"ZnS\", \"Querry\"))[0][0];\n",
    "MgF2 = material(str(MgF2_pageid), nk_db=True)();\n",
    "ZnS = material(str(ZnS_pageid), nk_db=True)();\n",
    "\n",
    "window = material(\"AlInP\")(Al=0.52)\n",
    "GaInP = material(\"GaInP\")\n",
    "BSF = material(\"AlGaAs\")(Al=0.5)\n",
    "\n",
    "epoxy = material(\"BK7\")()"
   ]
  },
  {
   "cell_type": "markdown",
   "metadata": {
    "collapsed": false
   },
   "source": [
    "For the Si cell, the front surface has both a low-index and high-index SiN$x$ layer.\n",
    "The rear surface uses Al$2$O$3$, and the cell has Al at the rear surface."
   ]
  },
  {
   "cell_type": "code",
   "execution_count": null,
   "metadata": {
    "collapsed": false
   },
   "outputs": [],
   "source": [
    "SiOx = material(\"SiO\")()\n",
    "SiN_191_pageid = search_db(\"Vogt-1.91\")[0][0];\n",
    "SiN_213_pageid = search_db(\"Vogt-2.13\")[0][0];\n",
    "SiN_191 = material(str(SiN_191_pageid), nk_db=True)();\n",
    "SiN_213 = material(str(SiN_213_pageid), nk_db=True)();\n",
    "\n",
    "Si = material(\"Si\")\n",
    "\n",
    "Al2O3 = material(\"Al2O3P\")()\n",
    "Al = material(\"Al\")()"
   ]
  },
  {
   "cell_type": "markdown",
   "metadata": {
    "collapsed": false
   },
   "source": [
    "We now define the layers used in the top cell stack: the ARC and window layer for\n",
    "the top cell, and the GaInP junction itself. The ARC and window layers are not\n",
    "involved in the electrical calculation using the depletion approximation, so they are\n",
    " defined as simple layers, while the GaInP emitter and base are defined as part of a\n",
    " `Junction` object."
   ]
  },
  {
   "cell_type": "code",
   "execution_count": null,
   "metadata": {
    "collapsed": false
   },
   "outputs": [],
   "source": [
    "ARC_window = [\n",
    "    Layer(97e-9, MgF2),\n",
    "    Layer(41e-9, ZnS),\n",
    "    Layer(17e-9, window, role=\"window\"),\n",
    "]\n",
    "\n",
    "GaInP_junction = Junction([\n",
    "    Layer(200e-9, GaInP(In=0.50, Nd=si(\"2e18cm-3\"), hole_diffusion_length=si(\"300nm\")),\n",
    "          role=\"emitter\"),\n",
    "    Layer(750e-9, GaInP(In=0.50, Na=si(\"1e17cm-3\"), electron_diffusion_length=si(\n",
    "        \"800nm\")),\n",
    "          role=\"base\"),\n",
    "    Layer(500e-9, BSF, role=\"bsf\")], kind=\"DA\", sn=1, sp=1\n",
    ")"
   ]
  },
  {
   "cell_type": "markdown",
   "metadata": {
    "collapsed": false
   },
   "source": [
    "We now define the spacer layer, with and without a ZnS anti-reflection coating, so we\n",
    " can compare their performance in the cell stack. Note that we set the epoxy\n",
    " thickness here to be 10 microns, although the real thickness is much higher - this\n",
    " is because the epoxy/glass is not absorbing at the wavelengths which are able to\n",
    " reach it (which are not absorbed in the GaInP top cell), and we will treat it\n",
    " *incoherently* (no thin-film interference), so the exact thickness does not matter."
   ]
  },
  {
   "cell_type": "code",
   "execution_count": null,
   "metadata": {
    "collapsed": false
   },
   "outputs": [],
   "source": [
    "spacer = [\n",
    "    Layer(82e-9, ZnS),\n",
    "    Layer(10e-6, epoxy), # real thickness is much higher, but since this layer is\n",
    "    # non-absorbing at the relevant wavelength (> 650 nm) and treated incoherently,\n",
    "    # this does not matter\n",
    "]\n",
    "\n",
    "spacer_noARC = [\n",
    "    Layer(10e-6, epoxy),\n",
    "]"
   ]
  },
  {
   "cell_type": "markdown",
   "metadata": {
    "collapsed": false
   },
   "source": [
    "Now we define the layer stacks for the Si cell, including the front SiO$_x$/SiN$_x$\n",
    "stack, the junction itself, and the back dielectric layers."
   ]
  },
  {
   "cell_type": "code",
   "execution_count": null,
   "metadata": {
    "collapsed": false
   },
   "outputs": [],
   "source": [
    "Si_front_surf = [\n",
    "    Layer(100e-9, SiOx),\n",
    "    Layer(70e-9, SiN_191),\n",
    "    Layer(15e-9, SiN_213),\n",
    "    ]\n",
    "\n",
    "Si_junction = Junction([\n",
    "    Layer(1e-6, Si(Nd=si(\"2e18cm-3\"), hole_diffusion_length=2e-6), role=\"emitter\"),\n",
    "    Layer(150e-6, Si(Na=si(\"2e15cm-3\"), electron_diffusion_length=150e-6), role=\"base\"),\n",
    "], kind=\"DA\", sn=0.1, sp=0.1)\n",
    "\n",
    "Si_back_surf = [\n",
    "    Layer(15e-9, Al2O3),\n",
    "    Layer(120e-9, SiN_191)\n",
    "]"
   ]
  },
  {
   "cell_type": "markdown",
   "metadata": {
    "collapsed": false
   },
   "source": [
    "## Comparing the optical performance with and without intermediate ARC\n",
    "\n",
    "Now we will run the calculation. We will treat some of the layers (those above the\n",
    "epoxy) with a *coherent* TMM calculation, and the epoxy and the layers below it using\n",
    " *incoherent* TMM. We will discuss the difference this makes, why this is important,\n",
    " and when to use coherent and incoherent layers."
   ]
  },
  {
   "cell_type": "code",
   "execution_count": null,
   "metadata": {
    "collapsed": false
   },
   "outputs": [],
   "source": [
    "n_coh_layers = len(ARC_window + GaInP_junction)\n",
    "n_inc_layers = 1 + len(Si_front_surf + Si_junction + Si_back_surf)\n",
    "\n",
    "wl = np.linspace(300, 1200, 600) * 1e-9\n",
    "\n",
    "options = default_options\n",
    "options.recalculate_absorption = True\n",
    "options.wavelength = wl\n",
    "options.optics_method = 'TMM'\n",
    "\n",
    "AM15G = LightSource(source_type=\"standard\", version=\"AM1.5g\", x=wl*1e9,\n",
    "                    output_units=\"photon_flux_per_nm\")"
   ]
  },
  {
   "cell_type": "markdown",
   "metadata": {
    "collapsed": false
   },
   "source": [
    "Now we define two versions of the cell for optical calculations, without and with the\n",
    " ZnS anti-reflection coating on the epoxy. Note that we also set the substrate for\n",
    " the calculation (aluminium) here."
   ]
  },
  {
   "cell_type": "code",
   "execution_count": null,
   "metadata": {
    "collapsed": false
   },
   "outputs": [],
   "source": [
    "cell_no_ARC = SolarCell(\n",
    "    ARC_window + GaInP_junction + spacer_noARC + Si_front_surf + Si_junction +\n",
    "    Si_back_surf,\n",
    "    substrate=Al,\n",
    ")\n",
    "\n",
    "cell_with_ARC = SolarCell(\n",
    "    ARC_window + GaInP_junction + spacer + Si_front_surf + Si_junction + Si_back_surf,\n",
    "    substrate=Al,\n",
    ")"
   ]
  },
  {
   "cell_type": "markdown",
   "metadata": {
    "collapsed": false
   },
   "source": [
    "We set the appropriate coherency list for the structure (a list with entry 'c' for a\n",
    " coherent layer or 'i' for an incoherent layer), and solve for the cell optics of the\n",
    "  cell without the intermediate ARC. We\n",
    " get the total absorption in the GaInP and Si junctions."
   ]
  },
  {
   "cell_type": "code",
   "execution_count": null,
   "metadata": {
    "collapsed": false
   },
   "outputs": [],
   "source": [
    "#| output: false\n",
    "options.coherency_list = ['c']*(n_coh_layers) + ['i']*n_inc_layers\n",
    "solar_cell_solver(cell_no_ARC, \"optics\", options)\n",
    "\n",
    "GaInP_A = cell_no_ARC[3].layer_absorption + cell_no_ARC[4].layer_absorption\n",
    "Si_A = cell_no_ARC[10].layer_absorption + cell_no_ARC[11].layer_absorption"
   ]
  },
  {
   "cell_type": "markdown",
   "metadata": {
    "collapsed": false
   },
   "source": [
    "As above, but for the cell with an intermediate ARC:"
   ]
  },
  {
   "cell_type": "code",
   "execution_count": null,
   "metadata": {
    "collapsed": false
   },
   "outputs": [],
   "source": [
    "options.coherency_list = [\"c\"]*(n_coh_layers + 1) + ['i']*n_inc_layers\n",
    "solar_cell_solver(cell_with_ARC, \"optics\", options)\n",
    "\n",
    "GaInP_A_ARC = cell_with_ARC[3].layer_absorption + cell_with_ARC[4].layer_absorption\n",
    "Si_A_ARC = cell_with_ARC[11].layer_absorption + cell_with_ARC[12].layer_absorption"
   ]
  },
  {
   "cell_type": "markdown",
   "metadata": {
    "collapsed": false
   },
   "source": [
    "Now we plot the GaInP and Si absorption, and the reflectance of the whole structure,\n",
    "for both cells:"
   ]
  },
  {
   "cell_type": "code",
   "execution_count": null,
   "metadata": {
    "collapsed": false
   },
   "outputs": [],
   "source": [
    "plt.figure()\n",
    "plt.plot(wl * 1e9, GaInP_A, \"--k\")\n",
    "plt.plot(wl * 1e9, Si_A, \"--r\")\n",
    "plt.plot(wl * 1e9, cell_no_ARC.reflected, '--b')\n",
    "\n",
    "plt.plot(wl * 1e9, GaInP_A_ARC, \"-k\", label=\"GaInP\")\n",
    "plt.plot(wl * 1e9, Si_A_ARC, \"-r\", label=\"Si\")\n",
    "plt.plot(wl * 1e9, cell_with_ARC.reflected, '-b', label=\"R\")\n",
    "plt.legend(loc='upper right')\n",
    "plt.xlabel(\"Wavelength (nm)\")\n",
    "plt.ylabel(\"Absorptance/Reflectance\")\n",
    "plt.tight_layout()\n",
    "plt.show()\n"
   ]
  },
  {
   "cell_type": "markdown",
   "metadata": {
    "collapsed": false
   },
   "source": [
    "We see that the cell without an ARC on the epoxy shows much stronger interference\n",
    "fringes (due to the thickness of the top stack), and higher reflectance overall in\n",
    "the long-wavelength region (at short wavelengths, light is absorbed before it is able\n",
    " to reach the epoxy at all). Before doing an actual electrical calculation, we will\n",
    " calculate the limiting current in both of the sub-cells (assuming all the generated\n",
    " charge carriers can be collected):"
   ]
  },
  {
   "cell_type": "code",
   "execution_count": null,
   "metadata": {
    "collapsed": false
   },
   "outputs": [],
   "source": [
    "J_GaInP = q*np.trapz(GaInP_A * AM15G.spectrum()[1], wl*1e9)\n",
    "J_Si = q*np.trapz(Si_A * AM15G.spectrum()[1], wl*1e9)\n",
    "\n",
    "print(\"Limiting short-circuit currents without ARC (mA/cm2): {:.1f} / {:.1f}\".format(\n",
    "      J_GaInP/10, J_Si/10))\n",
    "\n",
    "J_GaInP_ARC = q*np.trapz(GaInP_A_ARC * AM15G.spectrum()[1], wl*1e9)\n",
    "J_Si_ARC = q*np.trapz(Si_A_ARC * AM15G.spectrum()[1], wl*1e9)\n",
    "\n",
    "print(\"Limiting short-circuit currents with ARC (mA/cm2): {:.1f} / {:.1f}\".format(\n",
    "    J_GaInP_ARC/10, J_Si_ARC/10))"
   ]
  },
  {
   "cell_type": "markdown",
   "metadata": {
    "collapsed": false
   },
   "source": [
    "As expected from the reduced reflection and increased absorption in the Si, the cell\n",
    "with an intermediate ARC has significantly higher maximum current in the bottom Si cell.\n",
    "\n",
    "## EQE and IV calculation\n",
    "\n",
    "Now, just taking the structure with an intermediate ARC, we do a cell calculation\n",
    "using the depletion approximation."
   ]
  },
  {
   "cell_type": "code",
   "execution_count": null,
   "metadata": {
    "collapsed": false
   },
   "outputs": [],
   "source": [
    "options.mpp = True\n",
    "options.light_iv = True\n",
    "options.voltages = np.linspace(0, 1.9, 100)\n",
    "options.light_source = AM15G\n",
    "\n",
    "solar_cell = SolarCell(\n",
    "    ARC_window + [GaInP_junction] + spacer + Si_front_surf + [Si_junction] +\n",
    "    Si_back_surf,\n",
    "    substrate=Al,\n",
    ")"
   ]
  },
  {
   "cell_type": "markdown",
   "metadata": {
    "collapsed": false
   },
   "source": [
    "First, we calculate and plot the external quantum efficiency (EQE):"
   ]
  },
  {
   "cell_type": "code",
   "execution_count": null,
   "metadata": {
    "collapsed": false
   },
   "outputs": [],
   "source": [
    "solar_cell_solver(solar_cell, 'qe', options)\n",
    "\n",
    "plt.figure()\n",
    "plt.plot(wl * 1e9, GaInP_A_ARC, \"--k\", label=\"GaInP only absorption\")\n",
    "plt.plot(wl * 1e9, Si_A_ARC, \"--r\", label=\"Si only absorption\")\n",
    "plt.plot(wl*1e9, solar_cell[3].eqe(wl), '-k')\n",
    "plt.plot(wl*1e9, solar_cell[9].eqe(wl), '-r')\n",
    "plt.legend(loc='upper right')\n",
    "plt.xlabel(\"Wavelength (nm)\")\n",
    "plt.ylabel(\"Absorptance/EQE\")\n",
    "plt.ylim(0,1)\n",
    "plt.tight_layout()\n",
    "plt.show()"
   ]
  },
  {
   "cell_type": "markdown",
   "metadata": {
    "collapsed": false
   },
   "source": [
    "And the current-voltage under AM1.5G:"
   ]
  },
  {
   "cell_type": "code",
   "execution_count": null,
   "metadata": {
    "collapsed": false
   },
   "outputs": [],
   "source": [
    "solar_cell_solver(solar_cell, 'iv', options)\n",
    "\n",
    "plt.figure()\n",
    "plt.plot(options.voltages, solar_cell.iv['IV'][1]/10, 'k', linewidth=3,\n",
    "         label='Total (2-terminal)')\n",
    "plt.plot(options.voltages, -solar_cell[3].iv(options.voltages)/10, 'b',\n",
    "         label='GaInP')\n",
    "plt.plot(options.voltages, -solar_cell[9].iv(options.voltages)/10, 'g',\n",
    "         label='Si')\n",
    "plt.text(0.1, 18, r\"2-terminal $\\eta$ = {:.2f}%\".format(solar_cell.iv[\"Eta\"]*100))\n",
    "plt.legend()\n",
    "plt.ylim(0, 20)\n",
    "plt.xlim(0, 1.9)\n",
    "plt.ylabel('Current (mA/cm$^2$)')\n",
    "plt.xlabel('Voltage (V)')\n",
    "plt.tight_layout()\n",
    "plt.show()"
   ]
  },
  {
   "cell_type": "markdown",
   "metadata": {
    "collapsed": false
   },
   "source": [
    "## Two vs. four-terminal efficiency\n",
    "\n",
    "By default, Solcore assumes any SolarCell object is a two-terminal device, and will\n",
    "thus calculate the total I-V curve assuming the cells are connected in series and that\n",
    "the current is limited by the lowest-current sub-cell. However, it will also\n",
    "calculate the I-V curves of the individual cells, so we can use this information to\n",
    "calculate the possible power output in a 4-terminal configuration where the cells\n",
    "operate independently from an electrical point of view:"
   ]
  },
  {
   "cell_type": "code",
   "execution_count": null,
   "metadata": {
    "collapsed": false
   },
   "outputs": [],
   "source": [
    "V = np.linspace(0, 1.3, 100)\n",
    "P_GaInP = V*solar_cell[3].iv(V)\n",
    "P_Si = V*solar_cell[9].iv(V)\n",
    "\n",
    "P_MPP_GaInP = max(-P_GaInP)\n",
    "\n",
    "P_MPP_Si = max(-P_Si)\n",
    "\n",
    "eta_4T = (P_MPP_GaInP + P_MPP_Si)/AM15G.power_density\n",
    "\n",
    "print('4-terminal efficiency: {:.1f} %'.format(eta_4T*100))"
   ]
  },
  {
   "cell_type": "markdown",
   "metadata": {
    "collapsed": false
   },
   "source": [
    "## Questions/challenges\n",
    "\n",
    "- What causes the strange, sharp fringes in the simulation data of\n",
    "  Fig. 1 in [the reference paper](https://doi.org/10.1109/PVSC40753.2019.9198960)?\n",
    "  Can you reproduce\n",
    "  them by modifying this code? Which version of the simulation do you think is\n",
    "  more correct, and why?\n",
    "- How could you increase the current in one or both of the sub-cells (remember,\n",
    "  unlike the paper, we assumed all the layers in the cell are planar!).\n",
    "- Once the light encounters an 'incoherent' (thick) layer, does it make sense to\n",
    "  treat any layers below that as coherent?"
   ]
  }
 ],
 "metadata": {
  "kernelspec": {
   "display_name": "Python 3",
   "language": "python",
   "name": "python3"
  },
  "language_info": {
   "codemirror_mode": {
    "name": "ipython",
    "version": 3
   },
   "file_extension": ".py",
   "mimetype": "text/x-python",
   "name": "python",
   "nbconvert_exporter": "python",
   "pygments_lexer": "ipython3",
   "version": "3.11.5"
  }
 },
 "nbformat": 4,
 "nbformat_minor": 0
}
