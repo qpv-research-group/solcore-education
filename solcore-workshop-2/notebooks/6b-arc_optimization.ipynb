{
 "cells": [
  {
   "cell_type": "markdown",
   "metadata": {
    "collapsed": true
   },
   "source": [
    "# Section 6b: Optimizing an ARC\n",
    "\n",
    "In the previous example, we introduced a simple one-layer anti-reflection coating\n",
    "(ARC); ARCs are a standard feature of all high-efficiency solar cells. But how do you\n",
    "find out\n",
    "the right thickness for the anti-reflection coating layer(s) (or the right dimensions\n",
    " for a light-trapping grating, or some other structure in your cell)? This is where\n",
    " optimization comes in. Here, we will look at a very simple 'brute-force' optimization for a single or double-layer ARC."
   ]
  },
  {
   "cell_type": "code",
   "execution_count": null,
   "metadata": {},
   "outputs": [],
   "source": [
    "import numpy as np\n",
    "import os\n",
    "import matplotlib.pyplot as plt\n",
    "\n",
    "from solcore import material, si\n",
    "from solcore.solar_cell import Layer\n",
    "from solcore.light_source import LightSource\n",
    "from solcore.absorption_calculator import search_db, download_db\n",
    "\n",
    "from rayflare.transfer_matrix_method import tmm_structure\n",
    "from rayflare.options import default_options\n",
    "import seaborn as sns"
   ]
  },
  {
   "cell_type": "markdown",
   "metadata": {
    "collapsed": false
   },
   "source": [
    "## Setting up\n",
    "We set some options, as in previous examples, setting the wavelengths and defining\n",
    "the incident spectrum. We are going to do a partially coherent calculation, treating\n",
    "the ARC as a coherent layer and the thick Si layer as incoherent (no thin-film\n",
    "interference)."
   ]
  },
  {
   "cell_type": "code",
   "execution_count": null,
   "metadata": {},
   "outputs": [],
   "source": [
    "opts = default_options()\n",
    "\n",
    "wavelengths = np.linspace(300, 1200, 800)*1e-9\n",
    "\n",
    "AM15g = LightSource(source_type=\"standard\", version=\"AM1.5g\", output_units=\"photon_flux_per_m\")\n",
    "spectrum = AM15g.spectrum(wavelengths)[1]\n",
    "normalised_spectrum = spectrum/np.max(spectrum)\n",
    "\n",
    "opts.wavelengths = wavelengths\n",
    "opts.coherent = False\n",
    "opts.coherency_list = ['c', 'i']\n",
    "\n",
    "Si = material(\"Si\")()\n",
    "SiN = material(\"Si3N4\")()\n",
    "Ag = material(\"Ag\")()\n",
    "Air = material(\"Air\")()"
   ]
  },
  {
   "cell_type": "markdown",
   "metadata": {
    "collapsed": false
   },
   "source": [
    "## Single-layer ARC\n",
    "\n",
    "Here, we will calculate the behaviour of a single-layer SiN anti-reflection coating\n",
    "on Si while changing the ARC thickness between 0 and 200 nm. We will consider two\n",
    "values to optimize: the mean reflectance `mean_R`, and the reflectance weighted by\n",
    "the photon flux in an AM1.5G spectrum (`weighted_R`). The reason for considering the\n",
    "second value is that it is more useful to suppress reflection at wavelengths where\n",
    "there are more photons which could be absorbed by the cell (up to the cell's bandgap).\n",
    "\n",
    "We will loop through the different ARC thicknesses in `d_range`, build the structure for each case, and then calculate the reflectance. We then save the mean reflected and weighted mean reflectance in the corresponding arrays. We also plot the reflectance for each 15th loop (this is just so the plot does not get too crowded)."
   ]
  },
  {
   "cell_type": "code",
   "execution_count": null,
   "metadata": {},
   "outputs": [],
   "source": [
    "d_range = np.linspace(0, 200, 200)\n",
    "\n",
    "mean_R = np.empty_like(d_range)\n",
    "weighted_R = np.empty_like(d_range)\n",
    "\n",
    "cols = sns.cubehelix_palette(np.ceil(len(d_range)/15))\n",
    "\n",
    "plt.figure()\n",
    "jcol = 0\n",
    "\n",
    "for i1, d in enumerate(d_range):\n",
    "\n",
    "    struct = tmm_structure([Layer(si(d, 'nm'), SiN), Layer(si('300um'), Si)], incidence=Air, transmission=Ag)\n",
    "    RAT = struct.calculate(opts)\n",
    "\n",
    "    if i1 % 15 == 0:\n",
    "        plt.plot(wavelengths*1e9, RAT['R'], label=str(np.round(d, 0)), color=cols[jcol])\n",
    "        jcol += 1\n",
    "\n",
    "    mean_R[i1] = np.mean(RAT['R'])\n",
    "    weighted_R[i1] = np.mean(RAT['R']*normalised_spectrum)\n",
    "\n",
    "plt.legend()\n",
    "plt.show()"
   ]
  },
  {
   "cell_type": "markdown",
   "metadata": {
    "collapsed": false
   },
   "source": [
    "We now find at which index `mean_R` and `weighted_R` are minimised using `np.argmin`, and use this to print the ARC thickness at which this occurs (rounded to 1 decimal place)."
   ]
  },
  {
   "cell_type": "code",
   "execution_count": null,
   "metadata": {},
   "outputs": [],
   "source": [
    "print('Minimum mean reflection occurs at d = ' + str(np.round(d_range[np.argmin(mean_R)], 1)) + ' nm')\n",
    "print('Minimum weighted reflection occurs at d = ' + str(np.round(d_range[np.argmin(weighted_R)], 1)) + ' nm')"
   ]
  },
  {
   "cell_type": "markdown",
   "metadata": {
    "collapsed": false
   },
   "source": [
    "We see that the values of $d$ for the two different ways of optimizing are very\n",
    "similar, but not exactly the same, as we would expect. The minimum in both cases\n",
    "occurs around 70 nm. We can also plot the variation of the mean and weighted $R$ with\n",
    "ARC thickness $d$:"
   ]
  },
  {
   "cell_type": "code",
   "execution_count": null,
   "metadata": {},
   "outputs": [],
   "source": [
    "plt.figure()\n",
    "plt.plot(d_range, mean_R, label='Mean reflection')\n",
    "plt.plot(d_range[np.argmin(mean_R)], np.min(mean_R), 'ok')\n",
    "plt.plot(d_range, weighted_R, label='Weighted mean reflection')\n",
    "plt.plot(d_range[np.argmin(weighted_R)], np.min(weighted_R), 'ok')\n",
    "plt.xlabel('d$_{SiN}$')\n",
    "plt.ylabel('(Weighted) mean reflection 300-1200 nm')\n",
    "plt.legend()\n",
    "plt.show()"
   ]
  },
  {
   "cell_type": "markdown",
   "metadata": {
    "collapsed": false
   },
   "source": [
    "Now, to see what the reflectance looks like for the optimized structure, we make new\n",
    "`tmm_structure`s with the optimal values and calculate and plot the reflectance:"
   ]
  },
  {
   "cell_type": "code",
   "execution_count": null,
   "metadata": {},
   "outputs": [],
   "source": [
    "struct = tmm_structure([Layer(si(d_range[np.argmin(mean_R)], 'nm'), SiN), Layer(si('300um'), Si)], incidence=Air, transmission=Ag)\n",
    "RAT_1 = struct.calculate(opts)\n",
    "\n",
    "struct = tmm_structure([Layer(si(d_range[np.argmin(weighted_R)], 'nm'), SiN), Layer(si('300um'), Si)], incidence=Air, transmission=Ag)\n",
    "RAT_2 = struct.calculate(opts)\n",
    "\n",
    "plt.figure()\n",
    "plt.plot(wavelengths*1e9, RAT_1['R'], label='Mean R minimum')\n",
    "plt.plot(wavelengths*1e9, RAT_2['R'], label='Weighted R minimum')\n",
    "plt.legend()\n",
    "plt.xlabel(\"Wavelength (nm)\")\n",
    "plt.ylabel(\"R\")\n",
    "plt.show()"
   ]
  },
  {
   "cell_type": "markdown",
   "metadata": {
    "collapsed": false
   },
   "source": [
    "We see that the two reflectance curves are very similar, as expected because the\n",
    "layer thicknesses are very similar.\n",
    "\n",
    "## Double-layer ARC\n",
    "\n",
    "We will now consider a similar situation, but for a double-layer MgF$_2$/Ta$_2$O$_5$\n",
    "ARC on GaAs.\n",
    "\n",
    "Solcore can directly interface with the database from www.refractiveindex.info,\n",
    "which contains around 3000 sets of  data for a large number of different materials.\n",
    "Before the first use, it is necessary to download the database. This only needs to\n",
    "be done once, so you can comment this line out after it’s done:"
   ]
  },
  {
   "cell_type": "code",
   "execution_count": null,
   "metadata": {
    "collapsed": false
   },
   "outputs": [],
   "source": [
    "download_db(confirm=True) # only needs to be done once"
   ]
  },
  {
   "cell_type": "markdown",
   "metadata": {
    "collapsed": false
   },
   "source": [
    "We search for materials in the refractiveindex.info database, and use\n",
    "only the part of the solar spectrum relevant for absorption in GaAs (in this case,\n",
    "there is no benefit to reducing absorption above the GaAs bandgap around 900 nm). We\n",
    "will only consider the weighted mean $R$ in this case. Since all the layers in the\n",
    "structure are relatively thin compared to the wavelengths of light, we do a\n",
    "coherent calculation."
   ]
  },
  {
   "cell_type": "code",
   "execution_count": null,
   "metadata": {},
   "outputs": [],
   "source": [
    "#| output: false\n",
    "\n",
    "pageid_MgF2 = search_db(os.path.join(\"MgF2\", \"Rodriguez-de Marcos\"))[0][0]\n",
    "pageid_Ta2O5 = search_db(os.path.join(\"Ta2O5\", \"Rodriguez-de Marcos\"))[0][0]\n",
    "\n",
    "GaAs = material(\"GaAs\")()\n",
    "MgF2 = material(str(pageid_MgF2), nk_db=True)()\n",
    "Ta2O5 = material(str(pageid_Ta2O5), nk_db=True)()\n",
    "\n",
    "MgF2_thickness = np.linspace(50, 100, 20)\n",
    "Ta2O5_thickness = np.linspace(30, 80, 20)\n",
    "\n",
    "weighted_R_matrix = np.zeros((len(MgF2_thickness), len(Ta2O5_thickness)))\n",
    "\n",
    "wavelengths_GaAs = wavelengths[wavelengths < 900e-9]\n",
    "normalised_spectrum_GaAs = normalised_spectrum[wavelengths < 900e-9]\n",
    "\n",
    "opts.coherent = True\n",
    "opts.wavelengths = wavelengths_GaAs"
   ]
  },
  {
   "cell_type": "markdown",
   "metadata": {
    "collapsed": false
   },
   "source": [
    "We now have two thicknesses to loop through; otherwise, the procedure is similar to the single-layer ARC example."
   ]
  },
  {
   "cell_type": "code",
   "execution_count": null,
   "metadata": {},
   "outputs": [],
   "source": [
    "#| output: false\n",
    "\n",
    "for i1, d_MgF2 in enumerate(MgF2_thickness):\n",
    "    for j1, d_Ta2O5 in enumerate(Ta2O5_thickness):\n",
    "        struct = tmm_structure([Layer(si(d_MgF2, 'nm'), MgF2), Layer(si(d_Ta2O5, 'nm'), Ta2O5),\n",
    "                                Layer(si('20um'), GaAs)],\n",
    "                               incidence=Air, transmission=Ag)\n",
    "        RAT = struct.calculate(opts)\n",
    "\n",
    "        weighted_R_matrix[i1, j1] = np.mean(RAT['R'] * normalised_spectrum_GaAs)\n",
    "\n",
    "# find the row and column indices of the minimum weighted R value\n",
    "ri, ci = np.unravel_index(weighted_R_matrix.argmin(), weighted_R_matrix.shape)"
   ]
  },
  {
   "cell_type": "markdown",
   "metadata": {
    "collapsed": false
   },
   "source": [
    "We plot the total absorption ($1-R$) in the structure with the optimized ARC, and print the thicknesses of MgF$_2$ and Ta$_2$O$_5$ at which this occurs:"
   ]
  },
  {
   "cell_type": "code",
   "execution_count": null,
   "metadata": {},
   "outputs": [],
   "source": [
    "plt.figure()\n",
    "plt.imshow(1-weighted_R_matrix, extent=[min(Ta2O5_thickness), max(Ta2O5_thickness),\n",
    "                                        min(MgF2_thickness), max(MgF2_thickness)],\n",
    "           origin='lower', aspect='equal')\n",
    "plt.plot(Ta2O5_thickness[ci], MgF2_thickness[ri], 'xk')\n",
    "plt.colorbar()\n",
    "plt.xlabel(\"Ta$_2$O$_5$ thickness (nm)\")\n",
    "plt.ylabel(\"MgF$_2$ thickness (nm)\")\n",
    "plt.show()\n",
    "\n",
    "print(\"Minimum reflection occurs at MgF2 / Ta2O5 thicknesses of %.1f / %.1f nm \"\n",
    "     % (MgF2_thickness[ri], Ta2O5_thickness[ci]))"
   ]
  },
  {
   "cell_type": "markdown",
   "metadata": {
    "collapsed": false
   },
   "source": [
    "For these two examples, where we are only trying to optimize one and two parameters\n",
    "respectively across a relatively small range, using a method (TMM) which executes\n",
    "quickly, brute force searching is possible. However, as we introduce more parameters,\n",
    " a wider parameter space, and slower simulation methods, it may no longer be\n",
    " computationally tractable; in that case, using for example differential evolution or\n",
    "  other types of numerical optimization may be more appropriate (see [this example](\n",
    "  ../../solar-cell-simulation/notebooks/7b-optimization.ipynb)).\n",
    "\n",
    "## Questions\n",
    "\n",
    "- Apart from varying the thickness of the layers, what else could we change?\n",
    "- How do we know where to start when desining an ARC (layer thickness/material)?"
   ]
  }
 ],
 "metadata": {
  "kernelspec": {
   "display_name": "Python 3",
   "language": "python",
   "name": "python3"
  },
  "language_info": {
   "codemirror_mode": {
    "name": "ipython",
    "version": 3
   },
   "file_extension": ".py",
   "mimetype": "text/x-python",
   "name": "python",
   "nbconvert_exporter": "python",
   "pygments_lexer": "ipython3",
   "version": "3.11.5"
  }
 },
 "nbformat": 4,
 "nbformat_minor": 0
}
