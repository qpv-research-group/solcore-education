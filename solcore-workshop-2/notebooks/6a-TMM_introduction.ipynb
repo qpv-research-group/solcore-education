{
 "cells": [
  {
   "cell_type": "markdown",
   "id": "4f454066",
   "metadata": {},
   "source": [
    "# Section 6a: Basic cell optics\n",
    "In this script, we will build on the TMM model from example 1(a) and look at the effects of interference."
   ]
  },
  {
   "cell_type": "code",
   "execution_count": null,
   "id": "69ab192b",
   "metadata": {},
   "outputs": [],
   "source": [
    "import numpy as np\n",
    "import matplotlib.pyplot as plt\n",
    "\n",
    "from solcore import material, si\n",
    "from solcore.solar_cell import Layer\n",
    "from solcore.absorption_calculator import calculate_rat, OptiStack\n",
    "import seaborn as sns"
   ]
  },
  {
   "cell_type": "markdown",
   "id": "544f47e1",
   "metadata": {},
   "source": [
    "## Setting up\n",
    "\n",
    "First, let's define some materials:"
   ]
  },
  {
   "cell_type": "code",
   "execution_count": null,
   "id": "f19aaa39",
   "metadata": {},
   "outputs": [],
   "source": [
    "Si = material(\"Si\")\n",
    "SiN = material(\"Si3N4\")()\n",
    "Ag = material(\"Ag\")()"
   ]
  },
  {
   "cell_type": "markdown",
   "id": "7cc83ea3",
   "metadata": {},
   "source": [
    "Note the second set of brackets (or lack thereof). The Solcore material system essentially operates in two stages; we first\n",
    "call the `material` function with the name of the material we want to use, for example Si = material(\"Si\"), which creates\n",
    "a general Python class corresponding to that material. We then call this class to specify further details, such as the\n",
    "temperature, doping level, or alloy composition (where relavant). This happens below when defining Si_n and Si_p; both\n",
    "are use the Si class defined above, and adding further details to the material. For the definitions of SiN and Ag above,\n",
    "we do both steps in a single line, hence the two sets of brackets."
   ]
  },
  {
   "cell_type": "code",
   "execution_count": null,
   "id": "8403ccd9",
   "metadata": {},
   "outputs": [],
   "source": [
    "Si_n = Si(Nd=si(\"1e21cm-3\"), hole_diffusion_length=si(\"10um\"))\n",
    "Si_p = Si(Na=si(\"1e16cm-3\"), electron_diffusion_length=si(\"400um\"))"
   ]
  },
  {
   "cell_type": "markdown",
   "id": "2d26b6d2",
   "metadata": {},
   "source": [
    "To look at the effect of interference in the Si layer at different thicknesses, we make a list of thicknesses to test\n",
    "(evenly spaced on a log scale from 400 nm to 300 um):"
   ]
  },
  {
   "cell_type": "code",
   "execution_count": null,
   "id": "b6dc7f26",
   "metadata": {},
   "outputs": [],
   "source": [
    "Si_thicknesses = np.linspace(np.log(0.4e-6), np.log(300e-6), 8)\n",
    "Si_thicknesses = np.exp(Si_thicknesses)\n",
    "\n",
    "wavelengths = si(np.linspace(300, 1200, 400), \"nm\")\n",
    "\n",
    "options = {\n",
    "    \"recalculate_absorption\": True,\n",
    "    \"optics_method\": \"TMM\",\n",
    "    \"wavelength\": wavelengths\n",
    "           }"
   ]
  },
  {
   "cell_type": "markdown",
   "id": "e52b5c00",
   "metadata": {},
   "source": [
    "Make a color palette using the seaborn package to make the plots look nicer"
   ]
  },
  {
   "cell_type": "code",
   "execution_count": null,
   "id": "e395afb5",
   "metadata": {},
   "outputs": [],
   "source": [
    "colors = sns.color_palette('rocket', n_colors=len(Si_thicknesses))\n",
    "colors.reverse()"
   ]
  },
  {
   "cell_type": "markdown",
   "id": "eef79f0e",
   "metadata": {},
   "source": [
    "create an ARC layer:"
   ]
  },
  {
   "cell_type": "code",
   "execution_count": null,
   "id": "f4bc781d",
   "metadata": {},
   "outputs": [],
   "source": [
    "ARC_layer = Layer(width=si('75nm'), material=SiN)"
   ]
  },
  {
   "cell_type": "markdown",
   "id": "37b167b4",
   "metadata": {},
   "source": [
    "## Effect of Si thickness\n",
    "\n",
    "Now we are going to loop through the different Si thicknesses generated above, and create a simple solar cell-like structure.\n",
    "Because we will only do an optical calculation, we don't need to define a junction and can just make a simple stack of layers.\n",
    "\n",
    "We then calculate reflection, absorption and transmission (RAT) for two different situations:\n",
    "1. a fully coherent stack\n",
    "2. assuming the silicon layer is incoherent. This means that light which enters the Si layer cannot interfere with itself,\n",
    "    but light in the ARC layer can still show interference. In very thick layers (much thicker than the wavelength of light\n",
    "    being considered) this is likely to be more physically accurate because real light does not have infinite coherence length;\n",
    "    i.e. if you measured wavelength-dependent transmission or reflection of a Si wafer hundreds of microns thick you would\n",
    "    not expect to see interference fringes.\n",
    "\n",
    "**PLOT 1**"
   ]
  },
  {
   "cell_type": "code",
   "execution_count": null,
   "id": "552cf361",
   "metadata": {},
   "outputs": [],
   "source": [
    "plt.figure()\n",
    "\n",
    "for i1, Si_t in enumerate(Si_thicknesses):\n",
    "\n",
    "    base_layer = Layer(width=Si_t, material=Si_p) # silicon layer\n",
    "    solar_cell = OptiStack([ARC_layer, base_layer]) # OptiStack (optical stack) to feed into calculate_rat function\n",
    "\n",
    "    # Coherent calculation:\n",
    "    RAT_c = calculate_rat(solar_cell, wavelengths*1e9, no_back_reflection=False) # coherent calculation\n",
    "    # For historical reasons, Solcore's default setting is to ignore reflection at the back of the cell (i.e. at the\n",
    "    # interface between the final material in the stack and the substrate). Hence we need to tell the calculate_rat\n",
    "    # function NOT to ignore this reflection (no_back_reflection=False).\n",
    "\n",
    "    # Calculation assuming no interference in the silicon (\"incoherent\"):\n",
    "    RAT_i = calculate_rat(solar_cell, wavelengths*1e9, no_back_reflection=False,\n",
    "                          coherent=False, coherency_list=['c', 'i']) # partially coherent: ARC is coherent, Si is not\n",
    "\n",
    "    # Plot the results:\n",
    "    plt.plot(wavelengths*1e9, RAT_c[\"A\"], color=colors[i1], label=str(round(Si_t*1e6, 1)), alpha=0.7)\n",
    "    plt.plot(wavelengths*1e9, RAT_i[\"A\"], '--', color=colors[i1])\n",
    "\n",
    "plt.legend(title=r\"Thickness ($\\mu$m)\")\n",
    "plt.xlim(300, 1300)\n",
    "plt.ylim(0, 1.02)\n",
    "plt.ylabel(\"Absorption\")\n",
    "plt.title(\"(1) Absorption in Si with varying thickness\")\n",
    "plt.show()"
   ]
  },
  {
   "cell_type": "markdown",
   "id": "4291e2c0",
   "metadata": {},
   "source": [
    "We can see that the coherent calculations (solid lines) show clear interference fringes which depend on the Si thickness.\n",
    "The incoherent calculations do not have these fringes and seem to lie around the average of the interference fringes.\n",
    "For both sets of calculations, we see increasing absorption as the Si gets thicker, as expected.\n",
    "\n",
    "## Effect of reflective substrate\n",
    "\n",
    "Now we repeat the calculation, but with an Ag substrate under the Si. Previously, we did not specify the substrate and\n",
    "so it was assumed by Solcore to be air ($n$ = 1, $\\kappa$ = 0).\n",
    "\n",
    "\n",
    "**PLOT 2**"
   ]
  },
  {
   "cell_type": "code",
   "execution_count": null,
   "id": "03f3c79a",
   "metadata": {},
   "outputs": [],
   "source": [
    "plt.figure()\n",
    "\n",
    "for i1, Si_t in enumerate(Si_thicknesses):\n",
    "\n",
    "    base_layer = Layer(width=Si_t, material=Si_p)\n",
    "\n",
    "    # As before, but now we specify the substrate to be silver:\n",
    "    solar_cell = OptiStack([ARC_layer, base_layer], substrate=Ag)\n",
    "\n",
    "    RAT_c = calculate_rat(solar_cell, wavelengths*1e9, no_back_reflection=False)\n",
    "    RAT_i = calculate_rat(solar_cell, wavelengths*1e9, no_back_reflection=False,\n",
    "                          coherent=False, coherency_list=['c', 'i'])\n",
    "    plt.plot(wavelengths*1e9, RAT_c[\"A\"], color=colors[i1],\n",
    "             label=str(round(Si_t*1e6, 1)), alpha=0.7)\n",
    "    plt.plot(wavelengths*1e9, RAT_i[\"A\"], '--', color=colors[i1])\n",
    "\n",
    "plt.legend(title=r\"Thickness ($\\mu$m)\")\n",
    "plt.xlim(300, 1300)\n",
    "plt.ylim(0, 1.02)\n",
    "plt.ylabel(\"Absorption\")\n",
    "plt.title(\"(2) Absorption in Si with varying thickness (Ag substrate)\")\n",
    "plt.show()"
   ]
  },
  {
   "cell_type": "markdown",
   "id": "3b0e83f7",
   "metadata": {},
   "source": [
    "We see that the interference fringes get more prominent in the coherent calculation, due to higher reflection at the rear\n",
    "Si/Ag surface compared to Ag/Air. We also see a slightly boosted absorption at long wavelengths at all thicknesses, again\n",
    "due to improved reflection at the rear surface\n",
    "\n",
    "## Effect of polarization and angle of incidence\n",
    "\n",
    "Finally, we look at the effect of incidence angle and polarization of the light hitting the cell.\n",
    "\n",
    "**PLOT 3**"
   ]
  },
  {
   "cell_type": "code",
   "execution_count": null,
   "id": "7e9606b6",
   "metadata": {},
   "outputs": [],
   "source": [
    "angles = [0, 30, 60, 70, 80, 89] # angles in degrees\n",
    "\n",
    "ARC_layer = Layer(width=si('75nm'), material=SiN)\n",
    "base_layer = Layer(width=si(\"100um\"), material=Si_p)\n",
    "\n",
    "colors = sns.cubehelix_palette(n_colors=len(angles))\n",
    "\n",
    "plt.figure()\n",
    "\n",
    "for i1, theta in enumerate(angles):\n",
    "\n",
    "    solar_cell = OptiStack([ARC_layer, base_layer])\n",
    "\n",
    "    RAT_s = calculate_rat(solar_cell, wavelengths*1e9, angle=theta,\n",
    "                          pol='s',\n",
    "                          no_back_reflection=False,\n",
    "                          coherent=False, coherency_list=['c', 'i'])\n",
    "    RAT_p = calculate_rat(solar_cell, wavelengths*1e9, angle=theta,\n",
    "                          pol='p',\n",
    "                          no_back_reflection=False,\n",
    "                          coherent=False, coherency_list=['c', 'i'])\n",
    "\n",
    "    plt.plot(wavelengths*1e9, RAT_s[\"A\"], color=colors[i1], label=str(round(theta)))\n",
    "    plt.plot(wavelengths*1e9, RAT_p[\"A\"], '--', color=colors[i1])\n",
    "\n",
    "plt.legend(title=r\"$\\theta (^\\circ)$\")\n",
    "plt.xlim(300, 1300)\n",
    "plt.ylim(0, 1.02)\n",
    "plt.ylabel(\"Absorption\")\n",
    "plt.title(\"(3) Absorption in Si with varying angle of incidence\")\n",
    "plt.show()"
   ]
  },
  {
   "cell_type": "markdown",
   "id": "7e9da44c",
   "metadata": {},
   "source": [
    "For normal incidence ($\\theta = 0^\\circ$), *s* (solid lines) and *p* (dashed lines) polarization are equivalent. As the incidence\n",
    "angle increases, in general absorption is higher for p-polarized light (due to lower reflection). Usually, sunlight is\n",
    "modelled as unpolarized light, which computationally is usually done by averaging the results for s and p-polarized light.\n",
    "\n",
    "\n",
    "## Conclusions\n",
    "\n",
    "We have now seen some effects of interference in layers of different thicknesses, and seen the effect of adding a highly\n",
    "reflective substrate. So we already have two strategies for light-trapping/improving the absorption in a solar cell:\n",
    "adding an anti-reflection coating (in example 1a), to reduce front-surface reflection and get more light into the cell,\n",
    "and adding a highly reflective layer at the back, to reduce loss through the back of the cell and keep light trapped in\n",
    "the cell.\n",
    "\n",
    "## Questions\n",
    "\n",
    "- Why are the interference fringes stronger when adding a silver back mirror,\n",
    "  compared to having air behind the Si?\n",
    "- We modelled s and p-polarized light - how do we normally model unpolarized light?"
   ]
  }
 ],
 "metadata": {
  "kernelspec": {
   "display_name": "Python 3 (ipykernel)",
   "language": "python",
   "name": "python3"
  },
  "language_info": {
   "codemirror_mode": {
    "name": "ipython",
    "version": 3
   },
   "file_extension": ".py",
   "mimetype": "text/x-python",
   "name": "python",
   "nbconvert_exporter": "python",
   "pygments_lexer": "ipython3",
   "version": "3.11.5"
  }
 },
 "nbformat": 4,
 "nbformat_minor": 5
}
