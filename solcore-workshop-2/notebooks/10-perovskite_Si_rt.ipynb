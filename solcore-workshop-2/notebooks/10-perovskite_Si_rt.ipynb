{
 "cells": [
  {
   "cell_type": "markdown",
   "metadata": {
    "collapsed": false
   },
   "source": [
    "# Section 10: Perovskite-Si tandem cell with pyramidal surfaces\n",
    "\n",
    "This example shows how you can simulate a perovskite-Si tandem cell with pyramidal\n",
    "surface textures, where the perovskite and other surface layers are assumed to be\n",
    "deposited conformally (i.e., also in a pyramid shape) on top of the Si. The\n",
    "perovskite optical constants are from\n",
    "[this paper](https://pubs.acs.org/doi/pdf/10.1021/acsenergylett.8b00089), while the structure is based on\n",
    "[this paper](https://doi.org/10.1038/s41563-018-0115-4) We will\n",
    "calculate\n",
    "total reflection, transmission and absorption per layer as well as the\n",
    "wavelength-dependent absorption profiles in the perovskite and Si, which can be used\n",
    "in e.g. device simulations. We will look at the effect of treating the layers\n",
    "deposited on Si (including the perovskite) coherently or incoherently.\n",
    "\n",
    "First, import relevant packages and RayFlare functions:"
   ]
  },
  {
   "cell_type": "code",
   "execution_count": null,
   "metadata": {
    "collapsed": false
   },
   "outputs": [],
   "source": [
    "import numpy as np\n",
    "import os\n",
    "\n",
    "from solcore.structure import Layer\n",
    "from solcore.constants import q\n",
    "from solcore import material\n",
    "from solcore.absorption_calculator import search_db, download_db\n",
    "from solcore.light_source import LightSource\n",
    "\n",
    "from rayflare.textures import regular_pyramids\n",
    "from rayflare.options import default_options\n",
    "from rayflare.ray_tracing import rt_structure\n",
    "import matplotlib.pyplot as plt\n",
    "import seaborn as sns\n",
    "\n",
    "from cycler import cycler"
   ]
  },
  {
   "cell_type": "markdown",
   "metadata": {
    "collapsed": false
   },
   "source": [
    "Now we set some relevant options. We will scan across 20 x 20 surface points of the\n",
    "pyramid unit cell between 300 and 1200 nm, for unpolarized, normally-incident light.\n",
    "The `randomize_surface` option is set to True to prevent [correlation between the\n",
    "incident position on the front and rear pyramids](https://aip.scitation\n",
    ".org/doi/pdf/10.1063/1.339189). The `n_jobs` option is set to -1, which means that\n",
    "all available cores will be used. If you want to use all but one core, change this to\n",
    " -2 etc. We also need to provide a `project_name` to save the lookup tables which will be calculated using TMM to use during ray-tracing."
   ]
  },
  {
   "cell_type": "code",
   "execution_count": null,
   "metadata": {
    "collapsed": false
   },
   "outputs": [],
   "source": [
    "wavelengths = np.linspace(300, 1200, 40) * 1e-9\n",
    "\n",
    "AM15G = LightSource(source_type=\"standard\", version=\"AM1.5g\", x=wavelengths,\n",
    "                    output_units=\"photon_flux_per_m\")\n",
    "\n",
    "options = default_options()\n",
    "options.wavelength = wavelengths\n",
    "options.nx = 20\n",
    "options.ny = options.nx\n",
    "options.n_rays = 4 * options.nx**2\n",
    "options.depth_spacing = 1e-9\n",
    "options.pol = \"u\"\n",
    "options.I_thresh = 1e-3\n",
    "options.project_name = \"perovskite_Si_rt\"\n",
    "options.randomize_surface = True\n",
    "options.n_jobs = -1 # use all cores; to use all but one, change to -2 etc."
   ]
  },
  {
   "cell_type": "markdown",
   "metadata": {
    "collapsed": false
   },
   "source": [
    "We define our materials. Note that some of these are custom materials added to the database; we only need to do this once. We then define the front layer stack (i.e. all the materials which are on top of the Si, excluding Si itself, which will be the 'bulk' material) and the rear layer stack. Layer stacks are always defined starting with the layer closest to the top of the cell."
   ]
  },
  {
   "cell_type": "code",
   "execution_count": null,
   "metadata": {
    "collapsed": false
   },
   "outputs": [],
   "source": [
    "# Can comment out this block after running once to add materials to the database\n",
    "from solcore.material_system import create_new_material\n",
    "\n",
    "create_new_material(\"Perovskite_CsBr_1p6eV\", \"data/CsBr10p_1to2_n_shifted.txt\",\n",
    "                    \"data/CsBr10p_1to2_k_shifted.txt\")\n",
    "create_new_material(\"ITO_lowdoping\", \"data/model_back_ito_n.txt\",\n",
    "                    \"data/model_back_ito_k.txt\")\n",
    "create_new_material(\"aSi_i\", \"data/model_i_a_silicon_n.txt\",\n",
    "                    \"data/model_i_a_silicon_k.txt\")\n",
    "create_new_material(\"aSi_p\", \"data/model_p_a_silicon_n.txt\",\n",
    "                    \"data/model_p_a_silicon_k.txt\")\n",
    "create_new_material(\"aSi_n\", \"data/model_n_a_silicon_n.txt\",\n",
    "                    \"data/model_n_a_silicon_k.txt\")\n",
    "create_new_material(\"C60\", \"data/C60_Ren_n.txt\",\n",
    "                    \"data/C60_Ren_k.txt\")\n",
    "create_new_material(\"IZO\", \"data/IZO_Ballif_rO2_10pcnt_n.txt\",\n",
    "                    \"data/IZO_Ballif_rO2_10pcnt_k.txt\")\n",
    "# Comment out until here"
   ]
  },
  {
   "cell_type": "code",
   "execution_count": null,
   "metadata": {
    "collapsed": false
   },
   "outputs": [],
   "source": [
    "# download_db()"
   ]
  },
  {
   "cell_type": "code",
   "execution_count": null,
   "metadata": {
    "collapsed": false
   },
   "outputs": [],
   "source": [
    "MgF2_pageid = search_db(os.path.join(\"MgF2\", \"Rodriguez-de Marcos\"))[0][0];\n",
    "Ag_pageid = search_db(os.path.join(\"Ag\", \"Jiang\"))[0][0];\n",
    "\n",
    "Si = material(\"Si\")()\n",
    "Air = material(\"Air\")()\n",
    "MgF2 = material(str(MgF2_pageid), nk_db=True)()\n",
    "ITO_back = material(\"ITO_lowdoping\")()\n",
    "Perovskite = material(\"Perovskite_CsBr_1p6eV\")()\n",
    "Ag = material(str(Ag_pageid), nk_db=True)()\n",
    "aSi_i = material(\"aSi_i\")()\n",
    "aSi_p = material(\"aSi_p\")()\n",
    "aSi_n = material(\"aSi_n\")()\n",
    "LiF = material(\"LiF\")()\n",
    "IZO = material(\"IZO\")()\n",
    "C60 = material(\"C60\")()\n",
    "\n",
    "# stack based on doi:10.1038/s41563-018-0115-4\n",
    "front_materials = [\n",
    "    Layer(100e-9, MgF2),\n",
    "    Layer(110e-9, IZO),\n",
    "    Layer(15e-9, C60),\n",
    "    Layer(1e-9, LiF),\n",
    "    Layer(440e-9, Perovskite),\n",
    "    Layer(6.5e-9, aSi_n),\n",
    "    Layer(6.5e-9, aSi_i),\n",
    "]\n",
    "\n",
    "back_materials = [Layer(6.5e-9, aSi_i), Layer(6.5e-9, aSi_p), Layer(240e-9, ITO_back)]"
   ]
  },
  {
   "cell_type": "markdown",
   "metadata": {
    "collapsed": false
   },
   "source": [
    "Now we define our front and back surfaces, including `interface_layers`. We will use\n",
    "regular pyramids for both the front and back surface; these pyramids point out on both sides, but since the direction of the pyramids is defined relative to the front surface, we must set `upright=True` for the top surface and `upright=False` for the rear surface. We also gives the surfaces a name (used to save the lookup table data) and ask RayFlare to calculate the absorption profile in the 5th layer, which is the perovskite."
   ]
  },
  {
   "cell_type": "code",
   "execution_count": null,
   "metadata": {
    "collapsed": false
   },
   "outputs": [],
   "source": [
    "triangle_surf = regular_pyramids(\n",
    "    elevation_angle=55,\n",
    "    upright=True,\n",
    "    size=1,\n",
    "    interface_layers=front_materials,\n",
    "    name=\"coh_front\",\n",
    "    prof_layers=[5],\n",
    ")\n",
    "\n",
    "triangle_surf_back = regular_pyramids(\n",
    "    elevation_angle=55,\n",
    "    upright=False,\n",
    "    size=1,\n",
    "    interface_layers=back_materials,\n",
    "    name=\"Si_back\",\n",
    "    coherency_list=[\"i\"] * len(back_materials),\n",
    ")"
   ]
  },
  {
   "cell_type": "markdown",
   "metadata": {
    "collapsed": false
   },
   "source": [
    "Now we make our ray-tracing structure by combining the front and back surfaces,\n",
    "specifying the material in between (Si) and setting its width to 260 microns. In\n",
    "order to use the TMM lookuptables to calculate reflection/transmission/absorption\n",
    "probabilities we must also set `use_TMM=True`."
   ]
  },
  {
   "cell_type": "code",
   "execution_count": null,
   "metadata": {
    "collapsed": false
   },
   "outputs": [],
   "source": [
    "rtstr_coh = rt_structure(\n",
    "    textures=[triangle_surf, triangle_surf_back],\n",
    "    materials=[Si],\n",
    "    widths=[260e-6],\n",
    "    incidence=Air,\n",
    "    transmission=Ag,\n",
    "    use_TMM=True,\n",
    "    options=options,\n",
    "    overwrite=True,\n",
    "    save_location=\"current\",\n",
    ")\n",
    "\n",
    "# calculate:\n",
    "result_coh = rtstr_coh.calculate(options)"
   ]
  },
  {
   "cell_type": "markdown",
   "metadata": {
    "collapsed": false
   },
   "source": [
    "Now we define the same front surface and structure again, except now we will treat\n",
    "all the layers incoherently (i.e. no thin-film interference) in the TMM."
   ]
  },
  {
   "cell_type": "code",
   "execution_count": null,
   "metadata": {
    "collapsed": false
   },
   "outputs": [],
   "source": [
    "triangle_surf = regular_pyramids(\n",
    "    elevation_angle=55,\n",
    "    upright=True,\n",
    "    size=1,\n",
    "    interface_layers=front_materials,\n",
    "    coherency_list=[\"i\"] * len(front_materials),\n",
    "    name=\"inc_front\",\n",
    "    prof_layers=[5],\n",
    ")\n",
    "\n",
    "rtstr_inc = rt_structure(\n",
    "    textures=[triangle_surf, triangle_surf_back],\n",
    "    materials=[Si],\n",
    "    widths=[260e-6],\n",
    "    incidence=Air,\n",
    "    transmission=Ag,\n",
    "    use_TMM=True,\n",
    "    options=options,\n",
    "    overwrite=True,\n",
    "    save_location=\"current\",\n",
    ")\n",
    "\n",
    "result_inc = rtstr_inc.calculate(options)"
   ]
  },
  {
   "cell_type": "markdown",
   "metadata": {
    "collapsed": false
   },
   "source": [
    "Now we plot the results for reflection, transmission, and absorption per layer for both the coherent and incoherent cases."
   ]
  },
  {
   "cell_type": "code",
   "execution_count": null,
   "metadata": {
    "collapsed": false
   },
   "outputs": [],
   "source": [
    "pal = sns.color_palette(\"husl\", n_colors=len(front_materials) + len(back_materials) + 2)\n",
    "# create a colour palette\n",
    "\n",
    "cols = cycler(\"color\", pal)\n",
    "# set this as the default colour palette in matplotlib\n",
    "\n",
    "params = {\n",
    "    \"axes.prop_cycle\": cols,\n",
    "}\n",
    "\n",
    "plt.rcParams.update(params)\n",
    "\n",
    "fig = plt.figure(figsize=(8, 3.7))\n",
    "plt.subplot(1, 1, 1)\n",
    "plt.plot(wavelengths * 1e9, result_coh[\"R\"], \"-ko\", label=\"R\")\n",
    "plt.plot(wavelengths * 1e9, result_coh[\"T\"], mfc=\"none\", label=\"T\")\n",
    "plt.plot(wavelengths * 1e9, result_coh[\"A_per_layer\"][:, 0], \"-o\", label='Si')\n",
    "plt.plot(wavelengths * 1e9, result_coh[\"A_per_interface\"][0], \"-o\",\n",
    "         label=[None, \"IZO\", \"C60\", None, \"Perovskite\", None, None])\n",
    "plt.plot(wavelengths * 1e9, result_coh[\"A_per_interface\"][1], \"-o\",\n",
    "         label=[None, None, \"ITO\"])\n",
    "\n",
    "plt.plot(wavelengths * 1e9, result_inc[\"R\"], \"--ko\", mfc=\"none\")\n",
    "plt.plot(wavelengths * 1e9, result_inc[\"T\"], mfc=\"none\")\n",
    "plt.plot(wavelengths * 1e9, result_inc[\"A_per_layer\"][:, 0], \"--o\", mfc=\"none\")\n",
    "plt.plot(wavelengths * 1e9, result_inc[\"A_per_interface\"][0], \"--o\", mfc=\"none\")\n",
    "plt.plot(wavelengths * 1e9, result_inc[\"A_per_interface\"][1], \"--o\", mfc=\"none\")\n",
    "\n",
    "plt.plot([300, 301], [0, 0], \"-k\", label=\"coherent\")\n",
    "plt.plot([300, 301], [0, 0], \"--k\", label=\"incoherent\")\n",
    "plt.xlabel(\"Wavelength (nm)\")\n",
    "plt.ylabel(\"R / A / T\")\n",
    "plt.ylim(0, 1)\n",
    "plt.xlim(300, 1200)\n",
    "plt.legend(bbox_to_anchor=(1.05, 1))\n",
    "plt.tight_layout()\n",
    "plt.show()"
   ]
  },
  {
   "cell_type": "markdown",
   "metadata": {
    "collapsed": false
   },
   "source": [
    "Calculate and print the limiting short-circuit current per junction:"
   ]
  },
  {
   "cell_type": "code",
   "execution_count": null,
   "metadata": {
    "collapsed": false
   },
   "outputs": [],
   "source": [
    "Jmax_Pero_coh = q*np.trapz(result_coh[\"A_per_interface\"][0][:,4]*AM15G.spectrum()[1],\n",
    "                                                        x=wavelengths)/10\n",
    "Jmax_Si_coh = q*np.trapz(result_coh[\"A_per_layer\"][:, 0]*AM15G.spectrum()[1],\n",
    "                     x=wavelengths)/10\n",
    "\n",
    "print(\"Limiting short-circuit currents in coherent calculation (mA/cm2): {:.2f} / {:\"\n",
    "      \".2f}\".format(Jmax_Pero_coh, Jmax_Si_coh))\n",
    "\n",
    "Jmax_Pero_inc = q*np.trapz(result_inc[\"A_per_interface\"][0][:,4]*AM15G.spectrum()[1],\n",
    "                                                        x=wavelengths)/10\n",
    "Jmax_Si_inc = q*np.trapz(result_inc[\"A_per_layer\"][:, 0]*AM15G.spectrum()[1],\n",
    "                     x=wavelengths)/10\n",
    "\n",
    "print(\"Limiting short-circuit currents in coherent calculation (mA/cm2): {:.2f} / {:\"\n",
    "      \".2f}\".format(Jmax_Pero_inc, Jmax_Si_inc))"
   ]
  },
  {
   "cell_type": "markdown",
   "metadata": {
    "collapsed": false
   },
   "source": [
    "We can also plot the absorption profiles, for wavelengths up to 800 nm, in the\n",
    "perovskite (since we asked the solver to calculate the profile in the perovskite\n",
    "layer above)."
   ]
  },
  {
   "cell_type": "code",
   "execution_count": null,
   "metadata": {
    "collapsed": false
   },
   "outputs": [],
   "source": [
    "wl_Eg = wavelengths < 800e-9\n",
    "\n",
    "pal = sns.cubehelix_palette(sum(wl_Eg), reverse=True)\n",
    "cols = cycler(\"color\", pal)\n",
    "params = {\n",
    "    \"axes.prop_cycle\": cols,\n",
    "}\n",
    "plt.rcParams.update(params)\n",
    "\n",
    "pos = np.arange(0, rtstr_coh.interface_layer_widths[0][4], options.depth_spacing*1e9)\n",
    "\n",
    "fig, (ax1, ax2) = plt.subplots(1,2)\n",
    "ax1.plot(pos, result_coh[\"interface_profiles\"][0][wl_Eg].T)\n",
    "ax1.set_ylim(0, 0.02)\n",
    "ax1.set_xlabel(\"z (nm)\")\n",
    "ax1.set_ylabel(\"a(z)\")\n",
    "ax1.set_title(\"Coherent\")\n",
    "ax2.plot(pos, result_inc[\"interface_profiles\"][0][wl_Eg].T)\n",
    "ax2.set_ylim(0, 0.02)\n",
    "ax2.yaxis.set_ticklabels([])\n",
    "ax2.set_xlabel(\"z (nm)\")\n",
    "ax2.set_title(\"Incoherent\")\n",
    "plt.show()"
   ]
  },
  {
   "cell_type": "markdown",
   "metadata": {
    "collapsed": false
   },
   "source": [
    "We see that, as expected, the coherent case shows interference fringes while the incoherent case does not. We can also plot the absorption profile in the Si (> 800 nm):"
   ]
  },
  {
   "cell_type": "code",
   "execution_count": null,
   "metadata": {
    "collapsed": false
   },
   "outputs": [],
   "source": [
    "pos_bulk = pos = np.arange(0, rtstr_coh.widths[0]*1e6, options.depth_spacing_bulk*1e6)\n",
    "\n",
    "fig, (ax1, ax2) = plt.subplots(1,2)\n",
    "ax1.semilogy(pos, result_coh[\"profile\"][~wl_Eg].T)\n",
    "ax1.set_ylim(1e-8, 0.00015)\n",
    "ax1.set_xlabel(\"z (um)\")\n",
    "ax1.set_ylabel(\"a(z)\")\n",
    "ax1.set_title(\"Coherent\")\n",
    "ax2.semilogy(pos, result_inc[\"profile\"][~wl_Eg].T)\n",
    "ax2.set_ylim(1e-8, 0.00015)\n",
    "ax2.yaxis.set_ticklabels([])\n",
    "ax2.set_xlabel(\"z (um)\")\n",
    "ax2.set_title(\"Incoherent\")\n",
    "plt.show()"
   ]
  },
  {
   "cell_type": "markdown",
   "metadata": {
    "collapsed": false
   },
   "source": [
    "## Questions\n",
    "\n",
    "- Why do you think the total absorption is slightly lower in the incoherent calculation?\n",
    "- Even though the layers on top of the Si are not very thick compared to the\n",
    "  wavelength, and they are the first thing encountered by the light, why might it make\n",
    "  sense to treat them incoherently?\n",
    "- Can you improve the current-matching (at least in terms of limiting currents)\n",
    "  between the perovskite and the Si?"
   ]
  }
 ],
 "metadata": {
  "kernelspec": {
   "display_name": "Python 3",
   "language": "python",
   "name": "python3"
  },
  "language_info": {
   "codemirror_mode": {
    "name": "ipython",
    "version": 3
   },
   "file_extension": ".py",
   "mimetype": "text/x-python",
   "name": "python",
   "nbconvert_exporter": "python",
   "pygments_lexer": "ipython3",
   "version": "3.11.5"
  }
 },
 "nbformat": 4,
 "nbformat_minor": 0
}
