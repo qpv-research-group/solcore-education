{
 "cells": [
  {
   "cell_type": "markdown",
   "metadata": {
    "collapsed": false,
    "jupyter": {
     "outputs_hidden": false
    }
   },
   "source": [
    "# Section 8: Textured Si\n",
    "\n",
    "This example is based on Figures 6, 7 and 8 from [this paper](https://doi.org/10.1364/OE.23.0A1720).\n",
    "This compares three different structures, all based on a 200 micron thick slab of silicon\n",
    "with different surface textures:\n",
    "\n",
    "1. Planar front surface (TMM), crossed grating at rear (RCWA)\n",
    "2. Inverted pyramids on the front surface (RT_Fresnel), planar rear surface (TMM)\n",
    "3. Inverted pyramids on the front surface (RT_Fresnel), crossed grating at rear (RCWA)\n",
    "\n",
    "The methods which will be used to calculate the redistribution matrices in each case are given in\n",
    "brackets. If case 1 and 2 are calculated first, then case 3 does not require the calculations of\n",
    "any additional matrices, since it will use the rear matrix from (1) and the front matrix from (2).\n",
    "\n",
    "## Setting up\n",
    "\n",
    "First, importing relevant packages:"
   ]
  },
  {
   "cell_type": "code",
   "execution_count": 1,
   "metadata": {
    "ExecuteTime": {
     "end_time": "2023-11-15T09:07:26.494790Z",
     "start_time": "2023-11-15T09:07:25.022732Z"
    },
    "collapsed": false,
    "jupyter": {
     "outputs_hidden": false
    }
   },
   "outputs": [
    {
     "name": "stdout",
     "output_type": "stream",
     "text": [
      "WARNING: The RCWA solver will not be available because an S4 installation has not been found.\n",
      "WARNING: The RCWA solver will not be available because an S4 installation has not been found.\n"
     ]
    }
   ],
   "source": [
    "import numpy as np\n",
    "import os\n",
    "\n",
    "# solcore imports\n",
    "from solcore.structure import Layer\n",
    "from solcore import material\n",
    "from solcore import si\n",
    "\n",
    "from rayflare.structure import Interface, BulkLayer, Structure\n",
    "from rayflare.matrix_formalism import process_structure, calculate_RAT\n",
    "from rayflare.utilities import get_savepath\n",
    "from rayflare.transfer_matrix_method import tmm_structure\n",
    "from rayflare.angles import theta_summary, make_angle_vector\n",
    "from rayflare.textures import regular_pyramids\n",
    "from rayflare.options import default_options\n",
    "\n",
    "import matplotlib.pyplot as plt\n",
    "import matplotlib as mpl\n",
    "import seaborn as sns\n",
    "from sparse import load_npz"
   ]
  },
  {
   "cell_type": "markdown",
   "metadata": {
    "collapsed": false,
    "jupyter": {
     "outputs_hidden": false
    }
   },
   "source": [
    "Setting options (taking the default options for everything not specified explicitly):"
   ]
  },
  {
   "cell_type": "code",
   "execution_count": 2,
   "metadata": {
    "ExecuteTime": {
     "end_time": "2023-11-15T09:07:32.483132Z",
     "start_time": "2023-11-15T09:07:32.464888Z"
    },
    "collapsed": false,
    "jupyter": {
     "outputs_hidden": false
    }
   },
   "outputs": [],
   "source": [
    "angle_degrees_in = 8 # same as in Fraunhofer paper\n",
    "\n",
    "wavelengths = np.linspace(900, 1200, 20) * 1e-9\n",
    "\n",
    "Si = material(\"Si\")()\n",
    "Air = material(\"Air\")()\n",
    "\n",
    "options = default_options()\n",
    "options.wavelengths = wavelengths\n",
    "options.theta_in = angle_degrees_in * np.pi / 180 # incidence angle (polar angle)\n",
    "options.n_theta_bins = 50\n",
    "options.c_azimuth = 0.25\n",
    "options.n_rays = 5e5 # number of rays per wavelength in ray-tracing\n",
    "options.project_name = \"OPTOS_comparison\"\n",
    "options.orders = 60 # number of RCWA orders to use (more = better convergence, but slower)\n",
    "options.pol = \"u\" # unpolarized light\n",
    "options.only_incidence_angle = False\n",
    "options.RCWA_method = \"Inkstone\"\n"
   ]
  },
  {
   "cell_type": "markdown",
   "metadata": {
    "collapsed": false,
    "jupyter": {
     "outputs_hidden": false
    }
   },
   "source": [
    "## Defining the structures\n",
    "\n",
    "Now, set up the grating basis vectors for the RCWA calculations and define the grating structure.\n",
    "These are squares, rotated by 45 degrees. The halfwidth is calculated based on the area fill factor\n",
    "of the etched pillars given in the paper."
   ]
  },
  {
   "cell_type": "code",
   "execution_count": 4,
   "metadata": {
    "ExecuteTime": {
     "end_time": "2023-11-15T09:07:34.414573Z",
     "start_time": "2023-11-15T09:07:34.408237Z"
    },
    "collapsed": false,
    "jupyter": {
     "outputs_hidden": false
    }
   },
   "outputs": [],
   "source": [
    "x = 1000\n",
    "\n",
    "d_vectors = ((x, 0), (0, x))\n",
    "area_fill_factor = 0.36\n",
    "hw = np.sqrt(area_fill_factor) * 500\n",
    "\n",
    "back_materials = [\n",
    "    Layer(width=si(\"120nm\"), material=Si,\n",
    "        geometry=[{\"type\": \"rectangle\", \"mat\": Air, \"center\": (x / 2, x / 2),\n",
    "                \"halfwidths\": (hw, hw), \"angle\": 45}],\n",
    "    )]"
   ]
  },
  {
   "cell_type": "markdown",
   "metadata": {
    "collapsed": false,
    "jupyter": {
     "outputs_hidden": false
    }
   },
   "source": [
    "Now we define the pyramid texture for the front surface in case (2) and (3) and make the four\n",
    "possible different surfaces: planar front and rear, front with pyramids, rear with grating.\n",
    "We specify the method to use to calculate the redistribution matrices in each case and create\n",
    "the bulk layer."
   ]
  },
  {
   "cell_type": "code",
   "execution_count": 5,
   "metadata": {
    "ExecuteTime": {
     "end_time": "2023-11-15T09:07:35.630980Z",
     "start_time": "2023-11-15T09:07:35.626657Z"
    },
    "collapsed": false,
    "jupyter": {
     "outputs_hidden": false
    }
   },
   "outputs": [],
   "source": [
    "surf = regular_pyramids(elevation_angle=55, upright=False)\n",
    "\n",
    "front_surf_pyramids = Interface(\n",
    "    \"RT_Fresnel\",\n",
    "    texture=surf,\n",
    "    layers=[],\n",
    "    name=\"inv_pyramids_front_\" + str(options[\"n_rays\"]),\n",
    ")\n",
    "\n",
    "front_surf_planar = Interface(\"TMM\", layers=[], name=\"planar_front\")\n",
    "\n",
    "back_surf_grating = Interface(\n",
    "    \"RCWA\",\n",
    "    layers=back_materials,\n",
    "    name=\"crossed_grating_back\",\n",
    "    d_vectors=d_vectors,\n",
    "    rcwa_orders=20,\n",
    ")\n",
    "\n",
    "back_surf_planar = Interface(\"TMM\", layers=[], name=\"planar_back\")\n",
    "\n",
    "bulk_Si = BulkLayer(200e-6, Si, name=\"Si_bulk\")"
   ]
  },
  {
   "cell_type": "markdown",
   "metadata": {
    "collapsed": false,
    "jupyter": {
     "outputs_hidden": false
    }
   },
   "source": [
    "Now we create the different structures and 'process' them (this will calculate the relevant\n",
    "matrices if necessary, or do nothing if it finds the matrices have previously been calculated and\n",
    "the files already exist). We don't need to process the final structure because it will use matrices\n",
    "calculated for `SC_fig6` and `SC_fig7`."
   ]
  },
  {
   "cell_type": "code",
   "execution_count": null,
   "metadata": {
    "ExecuteTime": {
     "end_time": "2023-11-15T09:07:41.065063Z",
     "start_time": "2023-11-15T09:07:38.929572Z"
    },
    "collapsed": false,
    "jupyter": {
     "outputs_hidden": false
    }
   },
   "outputs": [
    {
     "name": "stderr",
     "output_type": "stream",
     "text": [
      "INFO: Making matrix for planar surface using TMM for element 0 in structure\n",
      "INFO: Existing angular redistribution matrices found\n",
      "INFO: Existing angular redistribution matrices found\n",
      "INFO: RCWA calculation for element 2 in structure\n",
      "INFO: RCWA calculation for wavelength = 963.1578947368421 nm\n",
      "INFO: RCWA calculation for wavelength = 978.9473684210526 nm\n",
      "INFO: RCWA calculation for wavelength = 931.578947368421 nm\n",
      "INFO: RCWA calculation for wavelength = 900.0000000000001 nm\n",
      "INFO: RCWA calculation for wavelength = 1010.5263157894736 nm\n",
      "INFO: RCWA calculation for wavelength = 1042.1052631578948 nm\n",
      "INFO: RCWA calculation for wavelength = 994.7368421052631 nm\n",
      "INFO: RCWA calculation for wavelength = 915.7894736842105 nm\n",
      "INFO: RCWA calculation for wavelength = 947.3684210526316 nm\n",
      "INFO: RCWA calculation for wavelength = 1026.3157894736842 nm\n",
      "INFO: RCWA calculation for wavelength = 1057.8947368421054 nm\n",
      "INFO: RCWA calculation for wavelength = 1073.6842105263158 nm\n",
      "INFO: RCWA calculation for wavelength = 1089.4736842105265 nm\n",
      "INFO: RCWA calculation for wavelength = 1105.2631578947369 nm\n",
      "INFO: RCWA calculation for wavelength = 1121.0526315789475 nm\n",
      "INFO: RCWA calculation for wavelength = 1136.842105263158 nm\n",
      "INFO: RCWA calculation for wavelength = 1152.6315789473683 nm\n",
      "INFO: RCWA calculation for wavelength = 1168.421052631579 nm\n",
      "INFO: RCWA calculation for wavelength = 1184.2105263157896 nm\n",
      "INFO: RCWA calculation for wavelength = 1200.0000000000002 nm\n",
      "INFO: Ray tracing with Fresnel equations for element 0 in structure\n",
      "INFO: RT calculation for wavelength = 915.7894736842105 nm\n",
      "INFO: RT calculation for wavelength = 900.0000000000001 nm\n",
      "INFO: RT calculation for wavelength = 994.7368421052631 nm\n",
      "INFO: RT calculation for wavelength = 978.9473684210526 nm\n",
      "INFO: RT calculation for wavelength = 963.1578947368421 nm\n",
      "INFO: RT calculation for wavelength = 931.578947368421 nm\n",
      "INFO: RT calculation for wavelength = 1010.5263157894736 nm\n",
      "INFO: RT calculation for wavelength = 947.3684210526316 nm\n",
      "INFO: RT calculation for wavelength = 1026.3157894736842 nm\n",
      "INFO: RT calculation for wavelength = 1042.1052631578948 nm\n"
     ]
    }
   ],
   "source": [
    "SC_fig6 = Structure(\n",
    "    [front_surf_planar, bulk_Si, back_surf_grating], incidence=Air, transmission=Air\n",
    ")\n",
    "SC_fig7 = Structure(\n",
    "    [front_surf_pyramids, bulk_Si, back_surf_planar], incidence=Air, transmission=Air\n",
    ")\n",
    "SC_fig8 = Structure(\n",
    "    [front_surf_pyramids, bulk_Si, back_surf_grating], incidence=Air, transmission=Air\n",
    ")\n",
    "\n",
    "process_structure(SC_fig6, options, save_location='current')\n",
    "process_structure(SC_fig7, options, save_location='current')"
   ]
  },
  {
   "cell_type": "markdown",
   "metadata": {
    "collapsed": false,
    "jupyter": {
     "outputs_hidden": false
    }
   },
   "source": [
    "## Calculating R/A/T\n",
    "\n",
    "Then we ask RayFlare to calculate the reflection, transmission and absorption through matrix\n",
    "multiplication, and get the required result out (absorption in the bulk) for each cell. We\n",
    "also load the results from the reference paper to compare them to the ones calculated with RayFlare."
   ]
  },
  {
   "cell_type": "code",
   "execution_count": null,
   "metadata": {
    "collapsed": false,
    "jupyter": {
     "outputs_hidden": false
    }
   },
   "outputs": [],
   "source": [
    "#| output: false\n",
    "\n",
    "results_fig6 = calculate_RAT(SC_fig6, options, save_location='current')\n",
    "results_fig7 = calculate_RAT(SC_fig7, options, save_location='current')\n",
    "results_fig8 = calculate_RAT(SC_fig8, options, save_location='current')\n",
    "\n",
    "RAT_fig6 = results_fig6[0]\n",
    "RAT_fig7 = results_fig7[0]\n",
    "RAT_fig8 = results_fig8[0]\n",
    "\n",
    "sim_fig6 = np.loadtxt(\"data/optos_fig6_sim.csv\", delimiter=\",\")\n",
    "sim_fig7 = np.loadtxt(\"data/optos_fig7_sim.csv\", delimiter=\",\")\n",
    "sim_fig8 = np.loadtxt(\"data/optos_fig8_sim.csv\", delimiter=\",\")"
   ]
  },
  {
   "cell_type": "markdown",
   "metadata": {
    "collapsed": false,
    "jupyter": {
     "outputs_hidden": false
    }
   },
   "source": []
  },
  {
   "cell_type": "markdown",
   "metadata": {
    "collapsed": false,
    "jupyter": {
     "outputs_hidden": false
    }
   },
   "source": [
    "Finally, we use TMM to calculate the absorption in a structure with a planar front and planar rear,\n",
    "as a reference."
   ]
  },
  {
   "cell_type": "code",
   "execution_count": null,
   "metadata": {
    "collapsed": false,
    "jupyter": {
     "outputs_hidden": false
    }
   },
   "outputs": [],
   "source": [
    "struc = tmm_structure([Layer(si(\"200um\"), Si)], incidence=Air, transmission=Air)\n",
    "options.coherent = False\n",
    "options.coherency_list = [\"i\"]\n",
    "RAT = tmm_structure.calculate(struc, options)"
   ]
  },
  {
   "cell_type": "markdown",
   "metadata": {
    "collapsed": false,
    "jupyter": {
     "outputs_hidden": false
    }
   },
   "source": [
    "## Plotting\n",
    "\n",
    "Plot everything together, including data from the reference paper for comparison:"
   ]
  },
  {
   "cell_type": "code",
   "execution_count": null,
   "metadata": {
    "collapsed": false,
    "jupyter": {
     "outputs_hidden": false
    }
   },
   "outputs": [],
   "source": [
    "palhf = sns.color_palette(\"hls\", 4)\n",
    "\n",
    "fig = plt.figure()\n",
    "plt.plot(sim_fig6[:, 0], sim_fig6[:, 1],\n",
    "    \"--\", color=palhf[0], label=\"OPTOS - rear grating (1)\")\n",
    "plt.plot(wavelengths * 1e9, RAT_fig6[\"A_bulk\"][0],\n",
    "    \"-o\", color=palhf[0], label=\"RayFlare - rear grating (1)\", fillstyle=\"none\")\n",
    "plt.plot(sim_fig7[:, 0], sim_fig7[:, 1],\n",
    "    \"--\", color=palhf[1], label=\"OPTOS - front pyramids (2)\",)\n",
    "plt.plot(wavelengths * 1e9, RAT_fig7[\"A_bulk\"][0],\n",
    "    \"-o\", color=palhf[1], label=\"RayFlare - front pyramids (2)\", fillstyle=\"none\")\n",
    "plt.plot(sim_fig8[:, 0], sim_fig8[:, 1],\n",
    "    \"--\", color=palhf[2], label=\"OPTOS - grating + pyramids (3)\")\n",
    "plt.plot(wavelengths * 1e9, RAT_fig8[\"A_bulk\"][0],\n",
    "    \"-o\", color=palhf[2],label=\"RayFlare - grating + pyramids (3)\", fillstyle=\"none\",)\n",
    "plt.plot(wavelengths * 1e9, RAT[\"A_per_layer\"][:, 0], \"-k\", label=\"Planar\")\n",
    "plt.legend(loc=\"lower left\")\n",
    "plt.xlabel(\"Wavelength (nm)\")\n",
    "plt.ylabel(\"Absorption in Si\")\n",
    "plt.xlim([900, 1200])\n",
    "plt.ylim([0, 1])\n",
    "plt.show()"
   ]
  },
  {
   "cell_type": "markdown",
   "metadata": {
    "collapsed": false,
    "jupyter": {
     "outputs_hidden": false
    }
   },
   "source": [
    "We can see good agreement between the reference values and our calculated values. The structure\n",
    "with rear grating also behaves identically to the planar TMM reference case at the short wavelengths\n",
    "where front surface reflection dominates the result, as expected. Clearly, the pyramids perform\n",
    "much better overall, giving a large boost in the absorption at long wavelengths and also reducing the reflection\n",
    "significantly at shorter wavelengths. Plotting reflection and transmission emphasises this:"
   ]
  },
  {
   "cell_type": "code",
   "execution_count": null,
   "metadata": {
    "collapsed": false,
    "jupyter": {
     "outputs_hidden": false
    }
   },
   "outputs": [],
   "source": [
    "fig = plt.figure()\n",
    "plt.plot(wavelengths * 1e9,RAT_fig6[\"R\"][0],\n",
    "    \"-o\", color=palhf[0], label=\"RayFlare - rear grating (1)\", fillstyle=\"none\")\n",
    "plt.plot(wavelengths * 1e9, RAT_fig7[\"R\"][0],\n",
    "    \"-o\", color=palhf[1], label=\"RayFlare - front pyramids (2)\", fillstyle=\"none\")\n",
    "plt.plot(wavelengths * 1e9, RAT_fig8[\"R\"][0],\n",
    "    \"-o\", color=palhf[2], label=\"RayFlare - grating + pyramids (3)\", fillstyle=\"none\")\n",
    "\n",
    "plt.plot(wavelengths * 1e9, RAT_fig6[\"T\"][0], \"--o\", color=palhf[0])\n",
    "plt.plot(wavelengths * 1e9, RAT_fig7[\"T\"][0], \"--o\", color=palhf[1])\n",
    "plt.plot(wavelengths * 1e9, RAT_fig8[\"T\"][0], \"--o\", color=palhf[2])\n",
    "\n",
    "# these are just to create the legend:\n",
    "plt.plot(-1, 0, \"k-o\", label=\"R\", fillstyle=\"none\")\n",
    "plt.plot(-1, 0, \"k--o\", label=\"T\")\n",
    "\n",
    "plt.legend()\n",
    "plt.xlabel(\"Wavelength (nm)\")\n",
    "plt.ylabel(\"Reflected/transmitted fraction\")\n",
    "plt.xlim([900, 1200])\n",
    "plt.ylim([0, 0.6])\n",
    "plt.show()"
   ]
  },
  {
   "cell_type": "markdown",
   "metadata": {
    "collapsed": false,
    "jupyter": {
     "outputs_hidden": false
    }
   },
   "source": [
    "## Redistribution matrices\n",
    "\n",
    "Plot the redistribution matrix for the rear grating (summed over azimuthal angles) at 1100 nm:"
   ]
  },
  {
   "cell_type": "code",
   "execution_count": null,
   "metadata": {
    "collapsed": false,
    "jupyter": {
     "outputs_hidden": false
    }
   },
   "outputs": [],
   "source": [
    "theta_intv, phi_intv, angle_vector = make_angle_vector(\n",
    "    options[\"n_theta_bins\"], options[\"phi_symmetry\"], options[\"c_azimuth\"])\n",
    "\n",
    "path = get_savepath(save_location='current', project_name=options.project_name)\n",
    "sprs = load_npz(os.path.join(path, SC_fig6[2].name + \"frontRT.npz\"))\n",
    "\n",
    "wl_to_plot = 1100e-9\n",
    "wl_index = np.argmin(np.abs(wavelengths - wl_to_plot))\n",
    "\n",
    "full = sprs[wl_index].todense()\n",
    "\n",
    "summat = theta_summary(full, angle_vector, options[\"n_theta_bins\"], \"front\")\n",
    "summat_r = summat[: options[\"n_theta_bins\"], :]\n",
    "summat_r = summat_r.rename({ r\"$\\theta_{in}$\": r\"$\\sin(\\theta_{in})$\",\n",
    "        r\"$\\theta_{out}$\": r\"$\\sin(\\theta_{out})$\"})\n",
    "\n",
    "summat_r = summat_r.assign_coords({r\"$\\sin(\\theta_{in})$\": np.sin(summat_r.coords[r\"$\\sin(\\theta_{in})$\"]).data,\n",
    "    r\"$\\sin(\\theta_{out})$\": np.sin(summat_r.coords[r\"$\\sin(\\theta_{out})$\"]).data})\n",
    "\n",
    "palhf = sns.cubehelix_palette(256, start=0.5, rot=-0.9)\n",
    "palhf.reverse()\n",
    "seamap = mpl.colors.ListedColormap(palhf)\n",
    "\n",
    "fig = plt.figure()\n",
    "ax = plt.subplot(111)\n",
    "ax = summat_r.plot.imshow(ax=ax, cmap=seamap, vmax=0.3)\n",
    "plt.show()"
   ]
  },
  {
   "cell_type": "markdown",
   "metadata": {
    "collapsed": false,
    "jupyter": {
     "outputs_hidden": false
    }
   },
   "source": [
    "## Questions\n",
    "\n",
    "- If you can add only one of the textures (pyramids or a grating), which one is\n",
    "  better? Why?\n",
    "- Why do the structures with a front-surface texture have high reflection at long\n",
    "  wavelengths? The anti-reflection properties of pyramids (treated with ray optics)\n",
    "  are mostly independent of the wavelength, so why does apparent reflection increase\n",
    "  near the bandgap of Si?\n",
    "- Can you explain any of the features present in the angular redistribution matrix\n",
    "  of the rear grating surface?"
   ]
  }
 ],
 "metadata": {
  "kernelspec": {
   "display_name": "Python 3 (ipykernel)",
   "language": "python",
   "name": "python3"
  },
  "language_info": {
   "codemirror_mode": {
    "name": "ipython",
    "version": 3
   },
   "file_extension": ".py",
   "mimetype": "text/x-python",
   "name": "python",
   "nbconvert_exporter": "python",
   "pygments_lexer": "ipython3",
   "version": "3.11.5"
  }
 },
 "nbformat": 4,
 "nbformat_minor": 4
}
