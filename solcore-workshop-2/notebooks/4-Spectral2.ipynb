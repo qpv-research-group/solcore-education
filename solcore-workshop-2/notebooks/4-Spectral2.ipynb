{
 "cells": [
  {
   "cell_type": "markdown",
   "id": "aac5db50feede5ac",
   "metadata": {
    "collapsed": false
   },
   "source": [
    "# Section 4: Calculating Spectral Irradiance using SPCTRAL 2\n",
    "\n",
    "SPCTRAL 2 is a clear-sky spectral irradiance model that accounts for variations in the atmospheric conditions and air-mass.  Developed at NREL in 1984, it generates terrestrial spectral irradiance from 300nm to 4um with a resolution of approximately 10nm.\n",
    "\n",
    "_\"Simple Solar Spectral Model for Direct and Diffuse Irradiance on Horizontal and Tilted Planes at the Earth's Surface for Cloudless Atmospheres\", R. Bird, C. Riordan, December 1984_\n",
    "\n",
    "The Solcore implementation accomodates the following inputs (stated values are\n",
    "defaults):\n",
    "\n",
    "- latitude : 0.9143779951198293 degrees\n",
    "- longitude : -0.02722713633111154 degrees\n",
    "- dateAndTime : datetime.datetime(2011, 6, 30, 12, 30)\n",
    "- aod_model: 'rural'\n",
    "- pressure: 103000.0 hPa\n",
    "- humidity: 0.3, \n",
    "- precipwater: 0.00142 cm\n",
    "- ozone': 0.00034 cm\n",
    "- turbidity: 0.15,\n",
    "\n",
    "All the inputs are numeric other than the aod_model whose options are: 'rural',\n",
    "'urban', 'maritime' and 'tropospheric'."
   ]
  },
  {
   "cell_type": "markdown",
   "id": "c70cfc2f5c310f27",
   "metadata": {
    "collapsed": false
   },
   "source": [
    "## Comparison between SPCTRAL2 with default parameters and AM1.5G "
   ]
  },
  {
   "cell_type": "code",
   "execution_count": null,
   "id": "3848d89618a9494f",
   "metadata": {
    "ExecuteTime": {
     "end_time": "2023-11-15T08:49:44.226972Z",
     "start_time": "2023-11-15T08:49:42.713752Z"
    },
    "collapsed": false
   },
   "outputs": [],
   "source": [
    "import numpy as np\n",
    "import matplotlib.pyplot as plt\n",
    "from solcore.light_source import LightSource\n",
    "\n",
    "# Setup the AM1.5G solar spectrum\n",
    "wl = np.linspace(300, 4000, 4000) * 1e-9    #wl contains the x-ordinate in wavelength\n",
    "am15g = LightSource(source_type='standard', x=wl*1e9, version='AM1.5g')\n",
    "\n",
    "spc2default = LightSource(source_type='SPECTRAL2',  x=wl * 1e9)\n",
    "\n",
    "plt.figure()\n",
    "plt.title(\"Comparing SPCTRAL 2 vs AM1.5G\")\n",
    "plt.plot(*am15g.spectrum(wl*1e9), label='AM1.5G')\n",
    "plt.plot(*spc2default.spectrum(wl*1e9), label='SPC-default')\n",
    "plt.xlim(300, 3000)\n",
    "plt.xlabel('Wavelength (nm)')\n",
    "plt.ylabel('Power density (Wm$^{-2}$nm$^{-1}$)')\n",
    "plt.legend()\n"
   ]
  },
  {
   "cell_type": "markdown",
   "id": "a60301574f934dbd",
   "metadata": {
    "collapsed": false
   },
   "source": [
    "## Adjusting the precipitable water value\n",
    "\n",
    "The default SPCTRAL2 parameters results in almost no atmospheric absorption. This suggests the precipitable water column thickness is much too low, the default is 0.00142 cm.  Let's increase that value to 1cm to roughly match AM1.5G:"
   ]
  },
  {
   "cell_type": "code",
   "execution_count": null,
   "id": "initial_id",
   "metadata": {
    "ExecuteTime": {
     "end_time": "2023-11-15T08:49:44.353622Z",
     "start_time": "2023-11-15T08:49:44.234106Z"
    },
    "collapsed": true
   },
   "outputs": [],
   "source": [
    "spc2pc = LightSource(source_type='SPECTRAL2', precipwater=1.0, x=wl * 1e9)\n",
    "\n",
    "plt.figure()\n",
    "plt.title('Comparions between SPCTRAL2 defaults, 1cm precipitable water & AM1.5G')\n",
    "plt.plot(*am15g.spectrum(wl*1e9), label='AM1.5G')\n",
    "plt.plot(*spc2default.spectrum(wl*1e9), label='SPC-default')\n",
    "plt.plot(*spc2pc.spectrum(wl*1e9), label='PC water')\n",
    "\n",
    "plt.xlim(300, 3000)\n",
    "plt.xlabel('Wavelength (nm)')\n",
    "plt.ylabel('Power density (Wm$^{-2}$nm$^{-1}$)')\n",
    "plt.legend()"
   ]
  },
  {
   "cell_type": "markdown",
   "id": "464027d6449ce6f4",
   "metadata": {
    "collapsed": false
   },
   "source": [
    "## Atmospheric Turbidity\n",
    "\n",
    "The short wavelength is attenuated which is likely due to a high level of aerosol\n",
    "loading in the default spectrum.  To address this atmospheric turbidity can be reduced to around 0.05."
   ]
  },
  {
   "cell_type": "code",
   "execution_count": null,
   "id": "a81bf351bb60e931",
   "metadata": {
    "ExecuteTime": {
     "end_time": "2023-11-15T08:49:44.486531Z",
     "start_time": "2023-11-15T08:49:44.360339Z"
    },
    "collapsed": false
   },
   "outputs": [],
   "source": [
    "spc2high = LightSource(source_type='SPECTRAL2', precipwater=1.0, turbidity=0.2, x=wl * 1e9)\n",
    "spc2med = LightSource(source_type='SPECTRAL2', precipwater=1.0, turbidity=0.1, x=wl * 1e9)\n",
    "spc2low = LightSource(source_type='SPECTRAL2', precipwater=1.0, turbidity=0.05, x=wl * 1e9)\n",
    "\n",
    "plt.figure()\n",
    "plt.title('Spectral Irradiance Plotted for Different Aersol Models')\n",
    "plt.plot(*am15g.spectrum(wl*1e9), label='AM1.5G')\n",
    "plt.plot(*spc2high.spectrum(wl*1e9), label='Turbidity = 0.2')\n",
    "plt.plot(*spc2med.spectrum(wl*1e9), label='Turbidity = 0.1')\n",
    "plt.plot(*spc2low.spectrum(wl*1e9), label='Turbidity = 0.05')\n",
    "plt.xlim(300, 3000)\n",
    "plt.xlabel('Wavelength (nm)')\n",
    "plt.ylabel('Power density (Wm$^{-2}$nm$^{-1}$)')\n",
    "plt.legend()"
   ]
  },
  {
   "cell_type": "markdown",
   "id": "551d63086fd32e94",
   "metadata": {
    "collapsed": false
   },
   "source": [
    "## Variation with Aerosol models\n",
    "\n",
    "Several standard aerosol models are implemented in SPCTRAL 2 that were established by Shettle & Fenn.  \n",
    "\n",
    "_Shettle, E. P., and R. W. Fenn, \"Models of the Atmospheric Aerosol and Their Optical Properties, II Proceedings of the Advisory Group for Aerospace Reseach and Development Conference No . 183, Optical Propagation in the Atmosphere, 1975, pp. 2.1-2.16. Presented at the Electromagnetic Wave Propagation Panel Symposium, Lyngby, Denmark; 27-31 October 1975._\n",
    "\n",
    "Here we plot some of them with a turbidity of 0.2 to emphasise the different spectral behaviour:"
   ]
  },
  {
   "cell_type": "code",
   "execution_count": null,
   "id": "f21ac8d8c1ef3f63",
   "metadata": {
    "ExecuteTime": {
     "end_time": "2023-11-15T08:49:44.614439Z",
     "start_time": "2023-11-15T08:49:44.492681Z"
    },
    "collapsed": false
   },
   "outputs": [],
   "source": [
    "spc2rural = LightSource(source_type='SPECTRAL2', precipwater=1.0, turbidity=0.2,\n",
    "                        aod_model='rural', x=wl * 1e9)\n",
    "spc2marit = LightSource(source_type='SPECTRAL2', precipwater=1.0, turbidity=0.2,\n",
    "                        aod_model='maritime', x=wl * 1e9)\n",
    "spc2tropo = LightSource(source_type='SPECTRAL2', precipwater=1.0, turbidity=0.2,\n",
    "                        aod_model='tropospheric', x=wl * 1e9)\n",
    "\n",
    "plt.figure(1)\n",
    "plt.title('Spectral Irradiance Plotted for Different Aersol Models')\n",
    "plt.plot(*am15g.spectrum(wl*1e9), label='AM1.5G')\n",
    "plt.plot(*spc2rural.spectrum(wl*1e9), label='rural')\n",
    "plt.plot(*spc2marit.spectrum(wl*1e9), label='maritime')\n",
    "plt.plot(*spc2tropo.spectrum(wl*1e9), label='tropospheric')\n",
    "plt.xlim(300, 3000)\n",
    "plt.xlabel('Wavelength (nm)')\n",
    "plt.ylabel('Power density (Wm$^{-2}$nm$^{-1}$)')\n",
    "plt.legend()"
   ]
  },
  {
   "cell_type": "markdown",
   "id": "bab6bf2238000be6",
   "metadata": {
    "collapsed": false
   },
   "source": [
    "## Changing the time of day\n",
    "\n",
    "One of the most common uses for a spectral irradiance model such as SPCTRAL2 is to\n",
    "calculate how a particular solar cell technology behaves under varying spectral conditions during the day.  This is particularly important whan working with series connected tandem solar cells where the current matching condition will vary according to the incident spectrum. Here we plot the spectral irradiance at 12pm, 2pm, 3pm, 4pm, 5pm, 6pm and 7pm.  Note the strong relative loss in short-wavelength light relative to the infrared as the air-mass increases throughout the afternoon."
   ]
  },
  {
   "cell_type": "code",
   "execution_count": null,
   "id": "dead12eabbfc481f",
   "metadata": {
    "ExecuteTime": {
     "end_time": "2023-11-15T08:49:44.752337Z",
     "start_time": "2023-11-15T08:49:44.619234Z"
    },
    "collapsed": false
   },
   "outputs": [],
   "source": [
    "import datetime\n",
    "\n",
    "plt.figure(1)\n",
    "plt.title('Spectral Irradiance plotted from 12pm-7pm')\n",
    "hours=[12, 14, 15, 16, 17, 18, 19]\n",
    "\n",
    "for h in hours:\n",
    "    spc2 = LightSource(source_type='SPECTRAL2', dateAndTime=datetime.datetime(2011, 6, 30, h, 00),\n",
    "                       precipwater=1.0, turbidity=0.05, x=wl * 1e9)\n",
    "    plt.plot(*spc2.spectrum(wl*1e9), label='hour '+ str(h))\n",
    "\n",
    "plt.xlim(300, 3000)\n",
    "plt.xlabel('Wavelength (nm)')\n",
    "plt.ylabel('Power density (Wm$^{-2}$nm$^{-1}$)')\n",
    "plt.legend()"
   ]
  }
 ],
 "metadata": {
  "kernelspec": {
   "display_name": "Python 3",
   "language": "python",
   "name": "python3"
  },
  "language_info": {
   "codemirror_mode": {
    "name": "ipython",
    "version": 2
   },
   "file_extension": ".py",
   "mimetype": "text/x-python",
   "name": "python",
   "nbconvert_exporter": "python",
   "pygments_lexer": "ipython2",
   "version": "3.11.5"
  }
 },
 "nbformat": 4,
 "nbformat_minor": 5
}
