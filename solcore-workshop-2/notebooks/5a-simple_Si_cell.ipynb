{
 "cells": [
  {
   "cell_type": "markdown",
   "id": "8747e70c",
   "metadata": {},
   "source": [
    "# Section 5a: Planar Si solar cell using DA\n",
    "\n",
    "In this first set of examples, we will look at simple planar Si solar cell.\n",
    "\n",
    "In this script, we will look at the difference between Beer-Lambert absorption calculations, using the Fresnel equations for front-surface reflection, and using the transfer-matrix model.\n",
    "\n",
    "First, lets import some very commonly-used Python packages:"
   ]
  },
  {
   "cell_type": "code",
   "execution_count": null,
   "id": "8e91d13f",
   "metadata": {
    "ExecuteTime": {
     "end_time": "2023-11-15T08:51:55.978617Z",
     "start_time": "2023-11-15T08:51:55.896535Z"
    }
   },
   "outputs": [],
   "source": [
    "import numpy as np\n",
    "import matplotlib.pyplot as plt"
   ]
  },
  {
   "cell_type": "markdown",
   "id": "2f3dabb6",
   "metadata": {},
   "source": [
    "Numpy is a Python library which adds supports for multi-dimensional data arrays and matrices, so it is very useful for\n",
    "storing and handling data. You will probably use it in every Solcore script you write. Here, it is imported under the\n",
    "alias 'np', which you will see used below. matplotlib is used for making plots, and is imported under the alias 'plt'.\n",
    "Both the 'np' and 'plt' aliases are extremely commonly used in Python programming.\n",
    "\n",
    "Now, let's import some things from Solcore (which will be explained as we use them):"
   ]
  },
  {
   "cell_type": "code",
   "execution_count": null,
   "id": "4608be74",
   "metadata": {
    "ExecuteTime": {
     "end_time": "2023-11-15T08:51:55.992224Z",
     "start_time": "2023-11-15T08:51:55.904374Z"
    }
   },
   "outputs": [],
   "source": [
    "from solcore import material, si\n",
    "from solcore.solar_cell import SolarCell, Layer, Junction\n",
    "from solcore.solar_cell_solver import solar_cell_solver\n",
    "from solcore.interpolate import interp1d"
   ]
  },
  {
   "cell_type": "markdown",
   "id": "9322ab52",
   "metadata": {},
   "source": [
    "## Defining materials\n",
    "\n",
    "To define our solar cell, we first want to define some materials. Then we want to organise those materials into Layers,\n",
    "organise those layers into a `Junction` (or multiple `Junction`s, for a multi-junction\n",
    "cell, as we will see later), and\n",
    "then finally\n",
    "define a `SolarCell` with that Junction.\n",
    "\n",
    "First, let's define a silicon material. Silicon, along with many other semiconductors,\n",
    "dielectrics, and metals common in\n",
    "solar cells, is included in Solcore's database:"
   ]
  },
  {
   "cell_type": "code",
   "execution_count": null,
   "id": "52318c87",
   "metadata": {
    "ExecuteTime": {
     "end_time": "2023-11-15T08:51:55.994827Z",
     "start_time": "2023-11-15T08:51:55.911728Z"
    }
   },
   "outputs": [],
   "source": [
    "Si = material(\"Si\")"
   ]
  },
  {
   "cell_type": "markdown",
   "id": "7f75b1ed",
   "metadata": {},
   "source": [
    "This creates an instance of the Si material. However, to use this in a solar cell we need to do specify some more\n",
    "information, specifically the doping level and the minority carrier diffusion length.\n",
    "The  'si' function comes in handy here to\n",
    "convert all quantities to base units\n",
    "e.g. m, m$^{-3}$..."
   ]
  },
  {
   "cell_type": "code",
   "execution_count": null,
   "id": "efe8d72d",
   "metadata": {
    "ExecuteTime": {
     "end_time": "2023-11-15T08:51:56.048007Z",
     "start_time": "2023-11-15T08:51:55.914926Z"
    }
   },
   "outputs": [],
   "source": [
    "Si_n = Si(Nd=si(\"1e21cm-3\"), hole_diffusion_length=si(\"10um\"))\n",
    "Si_p = Si(Na=si(\"1e16cm-3\"), electron_diffusion_length=si(\"400um\"))"
   ]
  },
  {
   "cell_type": "markdown",
   "id": "d71d6f6e",
   "metadata": {},
   "source": [
    "## Defining layers\n",
    "\n",
    "Now we define the emitter and base layers we will have in the solar cell; we specify their thickness, the material they\n",
    "are made of and the role they play within the cell (emitter or base). We create a\n",
    "junction which is a total of 200 $\\mu$m thick, with a 1 $\\mu$m junction depth."
   ]
  },
  {
   "cell_type": "code",
   "execution_count": null,
   "id": "94fccae1",
   "metadata": {
    "ExecuteTime": {
     "end_time": "2023-11-15T08:51:56.051142Z",
     "start_time": "2023-11-15T08:51:55.920766Z"
    }
   },
   "outputs": [],
   "source": [
    "emitter_layer = Layer(width=si(\"1um\"), material=Si_n, role='emitter')\n",
    "base_layer = Layer(width=si(\"199um\"), material=Si_p, role='base')"
   ]
  },
  {
   "cell_type": "markdown",
   "id": "8f590752",
   "metadata": {},
   "source": [
    "Now we create the p-n junction using the layers defined above. We set kind=\"DA\" to tell\n",
    "Solcore to use the Depletion Approximation in the calculation:"
   ]
  },
  {
   "cell_type": "code",
   "execution_count": null,
   "id": "60b675c1",
   "metadata": {
    "ExecuteTime": {
     "end_time": "2023-11-15T08:51:56.052683Z",
     "start_time": "2023-11-15T08:51:55.923907Z"
    }
   },
   "outputs": [],
   "source": [
    "Si_junction = Junction([emitter_layer, base_layer], kind=\"DA\")"
   ]
  },
  {
   "cell_type": "markdown",
   "id": "cc786bbb",
   "metadata": {},
   "source": [
    "## Setting user options\n",
    "\n",
    "Wavelengths we want to use in the calculations; wavelengths between 300 and 1200 nm, at 200 evenly spaced intervals:"
   ]
  },
  {
   "cell_type": "code",
   "execution_count": null,
   "id": "3ea1742d",
   "metadata": {
    "ExecuteTime": {
     "end_time": "2023-11-15T08:51:56.061797Z",
     "start_time": "2023-11-15T08:51:55.925655Z"
    }
   },
   "outputs": [],
   "source": [
    "wavelengths = si(np.linspace(300, 1200, 200), \"nm\")"
   ]
  },
  {
   "cell_type": "markdown",
   "id": "6ca0c2df",
   "metadata": {},
   "source": [
    "Note that here and above in defining the layers and materials we have used the \"si()\"\n",
    " function multiple times: you can use this to automatically\n",
    "convert quantities in other units to base SI units (e.g. nanometres to metres).\n",
    "\n",
    "Now we specify some options for running the calculation. Initially we will use the\n",
    "Beer-Lambert absorption law ($I(z) = I_0 e^{-\\alpha*z}$) to\n",
    "calculate the optics of the cell (\"BL\"). We set the wavelengths we want to use, and we set \"recalculate_absorption\" to\n",
    "True so that further down in the script when we try different optics methods, Solcore knows we want to re-calculate the\n",
    "optics of the cell rather than re-using previous results. We can specify the options\n",
    "in a Python format called a dictionary:"
   ]
  },
  {
   "cell_type": "code",
   "execution_count": null,
   "id": "0450c0de",
   "metadata": {
    "ExecuteTime": {
     "end_time": "2023-11-15T08:51:56.063296Z",
     "start_time": "2023-11-15T08:51:55.930613Z"
    }
   },
   "outputs": [],
   "source": [
    "options = {\n",
    "    \"recalculate_absorption\": True,\n",
    "    \"optics_method\": \"BL\",\n",
    "    \"wavelength\": wavelengths\n",
    "           }"
   ]
  },
  {
   "cell_type": "markdown",
   "id": "47c6dada",
   "metadata": {},
   "source": [
    "## Running cell simulations\n",
    "\n",
    "Define the solar cell; in this case it is very simple and we just have a single junction:"
   ]
  },
  {
   "cell_type": "code",
   "execution_count": null,
   "id": "80a1d431",
   "metadata": {
    "ExecuteTime": {
     "end_time": "2023-11-15T08:51:56.063382Z",
     "start_time": "2023-11-15T08:51:55.933016Z"
    }
   },
   "outputs": [],
   "source": [
    "solar_cell = SolarCell([Si_junction])"
   ]
  },
  {
   "cell_type": "markdown",
   "id": "4636a69a",
   "metadata": {},
   "source": [
    "Now we use solar_cell_solver to calculate the QE of the cell; we can ask\n",
    "solar_cell_solver to calculate 'qe', 'optics' or 'iv'.\n"
   ]
  },
  {
   "cell_type": "code",
   "execution_count": null,
   "id": "fe875b5d",
   "metadata": {
    "ExecuteTime": {
     "end_time": "2023-11-15T08:51:56.075545Z",
     "start_time": "2023-11-15T08:51:55.935634Z"
    }
   },
   "outputs": [],
   "source": [
    "solar_cell_solver(solar_cell, 'qe', options)"
   ]
  },
  {
   "cell_type": "markdown",
   "id": "b22c9a93",
   "metadata": {},
   "source": [
    "**PLOT 1**: plotting the QE in the Si junction, as well as the fraction of light\n",
    "absorbed in the junction and reflected. Because we are using the Beer-Lambert\n",
    "absorption law and we did not specify external reflectance, the reflectance = 0 over\n",
    "the whole wavelength range."
   ]
  },
  {
   "cell_type": "code",
   "execution_count": null,
   "id": "d69ec4af",
   "metadata": {
    "ExecuteTime": {
     "end_time": "2023-11-15T08:51:56.095482Z",
     "start_time": "2023-11-15T08:51:55.966108Z"
    }
   },
   "outputs": [],
   "source": [
    "plt.figure()\n",
    "plt.plot(wavelengths*1e9, 100*solar_cell[0].eqe(wavelengths), 'k-', label=\"EQE\")\n",
    "plt.plot(wavelengths*1e9, 100*solar_cell[0].layer_absorption, label='Absorptance (A)')\n",
    "plt.plot(wavelengths*1e9, 100*solar_cell.reflected, label='Reflectance (R)')\n",
    "plt.legend()\n",
    "plt.xlabel(\"Wavelength (nm)\")\n",
    "plt.ylabel(\"QE/Absorptance (%)\")\n",
    "plt.title(\"(1) QE of Si cell - Beer-Lambert absorption\")\n",
    "plt.show()"
   ]
  },
  {
   "cell_type": "markdown",
   "id": "4e0be864",
   "metadata": {},
   "source": [
    "## Adding front-surface reflection: Fresnel\n",
    "\n",
    "Now, to make this calculation a bit more realistic, there are a few things we could do. We could load some measured front\n",
    "surface reflectance from a file, or we could calculate the reflectance. To calculate the reflectance,\n",
    "there are many approaches we could take; we are going to explore two of them here.\n",
    "\n",
    "If we assume the silicon is infinitely thick (or at least much thicker than the\n",
    "wavelengths of light we care about) then the\n",
    "reflectance will approach the reflectivity of a simple air/Si interface. We can calculate what this is using the [Fresnel equation for reflectivity]( https://en.wikipedia.org/wiki/Fresnel_equations)."
   ]
  },
  {
   "cell_type": "code",
   "execution_count": null,
   "id": "88518d95",
   "metadata": {
    "ExecuteTime": {
     "end_time": "2023-11-15T08:51:56.095628Z",
     "start_time": "2023-11-15T08:51:56.028790Z"
    }
   },
   "outputs": [],
   "source": [
    "def calculate_R_Fresnel(incidence_n, transmission_n, wl):\n",
    "    # return a function that gives the value of R (at normal incidence) at the input wavelengths\n",
    "\n",
    "    Rs = np.abs((incidence_n - transmission_n)/(incidence_n + transmission_n))**2\n",
    "\n",
    "    return interp1d(wl, Rs)"
   ]
  },
  {
   "cell_type": "markdown",
   "id": "9256a66b",
   "metadata": {},
   "source": [
    "The transmission_n is the complex reflective index of Si at our wavelengths for the\n",
    "transmission medium (Si), which we can extract easily from the `Si` material object\n",
    "in Solcore. The incidence_n = 1 (air). Note that the function above is\n",
    "specifically for normal incidence."
   ]
  },
  {
   "cell_type": "code",
   "execution_count": null,
   "id": "4b1a2447",
   "metadata": {
    "ExecuteTime": {
     "end_time": "2023-11-15T08:51:56.095688Z",
     "start_time": "2023-11-15T08:51:56.031906Z"
    }
   },
   "outputs": [],
   "source": [
    "trns_n = Si_n.n(wavelengths) + 1j*Si_n.k(wavelengths)\n",
    "reflectivity_fn = calculate_R_Fresnel(1, trns_n, wavelengths)"
   ]
  },
  {
   "cell_type": "markdown",
   "id": "2de080f6",
   "metadata": {},
   "source": [
    "We define the solar cell again, with the same layers but now supplying the function\n",
    "for the externally-calculated reflectivity, and calculate the optics (reflection,\n",
    "absorption, transmission) again:"
   ]
  },
  {
   "cell_type": "code",
   "execution_count": null,
   "id": "5201266e",
   "metadata": {
    "ExecuteTime": {
     "end_time": "2023-11-15T08:51:56.095742Z",
     "start_time": "2023-11-15T08:51:56.034355Z"
    }
   },
   "outputs": [],
   "source": [
    "solar_cell_fresnel = SolarCell([Si_junction], reflectivity=reflectivity_fn)\n",
    "\n",
    "solar_cell_solver(solar_cell_fresnel, 'optics', options)"
   ]
  },
  {
   "cell_type": "markdown",
   "id": "4264af5b",
   "metadata": {},
   "source": [
    "## Adding front surface reflection: TMM\n",
    "\n",
    "Finally, we do the same again but now instead of supplying the external reflectivity we ask set the optics_method to\n",
    "\"TMM\" (Transfer Matrix Method), to correctly calculate reflection at the front\n",
    "surface. We will learn more about the transfer matrix method later."
   ]
  },
  {
   "cell_type": "code",
   "execution_count": null,
   "id": "a5bcaec8",
   "metadata": {
    "ExecuteTime": {
     "end_time": "2023-11-15T08:51:56.095806Z",
     "start_time": "2023-11-15T08:51:56.038284Z"
    }
   },
   "outputs": [],
   "source": [
    "Si_junction = Junction([emitter_layer, base_layer], kind=\"DA\")\n",
    "\n",
    "solar_cell_TMM = SolarCell([Si_junction])"
   ]
  },
  {
   "cell_type": "markdown",
   "id": "6d65e5e7",
   "metadata": {},
   "source": [
    "Set some more options for the cell calculation:"
   ]
  },
  {
   "cell_type": "code",
   "execution_count": null,
   "id": "b8cb3930",
   "metadata": {
    "ExecuteTime": {
     "end_time": "2023-11-15T08:52:07.679533Z",
     "start_time": "2023-11-15T08:52:07.675228Z"
    }
   },
   "outputs": [],
   "source": [
    "options[\"optics_method\"] = \"TMM\"\n",
    "voltages = np.linspace(-1.1, 1.1, 100)\n",
    "options[\"light_iv\"] = True\n",
    "options[\"mpp\"] = True\n",
    "options[\"voltages\"] = voltages\n",
    "options[\"internal_voltages\"] = voltages"
   ]
  },
  {
   "cell_type": "markdown",
   "id": "f3bde34e",
   "metadata": {},
   "source": [
    "we calculate the QE and the IV (we set the light_iv option to True; if we don't do this, Solcore just calculates the\n",
    "dark IV). We also ask Solcore to find the maximum power point (mpp) so we can get the efficiency. Note that the sign convention used by Solcore means that an n-on-p cell with have a negative open-circuit voltage."
   ]
  },
  {
   "cell_type": "code",
   "execution_count": null,
   "id": "9c1db39d",
   "metadata": {
    "ExecuteTime": {
     "end_time": "2023-11-15T08:52:10.168601Z",
     "start_time": "2023-11-15T08:52:09.645001Z"
    }
   },
   "outputs": [],
   "source": [
    "solar_cell_solver(solar_cell_TMM, 'iv', options)\n",
    "solar_cell_solver(solar_cell_TMM, 'qe', options)"
   ]
  },
  {
   "cell_type": "markdown",
   "id": "c2f7e89d",
   "metadata": {},
   "source": [
    "**PLOT 2**: here we plot the reflection, transmission, and absorption calculated with the Fresnel equation defined above,\n",
    "and with the TMM solver in Solcore, showing that for this simple situation (no anti-reflection coating, thick Si junction)\n",
    "they are exactly equivalent."
   ]
  },
  {
   "cell_type": "code",
   "execution_count": null,
   "id": "fc4613a9",
   "metadata": {
    "ExecuteTime": {
     "end_time": "2023-11-15T08:52:19.939985Z",
     "start_time": "2023-11-15T08:52:19.863246Z"
    }
   },
   "outputs": [],
   "source": [
    "plt.figure()\n",
    "plt.plot(wavelengths*1e9, 100*solar_cell_TMM.reflected, color='firebrick', label = \"R (TMM)\")\n",
    "plt.plot(wavelengths*1e9, 100*solar_cell_fresnel.reflected, '--', color='orangered', label = \"R (Fresnel)\")\n",
    "plt.plot(wavelengths*1e9, 100*solar_cell_TMM.absorbed, color='dimgrey', label = \"A (TMM)\")\n",
    "plt.plot(wavelengths*1e9, 100*solar_cell_fresnel.absorbed, '--', color='lightgrey', label = \"A (Fresnel)\")\n",
    "plt.plot(wavelengths*1e9, 100*solar_cell_TMM.transmitted, color='blue', label = \"T (TMM)\")\n",
    "plt.plot(wavelengths*1e9, 100*solar_cell_fresnel.transmitted, '--', color='dodgerblue', label = \"T (Fresnel)\")\n",
    "plt.ylim(0, 100)\n",
    "plt.legend()\n",
    "plt.title(\"(2) Optics of Si cell - Fresnel/TMM\")\n",
    "plt.show()"
   ]
  },
  {
   "cell_type": "markdown",
   "id": "6dd0b814",
   "metadata": {},
   "source": [
    "**PLOT 3**: As above for the TMM calculation, plotting the EQE as well, which will be slightly lower than the absorption\n",
    "because not all the carriers are collected. Comparing to plot (1), we can see we now have lower absorption due to\n",
    "the inclusion of front surface reflection, which is ~ 30% or more over the wavelength\n",
    " range of interest for a bare Si surface."
   ]
  },
  {
   "cell_type": "code",
   "execution_count": null,
   "id": "262bcf18",
   "metadata": {
    "ExecuteTime": {
     "end_time": "2023-11-15T08:52:23.810949Z",
     "start_time": "2023-11-15T08:52:23.738119Z"
    }
   },
   "outputs": [],
   "source": [
    "plt.figure()\n",
    "plt.plot(wavelengths*1e9, 100*solar_cell_TMM[0].eqe(wavelengths), 'k-', label=\"EQE\")\n",
    "plt.plot(wavelengths*1e9, 100*solar_cell_TMM[0].layer_absorption, label='A')\n",
    "plt.plot(wavelengths*1e9, 100*solar_cell_TMM.reflected, label=\"R\")\n",
    "plt.plot(wavelengths*1e9, 100*solar_cell_TMM.transmitted, label=\"T\")\n",
    "plt.title(\"(3) QE of Si cell (no ARC) - TMM\")\n",
    "plt.legend()\n",
    "plt.xlabel(\"Wavelength (nm)\")\n",
    "plt.ylabel(\"QE/Absorptance (%)\")\n",
    "plt.ylim(0, 100)\n",
    "plt.show()"
   ]
  },
  {
   "cell_type": "markdown",
   "id": "863ae7c5",
   "metadata": {},
   "source": [
    "## Adding an ARC\n",
    "\n",
    "The reflectance of bare Si is very high. Let's try adding a simple\n",
    "anti-reflection coating (ARC), a single layer of\n",
    "silicon nitride (Si$_3$N$_4$):"
   ]
  },
  {
   "cell_type": "code",
   "execution_count": null,
   "id": "e1307e1b",
   "metadata": {
    "ExecuteTime": {
     "end_time": "2023-11-15T08:52:27.747273Z",
     "start_time": "2023-11-15T08:52:27.091956Z"
    }
   },
   "outputs": [],
   "source": [
    "SiN = material(\"Si3N4\")()\n",
    "\n",
    "Si_junction = Junction([emitter_layer, base_layer], kind=\"DA\")\n",
    "\n",
    "solar_cell_TMM_ARC = SolarCell([Layer(width=si(75, \"nm\"), material=SiN), Si_junction])\n",
    "\n",
    "solar_cell_solver(solar_cell_TMM_ARC, 'qe', options)\n",
    "solar_cell_solver(solar_cell_TMM_ARC, 'iv', options)"
   ]
  },
  {
   "cell_type": "markdown",
   "id": "c2430251",
   "metadata": {},
   "source": [
    "**PLOT 4**: Absorption, EQE, reflection and transmission for the cell with a simple one-layer ARC. We see the reflection\n",
    "is significantly reduced from the previous plot leading to higher absorption/EQE."
   ]
  },
  {
   "cell_type": "code",
   "execution_count": null,
   "id": "b0031804",
   "metadata": {
    "ExecuteTime": {
     "end_time": "2023-11-15T08:52:33.084357Z",
     "start_time": "2023-11-15T08:52:33.011375Z"
    }
   },
   "outputs": [],
   "source": [
    "plt.figure()\n",
    "plt.plot(wavelengths*1e9, 100*solar_cell_TMM_ARC[1].eqe(wavelengths), 'k-', label=\"EQE\")\n",
    "plt.plot(wavelengths*1e9, 100*solar_cell_TMM_ARC[1].layer_absorption, label='A')\n",
    "plt.plot(wavelengths*1e9, 100*solar_cell_TMM_ARC.reflected, label=\"R\")\n",
    "plt.plot(wavelengths*1e9, 100*solar_cell_TMM_ARC.transmitted, label=\"T\")\n",
    "plt.legend()\n",
    "plt.title(\"(4) QE of Si cell (ARC) - TMM\")\n",
    "plt.xlabel(\"Wavelength (nm)\")\n",
    "plt.ylabel(\"QE/Absorptance (%)\")\n",
    "plt.ylim(0, 100)\n",
    "plt.show()"
   ]
  },
  {
   "cell_type": "markdown",
   "id": "509a0f2a",
   "metadata": {},
   "source": [
    "**PLOT 5**: Compare the IV curves of the cells with and without an ARC. The efficiency is also shown on the\n",
    "plot. Note that because we didn't specify a light source, Solcore will assume we want to use AM1.5G; in later\n",
    "examples we will set the light source used for light IV simulations explicitly.\n"
   ]
  },
  {
   "cell_type": "code",
   "execution_count": null,
   "id": "0aab5be1",
   "metadata": {
    "ExecuteTime": {
     "end_time": "2023-11-15T08:54:00.974025Z",
     "start_time": "2023-11-15T08:54:00.905895Z"
    }
   },
   "outputs": [],
   "source": [
    "plt.figure()\n",
    "plt.plot(-voltages, solar_cell_TMM[0].iv(voltages)/10, label=\"No ARC\")\n",
    "plt.plot(-voltages, solar_cell_TMM_ARC[1].iv(voltages)/10, label=\"75 nm SiN\")\n",
    "plt.text(0.5, 1.02*abs(solar_cell_TMM.iv[\"Isc\"])/10, str(round(solar_cell_TMM.iv[\"Eta\"]*100,\n",
    "                                                      1)) + ' %')\n",
    "plt.text(0.5, 1.02*abs(solar_cell_TMM_ARC.iv[\"Isc\"])/10, str(round(solar_cell_TMM_ARC\n",
    "                                                          .iv[\"Eta\"]*100, 1)) + ' %')\n",
    "plt.ylim(0, 38)\n",
    "plt.xlim(-0.8, 0.8)\n",
    "plt.legend()\n",
    "plt.xlabel(\"V (V)\")\n",
    "plt.ylabel(r\"J (mA/cm$^2$)\")\n",
    "plt.title(\"(5) IV curve of Si cell with and without ARC\")\n",
    "plt.show()"
   ]
  },
  {
   "cell_type": "markdown",
   "id": "98aaf47e",
   "metadata": {},
   "source": [
    "## Conclusions\n",
    "\n",
    "We see that the cell with an ARC has a significantly higher $J_{sc}$, and a slightly\n",
    "higher $V_{oc}$,\n",
    "than the bare Si cell. In reality, most Si cells have a textured surface rather than a planar\n",
    "surface with an ARC; this will be discussed later in the course.\n",
    "\n",
    "Overall, some things we can take away from the examples in this script:\n",
    "\n",
    "- The Beer-Lambert law is a very simple way to calculate absorption in a cell, but won't take into\n",
    "  account important effects such as front-surface reflection or the effects of\n",
    "  anti-reflection coatings.\n",
    "- Using the transfer-matrix method (TMM), we can account for front surface reflection\n",
    " and interference\n",
    "  effects which make e.g. ARCs effective. In the simple situation of a thick cell\n",
    "  without any front surface\n",
    "  layers, it is equivalent to simply calculating the reflection with the Fresnel\n",
    "  equations and assuming\n",
    "  Beer-Lambert absorption in the cell.\n",
    "- Adding a simple, one-layer ARC can significantly reduce front-surface reflection for a single-junction\n",
    "  cell, leading to improved short-circuit current. To correctly account for interference\n",
    "   in this layer, which is what causes its anti-reflective properties, we most use\n",
    "   the transfer-matrix method (TMM) optical solver.\n",
    "\n",
    "## Questions\n",
    "\n",
    "- Which parameters could we change which would affect the EQE and/or IV of the cell?\n",
    "- Why can't we just use the Fresnel equations to calculate the effect of an\n",
    "  anti-reflection coating?"
   ]
  }
 ],
 "metadata": {
  "kernelspec": {
   "display_name": "Python 3 (ipykernel)",
   "language": "python",
   "name": "python3"
  },
  "language_info": {
   "codemirror_mode": {
    "name": "ipython",
    "version": 3
   },
   "file_extension": ".py",
   "mimetype": "text/x-python",
   "name": "python",
   "nbconvert_exporter": "python",
   "pygments_lexer": "ipython3",
   "version": "3.9.12"
  }
 },
 "nbformat": 4,
 "nbformat_minor": 5
}
