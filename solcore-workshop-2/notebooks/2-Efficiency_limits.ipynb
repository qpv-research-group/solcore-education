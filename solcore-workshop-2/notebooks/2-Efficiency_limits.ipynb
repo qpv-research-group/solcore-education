{
 "cells": [
  {
   "cell_type": "markdown",
   "metadata": {
    "collapsed": false
   },
   "source": [
    "# Section 2: Integration for limiting current, limiting voltage model, efficiency limit\n",
    "Tuesday 1 August 2023\n",
    "\n",
    "### Before we start:\n",
    "\n",
    "- Execute each block of code by pressing the Shift + Return\n",
    "- Lines preceded with a # are comments and included to help you understand the code.\n",
    "- Python is fussy about indents so if you change the code, keep the code indented as shown.\n",
    "\n",
    "## Trivich-Flinn Efficiency limit\n",
    "In 1955 Trivich & Flinn published a model for limiting efficiency.  The limit it\n",
    "produces is too high, but it represents a good place to  start with a computer model.\n",
    "\n",
    "_Trivich D, Flinn PA. Maximum efﬁciency of solar energy conversion by quantum processes. In Solar Energy Research, Daniels F, Dufﬁe J (eds). Thames and Hudson: London, 1955._\n",
    "\n",
    "Trivich & Flinn assumed that the ideal solar cell would absorb all photons with\n",
    "energy above the band-gap energy $E_g$ and that the _maximum_ voltage that could ever\n",
    "be attained in a solar cell is the band-gap energy.  The latter assumption is incorrect unless the solar cell is operating at absolute zero temperature.\n",
    "\n",
    "To develop a model for the Trivich & Flinn efficiency limit the first step is to\n",
    "calculate what the limit to the photocurrent is in a solar cell.\n",
    "\n",
    "## Limits to the short-circuit current"
   ]
  },
  {
   "cell_type": "markdown",
   "metadata": {
    "collapsed": false
   },
   "source": [
    "### Solar Spectrum\n",
    "\n",
    "The solar spectrum defines the ultimate current that a solar cell can produce.  First we will plot the AM1.5G solar spectrum $b(\\lambda)$ as a spectral irradiance, meaning that the y-axis has units of $W.m^{-2}.nm^{-1}$"
   ]
  },
  {
   "cell_type": "code",
   "execution_count": null,
   "metadata": {
    "ExecuteTime": {
     "end_time": "2023-11-15T08:47:46.116918Z",
     "start_time": "2023-11-15T08:47:44.522429Z"
    },
    "collapsed": false
   },
   "outputs": [],
   "source": [
    "import numpy as np\n",
    "import matplotlib.pyplot as plt\n",
    "from solcore.light_source import LightSource\n",
    "import seaborn as sns\n",
    "\n",
    "# Setup the AM1.5G solar spectrum\n",
    "wl = np.linspace(300, 4000, 4000) * 1e-9    # wl contains the x-coordinate in wavelength\n",
    "am15g = LightSource(source_type='standard', x=wl*1e9, version='AM1.5g',\n",
    "                    output_units=\"power_density_per_nm\")\n",
    "\n",
    "plt.figure()\n",
    "plt.title('Spectral Irradiance')\n",
    "plt.plot(*am15g.spectrum(wl*1e9), label='AM1.5G')\n",
    "plt.xlim(300, 3000)\n",
    "plt.xlabel('Wavelength (nm)')\n",
    "plt.ylabel('Power density (Wm$^{-2}$nm$^{-1}$)')\n",
    "plt.legend()"
   ]
  },
  {
   "cell_type": "markdown",
   "metadata": {
    "collapsed": false
   },
   "source": [
    "Let us now integrate the solar spectrum to provide the total irradiance in units of \\[$W.m^{-2}$\\].  The code below performs the following operation $b=\\int^{\\infty}_{0} b(\\lambda) d\\lambda$"
   ]
  },
  {
   "cell_type": "code",
   "execution_count": null,
   "metadata": {
    "ExecuteTime": {
     "end_time": "2023-11-15T08:47:46.118781Z",
     "start_time": "2023-11-15T08:47:46.116418Z"
    },
    "collapsed": false
   },
   "outputs": [],
   "source": [
    "# Since .spectrum function returns a tuple (x,y) but np.trapz requires data in format (y,x) these are extracted into separate 1D np arrays.\n",
    "yval = am15g.spectrum()[1]\n",
    "xval = am15g.spectrum()[0]\n",
    "integrated_value = np.trapz(yval,xval)  # Perform integration using trapezium rule\n",
    "b = integrated_value  # Save the integrated power density for the sun for later.\n",
    "print('b = ', integrated_value)"
   ]
  },
  {
   "cell_type": "markdown",
   "metadata": {
    "collapsed": false
   },
   "source": [
    "Let's take the opportunity to learn how to format numbers nicely in Python.  Here we use  the command \"%.0f\" % to display the value to zero decimal places."
   ]
  },
  {
   "cell_type": "code",
   "execution_count": null,
   "metadata": {
    "ExecuteTime": {
     "end_time": "2023-11-15T08:47:46.122719Z",
     "start_time": "2023-11-15T08:47:46.120962Z"
    },
    "collapsed": false
   },
   "outputs": [],
   "source": [
    "print('b = ',\"%.0f\" % integrated_value,\"W.m-2\")"
   ]
  },
  {
   "cell_type": "markdown",
   "metadata": {
    "collapsed": false
   },
   "source": [
    "Solcore performs this integration for us internally.  Let's try the same exercise but for the extraterrestrial solar spectrum, AM0"
   ]
  },
  {
   "cell_type": "code",
   "execution_count": null,
   "metadata": {
    "ExecuteTime": {
     "end_time": "2023-11-15T08:47:46.126308Z",
     "start_time": "2023-11-15T08:47:46.122882Z"
    },
    "collapsed": false
   },
   "outputs": [],
   "source": [
    "am0 = LightSource(source_type='standard', x=wl*1e9, version='AM0')\n",
    "print(\"AM0 integrates to\", \"%.0f\" % am0.power_density, \"W.m-2\")"
   ]
  },
  {
   "cell_type": "markdown",
   "metadata": {
    "collapsed": false
   },
   "source": [
    "### Spectral Photon Flux\n",
    "\n",
    "To calculate a short-circuit current it is convenient to change the units.  Two changes are necessary :\n",
    " 1. Since we specify band-gap energies in electron volts (eV) we need to transform the x-axis from nm to eV\n",
    "2. Photocurrent is proportional to the incident photon flux (number of photons per second) not the irradiance (watts) so we need to convert the y-axis from energy to photon number.\n",
    "\n",
    "Note: The conversion is performed internally within the software but be aware that because the transformation from wavelength is non-linear, changing the x-axis from nm to eV also changes the y-values of the data. This is known as a Jacobian transformation and discussed in more detail in an article [\"Getting the basics right: Jacobian Conversion of Wavelength and Energy Scales for Quantatitive Analysis of Emission Spectra\", Journal of Physical Chemistry, 4(19) 3316 (2013)](http://pubs.acs.org/doi/abs/10.1021/jz401508t)"
   ]
  },
  {
   "cell_type": "code",
   "execution_count": null,
   "metadata": {
    "ExecuteTime": {
     "end_time": "2023-11-15T08:47:46.244793Z",
     "start_time": "2023-11-15T08:47:46.127084Z"
    },
    "collapsed": false
   },
   "outputs": [],
   "source": [
    "ev = np.linspace(0.02,4,4000)\n",
    "flux = LightSource(source_type='standard', version='AM1.5g', x=ev, output_units='photon_flux_per_ev')\n",
    "\n",
    "plt.figure()\n",
    "plt.title('Spectral Photon Flux')\n",
    "plt.plot(*flux.spectrum(), label='AM1.5G')\n",
    "plt.xlim(0.2, 4)\n",
    "plt.xlabel('Photon Energy (eV)')\n",
    "plt.ylabel('Photon flux N ($ph.s^{-1}m^{-2}eV^{-1}$)')\n",
    "plt.legend()"
   ]
  },
  {
   "cell_type": "markdown",
   "metadata": {
    "collapsed": false
   },
   "source": [
    "### Calculating the short-circuit current\n",
    "\n",
    "Integrating the photon flux can provide an upper limit to the short-circuit current [A.m-2]. We can integrate the spectrum over the entire spectral range using $J_{sc}=q\\int_{0}^{\\infty}N(E)dE$"
   ]
  },
  {
   "cell_type": "code",
   "execution_count": null,
   "metadata": {
    "ExecuteTime": {
     "end_time": "2023-11-15T08:47:46.247212Z",
     "start_time": "2023-11-15T08:47:46.245035Z"
    },
    "collapsed": false
   },
   "outputs": [],
   "source": [
    "q = 1.60217662E-19\n",
    "yval = flux.spectrum()[1]\n",
    "xval = flux.spectrum()[0]\n",
    "yint = q*np.trapz(yval,xval)  # Perform integration using trapezium rule\n",
    "\n",
    "print(\"%.0f\" % yint)"
   ]
  },
  {
   "cell_type": "markdown",
   "metadata": {
    "collapsed": false
   },
   "source": [
    "A more useful calculation is to calculate the current that a solar cell would produce\n",
    " with a particular band-gap energy.  To do this requires a bit more coding, since we now wish to integrate between limits:  $J_{sc}=q\\int_{Eg}^{\\infty}N(E)dE$\n",
    "\n",
    "Let's do this for a band-gap of 1.42 eV:\n"
   ]
  },
  {
   "cell_type": "code",
   "execution_count": null,
   "metadata": {
    "ExecuteTime": {
     "end_time": "2023-11-15T08:47:46.251499Z",
     "start_time": "2023-11-15T08:47:46.248046Z"
    },
    "collapsed": false
   },
   "outputs": [],
   "source": [
    "q = 1.60217662E-19\n",
    "eg = 1.42\n",
    "yval = flux.spectrum()[1]\n",
    "xval = flux.spectrum()[0]\n",
    "\n",
    "yval[xval < eg] = 0 # set photon flux to zero for photon energies below the band-gap\n",
    "\n",
    "yint = q*np.trapz(yval,xval)  # Perform integration using trapezium rule\n",
    "\n",
    "print(\"%.0f\" % yint)"
   ]
  },
  {
   "cell_type": "markdown",
   "metadata": {
    "collapsed": false
   },
   "source": [
    "Let's reproduce the $J_{sc}$ vs $E_g$ graph that is shown on p. 87 of Martin Green's\n",
    "Solar Cells book:"
   ]
  },
  {
   "cell_type": "code",
   "execution_count": null,
   "metadata": {
    "ExecuteTime": {
     "end_time": "2023-11-15T08:47:46.382505Z",
     "start_time": "2023-11-15T08:47:46.252196Z"
    },
    "collapsed": false
   },
   "outputs": [],
   "source": [
    "q = 1.60217662E-19\n",
    "\n",
    "def getJsc(eg):\n",
    "    yval = flux.spectrum()[1]  # Start with the solar spectrum in yval & xval\n",
    "    xval = flux.spectrum()[0]\n",
    "    yval[xval < eg] = 0 # set photon flux to zero for photon energies below the band-gap\n",
    "    return q*np.trapz(yval,xval)  # return the integrated value\n",
    "\n",
    "eg = np.linspace(0.5,2.5,100)\n",
    "jsc = np.vectorize(getJsc)(eg)\n",
    "\n",
    "plt.figure()\n",
    "plt.title('Limit to the short-circuit current $J_{sc}$')\n",
    "plt.plot(eg, jsc/10, label='AM1.5G')  # Divide by 10 to convert from A.m^-2 to mA.cm^-2\n",
    "plt.xlim(0.5, 2.5)\n",
    "plt.xlabel('Band Gap energy (eV)')\n",
    "plt.ylabel('$J_{sc}$ ($mA.cm^{-2}$)')\n",
    "plt.legend()"
   ]
  },
  {
   "cell_type": "markdown",
   "metadata": {
    "collapsed": false
   },
   "source": [
    "### Calculating the Trivich-Flinn Efficiency limit\n",
    "\n",
    "Now that the limit to $J_{sc}$ is known, we can estimate the power of delivered by the\n",
    "solar cell by evaluating $\\frac{Eg J_{sc}}{b}$"
   ]
  },
  {
   "cell_type": "code",
   "execution_count": null,
   "metadata": {
    "ExecuteTime": {
     "end_time": "2023-11-15T08:47:46.496512Z",
     "start_time": "2023-11-15T08:47:46.386276Z"
    },
    "collapsed": false
   },
   "outputs": [],
   "source": [
    "plt.figure()\n",
    "plt.title('Trivich-Flinn Single Junction Efficiency Limit')\n",
    "plt.plot(eg, 100*eg*jsc/b,label='AM1.5G')  # Divide by 10 to convert from A.m^-2 to mA.cm^-2\n",
    "plt.xlim(0.5, 2.5)\n",
    "plt.xlabel('Band Gap energy (eV)')\n",
    "plt.ylabel('Efficiency (%)')\n",
    "plt.legend()"
   ]
  },
  {
   "cell_type": "markdown",
   "metadata": {
    "collapsed": false
   },
   "source": [
    "## The Shockley-Queisser Efficiency limit\n",
    "\n",
    "Shockley & Queisser refined the Trivich-Flinn limit by linking the voltage a solar cell can deliver to the Fermi level separation in the conduction and valance bands, not the band-gap energy.\n",
    "\n",
    "To do this, a model is required for the recombination processes between the conduction and valance bands.  The most fundamental (and inescapable) recombination mechanism is the radiative process.  In section 3 we will derive a limit to Shockley's diode equation $J=J_0 e^{\\frac{V}{kT}}$ for the radiative limit, that being a diode where all current flows are linked to an optical process, either absorption or recombination.  \n",
    "\n",
    "In the radiative limit and an abrupt band-edge at band-gap energy $E_g$ it can be shown that $J_0$ is approximated by $J_0=q \\frac{2 \\pi}{c^2 h^3} kT \\left(E_g^2+2 E_g k T+2 k^2 T^2\\right) e^{\\frac{-E_g}{k T}}$"
   ]
  },
  {
   "cell_type": "markdown",
   "metadata": {
    "collapsed": false
   },
   "source": [
    "We can now plot a chart of $J_0$ as a function of band-gap energy using this expression:"
   ]
  },
  {
   "cell_type": "code",
   "execution_count": null,
   "metadata": {
    "ExecuteTime": {
     "end_time": "2023-11-15T08:47:46.647022Z",
     "start_time": "2023-11-15T08:47:46.499087Z"
    },
    "collapsed": false
   },
   "outputs": [],
   "source": [
    "# Define some physical constants:\n",
    "q = 1.60217662E-19  # electronic charge [C]\n",
    "k = 1.38064852E-23/q   # Boltzmann constant [eV/K]\n",
    "h = 6.62607004E-34/q  # Planck constant expressed in [eV.s]\n",
    "c = 299792458  # Speed of light [m.s^-1]\n",
    "\n",
    "t = 300  # Perform the calculation for a solar cell at 300K.\n",
    "\n",
    "# Define a function to return J0 implementing the expression above\n",
    "def getJ0(eg):\n",
    "    return k*t*q*(2*np.pi/(c**2*h**3))*(eg**2+2*eg*k*t+2*k**2*t**2)*np.exp(-eg/(k*t))\n",
    "\n",
    "eg = np.linspace(0.5,2.5,100)\n",
    "j0 = np.vectorize(getJ0)(eg)\n",
    "\n",
    "plt.figure()\n",
    "plt.title('The radiative limit to $J_0$ plotted as a function of band-gap energy Eg')\n",
    "plt.plot(eg,j0,label='J0')  # Divide by 10 to convert from A.m^-2 to mA.cm^-2\n",
    "plt.xlim(0.2, 2.5)\n",
    "plt.xlabel('Band Gap energy (eV)')\n",
    "plt.ylabel('$J_{0}$ ($A.m^{-2}$)')\n",
    "plt.yscale(\"log\")\n",
    "plt.legend()"
   ]
  },
  {
   "cell_type": "markdown",
   "metadata": {
    "collapsed": false
   },
   "source": [
    "Let's obtain J0 for GaAs and InGaP, two common III-V materials that are used in tandem solar cells:  evaluate getJ0() for Eg=1.42 and Eg=1.88"
   ]
  },
  {
   "cell_type": "code",
   "execution_count": null,
   "metadata": {
    "ExecuteTime": {
     "end_time": "2023-11-15T08:47:46.649504Z",
     "start_time": "2023-11-15T08:47:46.647367Z"
    },
    "collapsed": false
   },
   "outputs": [],
   "source": [
    "getJ0(1.42)"
   ]
  },
  {
   "cell_type": "code",
   "execution_count": null,
   "metadata": {
    "ExecuteTime": {
     "end_time": "2023-11-15T08:47:46.654059Z",
     "start_time": "2023-11-15T08:47:46.652607Z"
    },
    "collapsed": false
   },
   "outputs": [],
   "source": [
    "getJ0(1.88)"
   ]
  },
  {
   "cell_type": "markdown",
   "metadata": {
    "collapsed": false
   },
   "source": [
    "## Calculating the IV curve\n",
    "\n",
    "We are now able to calculate the limiting efficiency for a solar cell using the simple Shockley diode expression $J(V)=J_{s c}-J_0\\left(e^{\\frac{q V}{k T}}-1\\right)$.  Let's plot the IV curve for a band-gap of 1.42eV"
   ]
  },
  {
   "cell_type": "code",
   "execution_count": null,
   "metadata": {
    "ExecuteTime": {
     "end_time": "2023-11-15T08:47:46.762491Z",
     "start_time": "2023-11-15T08:47:46.655979Z"
    },
    "collapsed": false
   },
   "outputs": [],
   "source": [
    "def getJ(v,eg):\n",
    "    return getJsc(eg) - getJ0(eg)*(np.exp(v/(k*t)) - 1)\n",
    "\n",
    "eg = 1.42\n",
    "v = np.linspace(0,1.2,100)\n",
    "j = np.vectorize(getJ)(v,eg)\n",
    "\n",
    "plt.figure(3)\n",
    "plt.title('Limiting Efficiency IV curve for Eg=1.42eV (GaAs)')\n",
    "plt.plot(v,j/10)  #convert to mA.cm^-2\n",
    "plt.xlim(0.2, 1.2)\n",
    "plt.ylim(0,35)\n",
    "plt.xlabel('Voltage (V)')\n",
    "plt.ylabel('Current ($mA.cm^{-2}$)')"
   ]
  },
  {
   "cell_type": "markdown",
   "metadata": {
    "collapsed": false
   },
   "source": [
    "## Calculating the electrical power curve and finding the maximum power"
   ]
  },
  {
   "cell_type": "code",
   "execution_count": null,
   "metadata": {
    "ExecuteTime": {
     "end_time": "2023-11-15T08:47:46.863030Z",
     "start_time": "2023-11-15T08:47:46.767635Z"
    },
    "collapsed": false
   },
   "outputs": [],
   "source": [
    "plt.figure()\n",
    "plt.title('Limiting Efficiency power curve for $E_g$ = 1.42 eV (GaAs)')\n",
    "plt.plot(v,v*j)\n",
    "plt.xlim(0.2, 1.2)\n",
    "plt.ylim(0,350)\n",
    "plt.xlabel('Voltage (V)')\n",
    "plt.ylabel('Power ($W.m^{-2}$)')"
   ]
  },
  {
   "cell_type": "markdown",
   "metadata": {
    "collapsed": false
   },
   "source": [
    "Define a function to find the maximum power point of the curve above:"
   ]
  },
  {
   "cell_type": "code",
   "execution_count": null,
   "metadata": {
    "ExecuteTime": {
     "end_time": "2023-11-15T08:47:46.865083Z",
     "start_time": "2023-11-15T08:47:46.863760Z"
    },
    "collapsed": false
   },
   "outputs": [],
   "source": [
    "def getPmax(eg):\n",
    "    v = np.linspace(0,eg-0.1,500)\n",
    "    p = v*np.vectorize(getJ)(v,eg)\n",
    "    return (np.amax(p))  # The amax command returns the maximum value in the array p"
   ]
  },
  {
   "cell_type": "markdown",
   "metadata": {
    "collapsed": false
   },
   "source": [
    "Test it out on the curve above"
   ]
  },
  {
   "cell_type": "code",
   "execution_count": null,
   "metadata": {
    "ExecuteTime": {
     "end_time": "2023-11-15T08:47:46.928636Z",
     "start_time": "2023-11-15T08:47:46.865683Z"
    },
    "collapsed": false
   },
   "outputs": [],
   "source": [
    "getPmax(1.42)"
   ]
  },
  {
   "cell_type": "markdown",
   "metadata": {
    "collapsed": false
   },
   "source": [
    "### Plotting the Shockley-Queisser efficiency limit graph:\n",
    "\n",
    "Finally we can calculate the Shockley-Queisser efficiency limit for AM1.5G"
   ]
  },
  {
   "cell_type": "code",
   "execution_count": null,
   "metadata": {
    "ExecuteTime": {
     "end_time": "2023-11-15T08:47:52.781447Z",
     "start_time": "2023-11-15T08:47:46.929323Z"
    },
    "collapsed": false
   },
   "outputs": [],
   "source": [
    "eg = np.linspace(0.5,2.5,100)\n",
    "p = np.vectorize(getPmax)(eg)\n",
    "\n",
    "plt.figure(3)\n",
    "plt.title('Limiting Shockley-Queisser Efficiency Curve')\n",
    "plt.plot(eg, p/b, label='AM1.5G')  # Remember b is the integrated power of the\n",
    "# incident sunlight\n",
    "plt.xlim(0.2, 2.5)\n",
    "plt.xlabel('Band Gap energy (eV)')\n",
    "plt.ylabel('Efficiency (%)')\n",
    "plt.legend()"
   ]
  },
  {
   "cell_type": "markdown",
   "metadata": {
    "collapsed": false
   },
   "source": [
    "## An easier way -- using Solcore!\n",
    "\n",
    "The Solcore library has all the functions we have written above built into it.  We worked through this example step by step, but we can calculate the same result using the code below.  First let's calculate an IV curve for a Shockley-Queisser solar cell with a band-gap of 1.42eV:"
   ]
  },
  {
   "cell_type": "code",
   "execution_count": null,
   "metadata": {
    "ExecuteTime": {
     "end_time": "2023-11-15T08:47:53.165548Z",
     "start_time": "2023-11-15T08:47:52.783621Z"
    },
    "collapsed": false
   },
   "outputs": [],
   "source": [
    "import numpy as np\n",
    "import matplotlib.pyplot as plt\n",
    "from solcore.light_source import LightSource\n",
    "from solcore.solar_cell import SolarCell\n",
    "from solcore.solar_cell_solver import solar_cell_solver\n",
    "from solcore.structure import Junction\n",
    "\n",
    "# Load the AM1.5G solar spectrum\n",
    "wl = np.linspace(300, 4000, 4000) * 1e-9    # wl contains the x-coordinate in wavelength\n",
    "am15g = LightSource(source_type='standard', x=wl, version='AM1.5g')\n",
    "\n",
    "eg = 1.42\n",
    "V = np.linspace(0, 1.3, 500)\n",
    "db_junction = Junction(kind='DB', T=300, Eg=eg, A=1, R_shunt=np.inf, n=1) #\n",
    "# detailed-balance junction (Shockley-Queisser limit)\n",
    "\n",
    "my_solar_cell = SolarCell([db_junction], T=300, R_series=0)\n",
    "\n",
    "solar_cell_solver(my_solar_cell, 'iv',\n",
    "                      user_options={'T_ambient': 300, 'db_mode': 'top_hat', 'voltages': V, 'light_iv': True,\n",
    "                                    'internal_voltages': np.linspace(0, 1.3, 400), 'wavelength': wl,\n",
    "                                    'mpp': True, 'light_source': am15g})\n",
    "\n",
    "plt.figure()\n",
    "plt.title('Limiting Efficiency IV curve for $E_g$ = 1.42eV')\n",
    "plt.plot(V, my_solar_cell.iv.IV[1], 'k')\n",
    "plt.ylim(0, 350)\n",
    "plt.xlim(0, 1.2)\n",
    "plt.text(0.1,300,f'Jsc: {my_solar_cell.iv.Isc:.2f}')\n",
    "plt.text(0.1,280,f'Voc: {my_solar_cell.iv.Voc:.2f}')\n",
    "plt.text(0.1,260,f'Pmax: {my_solar_cell.iv.Pmpp:.2f}')\n",
    "plt.xlabel('Voltage (V)')\n",
    "plt.ylabel('Current (A/m$^2$)')\n",
    "plt.show()"
   ]
  },
  {
   "cell_type": "markdown",
   "metadata": {
    "collapsed": false
   },
   "source": [
    "The Shockley-Queisser efficiency calculation can now be performed over a range of band-gap energies.  To do this, we make a function that calculates the maximum power Pmax as a function of band-gap energy."
   ]
  },
  {
   "cell_type": "code",
   "execution_count": null,
   "metadata": {
    "ExecuteTime": {
     "end_time": "2023-11-15T08:48:07.214015Z",
     "start_time": "2023-11-15T08:47:53.167699Z"
    },
    "collapsed": false
   },
   "outputs": [],
   "source": [
    "%%capture\n",
    "# A command that prevents the screen from filling up with unnecessary working\n",
    "\n",
    "# Function that returns the maximum power for a Shockley-Queisser solar cell with band-gap Eg\n",
    "def getPmax(eg):\n",
    "    V = np.linspace(0, eg-0.1, 500)\n",
    "    db_junction = Junction(kind='DB', T=300, Eg=eg, A=1, R_shunt=np.inf, n=1)\n",
    "    my_solar_cell = SolarCell([db_junction], T=300, R_series=0)\n",
    "\n",
    "    solar_cell_solver(my_solar_cell, 'iv',\n",
    "                      user_options={'T_ambient': 300, 'db_mode': 'top_hat', 'voltages': V, 'light_iv': True, 'wavelength': wl,\n",
    "                                    'mpp': True, 'light_source': am15g})\n",
    "    return(my_solar_cell.iv.Pmpp)\n",
    "\n",
    "# Define the range of band-gaps to perform the calculation over\n",
    "eg=np.linspace(0.5,2.5,100)\n",
    "# Perform the claculation for all values of eg\n",
    "p=np.vectorize(getPmax)(eg)"
   ]
  },
  {
   "cell_type": "markdown",
   "metadata": {
    "collapsed": false
   },
   "source": [
    "Now let's plot the result:"
   ]
  },
  {
   "cell_type": "code",
   "execution_count": null,
   "metadata": {
    "ExecuteTime": {
     "end_time": "2023-11-15T08:48:07.318073Z",
     "start_time": "2023-11-15T08:48:07.214957Z"
    },
    "collapsed": false
   },
   "outputs": [],
   "source": [
    "plt.figure()  # Plot the results calculated above:\n",
    "plt.title('Shockley-Queisser Limiting Efficiency for Unconentrated Sunlight')\n",
    "plt.plot(eg, p/am15g.power_density,label='AM1.5G')\n",
    "plt.xlim(0.5, 2.5)\n",
    "plt.xlabel('Band Gap energy (eV)')\n",
    "plt.ylabel('Efficiency (%)')\n",
    "plt.legend()"
   ]
  },
  {
   "cell_type": "markdown",
   "metadata": {
    "collapsed": false
   },
   "source": [
    "### Effect of solar concentration on a Shockley-Queisser Solar Cell\n",
    "\n",
    "In a Trivich-Flinn model for a solar cell, concentrated sunlight is only expected to\n",
    "increase the current of a solar cell, not the voltage.  In that model the current would increase in proportion with the concentration so the efficiency of the solar cell would be unchanged.\n",
    "\n",
    "In the Shockley-Queisser model, concentrated sunlight increased both the current and\n",
    "the voltage of the solar cell which, in the absence of series resistance losses, leads to an increase in the efficiency of the solar cell.  Here we calculate the Shockley-Queisser efficiency at different solar concentrations under the direct solar spectrum AM1.5D:"
   ]
  },
  {
   "cell_type": "code",
   "execution_count": null,
   "metadata": {
    "ExecuteTime": {
     "end_time": "2023-11-15T08:48:49.030583Z",
     "start_time": "2023-11-15T08:48:07.320117Z"
    },
    "collapsed": false
   },
   "outputs": [],
   "source": [
    "%%capture\n",
    "\n",
    "# Set up a series of AM1.5D solar spectra at different concentrations\n",
    "wl = np.linspace(300, 4000, 4000) * 1e-9    #wl contains the x-ordinate in wavelength\n",
    "am15d1x = LightSource(source_type='standard', x=wl, version='AM1.5d', concentration=1)\n",
    "am15d30x = LightSource(source_type='standard', x=wl, version='AM1.5d', concentration=30)\n",
    "am15d1000x = LightSource(source_type='standard', x=wl, version='AM1.5d',\n",
    "                         concentration=1000)\n",
    "\n",
    "#Define a function to find Pmax for a particular band-gap energy and solar spectrum\n",
    "def getPmax(eg,spectrum):\n",
    "    V = np.linspace(0, eg-0.1, 500)\n",
    "    db_junction = Junction(kind='DB', T=300, Eg=eg, A=1, R_shunt=np.inf, n=1)\n",
    "    my_solar_cell = SolarCell([db_junction], T=300, R_series=0)\n",
    "\n",
    "    solar_cell_solver(my_solar_cell, 'iv',\n",
    "                      user_options={'T_ambient': 300, 'db_mode': 'top_hat', 'voltages': V, 'light_iv': True, 'wavelength': wl,\n",
    "                                    'mpp': True, 'light_source': spectrum})\n",
    "    return my_solar_cell.iv.Pmpp\n",
    "\n",
    "# Evaluate the Pmax function for band-gaps spanning 0.8 to 1.6eV and concentrations 1x,30x,1000x\n",
    "eg = np.linspace(0.8,1.6,100)\n",
    "p1x = np.vectorize(getPmax)(eg, am15d1x)\n",
    "p30x = np.vectorize(getPmax)(eg, am15d30x)\n",
    "p1000x = np.vectorize(getPmax)(eg, am15d1000x)"
   ]
  },
  {
   "cell_type": "code",
   "execution_count": null,
   "metadata": {
    "ExecuteTime": {
     "end_time": "2023-11-15T08:48:49.223788Z",
     "start_time": "2023-11-15T08:48:49.032910Z"
    },
    "collapsed": false
   },
   "outputs": [],
   "source": [
    "# Setup a figure for dual y-axes\n",
    "fig, ax = plt.subplots(1)\n",
    "\n",
    "# Plot the SQ curves\n",
    "colors = sns.color_palette('husl', n_colors=3)\n",
    "ax.plot(eg, 100*p1x/am15d1x.power_density,label='$\\eta$ @ AM1.5d 1x', color=colors[0])\n",
    "ax.axvline(eg[np.argmax(p1x)], color=colors[0])\n",
    "\n",
    "ax.plot(eg, 100*p30x/am15d30x.power_density,label='$\\eta$ @ AM1.5d 30x', color=colors[1])\n",
    "ax.axvline(eg[np.argmax(p30x)], color=colors[1])\n",
    "\n",
    "ax.plot(eg, 100*p1000x/am15d1000x.power_density,label='$\\eta$ @ AM1.5d 1000x', color=colors[2])\n",
    "ax.axvline(eg[np.argmax(p1000x)], color=colors[2])\n",
    "\n",
    "# Define the second y-axis and plot the photon flux in units of eV\n",
    "ax2 = ax.twinx()\n",
    "ax2.plot(eg, am15d1x.spectrum(x=eg, output_units=\"photon_flux_per_ev\")[1],\n",
    "         '--', color='grey', label=\"AM1.5d\")\n",
    "\n",
    "ax.set_xlim(0.8, 1.6)\n",
    "ax.set_xlabel('Band Gap energy (eV)')\n",
    "ax.set_ylabel('Efficiency (%)')\n",
    "ax2.set_ylabel(r'Photon flux (s$^{-1}$ m$^{-2}$ eV$^{-1}$)')\n",
    "ax.legend()\n",
    "ax2.legend()"
   ]
  },
  {
   "cell_type": "markdown",
   "metadata": {
    "collapsed": false
   },
   "source": [
    "The maximum band-gap energy moves to lower energies with increaseing solar concentration.  This arises since although the current increases with increasing solar concentration, the cell voltage also increases which means the optimal effiicency is obtained at lower band-gaps.  However, the drop in band-gap energy is modest owing to a strong atmospheric absorption feature at 1.1um which serves to pin the optimum bandgap around 1.12eV."
   ]
  },
  {
   "cell_type": "markdown",
   "metadata": {
    "collapsed": false
   },
   "source": [
    "### Exercise: Concentrated AM0\n",
    "\n",
    "Try repeating the example above but use the AM0 extraterrestial spectrum.  Observe what happens to the band-gap shift with increasing concentration.  How is it different to AM1.5d?"
   ]
  }
 ],
 "metadata": {
  "kernelspec": {
   "display_name": "Python 3",
   "language": "python",
   "name": "python3"
  },
  "language_info": {
   "codemirror_mode": {
    "name": "ipython",
    "version": 2
   },
   "file_extension": ".py",
   "mimetype": "text/x-python",
   "name": "python",
   "nbconvert_exporter": "python",
   "pygments_lexer": "ipython2",
   "version": "2.7.6"
  }
 },
 "nbformat": 4,
 "nbformat_minor": 0
}
